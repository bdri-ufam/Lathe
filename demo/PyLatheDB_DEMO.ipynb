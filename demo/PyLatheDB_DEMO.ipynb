{
  "nbformat": 4,
  "nbformat_minor": 0,
  "metadata": {
    "colab": {
      "name": "PyLatheDB-DEMO.ipynb",
      "provenance": [],
      "collapsed_sections": [
        "9BCs4NWfWhV3",
        "85Bru8qN6lpE"
      ],
      "include_colab_link": true
    },
    "kernelspec": {
      "name": "python3",
      "display_name": "Python 3"
    },
    "language_info": {
      "name": "python"
    }
  },
  "cells": [
    {
      "cell_type": "markdown",
      "metadata": {
        "id": "view-in-github",
        "colab_type": "text"
      },
      "source": [
        "<a href=\"https://colab.research.google.com/github/pr3martins/PyLatheDB/blob/demo/demo/PyLatheDB_DEMO.ipynb\" target=\"_parent\"><img src=\"https://colab.research.google.com/assets/colab-badge.svg\" alt=\"Open In Colab\"/></a>"
      ]
    },
    {
      "cell_type": "markdown",
      "source": [
        "# PyLatheDB - A Library for Relational Keyword Search with Support to Schema References\n",
        "---\n",
        "\n",
        "\n",
        "\n",
        "\n"
      ],
      "metadata": {
        "id": "-Avnlu5jzbyD"
      }
    },
    {
      "cell_type": "markdown",
      "source": [
        "## Preparation Step"
      ],
      "metadata": {
        "id": "9BCs4NWfWhV3"
      }
    },
    {
      "cell_type": "code",
      "source": [
        "# Install postgresql server\n",
        "!sudo apt-get -y -qq update\n",
        "!sudo apt-get -y -qq install postgresql postgresql-contrib &>log\n",
        "!sudo service postgresql start\n",
        "\n",
        "# Setup a password `postgres` for username `postgres`\n",
        "!sudo -u postgres psql -U postgres -c \"ALTER USER postgres PASSWORD 'postgres';\"\n"
      ],
      "metadata": {
        "colab": {
          "base_uri": "https://localhost:8080/"
        },
        "id": "PEeEHxMsQVBs",
        "outputId": "c40a6975-6025-45bb-8c0b-4f5db2164742"
      },
      "execution_count": null,
      "outputs": [
        {
          "output_type": "stream",
          "name": "stdout",
          "text": [
            " * Starting PostgreSQL 10 database server\n",
            "   ...done.\n",
            "ALTER ROLE\n"
          ]
        }
      ]
    },
    {
      "cell_type": "code",
      "source": [
        "!gdown --id 1KTRL-RhKgnzENlwcGHZ7zkvT4fVsQ1D7\n",
        "!unzip PyLatheDB_DEMO_resources.zip\n",
        "import nltk\n",
        "nltk.download('wordnet')\n",
        "nltk.download('stopwords')\n",
        "!cp dbsources/pylathedb.stop /usr/share/postgresql/10/tsearch_data/english.stop"
      ],
      "metadata": {
        "id": "zv1qHUj_W8fm",
        "colab": {
          "base_uri": "https://localhost:8080/"
        },
        "outputId": "63242ca2-45b0-44c8-a38d-d533ae97f0a7"
      },
      "execution_count": null,
      "outputs": [
        {
          "output_type": "stream",
          "name": "stdout",
          "text": [
            "Downloading...\n",
            "From: https://drive.google.com/uc?id=1KTRL-RhKgnzENlwcGHZ7zkvT4fVsQ1D7\n",
            "To: /content/PyLatheDB_DEMO_resources.zip\n",
            "100% 92.3M/92.3M [00:00<00:00, 95.5MB/s]\n",
            "Archive:  PyLatheDB_DEMO_resources.zip\n",
            "   creating: datasets/\n",
            "   creating: datasets/imdb/\n",
            "  inflating: datasets/imdb/imdb_schema_index_file.shelve.db  \n",
            "  inflating: datasets/imdb/imdb_schema_graph_file.pickle  \n",
            "  inflating: datasets/imdb/imdb_value_index_file.shelve.db  \n",
            "   creating: datasets/mondial/\n",
            "  inflating: datasets/mondial/mondial_schema_graph_file.pickle  \n",
            "  inflating: datasets/mondial/mondial_schema_index_file.shelve.db  \n",
            "  inflating: datasets/mondial/mondial_value_index_file.shelve.db  \n",
            "   creating: querysets/\n",
            "  inflating: querysets/coffman_imdb.json  \n",
            "  inflating: querysets/coffman_mondial.json  \n",
            "   creating: dbsources/\n",
            "  inflating: dbsources/mondial-schema_part2.pgsql  \n",
            "  inflating: dbsources/imdb-schema.pgsql  \n",
            "  inflating: dbsources/imdb-fulltext_index.psql  \n",
            "  inflating: dbsources/imdb-data.pgsql  \n",
            "  inflating: dbsources/mondial-schema_part1.pgsql  \n",
            "  inflating: dbsources/mondial-field_fulltext_index.psql  \n",
            "  inflating: dbsources/mondial-data.pgsql  \n",
            "  inflating: dbsources/pylathedb.stop  \n",
            "  inflating: dbsources/imdb-rename-tables.psql  \n",
            "   creating: config/\n",
            "   creating: config/queryset_configs/\n",
            "  inflating: config/queryset_configs/coffman_mondial_config.json  \n",
            "  inflating: config/queryset_configs/coffman_imdb_config.json  \n",
            "   creating: config/dataset_configs/\n",
            "  inflating: config/dataset_configs/imdb.json  \n",
            "   creating: config/dataset_configs/attributes/\n",
            "  inflating: config/dataset_configs/attributes/imdb_filtered_attributes.json  \n",
            "  inflating: config/dataset_configs/attributes/imdb_all_attributes.json  \n",
            "  inflating: config/dataset_configs/attributes/mondial_filtered_attributes.json  \n",
            "  inflating: config/dataset_configs/attributes/mondial_all_attributes.json  \n",
            "  inflating: config/dataset_configs/mondial.json  \n",
            "  inflating: config/config.json      \n",
            "[nltk_data] Downloading package wordnet to /root/nltk_data...\n",
            "[nltk_data]   Unzipping corpora/wordnet.zip.\n",
            "[nltk_data] Downloading package stopwords to /root/nltk_data...\n",
            "[nltk_data]   Unzipping corpora/stopwords.zip.\n"
          ]
        }
      ]
    },
    {
      "cell_type": "code",
      "source": [
        "!sudo -u postgres psql -U postgres imdb"
      ],
      "metadata": {
        "colab": {
          "base_uri": "https://localhost:8080/"
        },
        "id": "N6MNre48Y66J",
        "outputId": "ddb0af1a-ae20-4b64-d4fc-7fd1311f36cc"
      },
      "execution_count": null,
      "outputs": [
        {
          "output_type": "stream",
          "name": "stdout",
          "text": [
            "psql: FATAL:  database \"imdb\" does not exist\n"
          ]
        }
      ]
    },
    {
      "cell_type": "code",
      "source": [
        "SELECT EXISTS (\n",
        "SELECT\n",
        "\tt1.name,\n",
        "\tt3.*\n",
        "FROM\n",
        "\tperson t1\n",
        "\tJOIN casting t2 ON t2.person_id = t1.id\n",
        "\tJOIN movie t3 ON t2.movie_id = t3.id\n",
        "WHERE\n",
        "\tt1.name_tsvector @@ to_tsquery('roberts & julia')\n",
        "LIMIT 1000);"
      ],
      "metadata": {
        "id": "ltrQZQdEY52r",
        "colab": {
          "base_uri": "https://localhost:8080/",
          "height": 132
        },
        "outputId": "fc1620de-129c-490f-a0a7-0c52c47f4ffa"
      },
      "execution_count": null,
      "outputs": [
        {
          "output_type": "error",
          "ename": "SyntaxError",
          "evalue": "ignored",
          "traceback": [
            "\u001b[0;36m  File \u001b[0;32m\"<ipython-input-4-7aa57e958272>\"\u001b[0;36m, line \u001b[0;32m1\u001b[0m\n\u001b[0;31m    SELECT EXISTS (\u001b[0m\n\u001b[0m                ^\u001b[0m\n\u001b[0;31mSyntaxError\u001b[0m\u001b[0;31m:\u001b[0m invalid syntax\n"
          ]
        }
      ]
    },
    {
      "cell_type": "code",
      "source": [
        "!sudo -u postgres dropdb imdb\n",
        "!sudo -u postgres createdb imdb\n",
        "!sudo -u postgres psql -U postgres imdb <  dbsources/imdb-schema.pgsql\n",
        "!sudo -u postgres psql -U postgres imdb <  dbsources/imdb-data.pgsql &>log\n",
        "!sudo -u postgres psql -U postgres imdb <  dbsources/imdb-fulltext_index.psql\n",
        "!sudo -u postgres psql -U postgres imdb < dbsources/imdb-rename-tables.psql\n",
        "\n",
        "!sudo -u postgres dropdb mondial\n",
        "!sudo -u postgres createdb mondial\n",
        "!sudo -u postgres psql -U postgres mondial <  dbsources/mondial-schema_part1.pgsql\n",
        "!sudo -u postgres psql -U postgres mondial <  dbsources/mondial-data.pgsql &>log\n",
        "!sudo -u postgres psql -U postgres mondial <  dbsources/mondial-schema_part2.pgsql\n",
        "!sudo -u postgres psql -U postgres mondial <  dbsources/mondial-field_fulltext_index.psql"
      ],
      "metadata": {
        "id": "_6HoX6TgfnzA"
      },
      "execution_count": null,
      "outputs": []
    },
    {
      "cell_type": "code",
      "source": [
        "# pip install pylathedb==0.0.4.dev5 --no-cache-dir\n",
        "# !pip uninstall pylathedb\n",
        "!pip install -i https://test.pypi.org/simple/ pylathedb -U\n"
      ],
      "metadata": {
        "id": "DHjj3QY10b--"
      },
      "execution_count": null,
      "outputs": []
    },
    {
      "cell_type": "code",
      "source": [
        "from google.colab import data_table\n",
        "data_table.enable_dataframe_formatter()"
      ],
      "metadata": {
        "id": "TE76LA_p0FQ8"
      },
      "execution_count": null,
      "outputs": []
    },
    {
      "cell_type": "markdown",
      "source": [
        "## Configuration and Parameters"
      ],
      "metadata": {
        "id": "85Bru8qN6lpE"
      }
    },
    {
      "cell_type": "code",
      "source": [
        "from pylathedb.lathe import Lathe\n",
        "lathe = Lathe(config_directory='./config/')\n",
        "# lathe.create_indexes()"
      ],
      "metadata": {
        "id": "-wpNJChhQjEP"
      },
      "execution_count": null,
      "outputs": []
    },
    {
      "cell_type": "code",
      "source": [
        "lathe.change_queryset()"
      ],
      "metadata": {
        "id": "K1AWZHMFXQ_A"
      },
      "execution_count": null,
      "outputs": []
    },
    {
      "cell_type": "code",
      "source": [
        "lathe.change_queryset(2)"
      ],
      "metadata": {
        "id": "Gs8KXPMSxYYm"
      },
      "execution_count": null,
      "outputs": []
    },
    {
      "cell_type": "code",
      "source": [
        "lathe.load_indexes()"
      ],
      "metadata": {
        "id": "O0PBSwp6A20k"
      },
      "execution_count": null,
      "outputs": []
    },
    {
      "cell_type": "code",
      "source": [
        "lathe.max_qm_size = 3\n",
        "lathe.max_cjn_size = 5\n",
        "lathe.topk_cns = 10\n",
        "lathe.configuration = (5,1,9)"
      ],
      "metadata": {
        "id": "P8PUzbKoxOdB"
      },
      "execution_count": null,
      "outputs": []
    },
    {
      "cell_type": "markdown",
      "source": [
        "## Keyword Search\n"
      ],
      "metadata": {
        "id": "WhwI-lMT_sOJ"
      }
    },
    {
      "cell_type": "code",
      "source": [
        "results = lathe.keyword_search('will smith films')\n",
        "results.cjns()"
      ],
      "metadata": {
        "colab": {
          "base_uri": "https://localhost:8080/",
          "height": 3287
        },
        "id": "J-fRKmuvP5qE",
        "outputId": "154859c4-be93-4ebb-8754-eba60bf96026"
      },
      "execution_count": null,
      "outputs": [
        {
          "output_type": "stream",
          "name": "stdout",
          "text": [
            "query: will smith films\n"
          ]
        },
        {
          "output_type": "display_data",
          "data": {
            "text/markdown": "---",
            "text/plain": [
              "<IPython.core.display.Markdown object>"
            ]
          },
          "metadata": {}
        },
        {
          "output_type": "display_data",
          "data": {
            "text/markdown": "**1st CJN**:",
            "text/plain": [
              "<IPython.core.display.Markdown object>"
            ]
          },
          "metadata": {}
        },
        {
          "output_type": "display_data",
          "data": {
            "text/markdown": "---",
            "text/plain": [
              "<IPython.core.display.Markdown object>"
            ]
          },
          "metadata": {}
        },
        {
          "output_type": "stream",
          "name": "stdout",
          "text": [
            "Graph:\n"
          ]
        },
        {
          "output_type": "display_data",
          "data": {
            "text/plain": [
              "<graphviz.dot.Digraph at 0x7f7bcc45bf90>"
            ],
            "image/svg+xml": "<?xml version=\"1.0\" encoding=\"UTF-8\" standalone=\"no\"?>\n<!DOCTYPE svg PUBLIC \"-//W3C//DTD SVG 1.1//EN\"\n \"http://www.w3.org/Graphics/SVG/1.1/DTD/svg11.dtd\">\n<!-- Generated by graphviz version 2.40.1 (20161225.0304)\n -->\n<!-- Title: %3 Pages: 1 -->\n<svg width=\"193pt\" height=\"44pt\"\n viewBox=\"0.00 0.00 192.75 44.00\" xmlns=\"http://www.w3.org/2000/svg\" xmlns:xlink=\"http://www.w3.org/1999/xlink\">\n<g id=\"graph0\" class=\"graph\" transform=\"scale(1 1) rotate(0) translate(4 40)\">\n<title>%3</title>\n<polygon fill=\"#ffffff\" stroke=\"transparent\" points=\"-4,4 -4,-40 188.7521,-40 188.7521,4 -4,4\"/>\n<!-- t1 -->\n<g id=\"node1\" class=\"node\">\n<title>t1</title>\n<ellipse fill=\"none\" stroke=\"#000000\" cx=\"92.376\" cy=\"-18\" rx=\"92.2523\" ry=\"18\"/>\n<text text-anchor=\"middle\" x=\"92.376\" y=\"-15.8\" font-family=\"Times,serif\" font-size=\"9.00\" fill=\"#000000\">MOVIEINFO.v(info{will,films,smith})</text>\n</g>\n</g>\n</svg>\n"
          },
          "metadata": {}
        },
        {
          "output_type": "display_data",
          "data": {
            "text/markdown": "---",
            "text/plain": [
              "<IPython.core.display.Markdown object>"
            ]
          },
          "metadata": {}
        },
        {
          "output_type": "stream",
          "name": "stdout",
          "text": [
            "SQL:\n",
            "  \n",
            "  SELECT\n",
            "  \tt1.info\n",
            "  FROM\n",
            "  \tmovieinfo t1\n",
            "  WHERE\n",
            "  \tt1.info_tsvector @@ to_tsquery('will & films & smith')\n",
            "  LIMIT 1000;\n",
            "\n"
          ]
        },
        {
          "output_type": "display_data",
          "data": {
            "text/markdown": "---",
            "text/plain": [
              "<IPython.core.display.Markdown object>"
            ]
          },
          "metadata": {}
        },
        {
          "output_type": "stream",
          "name": "stdout",
          "text": [
            "JNTs:\n"
          ]
        },
        {
          "output_type": "display_data",
          "data": {
            "application/vnd.google.colaboratory.module+javascript": "\n      import \"https://ssl.gstatic.com/colaboratory/data_table/a6224c040fa35dcf/data_table.js\";\n\n      window.createDataTable({\n        data: [[{\n            'v': 0,\n            'f': \"0\",\n        },\n\"Ronald Fisher: Beer and pussy. That's all I need.::Sean Smith: We gotta find ourselves a Smurfette.::Ronald Fisher: Smurfette?::Sean Smith: Yeah, not some tight-ass Middlesex chick, right? Like this cute little blonde that will get down and dirty with the guys. Like Smurfette does.::Donnie: Smurfette doesn't fuck.::Sean Smith: That's bullshit. Smurfette fucks all the other Smurfs. Why do you think Papa Smurf made her? Because all the other Smurfs were getting too horny.::Ronald Fisher: No, no, no, not Vanity. I heard he was a homosexual.::Sean Smith: Okay, then, you know what? She fucks them and Vanity watches. Okay?::Ronald Fisher: What about Papa Smurf? I mean, he must get in on all the action.::Sean Smith: Yeah, what he does, he films the gang-bang, and he beats off to the tape.::Donnie: [shouts] First of all, Papa Smurf didn't create Smurfette. Gargamel did. She was sent in as Gargamel's evil spy with the intention of destroying the Smurf village. But the overwhelming goodness of the Smurf way of life transformed her. And as for the whole gang-bang scenario, it just couldn't happen. Smurfs are asexual. They don't even have... reproductive organs under those little, white pants. It's just so illogical, you know, about being a Smurf. You know, what's the point of living... if you don't have a dick?::Ronald Fisher: [pause] Dammit, Donnie. Why you gotta get all smart on us?\"]],\n        columns: [[\"number\", \"index\"], [\"string\", \"info\"]],\n        columnOptions: [{\"width\": \"1px\", \"className\": \"index_column\"}],\n        rowsPerPage: 25,\n        helpUrl: \"https://colab.research.google.com/notebooks/data_table.ipynb\",\n        suppressOutputScrolling: true,\n        minimumWidth: undefined,\n      });\n    ",
            "text/html": [
              "\n",
              "  <div id=\"df-b5b8b0f4-f47b-44c1-ad0c-7e932fbf744c\">\n",
              "    <div class=\"colab-df-container\">\n",
              "      <div>\n",
              "<style scoped>\n",
              "    .dataframe tbody tr th:only-of-type {\n",
              "        vertical-align: middle;\n",
              "    }\n",
              "\n",
              "    .dataframe tbody tr th {\n",
              "        vertical-align: top;\n",
              "    }\n",
              "\n",
              "    .dataframe thead th {\n",
              "        text-align: right;\n",
              "    }\n",
              "</style>\n",
              "<table border=\"1\" class=\"dataframe\">\n",
              "  <thead>\n",
              "    <tr style=\"text-align: right;\">\n",
              "      <th></th>\n",
              "      <th>info</th>\n",
              "    </tr>\n",
              "  </thead>\n",
              "  <tbody>\n",
              "    <tr>\n",
              "      <th>0</th>\n",
              "      <td>Ronald Fisher: Beer and pussy. That's all I ne...</td>\n",
              "    </tr>\n",
              "  </tbody>\n",
              "</table>\n",
              "</div>\n",
              "      <button class=\"colab-df-convert\" onclick=\"convertToInteractive('df-b5b8b0f4-f47b-44c1-ad0c-7e932fbf744c')\"\n",
              "              title=\"Convert this dataframe to an interactive table.\"\n",
              "              style=\"display:none;\">\n",
              "        \n",
              "  <svg xmlns=\"http://www.w3.org/2000/svg\" height=\"24px\"viewBox=\"0 0 24 24\"\n",
              "       width=\"24px\">\n",
              "    <path d=\"M0 0h24v24H0V0z\" fill=\"none\"/>\n",
              "    <path d=\"M18.56 5.44l.94 2.06.94-2.06 2.06-.94-2.06-.94-.94-2.06-.94 2.06-2.06.94zm-11 1L8.5 8.5l.94-2.06 2.06-.94-2.06-.94L8.5 2.5l-.94 2.06-2.06.94zm10 10l.94 2.06.94-2.06 2.06-.94-2.06-.94-.94-2.06-.94 2.06-2.06.94z\"/><path d=\"M17.41 7.96l-1.37-1.37c-.4-.4-.92-.59-1.43-.59-.52 0-1.04.2-1.43.59L10.3 9.45l-7.72 7.72c-.78.78-.78 2.05 0 2.83L4 21.41c.39.39.9.59 1.41.59.51 0 1.02-.2 1.41-.59l7.78-7.78 2.81-2.81c.8-.78.8-2.07 0-2.86zM5.41 20L4 18.59l7.72-7.72 1.47 1.35L5.41 20z\"/>\n",
              "  </svg>\n",
              "      </button>\n",
              "      \n",
              "  <style>\n",
              "    .colab-df-container {\n",
              "      display:flex;\n",
              "      flex-wrap:wrap;\n",
              "      gap: 12px;\n",
              "    }\n",
              "\n",
              "    .colab-df-convert {\n",
              "      background-color: #E8F0FE;\n",
              "      border: none;\n",
              "      border-radius: 50%;\n",
              "      cursor: pointer;\n",
              "      display: none;\n",
              "      fill: #1967D2;\n",
              "      height: 32px;\n",
              "      padding: 0 0 0 0;\n",
              "      width: 32px;\n",
              "    }\n",
              "\n",
              "    .colab-df-convert:hover {\n",
              "      background-color: #E2EBFA;\n",
              "      box-shadow: 0px 1px 2px rgba(60, 64, 67, 0.3), 0px 1px 3px 1px rgba(60, 64, 67, 0.15);\n",
              "      fill: #174EA6;\n",
              "    }\n",
              "\n",
              "    [theme=dark] .colab-df-convert {\n",
              "      background-color: #3B4455;\n",
              "      fill: #D2E3FC;\n",
              "    }\n",
              "\n",
              "    [theme=dark] .colab-df-convert:hover {\n",
              "      background-color: #434B5C;\n",
              "      box-shadow: 0px 1px 3px 1px rgba(0, 0, 0, 0.15);\n",
              "      filter: drop-shadow(0px 1px 2px rgba(0, 0, 0, 0.3));\n",
              "      fill: #FFFFFF;\n",
              "    }\n",
              "  </style>\n",
              "\n",
              "      <script>\n",
              "        const buttonEl =\n",
              "          document.querySelector('#df-b5b8b0f4-f47b-44c1-ad0c-7e932fbf744c button.colab-df-convert');\n",
              "        buttonEl.style.display =\n",
              "          google.colab.kernel.accessAllowed ? 'block' : 'none';\n",
              "\n",
              "        async function convertToInteractive(key) {\n",
              "          const element = document.querySelector('#df-b5b8b0f4-f47b-44c1-ad0c-7e932fbf744c');\n",
              "          const dataTable =\n",
              "            await google.colab.kernel.invokeFunction('convertToInteractive',\n",
              "                                                     [key], {});\n",
              "          if (!dataTable) return;\n",
              "\n",
              "          const docLinkHtml = 'Like what you see? Visit the ' +\n",
              "            '<a target=\"_blank\" href=https://colab.research.google.com/notebooks/data_table.ipynb>data table notebook</a>'\n",
              "            + ' to learn more about interactive tables.';\n",
              "          element.innerHTML = '';\n",
              "          dataTable['output_type'] = 'display_data';\n",
              "          await google.colab.output.renderOutput(dataTable, element);\n",
              "          const docLink = document.createElement('div');\n",
              "          docLink.innerHTML = docLinkHtml;\n",
              "          element.appendChild(docLink);\n",
              "        }\n",
              "      </script>\n",
              "    </div>\n",
              "  </div>\n",
              "  "
            ],
            "text/plain": [
              "                                                info\n",
              "0  Ronald Fisher: Beer and pussy. That's all I ne..."
            ]
          },
          "metadata": {}
        },
        {
          "output_type": "stream",
          "name": "stdout",
          "text": [
            "\n"
          ]
        },
        {
          "output_type": "display_data",
          "data": {
            "text/markdown": "---",
            "text/plain": [
              "<IPython.core.display.Markdown object>"
            ]
          },
          "metadata": {}
        },
        {
          "output_type": "display_data",
          "data": {
            "text/markdown": "**2nd CJN**:",
            "text/plain": [
              "<IPython.core.display.Markdown object>"
            ]
          },
          "metadata": {}
        },
        {
          "output_type": "display_data",
          "data": {
            "text/markdown": "---",
            "text/plain": [
              "<IPython.core.display.Markdown object>"
            ]
          },
          "metadata": {}
        },
        {
          "output_type": "stream",
          "name": "stdout",
          "text": [
            "Graph:\n"
          ]
        },
        {
          "output_type": "display_data",
          "data": {
            "text/plain": [
              "<graphviz.dot.Digraph at 0x7f7bc65ae790>"
            ],
            "image/svg+xml": "<?xml version=\"1.0\" encoding=\"UTF-8\" standalone=\"no\"?>\n<!DOCTYPE svg PUBLIC \"-//W3C//DTD SVG 1.1//EN\"\n \"http://www.w3.org/Graphics/SVG/1.1/DTD/svg11.dtd\">\n<!-- Generated by graphviz version 2.40.1 (20161225.0304)\n -->\n<!-- Title: %3 Pages: 1 -->\n<svg width=\"274pt\" height=\"98pt\"\n viewBox=\"0.00 0.00 273.86 98.00\" xmlns=\"http://www.w3.org/2000/svg\" xmlns:xlink=\"http://www.w3.org/1999/xlink\">\n<g id=\"graph0\" class=\"graph\" transform=\"scale(1 1) rotate(0) translate(4 94)\">\n<title>%3</title>\n<polygon fill=\"#ffffff\" stroke=\"transparent\" points=\"-4,4 -4,-94 269.8624,-94 269.8624,4 -4,4\"/>\n<!-- t1 -->\n<g id=\"node1\" class=\"node\">\n<title>t1</title>\n<ellipse fill=\"none\" stroke=\"#000000\" cx=\"73.9008\" cy=\"-18\" rx=\"73.8018\" ry=\"18\"/>\n<text text-anchor=\"middle\" x=\"73.9008\" y=\"-15.8\" font-family=\"Times,serif\" font-size=\"9.00\" fill=\"#000000\">PERSON.v(name{will,smith})</text>\n</g>\n<!-- t2 -->\n<g id=\"node2\" class=\"node\">\n<title>t2</title>\n<ellipse fill=\"none\" stroke=\"#000000\" cx=\"143.9008\" cy=\"-72\" rx=\"32.1641\" ry=\"18\"/>\n<text text-anchor=\"middle\" x=\"143.9008\" y=\"-69.8\" font-family=\"Times,serif\" font-size=\"9.00\" fill=\"#000000\">CASTING</text>\n</g>\n<!-- t2&#45;&gt;t1 -->\n<g id=\"edge1\" class=\"edge\">\n<title>t2&#45;&gt;t1</title>\n<path fill=\"none\" stroke=\"#000000\" d=\"M124.773,-57.2443C118.2924,-52.245 110.8908,-46.5351 103.7777,-41.0479\"/>\n<polygon fill=\"#000000\" stroke=\"#000000\" points=\"105.2798,-38.2283 96.2297,-35.2251 101.4317,-43.2165 105.2798,-38.2283\"/>\n</g>\n<!-- t3 -->\n<g id=\"node3\" class=\"node\">\n<title>t3</title>\n<ellipse fill=\"none\" stroke=\"#000000\" cx=\"213.9008\" cy=\"-18\" rx=\"51.9231\" ry=\"18\"/>\n<text text-anchor=\"middle\" x=\"213.9008\" y=\"-15.8\" font-family=\"Times,serif\" font-size=\"9.00\" fill=\"#000000\">MOVIE.s(*{films})</text>\n</g>\n<!-- t2&#45;&gt;t3 -->\n<g id=\"edge2\" class=\"edge\">\n<title>t2&#45;&gt;t3</title>\n<path fill=\"none\" stroke=\"#000000\" d=\"M163.0286,-57.2443C169.8293,-51.9981 177.6442,-45.9694 185.0756,-40.2366\"/>\n<polygon fill=\"#000000\" stroke=\"#000000\" points=\"187.1253,-42.6338 192.3273,-34.6424 183.2772,-37.6456 187.1253,-42.6338\"/>\n</g>\n</g>\n</svg>\n"
          },
          "metadata": {}
        },
        {
          "output_type": "display_data",
          "data": {
            "text/markdown": "---",
            "text/plain": [
              "<IPython.core.display.Markdown object>"
            ]
          },
          "metadata": {}
        },
        {
          "output_type": "stream",
          "name": "stdout",
          "text": [
            "SQL:\n",
            "  \n",
            "  SELECT\n",
            "  \tt1.name,\n",
            "  \tt3.*\n",
            "  FROM\n",
            "  \tperson t1\n",
            "  \tJOIN casting t2 ON t2.person_id = t1.id\n",
            "  \tJOIN movie t3 ON t2.movie_id = t3.id\n",
            "  WHERE\n",
            "  \tt1.name_tsvector @@ to_tsquery('will & smith')\n",
            "  LIMIT 1000;\n",
            "\n"
          ]
        },
        {
          "output_type": "display_data",
          "data": {
            "text/markdown": "---",
            "text/plain": [
              "<IPython.core.display.Markdown object>"
            ]
          },
          "metadata": {}
        },
        {
          "output_type": "stream",
          "name": "stdout",
          "text": [
            "JNTs:\n"
          ]
        },
        {
          "output_type": "display_data",
          "data": {
            "application/vnd.google.colaboratory.module+javascript": "\n      import \"https://ssl.gstatic.com/colaboratory/data_table/a6224c040fa35dcf/data_table.js\";\n\n      window.createDataTable({\n        data: [[{\n            'v': 0,\n            'f': \"0\",\n        },\n\"Smith, Will\",\n{\n            'v': 409179,\n            'f': \"409179\",\n        },\n\"Raw Hybrids\",\nnull,\n{\n            'v': 1,\n            'f': \"1\",\n        },\n{\n            'v': 2008,\n            'f': \"2008\",\n        },\n{\n            'v': null,\n            'f': \"null\",\n        },\n\"R1632\",\n{\n            'v': null,\n            'f': \"null\",\n        },\n{\n            'v': null,\n            'f': \"null\",\n        },\n{\n            'v': null,\n            'f': \"null\",\n        },\n{\n            'v': null,\n            'f': \"null\",\n        },\n{\n            'v': 44182670,\n            'f': \"44182670\",\n        }],\n [{\n            'v': 1,\n            'f': \"1\",\n        },\n\"Smith, Will\",\n{\n            'v': 560251,\n            'f': \"560251\",\n        },\n\"U (Unaccepted)\",\nnull,\n{\n            'v': 1,\n            'f': \"1\",\n        },\n{\n            'v': 2009,\n            'f': \"2009\",\n        },\n{\n            'v': null,\n            'f': \"null\",\n        },\n\"U5213\",\n{\n            'v': null,\n            'f': \"null\",\n        },\n{\n            'v': null,\n            'f': \"null\",\n        },\n{\n            'v': null,\n            'f': \"null\",\n        },\n{\n            'v': null,\n            'f': \"null\",\n        },\n{\n            'v': 44281991,\n            'f': \"44281991\",\n        }],\n [{\n            'v': 2,\n            'f': \"2\",\n        },\n\"Smith, Will\",\n{\n            'v': 251689,\n            'f': \"251689\",\n        },\n\"Judgement Day\",\n\"II\",\n{\n            'v': 1,\n            'f': \"1\",\n        },\n{\n            'v': 2010,\n            'f': \"2010\",\n        },\n{\n            'v': null,\n            'f': \"null\",\n        },\n\"J3253\",\n{\n            'v': null,\n            'f': \"null\",\n        },\n{\n            'v': null,\n            'f': \"null\",\n        },\n{\n            'v': null,\n            'f': \"null\",\n        },\n{\n            'v': null,\n            'f': \"null\",\n        },\n{\n            'v': 43961583,\n            'f': \"43961583\",\n        }],\n [{\n            'v': 3,\n            'f': \"3\",\n        },\n\"Smith, Will\",\n{\n            'v': 182393,\n            'f': \"182393\",\n        },\n\"Free Enterprise\",\nnull,\n{\n            'v': 1,\n            'f': \"1\",\n        },\n{\n            'v': 1998,\n            'f': \"1998\",\n        },\n{\n            'v': null,\n            'f': \"null\",\n        },\n\"F6536\",\n{\n            'v': null,\n            'f': \"null\",\n        },\n{\n            'v': null,\n            'f': \"null\",\n        },\n{\n            'v': null,\n            'f': \"null\",\n        },\n{\n            'v': null,\n            'f': \"null\",\n        },\n{\n            'v': 43917381,\n            'f': \"43917381\",\n        }],\n [{\n            'v': 4,\n            'f': \"4\",\n        },\n\"Smith, Will\",\n{\n            'v': 235880,\n            'f': \"235880\",\n        },\n\"In the Loop\",\nnull,\n{\n            'v': 1,\n            'f': \"1\",\n        },\n{\n            'v': 2009,\n            'f': \"2009\",\n        },\n{\n            'v': null,\n            'f': \"null\",\n        },\n\"I5341\",\n{\n            'v': null,\n            'f': \"null\",\n        },\n{\n            'v': null,\n            'f': \"null\",\n        },\n{\n            'v': null,\n            'f': \"null\",\n        },\n{\n            'v': null,\n            'f': \"null\",\n        },\n{\n            'v': 44020524,\n            'f': \"44020524\",\n        }]],\n        columns: [[\"number\", \"index\"], [\"string\", \"name\"], [\"number\", \"id\"], [\"string\", \"title\"], [\"string\", \"imdb_index\"], [\"number\", \"kind_id\"], [\"number\", \"year\"], [\"number\", \"imdb_id\"], [\"string\", \"phonetic_code\"], [\"number\", \"episode_of_id\"], [\"number\", \"season_nr\"], [\"number\", \"episode_nr\"], [\"number\", \"series_years\"], [\"number\", \"__search_id\"]],\n        columnOptions: [{\"width\": \"1px\", \"className\": \"index_column\"}],\n        rowsPerPage: 25,\n        helpUrl: \"https://colab.research.google.com/notebooks/data_table.ipynb\",\n        suppressOutputScrolling: true,\n        minimumWidth: undefined,\n      });\n    ",
            "text/html": [
              "\n",
              "  <div id=\"df-623c7ab7-8af3-428c-a3ba-3ac5e7f710a8\">\n",
              "    <div class=\"colab-df-container\">\n",
              "      <div>\n",
              "<style scoped>\n",
              "    .dataframe tbody tr th:only-of-type {\n",
              "        vertical-align: middle;\n",
              "    }\n",
              "\n",
              "    .dataframe tbody tr th {\n",
              "        vertical-align: top;\n",
              "    }\n",
              "\n",
              "    .dataframe thead th {\n",
              "        text-align: right;\n",
              "    }\n",
              "</style>\n",
              "<table border=\"1\" class=\"dataframe\">\n",
              "  <thead>\n",
              "    <tr style=\"text-align: right;\">\n",
              "      <th></th>\n",
              "      <th>name</th>\n",
              "      <th>id</th>\n",
              "      <th>title</th>\n",
              "      <th>imdb_index</th>\n",
              "      <th>kind_id</th>\n",
              "      <th>year</th>\n",
              "      <th>imdb_id</th>\n",
              "      <th>phonetic_code</th>\n",
              "      <th>episode_of_id</th>\n",
              "      <th>season_nr</th>\n",
              "      <th>episode_nr</th>\n",
              "      <th>series_years</th>\n",
              "      <th>__search_id</th>\n",
              "    </tr>\n",
              "  </thead>\n",
              "  <tbody>\n",
              "    <tr>\n",
              "      <th>0</th>\n",
              "      <td>Smith, Will</td>\n",
              "      <td>409179</td>\n",
              "      <td>Raw Hybrids</td>\n",
              "      <td>None</td>\n",
              "      <td>1</td>\n",
              "      <td>2008</td>\n",
              "      <td>None</td>\n",
              "      <td>R1632</td>\n",
              "      <td>None</td>\n",
              "      <td>None</td>\n",
              "      <td>None</td>\n",
              "      <td>None</td>\n",
              "      <td>44182670</td>\n",
              "    </tr>\n",
              "    <tr>\n",
              "      <th>1</th>\n",
              "      <td>Smith, Will</td>\n",
              "      <td>560251</td>\n",
              "      <td>U (Unaccepted)</td>\n",
              "      <td>None</td>\n",
              "      <td>1</td>\n",
              "      <td>2009</td>\n",
              "      <td>None</td>\n",
              "      <td>U5213</td>\n",
              "      <td>None</td>\n",
              "      <td>None</td>\n",
              "      <td>None</td>\n",
              "      <td>None</td>\n",
              "      <td>44281991</td>\n",
              "    </tr>\n",
              "    <tr>\n",
              "      <th>2</th>\n",
              "      <td>Smith, Will</td>\n",
              "      <td>251689</td>\n",
              "      <td>Judgement Day</td>\n",
              "      <td>II</td>\n",
              "      <td>1</td>\n",
              "      <td>2010</td>\n",
              "      <td>None</td>\n",
              "      <td>J3253</td>\n",
              "      <td>None</td>\n",
              "      <td>None</td>\n",
              "      <td>None</td>\n",
              "      <td>None</td>\n",
              "      <td>43961583</td>\n",
              "    </tr>\n",
              "    <tr>\n",
              "      <th>3</th>\n",
              "      <td>Smith, Will</td>\n",
              "      <td>182393</td>\n",
              "      <td>Free Enterprise</td>\n",
              "      <td>None</td>\n",
              "      <td>1</td>\n",
              "      <td>1998</td>\n",
              "      <td>None</td>\n",
              "      <td>F6536</td>\n",
              "      <td>None</td>\n",
              "      <td>None</td>\n",
              "      <td>None</td>\n",
              "      <td>None</td>\n",
              "      <td>43917381</td>\n",
              "    </tr>\n",
              "    <tr>\n",
              "      <th>4</th>\n",
              "      <td>Smith, Will</td>\n",
              "      <td>235880</td>\n",
              "      <td>In the Loop</td>\n",
              "      <td>None</td>\n",
              "      <td>1</td>\n",
              "      <td>2009</td>\n",
              "      <td>None</td>\n",
              "      <td>I5341</td>\n",
              "      <td>None</td>\n",
              "      <td>None</td>\n",
              "      <td>None</td>\n",
              "      <td>None</td>\n",
              "      <td>44020524</td>\n",
              "    </tr>\n",
              "  </tbody>\n",
              "</table>\n",
              "</div>\n",
              "      <button class=\"colab-df-convert\" onclick=\"convertToInteractive('df-623c7ab7-8af3-428c-a3ba-3ac5e7f710a8')\"\n",
              "              title=\"Convert this dataframe to an interactive table.\"\n",
              "              style=\"display:none;\">\n",
              "        \n",
              "  <svg xmlns=\"http://www.w3.org/2000/svg\" height=\"24px\"viewBox=\"0 0 24 24\"\n",
              "       width=\"24px\">\n",
              "    <path d=\"M0 0h24v24H0V0z\" fill=\"none\"/>\n",
              "    <path d=\"M18.56 5.44l.94 2.06.94-2.06 2.06-.94-2.06-.94-.94-2.06-.94 2.06-2.06.94zm-11 1L8.5 8.5l.94-2.06 2.06-.94-2.06-.94L8.5 2.5l-.94 2.06-2.06.94zm10 10l.94 2.06.94-2.06 2.06-.94-2.06-.94-.94-2.06-.94 2.06-2.06.94z\"/><path d=\"M17.41 7.96l-1.37-1.37c-.4-.4-.92-.59-1.43-.59-.52 0-1.04.2-1.43.59L10.3 9.45l-7.72 7.72c-.78.78-.78 2.05 0 2.83L4 21.41c.39.39.9.59 1.41.59.51 0 1.02-.2 1.41-.59l7.78-7.78 2.81-2.81c.8-.78.8-2.07 0-2.86zM5.41 20L4 18.59l7.72-7.72 1.47 1.35L5.41 20z\"/>\n",
              "  </svg>\n",
              "      </button>\n",
              "      \n",
              "  <style>\n",
              "    .colab-df-container {\n",
              "      display:flex;\n",
              "      flex-wrap:wrap;\n",
              "      gap: 12px;\n",
              "    }\n",
              "\n",
              "    .colab-df-convert {\n",
              "      background-color: #E8F0FE;\n",
              "      border: none;\n",
              "      border-radius: 50%;\n",
              "      cursor: pointer;\n",
              "      display: none;\n",
              "      fill: #1967D2;\n",
              "      height: 32px;\n",
              "      padding: 0 0 0 0;\n",
              "      width: 32px;\n",
              "    }\n",
              "\n",
              "    .colab-df-convert:hover {\n",
              "      background-color: #E2EBFA;\n",
              "      box-shadow: 0px 1px 2px rgba(60, 64, 67, 0.3), 0px 1px 3px 1px rgba(60, 64, 67, 0.15);\n",
              "      fill: #174EA6;\n",
              "    }\n",
              "\n",
              "    [theme=dark] .colab-df-convert {\n",
              "      background-color: #3B4455;\n",
              "      fill: #D2E3FC;\n",
              "    }\n",
              "\n",
              "    [theme=dark] .colab-df-convert:hover {\n",
              "      background-color: #434B5C;\n",
              "      box-shadow: 0px 1px 3px 1px rgba(0, 0, 0, 0.15);\n",
              "      filter: drop-shadow(0px 1px 2px rgba(0, 0, 0, 0.3));\n",
              "      fill: #FFFFFF;\n",
              "    }\n",
              "  </style>\n",
              "\n",
              "      <script>\n",
              "        const buttonEl =\n",
              "          document.querySelector('#df-623c7ab7-8af3-428c-a3ba-3ac5e7f710a8 button.colab-df-convert');\n",
              "        buttonEl.style.display =\n",
              "          google.colab.kernel.accessAllowed ? 'block' : 'none';\n",
              "\n",
              "        async function convertToInteractive(key) {\n",
              "          const element = document.querySelector('#df-623c7ab7-8af3-428c-a3ba-3ac5e7f710a8');\n",
              "          const dataTable =\n",
              "            await google.colab.kernel.invokeFunction('convertToInteractive',\n",
              "                                                     [key], {});\n",
              "          if (!dataTable) return;\n",
              "\n",
              "          const docLinkHtml = 'Like what you see? Visit the ' +\n",
              "            '<a target=\"_blank\" href=https://colab.research.google.com/notebooks/data_table.ipynb>data table notebook</a>'\n",
              "            + ' to learn more about interactive tables.';\n",
              "          element.innerHTML = '';\n",
              "          dataTable['output_type'] = 'display_data';\n",
              "          await google.colab.output.renderOutput(dataTable, element);\n",
              "          const docLink = document.createElement('div');\n",
              "          docLink.innerHTML = docLinkHtml;\n",
              "          element.appendChild(docLink);\n",
              "        }\n",
              "      </script>\n",
              "    </div>\n",
              "  </div>\n",
              "  "
            ],
            "text/plain": [
              "          name      id            title  ... episode_nr  series_years  __search_id\n",
              "0  Smith, Will  409179      Raw Hybrids  ...       None          None     44182670\n",
              "1  Smith, Will  560251   U (Unaccepted)  ...       None          None     44281991\n",
              "2  Smith, Will  251689    Judgement Day  ...       None          None     43961583\n",
              "3  Smith, Will  182393  Free Enterprise  ...       None          None     43917381\n",
              "4  Smith, Will  235880      In the Loop  ...       None          None     44020524\n",
              "\n",
              "[5 rows x 13 columns]"
            ]
          },
          "metadata": {}
        },
        {
          "output_type": "stream",
          "name": "stdout",
          "text": [
            "\n"
          ]
        },
        {
          "output_type": "display_data",
          "data": {
            "text/markdown": "---",
            "text/plain": [
              "<IPython.core.display.Markdown object>"
            ]
          },
          "metadata": {}
        },
        {
          "output_type": "display_data",
          "data": {
            "text/markdown": "**3rd CJN**:",
            "text/plain": [
              "<IPython.core.display.Markdown object>"
            ]
          },
          "metadata": {}
        },
        {
          "output_type": "display_data",
          "data": {
            "text/markdown": "---",
            "text/plain": [
              "<IPython.core.display.Markdown object>"
            ]
          },
          "metadata": {}
        },
        {
          "output_type": "stream",
          "name": "stdout",
          "text": [
            "Graph:\n"
          ]
        },
        {
          "output_type": "display_data",
          "data": {
            "text/plain": [
              "<graphviz.dot.Digraph at 0x7f7bc686f490>"
            ],
            "image/svg+xml": "<?xml version=\"1.0\" encoding=\"UTF-8\" standalone=\"no\"?>\n<!DOCTYPE svg PUBLIC \"-//W3C//DTD SVG 1.1//EN\"\n \"http://www.w3.org/Graphics/SVG/1.1/DTD/svg11.dtd\">\n<!-- Generated by graphviz version 2.40.1 (20161225.0304)\n -->\n<!-- Title: %3 Pages: 1 -->\n<svg width=\"193pt\" height=\"44pt\"\n viewBox=\"0.00 0.00 192.75 44.00\" xmlns=\"http://www.w3.org/2000/svg\" xmlns:xlink=\"http://www.w3.org/1999/xlink\">\n<g id=\"graph0\" class=\"graph\" transform=\"scale(1 1) rotate(0) translate(4 40)\">\n<title>%3</title>\n<polygon fill=\"#ffffff\" stroke=\"transparent\" points=\"-4,4 -4,-40 188.7521,-40 188.7521,4 -4,4\"/>\n<!-- t1 -->\n<g id=\"node1\" class=\"node\">\n<title>t1</title>\n<ellipse fill=\"none\" stroke=\"#000000\" cx=\"92.376\" cy=\"-18\" rx=\"92.2523\" ry=\"18\"/>\n<text text-anchor=\"middle\" x=\"92.376\" y=\"-15.8\" font-family=\"Times,serif\" font-size=\"9.00\" fill=\"#000000\">MOVIE.s(*{films}).v(title{will,smith})</text>\n</g>\n</g>\n</svg>\n"
          },
          "metadata": {}
        },
        {
          "output_type": "display_data",
          "data": {
            "text/markdown": "---",
            "text/plain": [
              "<IPython.core.display.Markdown object>"
            ]
          },
          "metadata": {}
        },
        {
          "output_type": "stream",
          "name": "stdout",
          "text": [
            "SQL:\n",
            "  \n",
            "  SELECT\n",
            "  \tt1.*,\n",
            "  \tt1.title\n",
            "  FROM\n",
            "  \tmovie t1\n",
            "  WHERE\n",
            "  \tt1.title_tsvector @@ to_tsquery('will & smith')\n",
            "  LIMIT 1000;\n",
            "\n"
          ]
        },
        {
          "output_type": "display_data",
          "data": {
            "text/markdown": "---",
            "text/plain": [
              "<IPython.core.display.Markdown object>"
            ]
          },
          "metadata": {}
        },
        {
          "output_type": "stream",
          "name": "stdout",
          "text": [
            "JNTs:\n"
          ]
        },
        {
          "output_type": "display_data",
          "data": {
            "application/vnd.google.colaboratory.module+javascript": "\n      import \"https://ssl.gstatic.com/colaboratory/data_table/a6224c040fa35dcf/data_table.js\";\n\n      window.createDataTable({\n        data: [[{\n            'v': 0,\n            'f': \"0\",\n        },\n{\n            'v': 511163,\n            'f': \"511163\",\n        },\n\"The Last Will and Testament of Tom Smith\",\n{\n            'v': null,\n            'f': \"null\",\n        },\n{\n            'v': 1,\n            'f': \"1\",\n        },\n{\n            'v': 1943,\n            'f': \"1943\",\n        },\n{\n            'v': null,\n            'f': \"null\",\n        },\n\"L2345\",\n{\n            'v': null,\n            'f': \"null\",\n        },\n{\n            'v': null,\n            'f': \"null\",\n        },\n{\n            'v': null,\n            'f': \"null\",\n        },\n{\n            'v': null,\n            'f': \"null\",\n        },\n{\n            'v': 44270314,\n            'f': \"44270314\",\n        },\n\"The Last Will and Testament of Tom Smith\"],\n [{\n            'v': 1,\n            'f': \"1\",\n        },\n{\n            'v': 575829,\n            'f': \"575829\",\n        },\n\"Violent Will Smith\",\n{\n            'v': null,\n            'f': \"null\",\n        },\n{\n            'v': 1,\n            'f': \"1\",\n        },\n{\n            'v': 1997,\n            'f': \"1997\",\n        },\n{\n            'v': null,\n            'f': \"null\",\n        },\n\"V4534\",\n{\n            'v': null,\n            'f': \"null\",\n        },\n{\n            'v': null,\n            'f': \"null\",\n        },\n{\n            'v': null,\n            'f': \"null\",\n        },\n{\n            'v': null,\n            'f': \"null\",\n        },\n{\n            'v': 44321388,\n            'f': \"44321388\",\n        },\n\"Violent Will Smith\"],\n [{\n            'v': 2,\n            'f': \"2\",\n        },\n{\n            'v': 568074,\n            'f': \"568074\",\n        },\n\"Untitled Will Smith/Chef Jeff Project\",\n{\n            'v': null,\n            'f': \"null\",\n        },\n{\n            'v': 1,\n            'f': \"1\",\n        },\n{\n            'v': 2011,\n            'f': \"2011\",\n        },\n{\n            'v': null,\n            'f': \"null\",\n        },\n\"U5343\",\n{\n            'v': null,\n            'f': \"null\",\n        },\n{\n            'v': null,\n            'f': \"null\",\n        },\n{\n            'v': null,\n            'f': \"null\",\n        },\n{\n            'v': null,\n            'f': \"null\",\n        },\n{\n            'v': 44301307,\n            'f': \"44301307\",\n        },\n\"Untitled Will Smith/Chef Jeff Project\"]],\n        columns: [[\"number\", \"index\"], [\"number\", \"id\"], [\"string\", \"title\"], [\"number\", \"imdb_index\"], [\"number\", \"kind_id\"], [\"number\", \"year\"], [\"number\", \"imdb_id\"], [\"string\", \"phonetic_code\"], [\"number\", \"episode_of_id\"], [\"number\", \"season_nr\"], [\"number\", \"episode_nr\"], [\"number\", \"series_years\"], [\"number\", \"__search_id\"], [\"string\", \"title\"]],\n        columnOptions: [{\"width\": \"1px\", \"className\": \"index_column\"}],\n        rowsPerPage: 25,\n        helpUrl: \"https://colab.research.google.com/notebooks/data_table.ipynb\",\n        suppressOutputScrolling: true,\n        minimumWidth: undefined,\n      });\n    ",
            "text/html": [
              "\n",
              "  <div id=\"df-91e1f93d-c7b3-419c-bb53-d845a00113ca\">\n",
              "    <div class=\"colab-df-container\">\n",
              "      <div>\n",
              "<style scoped>\n",
              "    .dataframe tbody tr th:only-of-type {\n",
              "        vertical-align: middle;\n",
              "    }\n",
              "\n",
              "    .dataframe tbody tr th {\n",
              "        vertical-align: top;\n",
              "    }\n",
              "\n",
              "    .dataframe thead th {\n",
              "        text-align: right;\n",
              "    }\n",
              "</style>\n",
              "<table border=\"1\" class=\"dataframe\">\n",
              "  <thead>\n",
              "    <tr style=\"text-align: right;\">\n",
              "      <th></th>\n",
              "      <th>id</th>\n",
              "      <th>title</th>\n",
              "      <th>imdb_index</th>\n",
              "      <th>kind_id</th>\n",
              "      <th>year</th>\n",
              "      <th>imdb_id</th>\n",
              "      <th>phonetic_code</th>\n",
              "      <th>episode_of_id</th>\n",
              "      <th>season_nr</th>\n",
              "      <th>episode_nr</th>\n",
              "      <th>series_years</th>\n",
              "      <th>__search_id</th>\n",
              "      <th>title</th>\n",
              "    </tr>\n",
              "  </thead>\n",
              "  <tbody>\n",
              "    <tr>\n",
              "      <th>0</th>\n",
              "      <td>511163</td>\n",
              "      <td>The Last Will and Testament of Tom Smith</td>\n",
              "      <td>None</td>\n",
              "      <td>1</td>\n",
              "      <td>1943</td>\n",
              "      <td>None</td>\n",
              "      <td>L2345</td>\n",
              "      <td>None</td>\n",
              "      <td>None</td>\n",
              "      <td>None</td>\n",
              "      <td>None</td>\n",
              "      <td>44270314</td>\n",
              "      <td>The Last Will and Testament of Tom Smith</td>\n",
              "    </tr>\n",
              "    <tr>\n",
              "      <th>1</th>\n",
              "      <td>575829</td>\n",
              "      <td>Violent Will Smith</td>\n",
              "      <td>None</td>\n",
              "      <td>1</td>\n",
              "      <td>1997</td>\n",
              "      <td>None</td>\n",
              "      <td>V4534</td>\n",
              "      <td>None</td>\n",
              "      <td>None</td>\n",
              "      <td>None</td>\n",
              "      <td>None</td>\n",
              "      <td>44321388</td>\n",
              "      <td>Violent Will Smith</td>\n",
              "    </tr>\n",
              "    <tr>\n",
              "      <th>2</th>\n",
              "      <td>568074</td>\n",
              "      <td>Untitled Will Smith/Chef Jeff Project</td>\n",
              "      <td>None</td>\n",
              "      <td>1</td>\n",
              "      <td>2011</td>\n",
              "      <td>None</td>\n",
              "      <td>U5343</td>\n",
              "      <td>None</td>\n",
              "      <td>None</td>\n",
              "      <td>None</td>\n",
              "      <td>None</td>\n",
              "      <td>44301307</td>\n",
              "      <td>Untitled Will Smith/Chef Jeff Project</td>\n",
              "    </tr>\n",
              "  </tbody>\n",
              "</table>\n",
              "</div>\n",
              "      <button class=\"colab-df-convert\" onclick=\"convertToInteractive('df-91e1f93d-c7b3-419c-bb53-d845a00113ca')\"\n",
              "              title=\"Convert this dataframe to an interactive table.\"\n",
              "              style=\"display:none;\">\n",
              "        \n",
              "  <svg xmlns=\"http://www.w3.org/2000/svg\" height=\"24px\"viewBox=\"0 0 24 24\"\n",
              "       width=\"24px\">\n",
              "    <path d=\"M0 0h24v24H0V0z\" fill=\"none\"/>\n",
              "    <path d=\"M18.56 5.44l.94 2.06.94-2.06 2.06-.94-2.06-.94-.94-2.06-.94 2.06-2.06.94zm-11 1L8.5 8.5l.94-2.06 2.06-.94-2.06-.94L8.5 2.5l-.94 2.06-2.06.94zm10 10l.94 2.06.94-2.06 2.06-.94-2.06-.94-.94-2.06-.94 2.06-2.06.94z\"/><path d=\"M17.41 7.96l-1.37-1.37c-.4-.4-.92-.59-1.43-.59-.52 0-1.04.2-1.43.59L10.3 9.45l-7.72 7.72c-.78.78-.78 2.05 0 2.83L4 21.41c.39.39.9.59 1.41.59.51 0 1.02-.2 1.41-.59l7.78-7.78 2.81-2.81c.8-.78.8-2.07 0-2.86zM5.41 20L4 18.59l7.72-7.72 1.47 1.35L5.41 20z\"/>\n",
              "  </svg>\n",
              "      </button>\n",
              "      \n",
              "  <style>\n",
              "    .colab-df-container {\n",
              "      display:flex;\n",
              "      flex-wrap:wrap;\n",
              "      gap: 12px;\n",
              "    }\n",
              "\n",
              "    .colab-df-convert {\n",
              "      background-color: #E8F0FE;\n",
              "      border: none;\n",
              "      border-radius: 50%;\n",
              "      cursor: pointer;\n",
              "      display: none;\n",
              "      fill: #1967D2;\n",
              "      height: 32px;\n",
              "      padding: 0 0 0 0;\n",
              "      width: 32px;\n",
              "    }\n",
              "\n",
              "    .colab-df-convert:hover {\n",
              "      background-color: #E2EBFA;\n",
              "      box-shadow: 0px 1px 2px rgba(60, 64, 67, 0.3), 0px 1px 3px 1px rgba(60, 64, 67, 0.15);\n",
              "      fill: #174EA6;\n",
              "    }\n",
              "\n",
              "    [theme=dark] .colab-df-convert {\n",
              "      background-color: #3B4455;\n",
              "      fill: #D2E3FC;\n",
              "    }\n",
              "\n",
              "    [theme=dark] .colab-df-convert:hover {\n",
              "      background-color: #434B5C;\n",
              "      box-shadow: 0px 1px 3px 1px rgba(0, 0, 0, 0.15);\n",
              "      filter: drop-shadow(0px 1px 2px rgba(0, 0, 0, 0.3));\n",
              "      fill: #FFFFFF;\n",
              "    }\n",
              "  </style>\n",
              "\n",
              "      <script>\n",
              "        const buttonEl =\n",
              "          document.querySelector('#df-91e1f93d-c7b3-419c-bb53-d845a00113ca button.colab-df-convert');\n",
              "        buttonEl.style.display =\n",
              "          google.colab.kernel.accessAllowed ? 'block' : 'none';\n",
              "\n",
              "        async function convertToInteractive(key) {\n",
              "          const element = document.querySelector('#df-91e1f93d-c7b3-419c-bb53-d845a00113ca');\n",
              "          const dataTable =\n",
              "            await google.colab.kernel.invokeFunction('convertToInteractive',\n",
              "                                                     [key], {});\n",
              "          if (!dataTable) return;\n",
              "\n",
              "          const docLinkHtml = 'Like what you see? Visit the ' +\n",
              "            '<a target=\"_blank\" href=https://colab.research.google.com/notebooks/data_table.ipynb>data table notebook</a>'\n",
              "            + ' to learn more about interactive tables.';\n",
              "          element.innerHTML = '';\n",
              "          dataTable['output_type'] = 'display_data';\n",
              "          await google.colab.output.renderOutput(dataTable, element);\n",
              "          const docLink = document.createElement('div');\n",
              "          docLink.innerHTML = docLinkHtml;\n",
              "          element.appendChild(docLink);\n",
              "        }\n",
              "      </script>\n",
              "    </div>\n",
              "  </div>\n",
              "  "
            ],
            "text/plain": [
              "       id  ...                                     title\n",
              "0  511163  ...  The Last Will and Testament of Tom Smith\n",
              "1  575829  ...                        Violent Will Smith\n",
              "2  568074  ...     Untitled Will Smith/Chef Jeff Project\n",
              "\n",
              "[3 rows x 13 columns]"
            ]
          },
          "metadata": {}
        },
        {
          "output_type": "stream",
          "name": "stdout",
          "text": [
            "\n"
          ]
        },
        {
          "output_type": "display_data",
          "data": {
            "text/markdown": "---",
            "text/plain": [
              "<IPython.core.display.Markdown object>"
            ]
          },
          "metadata": {}
        },
        {
          "output_type": "display_data",
          "data": {
            "text/markdown": "**4th CJN**:",
            "text/plain": [
              "<IPython.core.display.Markdown object>"
            ]
          },
          "metadata": {}
        },
        {
          "output_type": "display_data",
          "data": {
            "text/markdown": "---",
            "text/plain": [
              "<IPython.core.display.Markdown object>"
            ]
          },
          "metadata": {}
        },
        {
          "output_type": "stream",
          "name": "stdout",
          "text": [
            "Graph:\n"
          ]
        },
        {
          "output_type": "display_data",
          "data": {
            "text/plain": [
              "<graphviz.dot.Digraph at 0x7f7bc6586a90>"
            ],
            "image/svg+xml": "<?xml version=\"1.0\" encoding=\"UTF-8\" standalone=\"no\"?>\n<!DOCTYPE svg PUBLIC \"-//W3C//DTD SVG 1.1//EN\"\n \"http://www.w3.org/Graphics/SVG/1.1/DTD/svg11.dtd\">\n<!-- Generated by graphviz version 2.40.1 (20161225.0304)\n -->\n<!-- Title: %3 Pages: 1 -->\n<svg width=\"170pt\" height=\"98pt\"\n viewBox=\"0.00 0.00 169.66 98.00\" xmlns=\"http://www.w3.org/2000/svg\" xmlns:xlink=\"http://www.w3.org/1999/xlink\">\n<g id=\"graph0\" class=\"graph\" transform=\"scale(1 1) rotate(0) translate(4 94)\">\n<title>%3</title>\n<polygon fill=\"#ffffff\" stroke=\"transparent\" points=\"-4,4 -4,-94 165.6581,-94 165.6581,4 -4,4\"/>\n<!-- t1 -->\n<g id=\"node1\" class=\"node\">\n<title>t1</title>\n<ellipse fill=\"none\" stroke=\"#000000\" cx=\"80.829\" cy=\"-72\" rx=\"80.6584\" ry=\"18\"/>\n<text text-anchor=\"middle\" x=\"80.829\" y=\"-69.8\" font-family=\"Times,serif\" font-size=\"9.00\" fill=\"#000000\">MOVIEINFO.v(info{will,smith})</text>\n</g>\n<!-- t2 -->\n<g id=\"node2\" class=\"node\">\n<title>t2</title>\n<ellipse fill=\"none\" stroke=\"#000000\" cx=\"80.829\" cy=\"-18\" rx=\"51.9231\" ry=\"18\"/>\n<text text-anchor=\"middle\" x=\"80.829\" y=\"-15.8\" font-family=\"Times,serif\" font-size=\"9.00\" fill=\"#000000\">MOVIE.s(*{films})</text>\n</g>\n<!-- t1&#45;&gt;t2 -->\n<g id=\"edge1\" class=\"edge\">\n<title>t1&#45;&gt;t2</title>\n<path fill=\"none\" stroke=\"#000000\" d=\"M80.829,-53.7181C80.829,-50.9911 80.829,-48.1312 80.829,-45.2673\"/>\n<polygon fill=\"#000000\" stroke=\"#000000\" points=\"83.9791,-45.2631 80.829,-36.2631 77.6791,-45.2631 83.9791,-45.2631\"/>\n</g>\n</g>\n</svg>\n"
          },
          "metadata": {}
        },
        {
          "output_type": "display_data",
          "data": {
            "text/markdown": "---",
            "text/plain": [
              "<IPython.core.display.Markdown object>"
            ]
          },
          "metadata": {}
        },
        {
          "output_type": "stream",
          "name": "stdout",
          "text": [
            "SQL:\n",
            "  \n",
            "  SELECT\n",
            "  \tt2.*,\n",
            "  \tt1.info\n",
            "  FROM\n",
            "  \tmovieinfo t1\n",
            "  \tJOIN movie t2 ON t1.movie_id = t2.id\n",
            "  WHERE\n",
            "  \tt1.info_tsvector @@ to_tsquery('will & smith')\n",
            "  LIMIT 1000;\n",
            "\n"
          ]
        },
        {
          "output_type": "display_data",
          "data": {
            "text/markdown": "---",
            "text/plain": [
              "<IPython.core.display.Markdown object>"
            ]
          },
          "metadata": {}
        },
        {
          "output_type": "stream",
          "name": "stdout",
          "text": [
            "JNTs:\n"
          ]
        },
        {
          "output_type": "display_data",
          "data": {
            "application/vnd.google.colaboratory.module+javascript": "\n      import \"https://ssl.gstatic.com/colaboratory/data_table/a6224c040fa35dcf/data_table.js\";\n\n      window.createDataTable({\n        data: [[{\n            'v': 0,\n            'f': \"0\",\n        },\n{\n            'v': 340187,\n            'f': \"340187\",\n        },\n\"Mr. & Mrs. Smith\",\n{\n            'v': null,\n            'f': \"null\",\n        },\n{\n            'v': 1,\n            'f': \"1\",\n        },\n{\n            'v': 2005,\n            'f': \"2005\",\n        },\n{\n            'v': null,\n            'f': \"null\",\n        },\n\"M6562\",\n{\n            'v': null,\n            'f': \"null\",\n        },\n{\n            'v': null,\n            'f': \"null\",\n        },\n{\n            'v': null,\n            'f': \"null\",\n        },\n{\n            'v': null,\n            'f': \"null\",\n        },\n{\n            'v': 44108441,\n            'f': \"44108441\",\n        },\n\"John Smith: Option A: You talk, we listen, no pain. Option B: You don't talk, I remove your thumbs with my pliers, it will hurt. Option C: I like to vary the details a bit but the punchline is... you die.\"],\n [{\n            'v': 1,\n            'f': \"1\",\n        },\n{\n            'v': 416391,\n            'f': \"416391\",\n        },\n\"Rising Sun\",\n{\n            'v': null,\n            'f': \"null\",\n        },\n{\n            'v': 1,\n            'f': \"1\",\n        },\n{\n            'v': 1993,\n            'f': \"1993\",\n        },\n{\n            'v': null,\n            'f': \"null\",\n        },\n\"R2525\",\n{\n            'v': null,\n            'f': \"null\",\n        },\n{\n            'v': null,\n            'f': \"null\",\n        },\n{\n            'v': null,\n            'f': \"null\",\n        },\n{\n            'v': null,\n            'f': \"null\",\n        },\n{\n            'v': 44147608,\n            'f': \"44147608\",\n        },\n\"John Connor: Every aspect of your appearance and behavior will reflect on you, the Department, and me as your sempai.::Web Smith: My sempai?::John Connor: Mm.::Web Smith: That wouldn't be massa, would it?\"],\n [{\n            'v': 2,\n            'f': \"2\",\n        },\n{\n            'v': 443137,\n            'f': \"443137\",\n        },\n\"Shoot 'Em Up\",\n{\n            'v': null,\n            'f': \"null\",\n        },\n{\n            'v': 1,\n            'f': \"1\",\n        },\n{\n            'v': 2007,\n            'f': \"2007\",\n        },\n{\n            'v': null,\n            'f': \"null\",\n        },\n\"S351\",\n{\n            'v': null,\n            'f': \"null\",\n        },\n{\n            'v': null,\n            'f': \"null\",\n        },\n{\n            'v': null,\n            'f': \"null\",\n        },\n{\n            'v': null,\n            'f': \"null\",\n        },\n{\n            'v': 44204431,\n            'f': \"44204431\",\n        },\n\"Mr. Smith: I hate it when parents hit their children.::Woman in Museum: Let go of my arm!::Mr. Smith: Not until you stop hitting your kid.::Woman in Museum: I will discipline my child as I see fit.::Mr. Smith: How would you like it if I spank you?::[Smith spanks the mother]::Mr. Smith: See? It doesn't feel so good, does it?\"],\n [{\n            'v': 3,\n            'f': \"3\",\n        },\n{\n            'v': 544103,\n            'f': \"544103\",\n        },\n\"Three Texas Steers\",\n{\n            'v': null,\n            'f': \"null\",\n        },\n{\n            'v': 1,\n            'f': \"1\",\n        },\n{\n            'v': 1939,\n            'f': \"1939\",\n        },\n{\n            'v': null,\n            'f': \"null\",\n        },\n\"T6323\",\n{\n            'v': null,\n            'f': \"null\",\n        },\n{\n            'v': null,\n            'f': \"null\",\n        },\n{\n            'v': null,\n            'f': \"null\",\n        },\n{\n            'v': null,\n            'f': \"null\",\n        },\n{\n            'v': 44238832,\n            'f': \"44238832\",\n        },\n\"Tucson Smith: Well, we're nearly home, boys.::Stony Brooke: The 3-M will look mighty good after that set-to in Santa Fe.::Lullaby Joslin: Don't forget, we've been away for three months. Most likely, we'll have to dig it out from under the dust.::Tucson Smith: That is, if the moths have left us anything to dig out.\"],\n [{\n            'v': 4,\n            'f': \"4\",\n        },\n{\n            'v': 544103,\n            'f': \"544103\",\n        },\n\"Three Texas Steers\",\n{\n            'v': null,\n            'f': \"null\",\n        },\n{\n            'v': 1,\n            'f': \"1\",\n        },\n{\n            'v': 1939,\n            'f': \"1939\",\n        },\n{\n            'v': null,\n            'f': \"null\",\n        },\n\"T6323\",\n{\n            'v': null,\n            'f': \"null\",\n        },\n{\n            'v': null,\n            'f': \"null\",\n        },\n{\n            'v': null,\n            'f': \"null\",\n        },\n{\n            'v': null,\n            'f': \"null\",\n        },\n{\n            'v': 44238832,\n            'f': \"44238832\",\n        },\n\"Stony Brooke: We gotta figure out some way to help Nancy.::Lullaby Joslin: If I was Nancy, I'd be just a little bit tired of our help.::Stony Brooke: Well, we can't let her lose her ranch.::Tucson Smith: What about ours? If we can't pay our own mortgage, we won't have any place to sleep.::Lullaby Joslin: Oh, yes we will. We'll have a nice cozy cell to sleep in for the next twenty years, if Mr. Brooke keeps bein' helpful.\"]],\n        columns: [[\"number\", \"index\"], [\"number\", \"id\"], [\"string\", \"title\"], [\"number\", \"imdb_index\"], [\"number\", \"kind_id\"], [\"number\", \"year\"], [\"number\", \"imdb_id\"], [\"string\", \"phonetic_code\"], [\"number\", \"episode_of_id\"], [\"number\", \"season_nr\"], [\"number\", \"episode_nr\"], [\"number\", \"series_years\"], [\"number\", \"__search_id\"], [\"string\", \"info\"]],\n        columnOptions: [{\"width\": \"1px\", \"className\": \"index_column\"}],\n        rowsPerPage: 25,\n        helpUrl: \"https://colab.research.google.com/notebooks/data_table.ipynb\",\n        suppressOutputScrolling: true,\n        minimumWidth: undefined,\n      });\n    ",
            "text/html": [
              "\n",
              "  <div id=\"df-bb76de83-0e09-4190-b7de-b7fefa880204\">\n",
              "    <div class=\"colab-df-container\">\n",
              "      <div>\n",
              "<style scoped>\n",
              "    .dataframe tbody tr th:only-of-type {\n",
              "        vertical-align: middle;\n",
              "    }\n",
              "\n",
              "    .dataframe tbody tr th {\n",
              "        vertical-align: top;\n",
              "    }\n",
              "\n",
              "    .dataframe thead th {\n",
              "        text-align: right;\n",
              "    }\n",
              "</style>\n",
              "<table border=\"1\" class=\"dataframe\">\n",
              "  <thead>\n",
              "    <tr style=\"text-align: right;\">\n",
              "      <th></th>\n",
              "      <th>id</th>\n",
              "      <th>title</th>\n",
              "      <th>imdb_index</th>\n",
              "      <th>kind_id</th>\n",
              "      <th>year</th>\n",
              "      <th>imdb_id</th>\n",
              "      <th>phonetic_code</th>\n",
              "      <th>episode_of_id</th>\n",
              "      <th>season_nr</th>\n",
              "      <th>episode_nr</th>\n",
              "      <th>series_years</th>\n",
              "      <th>__search_id</th>\n",
              "      <th>info</th>\n",
              "    </tr>\n",
              "  </thead>\n",
              "  <tbody>\n",
              "    <tr>\n",
              "      <th>0</th>\n",
              "      <td>340187</td>\n",
              "      <td>Mr. &amp; Mrs. Smith</td>\n",
              "      <td>None</td>\n",
              "      <td>1</td>\n",
              "      <td>2005</td>\n",
              "      <td>None</td>\n",
              "      <td>M6562</td>\n",
              "      <td>None</td>\n",
              "      <td>None</td>\n",
              "      <td>None</td>\n",
              "      <td>None</td>\n",
              "      <td>44108441</td>\n",
              "      <td>John Smith: Option A: You talk, we listen, no ...</td>\n",
              "    </tr>\n",
              "    <tr>\n",
              "      <th>1</th>\n",
              "      <td>416391</td>\n",
              "      <td>Rising Sun</td>\n",
              "      <td>None</td>\n",
              "      <td>1</td>\n",
              "      <td>1993</td>\n",
              "      <td>None</td>\n",
              "      <td>R2525</td>\n",
              "      <td>None</td>\n",
              "      <td>None</td>\n",
              "      <td>None</td>\n",
              "      <td>None</td>\n",
              "      <td>44147608</td>\n",
              "      <td>John Connor: Every aspect of your appearance a...</td>\n",
              "    </tr>\n",
              "    <tr>\n",
              "      <th>2</th>\n",
              "      <td>443137</td>\n",
              "      <td>Shoot 'Em Up</td>\n",
              "      <td>None</td>\n",
              "      <td>1</td>\n",
              "      <td>2007</td>\n",
              "      <td>None</td>\n",
              "      <td>S351</td>\n",
              "      <td>None</td>\n",
              "      <td>None</td>\n",
              "      <td>None</td>\n",
              "      <td>None</td>\n",
              "      <td>44204431</td>\n",
              "      <td>Mr. Smith: I hate it when parents hit their ch...</td>\n",
              "    </tr>\n",
              "    <tr>\n",
              "      <th>3</th>\n",
              "      <td>544103</td>\n",
              "      <td>Three Texas Steers</td>\n",
              "      <td>None</td>\n",
              "      <td>1</td>\n",
              "      <td>1939</td>\n",
              "      <td>None</td>\n",
              "      <td>T6323</td>\n",
              "      <td>None</td>\n",
              "      <td>None</td>\n",
              "      <td>None</td>\n",
              "      <td>None</td>\n",
              "      <td>44238832</td>\n",
              "      <td>Tucson Smith: Well, we're nearly home, boys.::...</td>\n",
              "    </tr>\n",
              "    <tr>\n",
              "      <th>4</th>\n",
              "      <td>544103</td>\n",
              "      <td>Three Texas Steers</td>\n",
              "      <td>None</td>\n",
              "      <td>1</td>\n",
              "      <td>1939</td>\n",
              "      <td>None</td>\n",
              "      <td>T6323</td>\n",
              "      <td>None</td>\n",
              "      <td>None</td>\n",
              "      <td>None</td>\n",
              "      <td>None</td>\n",
              "      <td>44238832</td>\n",
              "      <td>Stony Brooke: We gotta figure out some way to ...</td>\n",
              "    </tr>\n",
              "  </tbody>\n",
              "</table>\n",
              "</div>\n",
              "      <button class=\"colab-df-convert\" onclick=\"convertToInteractive('df-bb76de83-0e09-4190-b7de-b7fefa880204')\"\n",
              "              title=\"Convert this dataframe to an interactive table.\"\n",
              "              style=\"display:none;\">\n",
              "        \n",
              "  <svg xmlns=\"http://www.w3.org/2000/svg\" height=\"24px\"viewBox=\"0 0 24 24\"\n",
              "       width=\"24px\">\n",
              "    <path d=\"M0 0h24v24H0V0z\" fill=\"none\"/>\n",
              "    <path d=\"M18.56 5.44l.94 2.06.94-2.06 2.06-.94-2.06-.94-.94-2.06-.94 2.06-2.06.94zm-11 1L8.5 8.5l.94-2.06 2.06-.94-2.06-.94L8.5 2.5l-.94 2.06-2.06.94zm10 10l.94 2.06.94-2.06 2.06-.94-2.06-.94-.94-2.06-.94 2.06-2.06.94z\"/><path d=\"M17.41 7.96l-1.37-1.37c-.4-.4-.92-.59-1.43-.59-.52 0-1.04.2-1.43.59L10.3 9.45l-7.72 7.72c-.78.78-.78 2.05 0 2.83L4 21.41c.39.39.9.59 1.41.59.51 0 1.02-.2 1.41-.59l7.78-7.78 2.81-2.81c.8-.78.8-2.07 0-2.86zM5.41 20L4 18.59l7.72-7.72 1.47 1.35L5.41 20z\"/>\n",
              "  </svg>\n",
              "      </button>\n",
              "      \n",
              "  <style>\n",
              "    .colab-df-container {\n",
              "      display:flex;\n",
              "      flex-wrap:wrap;\n",
              "      gap: 12px;\n",
              "    }\n",
              "\n",
              "    .colab-df-convert {\n",
              "      background-color: #E8F0FE;\n",
              "      border: none;\n",
              "      border-radius: 50%;\n",
              "      cursor: pointer;\n",
              "      display: none;\n",
              "      fill: #1967D2;\n",
              "      height: 32px;\n",
              "      padding: 0 0 0 0;\n",
              "      width: 32px;\n",
              "    }\n",
              "\n",
              "    .colab-df-convert:hover {\n",
              "      background-color: #E2EBFA;\n",
              "      box-shadow: 0px 1px 2px rgba(60, 64, 67, 0.3), 0px 1px 3px 1px rgba(60, 64, 67, 0.15);\n",
              "      fill: #174EA6;\n",
              "    }\n",
              "\n",
              "    [theme=dark] .colab-df-convert {\n",
              "      background-color: #3B4455;\n",
              "      fill: #D2E3FC;\n",
              "    }\n",
              "\n",
              "    [theme=dark] .colab-df-convert:hover {\n",
              "      background-color: #434B5C;\n",
              "      box-shadow: 0px 1px 3px 1px rgba(0, 0, 0, 0.15);\n",
              "      filter: drop-shadow(0px 1px 2px rgba(0, 0, 0, 0.3));\n",
              "      fill: #FFFFFF;\n",
              "    }\n",
              "  </style>\n",
              "\n",
              "      <script>\n",
              "        const buttonEl =\n",
              "          document.querySelector('#df-bb76de83-0e09-4190-b7de-b7fefa880204 button.colab-df-convert');\n",
              "        buttonEl.style.display =\n",
              "          google.colab.kernel.accessAllowed ? 'block' : 'none';\n",
              "\n",
              "        async function convertToInteractive(key) {\n",
              "          const element = document.querySelector('#df-bb76de83-0e09-4190-b7de-b7fefa880204');\n",
              "          const dataTable =\n",
              "            await google.colab.kernel.invokeFunction('convertToInteractive',\n",
              "                                                     [key], {});\n",
              "          if (!dataTable) return;\n",
              "\n",
              "          const docLinkHtml = 'Like what you see? Visit the ' +\n",
              "            '<a target=\"_blank\" href=https://colab.research.google.com/notebooks/data_table.ipynb>data table notebook</a>'\n",
              "            + ' to learn more about interactive tables.';\n",
              "          element.innerHTML = '';\n",
              "          dataTable['output_type'] = 'display_data';\n",
              "          await google.colab.output.renderOutput(dataTable, element);\n",
              "          const docLink = document.createElement('div');\n",
              "          docLink.innerHTML = docLinkHtml;\n",
              "          element.appendChild(docLink);\n",
              "        }\n",
              "      </script>\n",
              "    </div>\n",
              "  </div>\n",
              "  "
            ],
            "text/plain": [
              "       id  ...                                               info\n",
              "0  340187  ...  John Smith: Option A: You talk, we listen, no ...\n",
              "1  416391  ...  John Connor: Every aspect of your appearance a...\n",
              "2  443137  ...  Mr. Smith: I hate it when parents hit their ch...\n",
              "3  544103  ...  Tucson Smith: Well, we're nearly home, boys.::...\n",
              "4  544103  ...  Stony Brooke: We gotta figure out some way to ...\n",
              "\n",
              "[5 rows x 13 columns]"
            ]
          },
          "metadata": {}
        },
        {
          "output_type": "stream",
          "name": "stdout",
          "text": [
            "\n"
          ]
        },
        {
          "output_type": "display_data",
          "data": {
            "text/markdown": "---",
            "text/plain": [
              "<IPython.core.display.Markdown object>"
            ]
          },
          "metadata": {}
        },
        {
          "output_type": "display_data",
          "data": {
            "text/markdown": "**5th CJN**:",
            "text/plain": [
              "<IPython.core.display.Markdown object>"
            ]
          },
          "metadata": {}
        },
        {
          "output_type": "display_data",
          "data": {
            "text/markdown": "---",
            "text/plain": [
              "<IPython.core.display.Markdown object>"
            ]
          },
          "metadata": {}
        },
        {
          "output_type": "stream",
          "name": "stdout",
          "text": [
            "Graph:\n"
          ]
        },
        {
          "output_type": "display_data",
          "data": {
            "text/plain": [
              "<graphviz.dot.Digraph at 0x7f7bc6831d10>"
            ],
            "image/svg+xml": "<?xml version=\"1.0\" encoding=\"UTF-8\" standalone=\"no\"?>\n<!DOCTYPE svg PUBLIC \"-//W3C//DTD SVG 1.1//EN\"\n \"http://www.w3.org/Graphics/SVG/1.1/DTD/svg11.dtd\">\n<!-- Generated by graphviz version 2.40.1 (20161225.0304)\n -->\n<!-- Title: %3 Pages: 1 -->\n<svg width=\"296pt\" height=\"98pt\"\n viewBox=\"0.00 0.00 295.83 98.00\" xmlns=\"http://www.w3.org/2000/svg\" xmlns:xlink=\"http://www.w3.org/1999/xlink\">\n<g id=\"graph0\" class=\"graph\" transform=\"scale(1 1) rotate(0) translate(4 94)\">\n<title>%3</title>\n<polygon fill=\"#ffffff\" stroke=\"transparent\" points=\"-4,4 -4,-94 291.832,-94 291.832,4 -4,4\"/>\n<!-- t1 -->\n<g id=\"node1\" class=\"node\">\n<title>t1</title>\n<ellipse fill=\"none\" stroke=\"#000000\" cx=\"84.8705\" cy=\"-18\" rx=\"84.7412\" ry=\"18\"/>\n<text text-anchor=\"middle\" x=\"84.8705\" y=\"-15.8\" font-family=\"Times,serif\" font-size=\"9.00\" fill=\"#000000\">CHARACTER.v(name{will,smith})</text>\n</g>\n<!-- t2 -->\n<g id=\"node2\" class=\"node\">\n<title>t2</title>\n<ellipse fill=\"none\" stroke=\"#000000\" cx=\"159.8705\" cy=\"-72\" rx=\"32.1641\" ry=\"18\"/>\n<text text-anchor=\"middle\" x=\"159.8705\" y=\"-69.8\" font-family=\"Times,serif\" font-size=\"9.00\" fill=\"#000000\">CASTING</text>\n</g>\n<!-- t2&#45;&gt;t1 -->\n<g id=\"edge2\" class=\"edge\">\n<title>t2&#45;&gt;t1</title>\n<path fill=\"none\" stroke=\"#000000\" d=\"M139.7719,-57.529C132.6775,-52.4211 124.5156,-46.5444 116.6913,-40.911\"/>\n<polygon fill=\"#000000\" stroke=\"#000000\" points=\"118.176,-38.0984 109.0316,-35.396 114.4948,-43.2111 118.176,-38.0984\"/>\n</g>\n<!-- t3 -->\n<g id=\"node3\" class=\"node\">\n<title>t3</title>\n<ellipse fill=\"none\" stroke=\"#000000\" cx=\"235.8705\" cy=\"-18\" rx=\"51.9231\" ry=\"18\"/>\n<text text-anchor=\"middle\" x=\"235.8705\" y=\"-15.8\" font-family=\"Times,serif\" font-size=\"9.00\" fill=\"#000000\">MOVIE.s(*{films})</text>\n</g>\n<!-- t2&#45;&gt;t3 -->\n<g id=\"edge1\" class=\"edge\">\n<title>t2&#45;&gt;t3</title>\n<path fill=\"none\" stroke=\"#000000\" d=\"M179.8386,-57.8121C187.7302,-52.205 196.9724,-45.6381 205.6494,-39.4729\"/>\n<polygon fill=\"#000000\" stroke=\"#000000\" points=\"207.5687,-41.9734 213.0809,-34.1926 203.9197,-36.8377 207.5687,-41.9734\"/>\n</g>\n</g>\n</svg>\n"
          },
          "metadata": {}
        },
        {
          "output_type": "display_data",
          "data": {
            "text/markdown": "---",
            "text/plain": [
              "<IPython.core.display.Markdown object>"
            ]
          },
          "metadata": {}
        },
        {
          "output_type": "stream",
          "name": "stdout",
          "text": [
            "SQL:\n",
            "  \n",
            "  SELECT\n",
            "  \tt1.name,\n",
            "  \tt3.*\n",
            "  FROM\n",
            "  \tcharacter t1\n",
            "  \tJOIN casting t2 ON t2.person_role_id = t1.id\n",
            "  \tJOIN movie t3 ON t2.movie_id = t3.id\n",
            "  WHERE\n",
            "  \tt1.name_tsvector @@ to_tsquery('will & smith')\n",
            "  LIMIT 1000;\n",
            "\n"
          ]
        },
        {
          "output_type": "display_data",
          "data": {
            "text/markdown": "---",
            "text/plain": [
              "<IPython.core.display.Markdown object>"
            ]
          },
          "metadata": {}
        },
        {
          "output_type": "stream",
          "name": "stdout",
          "text": [
            "JNTs:\n"
          ]
        },
        {
          "output_type": "display_data",
          "data": {
            "application/vnd.google.colaboratory.module+javascript": "\n      import \"https://ssl.gstatic.com/colaboratory/data_table/a6224c040fa35dcf/data_table.js\";\n\n      window.createDataTable({\n        data: [[{\n            'v': 0,\n            'f': \"0\",\n        },\n\"Will Smith\",\n{\n            'v': 464015,\n            'f': \"464015\",\n        },\n\"Strange Adventures of Mr. Smith\",\n{\n            'v': null,\n            'f': \"null\",\n        },\n{\n            'v': 1,\n            'f': \"1\",\n        },\n{\n            'v': 1937,\n            'f': \"1937\",\n        },\n{\n            'v': null,\n            'f': \"null\",\n        },\n\"S3652\",\n{\n            'v': null,\n            'f': \"null\",\n        },\n{\n            'v': null,\n            'f': \"null\",\n        },\n{\n            'v': null,\n            'f': \"null\",\n        },\n{\n            'v': null,\n            'f': \"null\",\n        },\n{\n            'v': 44205319,\n            'f': \"44205319\",\n        }]],\n        columns: [[\"number\", \"index\"], [\"string\", \"name\"], [\"number\", \"id\"], [\"string\", \"title\"], [\"number\", \"imdb_index\"], [\"number\", \"kind_id\"], [\"number\", \"year\"], [\"number\", \"imdb_id\"], [\"string\", \"phonetic_code\"], [\"number\", \"episode_of_id\"], [\"number\", \"season_nr\"], [\"number\", \"episode_nr\"], [\"number\", \"series_years\"], [\"number\", \"__search_id\"]],\n        columnOptions: [{\"width\": \"1px\", \"className\": \"index_column\"}],\n        rowsPerPage: 25,\n        helpUrl: \"https://colab.research.google.com/notebooks/data_table.ipynb\",\n        suppressOutputScrolling: true,\n        minimumWidth: undefined,\n      });\n    ",
            "text/html": [
              "\n",
              "  <div id=\"df-78b48959-6835-4eb7-82d5-807a561ea7de\">\n",
              "    <div class=\"colab-df-container\">\n",
              "      <div>\n",
              "<style scoped>\n",
              "    .dataframe tbody tr th:only-of-type {\n",
              "        vertical-align: middle;\n",
              "    }\n",
              "\n",
              "    .dataframe tbody tr th {\n",
              "        vertical-align: top;\n",
              "    }\n",
              "\n",
              "    .dataframe thead th {\n",
              "        text-align: right;\n",
              "    }\n",
              "</style>\n",
              "<table border=\"1\" class=\"dataframe\">\n",
              "  <thead>\n",
              "    <tr style=\"text-align: right;\">\n",
              "      <th></th>\n",
              "      <th>name</th>\n",
              "      <th>id</th>\n",
              "      <th>title</th>\n",
              "      <th>imdb_index</th>\n",
              "      <th>kind_id</th>\n",
              "      <th>year</th>\n",
              "      <th>imdb_id</th>\n",
              "      <th>phonetic_code</th>\n",
              "      <th>episode_of_id</th>\n",
              "      <th>season_nr</th>\n",
              "      <th>episode_nr</th>\n",
              "      <th>series_years</th>\n",
              "      <th>__search_id</th>\n",
              "    </tr>\n",
              "  </thead>\n",
              "  <tbody>\n",
              "    <tr>\n",
              "      <th>0</th>\n",
              "      <td>Will Smith</td>\n",
              "      <td>464015</td>\n",
              "      <td>Strange Adventures of Mr. Smith</td>\n",
              "      <td>None</td>\n",
              "      <td>1</td>\n",
              "      <td>1937</td>\n",
              "      <td>None</td>\n",
              "      <td>S3652</td>\n",
              "      <td>None</td>\n",
              "      <td>None</td>\n",
              "      <td>None</td>\n",
              "      <td>None</td>\n",
              "      <td>44205319</td>\n",
              "    </tr>\n",
              "  </tbody>\n",
              "</table>\n",
              "</div>\n",
              "      <button class=\"colab-df-convert\" onclick=\"convertToInteractive('df-78b48959-6835-4eb7-82d5-807a561ea7de')\"\n",
              "              title=\"Convert this dataframe to an interactive table.\"\n",
              "              style=\"display:none;\">\n",
              "        \n",
              "  <svg xmlns=\"http://www.w3.org/2000/svg\" height=\"24px\"viewBox=\"0 0 24 24\"\n",
              "       width=\"24px\">\n",
              "    <path d=\"M0 0h24v24H0V0z\" fill=\"none\"/>\n",
              "    <path d=\"M18.56 5.44l.94 2.06.94-2.06 2.06-.94-2.06-.94-.94-2.06-.94 2.06-2.06.94zm-11 1L8.5 8.5l.94-2.06 2.06-.94-2.06-.94L8.5 2.5l-.94 2.06-2.06.94zm10 10l.94 2.06.94-2.06 2.06-.94-2.06-.94-.94-2.06-.94 2.06-2.06.94z\"/><path d=\"M17.41 7.96l-1.37-1.37c-.4-.4-.92-.59-1.43-.59-.52 0-1.04.2-1.43.59L10.3 9.45l-7.72 7.72c-.78.78-.78 2.05 0 2.83L4 21.41c.39.39.9.59 1.41.59.51 0 1.02-.2 1.41-.59l7.78-7.78 2.81-2.81c.8-.78.8-2.07 0-2.86zM5.41 20L4 18.59l7.72-7.72 1.47 1.35L5.41 20z\"/>\n",
              "  </svg>\n",
              "      </button>\n",
              "      \n",
              "  <style>\n",
              "    .colab-df-container {\n",
              "      display:flex;\n",
              "      flex-wrap:wrap;\n",
              "      gap: 12px;\n",
              "    }\n",
              "\n",
              "    .colab-df-convert {\n",
              "      background-color: #E8F0FE;\n",
              "      border: none;\n",
              "      border-radius: 50%;\n",
              "      cursor: pointer;\n",
              "      display: none;\n",
              "      fill: #1967D2;\n",
              "      height: 32px;\n",
              "      padding: 0 0 0 0;\n",
              "      width: 32px;\n",
              "    }\n",
              "\n",
              "    .colab-df-convert:hover {\n",
              "      background-color: #E2EBFA;\n",
              "      box-shadow: 0px 1px 2px rgba(60, 64, 67, 0.3), 0px 1px 3px 1px rgba(60, 64, 67, 0.15);\n",
              "      fill: #174EA6;\n",
              "    }\n",
              "\n",
              "    [theme=dark] .colab-df-convert {\n",
              "      background-color: #3B4455;\n",
              "      fill: #D2E3FC;\n",
              "    }\n",
              "\n",
              "    [theme=dark] .colab-df-convert:hover {\n",
              "      background-color: #434B5C;\n",
              "      box-shadow: 0px 1px 3px 1px rgba(0, 0, 0, 0.15);\n",
              "      filter: drop-shadow(0px 1px 2px rgba(0, 0, 0, 0.3));\n",
              "      fill: #FFFFFF;\n",
              "    }\n",
              "  </style>\n",
              "\n",
              "      <script>\n",
              "        const buttonEl =\n",
              "          document.querySelector('#df-78b48959-6835-4eb7-82d5-807a561ea7de button.colab-df-convert');\n",
              "        buttonEl.style.display =\n",
              "          google.colab.kernel.accessAllowed ? 'block' : 'none';\n",
              "\n",
              "        async function convertToInteractive(key) {\n",
              "          const element = document.querySelector('#df-78b48959-6835-4eb7-82d5-807a561ea7de');\n",
              "          const dataTable =\n",
              "            await google.colab.kernel.invokeFunction('convertToInteractive',\n",
              "                                                     [key], {});\n",
              "          if (!dataTable) return;\n",
              "\n",
              "          const docLinkHtml = 'Like what you see? Visit the ' +\n",
              "            '<a target=\"_blank\" href=https://colab.research.google.com/notebooks/data_table.ipynb>data table notebook</a>'\n",
              "            + ' to learn more about interactive tables.';\n",
              "          element.innerHTML = '';\n",
              "          dataTable['output_type'] = 'display_data';\n",
              "          await google.colab.output.renderOutput(dataTable, element);\n",
              "          const docLink = document.createElement('div');\n",
              "          docLink.innerHTML = docLinkHtml;\n",
              "          element.appendChild(docLink);\n",
              "        }\n",
              "      </script>\n",
              "    </div>\n",
              "  </div>\n",
              "  "
            ],
            "text/plain": [
              "         name      id  ... series_years __search_id\n",
              "0  Will Smith  464015  ...         None    44205319\n",
              "\n",
              "[1 rows x 13 columns]"
            ]
          },
          "metadata": {}
        },
        {
          "output_type": "stream",
          "name": "stdout",
          "text": [
            "\n"
          ]
        }
      ]
    },
    {
      "cell_type": "code",
      "source": [
        "results = lathe.keyword_search('john travolta olivia films')\n",
        "results.qms()"
      ],
      "metadata": {
        "colab": {
          "base_uri": "https://localhost:8080/",
          "height": 455
        },
        "id": "-vPSeS2vZ9kS",
        "outputId": "76679e5d-806f-41fe-c9c8-61a6cdf1c829"
      },
      "execution_count": null,
      "outputs": [
        {
          "output_type": "stream",
          "name": "stdout",
          "text": [
            "query: john travolta olivia films\n"
          ]
        },
        {
          "output_type": "display_data",
          "data": {
            "text/markdown": "---",
            "text/plain": [
              "<IPython.core.display.Markdown object>"
            ]
          },
          "metadata": {}
        },
        {
          "output_type": "display_data",
          "data": {
            "text/markdown": "**1st QM**:",
            "text/plain": [
              "<IPython.core.display.Markdown object>"
            ]
          },
          "metadata": {}
        },
        {
          "output_type": "display_data",
          "data": {
            "text/markdown": "---",
            "text/plain": [
              "<IPython.core.display.Markdown object>"
            ]
          },
          "metadata": {}
        },
        {
          "output_type": "stream",
          "name": "stdout",
          "text": [
            "{PERSON.v(name{john,travolta}), MOVIE.s(*{films}), PERSON.v(name{john,olivia})}\n",
            "\n"
          ]
        },
        {
          "output_type": "display_data",
          "data": {
            "text/markdown": "---",
            "text/plain": [
              "<IPython.core.display.Markdown object>"
            ]
          },
          "metadata": {}
        },
        {
          "output_type": "display_data",
          "data": {
            "text/markdown": "**2nd QM**:",
            "text/plain": [
              "<IPython.core.display.Markdown object>"
            ]
          },
          "metadata": {}
        },
        {
          "output_type": "display_data",
          "data": {
            "text/markdown": "---",
            "text/plain": [
              "<IPython.core.display.Markdown object>"
            ]
          },
          "metadata": {}
        },
        {
          "output_type": "stream",
          "name": "stdout",
          "text": [
            "{CHARACTER.v(name{john,travolta}), MOVIE.s(*{films}), PERSON.v(name{john,olivia})}\n",
            "\n"
          ]
        },
        {
          "output_type": "display_data",
          "data": {
            "text/markdown": "---",
            "text/plain": [
              "<IPython.core.display.Markdown object>"
            ]
          },
          "metadata": {}
        },
        {
          "output_type": "display_data",
          "data": {
            "text/markdown": "**3rd QM**:",
            "text/plain": [
              "<IPython.core.display.Markdown object>"
            ]
          },
          "metadata": {}
        },
        {
          "output_type": "display_data",
          "data": {
            "text/markdown": "---",
            "text/plain": [
              "<IPython.core.display.Markdown object>"
            ]
          },
          "metadata": {}
        },
        {
          "output_type": "stream",
          "name": "stdout",
          "text": [
            "{PERSON.v(name{john,travolta}), PERSON.v(name{john,olivia}), MOVIEINFO.v(info{john,films})}\n",
            "\n"
          ]
        },
        {
          "output_type": "display_data",
          "data": {
            "text/markdown": "---",
            "text/plain": [
              "<IPython.core.display.Markdown object>"
            ]
          },
          "metadata": {}
        },
        {
          "output_type": "display_data",
          "data": {
            "text/markdown": "**4th QM**:",
            "text/plain": [
              "<IPython.core.display.Markdown object>"
            ]
          },
          "metadata": {}
        },
        {
          "output_type": "display_data",
          "data": {
            "text/markdown": "---",
            "text/plain": [
              "<IPython.core.display.Markdown object>"
            ]
          },
          "metadata": {}
        },
        {
          "output_type": "stream",
          "name": "stdout",
          "text": [
            "{PERSON.v(name{john,travolta}), MOVIE.s(*{films}), MOVIEINFO.v(info{john,olivia})}\n",
            "\n"
          ]
        },
        {
          "output_type": "display_data",
          "data": {
            "text/markdown": "---",
            "text/plain": [
              "<IPython.core.display.Markdown object>"
            ]
          },
          "metadata": {}
        },
        {
          "output_type": "display_data",
          "data": {
            "text/markdown": "**5th QM**:",
            "text/plain": [
              "<IPython.core.display.Markdown object>"
            ]
          },
          "metadata": {}
        },
        {
          "output_type": "display_data",
          "data": {
            "text/markdown": "---",
            "text/plain": [
              "<IPython.core.display.Markdown object>"
            ]
          },
          "metadata": {}
        },
        {
          "output_type": "stream",
          "name": "stdout",
          "text": [
            "{MOVIEINFO.v(info{john,travolta}), MOVIE.s(*{films}), PERSON.v(name{john,olivia})}\n",
            "\n"
          ]
        }
      ]
    },
    {
      "cell_type": "code",
      "source": [
        ""
      ],
      "metadata": {
        "id": "rvIXHT2cl1Ca"
      },
      "execution_count": null,
      "outputs": []
    },
    {
      "cell_type": "code",
      "source": [
        "lathe.keyword_search()"
      ],
      "metadata": {
        "colab": {
          "base_uri": "https://localhost:8080/"
        },
        "id": "qN7qKUVNp_TL",
        "outputId": "cf4d1600-a764-4169-b52c-11b35a07489f"
      },
      "execution_count": null,
      "outputs": [
        {
          "output_type": "stream",
          "name": "stdout",
          "text": [
            "Please input a keyword query or choose one of the queries below:\n",
            "01 - denzel washington\n",
            "02 - clint eastwood\n",
            "03 - john wayne\n",
            "04 - will smith\n",
            "05 - harrison ford\n",
            "06 - julia roberts\n",
            "07 - tom hanks\n",
            "08 - johnny depp\n",
            "09 - angelina jolie\n",
            "10 - morgan freeman\n",
            "11 - gone with the wind\n",
            "12 - star wars\n",
            "13 - casablanca\n",
            "14 - lord of the rings\n",
            "15 - the sound of music\n",
            "16 - wizard of oz\n",
            "17 - the notebook\n",
            "18 - forrest gump\n",
            "19 - the princess bride\n",
            "20 - the godfather\n",
            "21 - title atticus finch\n",
            "22 - title indiana jones\n",
            "23 - title james bond\n",
            "24 - title rick blaine\n",
            "25 - title will kane\n",
            "26 - title dr. hannibal lecter\n",
            "27 - title norman bates\n",
            "28 - title darth vader\n",
            "29 - title the wicked witch of the west\n",
            "30 - title nurse ratched\n",
            "31 - title frankly my dear i don't give a damn\n",
            "32 - title i'm going to make him an offer he can't refuse\n",
            "33 - title you don't understand i coulda had class i coulda been a contender i coulda been somebody instead of a bum which is what i am\n",
            "34 - title toto i've a feeling we're not in kansas any more\n",
            "35 - title here's looking at you kid\n",
            "36 - hamill skywalker\n",
            "37 - hanks 2004\n",
            "38 - henry fonda yours mine ours character\n",
            "39 - russell crowe gladiator character\n",
            "40 - brent spiner star trek\n",
            "41 - audrey hepburn 1951\n",
            "42 - name jacques clouseau\n",
            "43 - name jack ryan\n",
            "44 - rocky stallone\n",
            "45 - name terminator\n",
            "46 - harrison ford george lucas\n",
            "47 - sean connery fleming\n",
            "48 - reeves wachowski\n",
            "49 - dean jones herbie\n",
            "50 - indiana jones last crusade lost ark\n"
          ]
        }
      ]
    },
    {
      "cell_type": "code",
      "source": [
        "lathe.configuration"
      ],
      "metadata": {
        "colab": {
          "base_uri": "https://localhost:8080/"
        },
        "id": "-fk4_HGIXk9t",
        "outputId": "f8cb2d5d-7e69-42d3-ef5e-eac8fab66910"
      },
      "execution_count": null,
      "outputs": [
        {
          "output_type": "execute_result",
          "data": {
            "text/plain": [
              "(5, 1, 9)"
            ]
          },
          "metadata": {},
          "execution_count": 275
        }
      ]
    },
    {
      "cell_type": "code",
      "source": [
        "lathe.keyword_search()"
      ],
      "metadata": {
        "colab": {
          "base_uri": "https://localhost:8080/"
        },
        "id": "pFiMoRaxXxL5",
        "outputId": "52d9abca-bda7-423a-9077-9acb21cd6e61"
      },
      "execution_count": null,
      "outputs": [
        {
          "output_type": "stream",
          "name": "stdout",
          "text": [
            "Please input a keyword query or choose one of the queries below:\n",
            "01 - denzel washington\n",
            "02 - clint eastwood\n",
            "03 - john wayne\n",
            "04 - will smith\n",
            "05 - harrison ford\n",
            "06 - julia roberts\n",
            "07 - tom hanks\n",
            "08 - johnny depp\n",
            "09 - angelina jolie\n",
            "10 - morgan freeman\n",
            "11 - gone with the wind\n",
            "12 - star wars\n",
            "13 - casablanca\n",
            "14 - lord of the rings\n",
            "15 - the sound of music\n",
            "16 - wizard of oz\n",
            "17 - the notebook\n",
            "18 - forrest gump\n",
            "19 - the princess bride\n",
            "20 - the godfather\n",
            "21 - title atticus finch\n",
            "22 - title indiana jones\n",
            "23 - title james bond\n",
            "24 - title rick blaine\n",
            "25 - title will kane\n",
            "26 - title dr. hannibal lecter\n",
            "27 - title norman bates\n",
            "28 - title darth vader\n",
            "29 - title the wicked witch of the west\n",
            "30 - title nurse ratched\n",
            "31 - title frankly my dear i don't give a damn\n",
            "32 - title i'm going to make him an offer he can't refuse\n",
            "33 - title you don't understand i coulda had class i coulda been a contender i coulda been somebody instead of a bum which is what i am\n",
            "34 - title toto i've a feeling we're not in kansas any more\n",
            "35 - title here's looking at you kid\n",
            "36 - hamill skywalker\n",
            "37 - hanks 2004\n",
            "38 - henry fonda yours mine ours character\n",
            "39 - russell crowe gladiator character\n",
            "40 - brent spiner star trek\n",
            "41 - audrey hepburn 1951\n",
            "42 - name jacques clouseau\n",
            "43 - name jack ryan\n",
            "44 - rocky stallone\n",
            "45 - name terminator\n",
            "46 - harrison ford george lucas\n",
            "47 - sean connery fleming\n",
            "48 - reeves wachowski\n",
            "49 - dean jones herbie\n",
            "50 - indiana jones last crusade lost ark\n"
          ]
        }
      ]
    },
    {
      "cell_type": "code",
      "source": [
        "results = lathe.keyword_search('julia roberts films')\n",
        "results.cjns(show_graph=True,show_text=False,show_df=False)"
      ],
      "metadata": {
        "colab": {
          "base_uri": "https://localhost:8080/",
          "height": 1598
        },
        "id": "Y2i32w7INDzw",
        "outputId": "34187cc3-607f-4480-8fba-fe20287e597b"
      },
      "execution_count": null,
      "outputs": [
        {
          "output_type": "stream",
          "name": "stdout",
          "text": [
            "query: julia roberts films\n"
          ]
        },
        {
          "output_type": "display_data",
          "data": {
            "text/markdown": "---",
            "text/plain": [
              "<IPython.core.display.Markdown object>"
            ]
          },
          "metadata": {}
        },
        {
          "output_type": "display_data",
          "data": {
            "text/markdown": "**1st CJN**:",
            "text/plain": [
              "<IPython.core.display.Markdown object>"
            ]
          },
          "metadata": {}
        },
        {
          "output_type": "display_data",
          "data": {
            "text/markdown": "---",
            "text/plain": [
              "<IPython.core.display.Markdown object>"
            ]
          },
          "metadata": {}
        },
        {
          "output_type": "stream",
          "name": "stdout",
          "text": [
            "Text:\n",
            "\tPERSON.v(name{roberts,julia})\n",
            "\t\t<CASTING\n",
            "\t\t\t>MOVIE.s(*{films})\n"
          ]
        },
        {
          "output_type": "display_data",
          "data": {
            "text/markdown": "---",
            "text/plain": [
              "<IPython.core.display.Markdown object>"
            ]
          },
          "metadata": {}
        },
        {
          "output_type": "stream",
          "name": "stdout",
          "text": [
            "Graph:\n"
          ]
        },
        {
          "output_type": "display_data",
          "data": {
            "text/plain": [
              "<graphviz.dot.Digraph at 0x7f4bd0306050>"
            ],
            "image/svg+xml": "<?xml version=\"1.0\" encoding=\"UTF-8\" standalone=\"no\"?>\n<!DOCTYPE svg PUBLIC \"-//W3C//DTD SVG 1.1//EN\"\n \"http://www.w3.org/Graphics/SVG/1.1/DTD/svg11.dtd\">\n<!-- Generated by graphviz version 2.40.1 (20161225.0304)\n -->\n<!-- Title: %3 Pages: 1 -->\n<svg width=\"462pt\" height=\"116pt\"\n viewBox=\"0.00 0.00 462.38 116.00\" xmlns=\"http://www.w3.org/2000/svg\" xmlns:xlink=\"http://www.w3.org/1999/xlink\">\n<g id=\"graph0\" class=\"graph\" transform=\"scale(1 1) rotate(0) translate(4 112)\">\n<title>%3</title>\n<polygon fill=\"#ffffff\" stroke=\"transparent\" points=\"-4,4 -4,-112 458.3806,-112 458.3806,4 -4,4\"/>\n<!-- t1 -->\n<g id=\"node1\" class=\"node\">\n<title>t1</title>\n<ellipse fill=\"none\" stroke=\"#000000\" cx=\"133.2382\" cy=\"-18\" rx=\"133.4768\" ry=\"18\"/>\n<text text-anchor=\"middle\" x=\"133.2382\" y=\"-14.3\" font-family=\"Times,serif\" font-size=\"14.00\" fill=\"#000000\">PERSON.v(name{roberts,julia})</text>\n</g>\n<!-- t2 -->\n<g id=\"node2\" class=\"node\">\n<title>t2</title>\n<ellipse fill=\"none\" stroke=\"#000000\" cx=\"251.2382\" cy=\"-90\" rx=\"51.9908\" ry=\"18\"/>\n<text text-anchor=\"middle\" x=\"251.2382\" y=\"-86.3\" font-family=\"Times,serif\" font-size=\"14.00\" fill=\"#000000\">CASTING</text>\n</g>\n<!-- t2&#45;&gt;t1 -->\n<g id=\"edge1\" class=\"edge\">\n<title>t2&#45;&gt;t1</title>\n<path fill=\"none\" stroke=\"#000000\" d=\"M225.3426,-74.1993C209.5131,-64.5406 188.983,-52.0138 171.324,-41.2388\"/>\n<polygon fill=\"#000000\" stroke=\"#000000\" points=\"172.7508,-38.0093 162.3913,-35.7884 169.1047,-43.9848 172.7508,-38.0093\"/>\n</g>\n<!-- t3 -->\n<g id=\"node3\" class=\"node\">\n<title>t3</title>\n<ellipse fill=\"none\" stroke=\"#000000\" cx=\"369.2382\" cy=\"-18\" rx=\"85.2851\" ry=\"18\"/>\n<text text-anchor=\"middle\" x=\"369.2382\" y=\"-14.3\" font-family=\"Times,serif\" font-size=\"14.00\" fill=\"#000000\">MOVIE.s(*{films})</text>\n</g>\n<!-- t2&#45;&gt;t3 -->\n<g id=\"edge2\" class=\"edge\">\n<title>t2&#45;&gt;t3</title>\n<path fill=\"none\" stroke=\"#000000\" d=\"M277.1338,-74.1993C293.4583,-64.2386 314.7821,-51.2275 332.8004,-40.2332\"/>\n<polygon fill=\"#000000\" stroke=\"#000000\" points=\"334.6305,-43.2167 341.3439,-35.0202 330.9844,-37.2412 334.6305,-43.2167\"/>\n</g>\n</g>\n</svg>\n"
          },
          "metadata": {}
        },
        {
          "output_type": "stream",
          "name": "stdout",
          "text": [
            "\n"
          ]
        },
        {
          "output_type": "display_data",
          "data": {
            "text/markdown": "---",
            "text/plain": [
              "<IPython.core.display.Markdown object>"
            ]
          },
          "metadata": {}
        },
        {
          "output_type": "display_data",
          "data": {
            "text/markdown": "**2nd CJN**:",
            "text/plain": [
              "<IPython.core.display.Markdown object>"
            ]
          },
          "metadata": {}
        },
        {
          "output_type": "display_data",
          "data": {
            "text/markdown": "---",
            "text/plain": [
              "<IPython.core.display.Markdown object>"
            ]
          },
          "metadata": {}
        },
        {
          "output_type": "stream",
          "name": "stdout",
          "text": [
            "Text:\n",
            "\tMOVIE.s(*{films}).v(title{roberts,julia})\n"
          ]
        },
        {
          "output_type": "display_data",
          "data": {
            "text/markdown": "---",
            "text/plain": [
              "<IPython.core.display.Markdown object>"
            ]
          },
          "metadata": {}
        },
        {
          "output_type": "stream",
          "name": "stdout",
          "text": [
            "Graph:\n"
          ]
        },
        {
          "output_type": "display_data",
          "data": {
            "text/plain": [
              "<graphviz.dot.Digraph at 0x7f4bd0306450>"
            ],
            "image/svg+xml": "<?xml version=\"1.0\" encoding=\"UTF-8\" standalone=\"no\"?>\n<!DOCTYPE svg PUBLIC \"-//W3C//DTD SVG 1.1//EN\"\n \"http://www.w3.org/Graphics/SVG/1.1/DTD/svg11.dtd\">\n<!-- Generated by graphviz version 2.40.1 (20161225.0304)\n -->\n<!-- Title: %3 Pages: 1 -->\n<svg width=\"338pt\" height=\"44pt\"\n viewBox=\"0.00 0.00 338.17 44.00\" xmlns=\"http://www.w3.org/2000/svg\" xmlns:xlink=\"http://www.w3.org/1999/xlink\">\n<g id=\"graph0\" class=\"graph\" transform=\"scale(1 1) rotate(0) translate(4 40)\">\n<title>%3</title>\n<polygon fill=\"#ffffff\" stroke=\"transparent\" points=\"-4,4 -4,-40 334.1707,-40 334.1707,4 -4,4\"/>\n<!-- t1 -->\n<g id=\"node1\" class=\"node\">\n<title>t1</title>\n<ellipse fill=\"none\" stroke=\"#000000\" cx=\"165.0854\" cy=\"-18\" rx=\"165.1707\" ry=\"18\"/>\n<text text-anchor=\"middle\" x=\"165.0854\" y=\"-14.3\" font-family=\"Times,serif\" font-size=\"14.00\" fill=\"#000000\">MOVIE.s(*{films}).v(title{roberts,julia})</text>\n</g>\n</g>\n</svg>\n"
          },
          "metadata": {}
        },
        {
          "output_type": "stream",
          "name": "stdout",
          "text": [
            "\n"
          ]
        },
        {
          "output_type": "display_data",
          "data": {
            "text/markdown": "---",
            "text/plain": [
              "<IPython.core.display.Markdown object>"
            ]
          },
          "metadata": {}
        },
        {
          "output_type": "display_data",
          "data": {
            "text/markdown": "**3rd CJN**:",
            "text/plain": [
              "<IPython.core.display.Markdown object>"
            ]
          },
          "metadata": {}
        },
        {
          "output_type": "display_data",
          "data": {
            "text/markdown": "---",
            "text/plain": [
              "<IPython.core.display.Markdown object>"
            ]
          },
          "metadata": {}
        },
        {
          "output_type": "stream",
          "name": "stdout",
          "text": [
            "Text:\n",
            "\tMOVIEINFO.v(info{roberts,julia})\n",
            "\t\t>MOVIE.s(*{films})\n"
          ]
        },
        {
          "output_type": "display_data",
          "data": {
            "text/markdown": "---",
            "text/plain": [
              "<IPython.core.display.Markdown object>"
            ]
          },
          "metadata": {}
        },
        {
          "output_type": "stream",
          "name": "stdout",
          "text": [
            "Graph:\n"
          ]
        },
        {
          "output_type": "display_data",
          "data": {
            "text/plain": [
              "<graphviz.dot.Digraph at 0x7f4bd03066d0>"
            ],
            "image/svg+xml": "<?xml version=\"1.0\" encoding=\"UTF-8\" standalone=\"no\"?>\n<!DOCTYPE svg PUBLIC \"-//W3C//DTD SVG 1.1//EN\"\n \"http://www.w3.org/Graphics/SVG/1.1/DTD/svg11.dtd\">\n<!-- Generated by graphviz version 2.40.1 (20161225.0304)\n -->\n<!-- Title: %3 Pages: 1 -->\n<svg width=\"297pt\" height=\"116pt\"\n viewBox=\"0.00 0.00 296.57 116.00\" xmlns=\"http://www.w3.org/2000/svg\" xmlns:xlink=\"http://www.w3.org/1999/xlink\">\n<g id=\"graph0\" class=\"graph\" transform=\"scale(1 1) rotate(0) translate(4 112)\">\n<title>%3</title>\n<polygon fill=\"#ffffff\" stroke=\"transparent\" points=\"-4,4 -4,-112 292.5744,-112 292.5744,4 -4,4\"/>\n<!-- t1 -->\n<g id=\"node1\" class=\"node\">\n<title>t1</title>\n<ellipse fill=\"none\" stroke=\"#000000\" cx=\"144.2872\" cy=\"-90\" rx=\"144.0747\" ry=\"18\"/>\n<text text-anchor=\"middle\" x=\"144.2872\" y=\"-86.3\" font-family=\"Times,serif\" font-size=\"14.00\" fill=\"#000000\">MOVIEINFO.v(info{roberts,julia})</text>\n</g>\n<!-- t2 -->\n<g id=\"node2\" class=\"node\">\n<title>t2</title>\n<ellipse fill=\"none\" stroke=\"#000000\" cx=\"144.2872\" cy=\"-18\" rx=\"85.2851\" ry=\"18\"/>\n<text text-anchor=\"middle\" x=\"144.2872\" y=\"-14.3\" font-family=\"Times,serif\" font-size=\"14.00\" fill=\"#000000\">MOVIE.s(*{films})</text>\n</g>\n<!-- t1&#45;&gt;t2 -->\n<g id=\"edge1\" class=\"edge\">\n<title>t1&#45;&gt;t2</title>\n<path fill=\"none\" stroke=\"#000000\" d=\"M144.2872,-71.8314C144.2872,-64.131 144.2872,-54.9743 144.2872,-46.4166\"/>\n<polygon fill=\"#000000\" stroke=\"#000000\" points=\"147.7873,-46.4132 144.2872,-36.4133 140.7873,-46.4133 147.7873,-46.4132\"/>\n</g>\n</g>\n</svg>\n"
          },
          "metadata": {}
        },
        {
          "output_type": "stream",
          "name": "stdout",
          "text": [
            "\n"
          ]
        },
        {
          "output_type": "display_data",
          "data": {
            "text/markdown": "---",
            "text/plain": [
              "<IPython.core.display.Markdown object>"
            ]
          },
          "metadata": {}
        },
        {
          "output_type": "display_data",
          "data": {
            "text/markdown": "**4th CJN**:",
            "text/plain": [
              "<IPython.core.display.Markdown object>"
            ]
          },
          "metadata": {}
        },
        {
          "output_type": "display_data",
          "data": {
            "text/markdown": "---",
            "text/plain": [
              "<IPython.core.display.Markdown object>"
            ]
          },
          "metadata": {}
        },
        {
          "output_type": "stream",
          "name": "stdout",
          "text": [
            "Text:\n",
            "\tPERSON.v(name{julia})\n",
            "\t\t<CASTING\n",
            "\t\t\t>MOVIE.s(*{films})\n",
            "\t\t\t\t<CASTING\n",
            "\t\t\t\t\t>PERSON.v(name{roberts})\n"
          ]
        },
        {
          "output_type": "display_data",
          "data": {
            "text/markdown": "---",
            "text/plain": [
              "<IPython.core.display.Markdown object>"
            ]
          },
          "metadata": {}
        },
        {
          "output_type": "stream",
          "name": "stdout",
          "text": [
            "Graph:\n"
          ]
        },
        {
          "output_type": "display_data",
          "data": {
            "text/plain": [
              "<graphviz.dot.Digraph at 0x7f4bd0306350>"
            ],
            "image/svg+xml": "<?xml version=\"1.0\" encoding=\"UTF-8\" standalone=\"no\"?>\n<!DOCTYPE svg PUBLIC \"-//W3C//DTD SVG 1.1//EN\"\n \"http://www.w3.org/Graphics/SVG/1.1/DTD/svg11.dtd\">\n<!-- Generated by graphviz version 2.40.1 (20161225.0304)\n -->\n<!-- Title: %3 Pages: 1 -->\n<svg width=\"654pt\" height=\"116pt\"\n viewBox=\"0.00 0.00 653.68 116.00\" xmlns=\"http://www.w3.org/2000/svg\" xmlns:xlink=\"http://www.w3.org/1999/xlink\">\n<g id=\"graph0\" class=\"graph\" transform=\"scale(1 1) rotate(0) translate(4 112)\">\n<title>%3</title>\n<polygon fill=\"#ffffff\" stroke=\"transparent\" points=\"-4,4 -4,-112 649.6805,-112 649.6805,4 -4,4\"/>\n<!-- t1 -->\n<g id=\"node1\" class=\"node\">\n<title>t1</title>\n<ellipse fill=\"none\" stroke=\"#000000\" cx=\"105.2907\" cy=\"-18\" rx=\"105.0817\" ry=\"18\"/>\n<text text-anchor=\"middle\" x=\"105.2907\" y=\"-14.3\" font-family=\"Times,serif\" font-size=\"14.00\" fill=\"#000000\">PERSON.v(name{julia})</text>\n</g>\n<!-- t2 -->\n<g id=\"node2\" class=\"node\">\n<title>t2</title>\n<ellipse fill=\"none\" stroke=\"#000000\" cx=\"230.2907\" cy=\"-90\" rx=\"51.9908\" ry=\"18\"/>\n<text text-anchor=\"middle\" x=\"230.2907\" y=\"-86.3\" font-family=\"Times,serif\" font-size=\"14.00\" fill=\"#000000\">CASTING</text>\n</g>\n<!-- t2&#45;&gt;t1 -->\n<g id=\"edge2\" class=\"edge\">\n<title>t2&#45;&gt;t1</title>\n<path fill=\"none\" stroke=\"#000000\" d=\"M203.475,-74.5542C186.2588,-64.6377 163.61,-51.5919 144.404,-40.5293\"/>\n<polygon fill=\"#000000\" stroke=\"#000000\" points=\"145.9856,-37.4012 135.5733,-35.4428 142.4917,-43.467 145.9856,-37.4012\"/>\n</g>\n<!-- t3 -->\n<g id=\"node3\" class=\"node\">\n<title>t3</title>\n<ellipse fill=\"none\" stroke=\"#000000\" cx=\"313.2907\" cy=\"-18\" rx=\"85.2851\" ry=\"18\"/>\n<text text-anchor=\"middle\" x=\"313.2907\" y=\"-14.3\" font-family=\"Times,serif\" font-size=\"14.00\" fill=\"#000000\">MOVIE.s(*{films})</text>\n</g>\n<!-- t2&#45;&gt;t3 -->\n<g id=\"edge1\" class=\"edge\">\n<title>t2&#45;&gt;t3</title>\n<path fill=\"none\" stroke=\"#000000\" d=\"M249.9605,-72.937C260.4769,-63.8144 273.6078,-52.4237 285.1822,-42.3833\"/>\n<polygon fill=\"#000000\" stroke=\"#000000\" points=\"287.6348,-44.8891 292.8952,-35.6924 283.0478,-39.6014 287.6348,-44.8891\"/>\n</g>\n<!-- t4 -->\n<g id=\"node4\" class=\"node\">\n<title>t4</title>\n<ellipse fill=\"none\" stroke=\"#000000\" cx=\"395.2907\" cy=\"-90\" rx=\"51.9908\" ry=\"18\"/>\n<text text-anchor=\"middle\" x=\"395.2907\" y=\"-86.3\" font-family=\"Times,serif\" font-size=\"14.00\" fill=\"#000000\">CASTING</text>\n</g>\n<!-- t4&#45;&gt;t3 -->\n<g id=\"edge3\" class=\"edge\">\n<title>t4&#45;&gt;t3</title>\n<path fill=\"none\" stroke=\"#000000\" d=\"M375.8578,-72.937C365.4681,-63.8144 352.4954,-52.4237 341.0605,-42.3833\"/>\n<polygon fill=\"#000000\" stroke=\"#000000\" points=\"343.2641,-39.6604 333.4404,-35.6924 338.6455,-44.9205 343.2641,-39.6604\"/>\n</g>\n<!-- t5 -->\n<g id=\"node5\" class=\"node\">\n<title>t5</title>\n<ellipse fill=\"none\" stroke=\"#000000\" cx=\"531.2907\" cy=\"-18\" rx=\"114.2798\" ry=\"18\"/>\n<text text-anchor=\"middle\" x=\"531.2907\" y=\"-14.3\" font-family=\"Times,serif\" font-size=\"14.00\" fill=\"#000000\">PERSON.v(name{roberts})</text>\n</g>\n<!-- t4&#45;&gt;t5 -->\n<g id=\"edge4\" class=\"edge\">\n<title>t4&#45;&gt;t5</title>\n<path fill=\"none\" stroke=\"#000000\" d=\"M423.8007,-74.9064C442.8837,-64.8037 468.3164,-51.3393 489.6524,-40.0438\"/>\n<polygon fill=\"#000000\" stroke=\"#000000\" points=\"491.3149,-43.1239 498.5151,-35.3517 488.0396,-36.9374 491.3149,-43.1239\"/>\n</g>\n</g>\n</svg>\n"
          },
          "metadata": {}
        },
        {
          "output_type": "stream",
          "name": "stdout",
          "text": [
            "\n"
          ]
        },
        {
          "output_type": "display_data",
          "data": {
            "text/markdown": "---",
            "text/plain": [
              "<IPython.core.display.Markdown object>"
            ]
          },
          "metadata": {}
        },
        {
          "output_type": "display_data",
          "data": {
            "text/markdown": "**5th CJN**:",
            "text/plain": [
              "<IPython.core.display.Markdown object>"
            ]
          },
          "metadata": {}
        },
        {
          "output_type": "display_data",
          "data": {
            "text/markdown": "---",
            "text/plain": [
              "<IPython.core.display.Markdown object>"
            ]
          },
          "metadata": {}
        },
        {
          "output_type": "stream",
          "name": "stdout",
          "text": [
            "Text:\n",
            "\tPERSON.v(name{roberts,julia})\n",
            "\t\t<CASTING\n",
            "\t\t\t>CHARACTER\n",
            "\t\t\t\t<CASTING\n",
            "\t\t\t\t\t>MOVIE.v(title{films})\n"
          ]
        },
        {
          "output_type": "display_data",
          "data": {
            "text/markdown": "---",
            "text/plain": [
              "<IPython.core.display.Markdown object>"
            ]
          },
          "metadata": {}
        },
        {
          "output_type": "stream",
          "name": "stdout",
          "text": [
            "Graph:\n"
          ]
        },
        {
          "output_type": "display_data",
          "data": {
            "text/plain": [
              "<graphviz.dot.Digraph at 0x7f4bd0306e10>"
            ],
            "image/svg+xml": "<?xml version=\"1.0\" encoding=\"UTF-8\" standalone=\"no\"?>\n<!DOCTYPE svg PUBLIC \"-//W3C//DTD SVG 1.1//EN\"\n \"http://www.w3.org/Graphics/SVG/1.1/DTD/svg11.dtd\">\n<!-- Generated by graphviz version 2.40.1 (20161225.0304)\n -->\n<!-- Title: %3 Pages: 1 -->\n<svg width=\"638pt\" height=\"116pt\"\n viewBox=\"0.00 0.00 637.78 116.00\" xmlns=\"http://www.w3.org/2000/svg\" xmlns:xlink=\"http://www.w3.org/1999/xlink\">\n<g id=\"graph0\" class=\"graph\" transform=\"scale(1 1) rotate(0) translate(4 112)\">\n<title>%3</title>\n<polygon fill=\"#ffffff\" stroke=\"transparent\" points=\"-4,4 -4,-112 633.7797,-112 633.7797,4 -4,4\"/>\n<!-- t1 -->\n<g id=\"node1\" class=\"node\">\n<title>t1</title>\n<ellipse fill=\"none\" stroke=\"#000000\" cx=\"133.2382\" cy=\"-18\" rx=\"133.4768\" ry=\"18\"/>\n<text text-anchor=\"middle\" x=\"133.2382\" y=\"-14.3\" font-family=\"Times,serif\" font-size=\"14.00\" fill=\"#000000\">PERSON.v(name{roberts,julia})</text>\n</g>\n<!-- t2 -->\n<g id=\"node2\" class=\"node\">\n<title>t2</title>\n<ellipse fill=\"none\" stroke=\"#000000\" cx=\"267.2382\" cy=\"-90\" rx=\"51.9908\" ry=\"18\"/>\n<text text-anchor=\"middle\" x=\"267.2382\" y=\"-86.3\" font-family=\"Times,serif\" font-size=\"14.00\" fill=\"#000000\">CASTING</text>\n</g>\n<!-- t2&#45;&gt;t1 -->\n<g id=\"edge1\" class=\"edge\">\n<title>t2&#45;&gt;t1</title>\n<path fill=\"none\" stroke=\"#000000\" d=\"M238.8202,-74.7307C220.2159,-64.7343 195.591,-51.503 174.8026,-40.3331\"/>\n<polygon fill=\"#000000\" stroke=\"#000000\" points=\"176.3232,-37.1769 165.8576,-35.5269 173.0099,-43.3432 176.3232,-37.1769\"/>\n</g>\n<!-- t3 -->\n<g id=\"node3\" class=\"node\">\n<title>t3</title>\n<ellipse fill=\"none\" stroke=\"#000000\" cx=\"352.2382\" cy=\"-18\" rx=\"68.4888\" ry=\"18\"/>\n<text text-anchor=\"middle\" x=\"352.2382\" y=\"-14.3\" font-family=\"Times,serif\" font-size=\"14.00\" fill=\"#000000\">CHARACTER</text>\n</g>\n<!-- t2&#45;&gt;t3 -->\n<g id=\"edge2\" class=\"edge\">\n<title>t2&#45;&gt;t3</title>\n<path fill=\"none\" stroke=\"#000000\" d=\"M286.9525,-73.3008C297.9756,-63.9636 311.9022,-52.1669 324.0587,-41.8697\"/>\n<polygon fill=\"#000000\" stroke=\"#000000\" points=\"326.3751,-44.4945 331.7433,-35.3603 321.8506,-39.1532 326.3751,-44.4945\"/>\n</g>\n<!-- t4 -->\n<g id=\"node4\" class=\"node\">\n<title>t4</title>\n<ellipse fill=\"none\" stroke=\"#000000\" cx=\"437.2382\" cy=\"-90\" rx=\"51.9908\" ry=\"18\"/>\n<text text-anchor=\"middle\" x=\"437.2382\" y=\"-86.3\" font-family=\"Times,serif\" font-size=\"14.00\" fill=\"#000000\">CASTING</text>\n</g>\n<!-- t4&#45;&gt;t3 -->\n<g id=\"edge4\" class=\"edge\">\n<title>t4&#45;&gt;t3</title>\n<path fill=\"none\" stroke=\"#000000\" d=\"M417.5238,-73.3008C406.5007,-63.9636 392.5741,-52.1669 380.4177,-41.8697\"/>\n<polygon fill=\"#000000\" stroke=\"#000000\" points=\"382.6257,-39.1532 372.733,-35.3603 378.1013,-44.4945 382.6257,-39.1532\"/>\n</g>\n<!-- t5 -->\n<g id=\"node5\" class=\"node\">\n<title>t5</title>\n<ellipse fill=\"none\" stroke=\"#000000\" cx=\"534.2382\" cy=\"-18\" rx=\"95.5831\" ry=\"18\"/>\n<text text-anchor=\"middle\" x=\"534.2382\" y=\"-14.3\" font-family=\"Times,serif\" font-size=\"14.00\" fill=\"#000000\">MOVIE.v(title{films})</text>\n</g>\n<!-- t4&#45;&gt;t5 -->\n<g id=\"edge3\" class=\"edge\">\n<title>t4&#45;&gt;t5</title>\n<path fill=\"none\" stroke=\"#000000\" d=\"M459.249,-73.6621C472.0519,-64.1589 488.4074,-52.0188 502.5746,-41.5029\"/>\n<polygon fill=\"#000000\" stroke=\"#000000\" points=\"504.6761,-44.3018 510.6198,-35.5312 500.504,-38.681 504.6761,-44.3018\"/>\n</g>\n</g>\n</svg>\n"
          },
          "metadata": {}
        },
        {
          "output_type": "stream",
          "name": "stdout",
          "text": [
            "\n"
          ]
        }
      ]
    },
    {
      "cell_type": "code",
      "source": [
        "results = lathe.keyword_search('john travolta olivia title')\n",
        "results.cjns(show_graph=True,show_df=True)"
      ],
      "metadata": {
        "colab": {
          "base_uri": "https://localhost:8080/",
          "height": 1068
        },
        "id": "qrbN0t_8tagi",
        "outputId": "6c95abb3-4dab-4983-a235-db04e2a07223"
      },
      "execution_count": null,
      "outputs": [
        {
          "output_type": "stream",
          "name": "stdout",
          "text": [
            "query: john travolta olivia title\n"
          ]
        },
        {
          "output_type": "display_data",
          "data": {
            "text/markdown": "---",
            "text/plain": [
              "<IPython.core.display.Markdown object>"
            ]
          },
          "metadata": {}
        },
        {
          "output_type": "display_data",
          "data": {
            "text/markdown": "**1st CJN**:",
            "text/plain": [
              "<IPython.core.display.Markdown object>"
            ]
          },
          "metadata": {}
        },
        {
          "output_type": "display_data",
          "data": {
            "text/markdown": "---",
            "text/plain": [
              "<IPython.core.display.Markdown object>"
            ]
          },
          "metadata": {}
        },
        {
          "output_type": "stream",
          "name": "stdout",
          "text": [
            "Text:\n",
            "\tPERSON.v(name{travolta,john})\n",
            "\t\t<CASTING\n",
            "\t\t\t>MOVIE.s(title{title})\n",
            "\t\t\t\t<CASTING\n",
            "\t\t\t\t\t>PERSON.v(name{john,olivia})\n"
          ]
        },
        {
          "output_type": "display_data",
          "data": {
            "text/markdown": "---",
            "text/plain": [
              "<IPython.core.display.Markdown object>"
            ]
          },
          "metadata": {}
        },
        {
          "output_type": "stream",
          "name": "stdout",
          "text": [
            "Graph:\n"
          ]
        },
        {
          "output_type": "display_data",
          "data": {
            "text/plain": [
              "<graphviz.dot.Digraph at 0x7f4bc8ea2210>"
            ],
            "image/svg+xml": "<?xml version=\"1.0\" encoding=\"UTF-8\" standalone=\"no\"?>\n<!DOCTYPE svg PUBLIC \"-//W3C//DTD SVG 1.1//EN\"\n \"http://www.w3.org/Graphics/SVG/1.1/DTD/svg11.dtd\">\n<!-- Generated by graphviz version 2.40.1 (20161225.0304)\n -->\n<!-- Title: %3 Pages: 1 -->\n<svg width=\"755pt\" height=\"116pt\"\n viewBox=\"0.00 0.00 755.48 116.00\" xmlns=\"http://www.w3.org/2000/svg\" xmlns:xlink=\"http://www.w3.org/1999/xlink\">\n<g id=\"graph0\" class=\"graph\" transform=\"scale(1 1) rotate(0) translate(4 112)\">\n<title>%3</title>\n<polygon fill=\"#ffffff\" stroke=\"transparent\" points=\"-4,4 -4,-112 751.4764,-112 751.4764,4 -4,4\"/>\n<!-- t1 -->\n<g id=\"node1\" class=\"node\">\n<title>t1</title>\n<ellipse fill=\"none\" stroke=\"#000000\" cx=\"136.4879\" cy=\"-18\" rx=\"136.4758\" ry=\"18\"/>\n<text text-anchor=\"middle\" x=\"136.4879\" y=\"-14.3\" font-family=\"Times,serif\" font-size=\"14.00\" fill=\"#000000\">PERSON.v(name{travolta,john})</text>\n</g>\n<!-- t2 -->\n<g id=\"node2\" class=\"node\">\n<title>t2</title>\n<ellipse fill=\"none\" stroke=\"#000000\" cx=\"288.4879\" cy=\"-90\" rx=\"51.9908\" ry=\"18\"/>\n<text text-anchor=\"middle\" x=\"288.4879\" y=\"-86.3\" font-family=\"Times,serif\" font-size=\"14.00\" fill=\"#000000\">CASTING</text>\n</g>\n<!-- t2&#45;&gt;t1 -->\n<g id=\"edge2\" class=\"edge\">\n<title>t2&#45;&gt;t1</title>\n<path fill=\"none\" stroke=\"#000000\" d=\"M257.7284,-75.4297C236.1137,-65.1912 206.8229,-51.3166 182.4464,-39.7698\"/>\n<polygon fill=\"#000000\" stroke=\"#000000\" points=\"183.9065,-36.5887 173.3707,-35.4708 180.9098,-42.9148 183.9065,-36.5887\"/>\n</g>\n<!-- t3 -->\n<g id=\"node3\" class=\"node\">\n<title>t3</title>\n<ellipse fill=\"none\" stroke=\"#000000\" cx=\"380.4879\" cy=\"-18\" rx=\"89.0842\" ry=\"18\"/>\n<text text-anchor=\"middle\" x=\"380.4879\" y=\"-14.3\" font-family=\"Times,serif\" font-size=\"14.00\" fill=\"#000000\">MOVIE.s(title{title})</text>\n</g>\n<!-- t2&#45;&gt;t3 -->\n<g id=\"edge1\" class=\"edge\">\n<title>t2&#45;&gt;t3</title>\n<path fill=\"none\" stroke=\"#000000\" d=\"M309.8258,-73.3008C321.7824,-63.9434 336.8951,-52.1161 350.0728,-41.8031\"/>\n<polygon fill=\"#000000\" stroke=\"#000000\" points=\"352.2642,-44.5326 357.9822,-35.6132 347.95,-39.02 352.2642,-44.5326\"/>\n</g>\n<!-- t4 -->\n<g id=\"node4\" class=\"node\">\n<title>t4</title>\n<ellipse fill=\"none\" stroke=\"#000000\" cx=\"471.4879\" cy=\"-90\" rx=\"51.9908\" ry=\"18\"/>\n<text text-anchor=\"middle\" x=\"471.4879\" y=\"-86.3\" font-family=\"Times,serif\" font-size=\"14.00\" fill=\"#000000\">CASTING</text>\n</g>\n<!-- t4&#45;&gt;t3 -->\n<g id=\"edge3\" class=\"edge\">\n<title>t4&#45;&gt;t3</title>\n<path fill=\"none\" stroke=\"#000000\" d=\"M450.3819,-73.3008C438.6669,-64.0317 423.8886,-52.339 410.9418,-42.0954\"/>\n<polygon fill=\"#000000\" stroke=\"#000000\" points=\"412.7629,-39.0733 402.749,-35.6132 408.4195,-44.5628 412.7629,-39.0733\"/>\n</g>\n<!-- t5 -->\n<g id=\"node5\" class=\"node\">\n<title>t5</title>\n<ellipse fill=\"none\" stroke=\"#000000\" cx=\"617.4879\" cy=\"-18\" rx=\"129.9769\" ry=\"18\"/>\n<text text-anchor=\"middle\" x=\"617.4879\" y=\"-14.3\" font-family=\"Times,serif\" font-size=\"14.00\" fill=\"#000000\">PERSON.v(name{john,olivia})</text>\n</g>\n<!-- t4&#45;&gt;t5 -->\n<g id=\"edge4\" class=\"edge\">\n<title>t4&#45;&gt;t5</title>\n<path fill=\"none\" stroke=\"#000000\" d=\"M501.3855,-75.256C522.081,-65.05 549.9774,-51.2928 573.2385,-39.8216\"/>\n<polygon fill=\"#000000\" stroke=\"#000000\" points=\"574.8083,-42.95 582.229,-35.3879 571.7122,-36.6719 574.8083,-42.95\"/>\n</g>\n</g>\n</svg>\n"
          },
          "metadata": {}
        },
        {
          "output_type": "display_data",
          "data": {
            "text/markdown": "---",
            "text/plain": [
              "<IPython.core.display.Markdown object>"
            ]
          },
          "metadata": {}
        },
        {
          "output_type": "stream",
          "name": "stdout",
          "text": [
            "Results:\n"
          ]
        },
        {
          "output_type": "display_data",
          "data": {
            "application/vnd.google.colaboratory.module+javascript": "\n      import \"https://ssl.gstatic.com/colaboratory/data_table/a6224c040fa35dcf/data_table.js\";\n\n      window.createDataTable({\n        data: [[{\n            'v': 0,\n            'f': \"0\",\n        },\n\"Travolta, John\",\n\"Grease\",\n\"Newton-John, Olivia\"],\n [{\n            'v': 1,\n            'f': \"1\",\n        },\n\"Travolta, John\",\n\"Two of a Kind\",\n\"Newton-John, Olivia\"],\n [{\n            'v': 2,\n            'f': \"2\",\n        },\n\"Travolta, John\",\n\"The Guru\",\n\"Newton-John, Olivia\"]],\n        columns: [[\"number\", \"index\"], [\"string\", \"name\"], [\"string\", \"title\"], [\"string\", \"name\"]],\n        columnOptions: [{\"width\": \"1px\", \"className\": \"index_column\"}],\n        rowsPerPage: 25,\n        helpUrl: \"https://colab.research.google.com/notebooks/data_table.ipynb\",\n        suppressOutputScrolling: true,\n        minimumWidth: undefined,\n      });\n    ",
            "text/html": [
              "\n",
              "  <div id=\"df-e71035b9-d95e-4af5-9da7-03c93e40f557\">\n",
              "    <div class=\"colab-df-container\">\n",
              "      <div>\n",
              "<style scoped>\n",
              "    .dataframe tbody tr th:only-of-type {\n",
              "        vertical-align: middle;\n",
              "    }\n",
              "\n",
              "    .dataframe tbody tr th {\n",
              "        vertical-align: top;\n",
              "    }\n",
              "\n",
              "    .dataframe thead th {\n",
              "        text-align: right;\n",
              "    }\n",
              "</style>\n",
              "<table border=\"1\" class=\"dataframe\">\n",
              "  <thead>\n",
              "    <tr style=\"text-align: right;\">\n",
              "      <th></th>\n",
              "      <th>name</th>\n",
              "      <th>title</th>\n",
              "      <th>name</th>\n",
              "    </tr>\n",
              "  </thead>\n",
              "  <tbody>\n",
              "    <tr>\n",
              "      <th>0</th>\n",
              "      <td>Travolta, John</td>\n",
              "      <td>Grease</td>\n",
              "      <td>Newton-John, Olivia</td>\n",
              "    </tr>\n",
              "    <tr>\n",
              "      <th>1</th>\n",
              "      <td>Travolta, John</td>\n",
              "      <td>Two of a Kind</td>\n",
              "      <td>Newton-John, Olivia</td>\n",
              "    </tr>\n",
              "    <tr>\n",
              "      <th>2</th>\n",
              "      <td>Travolta, John</td>\n",
              "      <td>The Guru</td>\n",
              "      <td>Newton-John, Olivia</td>\n",
              "    </tr>\n",
              "  </tbody>\n",
              "</table>\n",
              "</div>\n",
              "      <button class=\"colab-df-convert\" onclick=\"convertToInteractive('df-e71035b9-d95e-4af5-9da7-03c93e40f557')\"\n",
              "              title=\"Convert this dataframe to an interactive table.\"\n",
              "              style=\"display:none;\">\n",
              "        \n",
              "  <svg xmlns=\"http://www.w3.org/2000/svg\" height=\"24px\"viewBox=\"0 0 24 24\"\n",
              "       width=\"24px\">\n",
              "    <path d=\"M0 0h24v24H0V0z\" fill=\"none\"/>\n",
              "    <path d=\"M18.56 5.44l.94 2.06.94-2.06 2.06-.94-2.06-.94-.94-2.06-.94 2.06-2.06.94zm-11 1L8.5 8.5l.94-2.06 2.06-.94-2.06-.94L8.5 2.5l-.94 2.06-2.06.94zm10 10l.94 2.06.94-2.06 2.06-.94-2.06-.94-.94-2.06-.94 2.06-2.06.94z\"/><path d=\"M17.41 7.96l-1.37-1.37c-.4-.4-.92-.59-1.43-.59-.52 0-1.04.2-1.43.59L10.3 9.45l-7.72 7.72c-.78.78-.78 2.05 0 2.83L4 21.41c.39.39.9.59 1.41.59.51 0 1.02-.2 1.41-.59l7.78-7.78 2.81-2.81c.8-.78.8-2.07 0-2.86zM5.41 20L4 18.59l7.72-7.72 1.47 1.35L5.41 20z\"/>\n",
              "  </svg>\n",
              "      </button>\n",
              "      \n",
              "  <style>\n",
              "    .colab-df-container {\n",
              "      display:flex;\n",
              "      flex-wrap:wrap;\n",
              "      gap: 12px;\n",
              "    }\n",
              "\n",
              "    .colab-df-convert {\n",
              "      background-color: #E8F0FE;\n",
              "      border: none;\n",
              "      border-radius: 50%;\n",
              "      cursor: pointer;\n",
              "      display: none;\n",
              "      fill: #1967D2;\n",
              "      height: 32px;\n",
              "      padding: 0 0 0 0;\n",
              "      width: 32px;\n",
              "    }\n",
              "\n",
              "    .colab-df-convert:hover {\n",
              "      background-color: #E2EBFA;\n",
              "      box-shadow: 0px 1px 2px rgba(60, 64, 67, 0.3), 0px 1px 3px 1px rgba(60, 64, 67, 0.15);\n",
              "      fill: #174EA6;\n",
              "    }\n",
              "\n",
              "    [theme=dark] .colab-df-convert {\n",
              "      background-color: #3B4455;\n",
              "      fill: #D2E3FC;\n",
              "    }\n",
              "\n",
              "    [theme=dark] .colab-df-convert:hover {\n",
              "      background-color: #434B5C;\n",
              "      box-shadow: 0px 1px 3px 1px rgba(0, 0, 0, 0.15);\n",
              "      filter: drop-shadow(0px 1px 2px rgba(0, 0, 0, 0.3));\n",
              "      fill: #FFFFFF;\n",
              "    }\n",
              "  </style>\n",
              "\n",
              "      <script>\n",
              "        const buttonEl =\n",
              "          document.querySelector('#df-e71035b9-d95e-4af5-9da7-03c93e40f557 button.colab-df-convert');\n",
              "        buttonEl.style.display =\n",
              "          google.colab.kernel.accessAllowed ? 'block' : 'none';\n",
              "\n",
              "        async function convertToInteractive(key) {\n",
              "          const element = document.querySelector('#df-e71035b9-d95e-4af5-9da7-03c93e40f557');\n",
              "          const dataTable =\n",
              "            await google.colab.kernel.invokeFunction('convertToInteractive',\n",
              "                                                     [key], {});\n",
              "          if (!dataTable) return;\n",
              "\n",
              "          const docLinkHtml = 'Like what you see? Visit the ' +\n",
              "            '<a target=\"_blank\" href=https://colab.research.google.com/notebooks/data_table.ipynb>data table notebook</a>'\n",
              "            + ' to learn more about interactive tables.';\n",
              "          element.innerHTML = '';\n",
              "          dataTable['output_type'] = 'display_data';\n",
              "          await google.colab.output.renderOutput(dataTable, element);\n",
              "          const docLink = document.createElement('div');\n",
              "          docLink.innerHTML = docLinkHtml;\n",
              "          element.appendChild(docLink);\n",
              "        }\n",
              "      </script>\n",
              "    </div>\n",
              "  </div>\n",
              "  "
            ],
            "text/plain": [
              "             name          title                 name\n",
              "0  Travolta, John         Grease  Newton-John, Olivia\n",
              "1  Travolta, John  Two of a Kind  Newton-John, Olivia\n",
              "2  Travolta, John       The Guru  Newton-John, Olivia"
            ]
          },
          "metadata": {}
        },
        {
          "output_type": "stream",
          "name": "stdout",
          "text": [
            "\n"
          ]
        },
        {
          "output_type": "display_data",
          "data": {
            "text/markdown": "---",
            "text/plain": [
              "<IPython.core.display.Markdown object>"
            ]
          },
          "metadata": {}
        },
        {
          "output_type": "display_data",
          "data": {
            "text/markdown": "**2nd CJN**:",
            "text/plain": [
              "<IPython.core.display.Markdown object>"
            ]
          },
          "metadata": {}
        },
        {
          "output_type": "display_data",
          "data": {
            "text/markdown": "---",
            "text/plain": [
              "<IPython.core.display.Markdown object>"
            ]
          },
          "metadata": {}
        },
        {
          "output_type": "stream",
          "name": "stdout",
          "text": [
            "Text:\n",
            "\tMOVIEINFO.v(info{travolta,john,olivia})\n",
            "\t\t>MOVIE.s(title{title})\n"
          ]
        },
        {
          "output_type": "display_data",
          "data": {
            "text/markdown": "---",
            "text/plain": [
              "<IPython.core.display.Markdown object>"
            ]
          },
          "metadata": {}
        },
        {
          "output_type": "stream",
          "name": "stdout",
          "text": [
            "Graph:\n"
          ]
        },
        {
          "output_type": "display_data",
          "data": {
            "text/plain": [
              "<graphviz.dot.Digraph at 0x7f4bd80ed990>"
            ],
            "image/svg+xml": "<?xml version=\"1.0\" encoding=\"UTF-8\" standalone=\"no\"?>\n<!DOCTYPE svg PUBLIC \"-//W3C//DTD SVG 1.1//EN\"\n \"http://www.w3.org/Graphics/SVG/1.1/DTD/svg11.dtd\">\n<!-- Generated by graphviz version 2.40.1 (20161225.0304)\n -->\n<!-- Title: %3 Pages: 1 -->\n<svg width=\"350pt\" height=\"116pt\"\n viewBox=\"0.00 0.00 349.87 116.00\" xmlns=\"http://www.w3.org/2000/svg\" xmlns:xlink=\"http://www.w3.org/1999/xlink\">\n<g id=\"graph0\" class=\"graph\" transform=\"scale(1 1) rotate(0) translate(4 112)\">\n<title>%3</title>\n<polygon fill=\"#ffffff\" stroke=\"transparent\" points=\"-4,4 -4,-112 345.8697,-112 345.8697,4 -4,4\"/>\n<!-- t1 -->\n<g id=\"node1\" class=\"node\">\n<title>t1</title>\n<ellipse fill=\"none\" stroke=\"#000000\" cx=\"170.9348\" cy=\"-90\" rx=\"170.8697\" ry=\"18\"/>\n<text text-anchor=\"middle\" x=\"170.9348\" y=\"-86.3\" font-family=\"Times,serif\" font-size=\"14.00\" fill=\"#000000\">MOVIEINFO.v(info{travolta,john,olivia})</text>\n</g>\n<!-- t2 -->\n<g id=\"node2\" class=\"node\">\n<title>t2</title>\n<ellipse fill=\"none\" stroke=\"#000000\" cx=\"170.9348\" cy=\"-18\" rx=\"89.0842\" ry=\"18\"/>\n<text text-anchor=\"middle\" x=\"170.9348\" y=\"-14.3\" font-family=\"Times,serif\" font-size=\"14.00\" fill=\"#000000\">MOVIE.s(title{title})</text>\n</g>\n<!-- t1&#45;&gt;t2 -->\n<g id=\"edge1\" class=\"edge\">\n<title>t1&#45;&gt;t2</title>\n<path fill=\"none\" stroke=\"#000000\" d=\"M170.9348,-71.8314C170.9348,-64.131 170.9348,-54.9743 170.9348,-46.4166\"/>\n<polygon fill=\"#000000\" stroke=\"#000000\" points=\"174.4349,-46.4132 170.9348,-36.4133 167.4349,-46.4133 174.4349,-46.4132\"/>\n</g>\n</g>\n</svg>\n"
          },
          "metadata": {}
        },
        {
          "output_type": "display_data",
          "data": {
            "text/markdown": "---",
            "text/plain": [
              "<IPython.core.display.Markdown object>"
            ]
          },
          "metadata": {}
        },
        {
          "output_type": "stream",
          "name": "stdout",
          "text": [
            "Results:\n"
          ]
        },
        {
          "output_type": "display_data",
          "data": {
            "application/vnd.google.colaboratory.module+javascript": "\n      import \"https://ssl.gstatic.com/colaboratory/data_table/a6224c040fa35dcf/data_table.js\";\n\n      window.createDataTable({\n        data: [[{\n            'v': 0,\n            'f': \"0\",\n        },\n\"The Last Days of Disco\",\n\"Josh Neff: Disco will never be over. It will always live in our minds and hearts. Something like this, that was this big, and this important, and this great, will never die. Oh, for a few years - maybe many years - it'll be considered pass\\u00e9 and ridiculous. It will be misrepresented and caricatured and sneered at, or - worse - completely ignored. People will laugh about John Travolta, Olivia Newton-John, white polyester suits and platform shoes and people going like *this* [strikes disco pose] , but we had nothing to do with those things and still loved disco. Those who didn't understand will never understand: disco was much more, and much better, than all that. Disco was too great, and too much fun, to be gone forever! It's got to come back someday. I just hope it will be in our own lifetimes.::[Des, Charlotte, Dan, and Van stare at Josh like he's crazy]::Josh Neff: ...Sorry, I've got a job interview this afternoon and I was just trying to get revved up, but... most of what I said, I, um... believe.\"]],\n        columns: [[\"number\", \"index\"], [\"string\", \"title\"], [\"string\", \"info\"]],\n        columnOptions: [{\"width\": \"1px\", \"className\": \"index_column\"}],\n        rowsPerPage: 25,\n        helpUrl: \"https://colab.research.google.com/notebooks/data_table.ipynb\",\n        suppressOutputScrolling: true,\n        minimumWidth: undefined,\n      });\n    ",
            "text/html": [
              "\n",
              "  <div id=\"df-c77356d6-78c2-40e9-a7f7-9d8e09a9ec99\">\n",
              "    <div class=\"colab-df-container\">\n",
              "      <div>\n",
              "<style scoped>\n",
              "    .dataframe tbody tr th:only-of-type {\n",
              "        vertical-align: middle;\n",
              "    }\n",
              "\n",
              "    .dataframe tbody tr th {\n",
              "        vertical-align: top;\n",
              "    }\n",
              "\n",
              "    .dataframe thead th {\n",
              "        text-align: right;\n",
              "    }\n",
              "</style>\n",
              "<table border=\"1\" class=\"dataframe\">\n",
              "  <thead>\n",
              "    <tr style=\"text-align: right;\">\n",
              "      <th></th>\n",
              "      <th>title</th>\n",
              "      <th>info</th>\n",
              "    </tr>\n",
              "  </thead>\n",
              "  <tbody>\n",
              "    <tr>\n",
              "      <th>0</th>\n",
              "      <td>The Last Days of Disco</td>\n",
              "      <td>Josh Neff: Disco will never be over. It will a...</td>\n",
              "    </tr>\n",
              "  </tbody>\n",
              "</table>\n",
              "</div>\n",
              "      <button class=\"colab-df-convert\" onclick=\"convertToInteractive('df-c77356d6-78c2-40e9-a7f7-9d8e09a9ec99')\"\n",
              "              title=\"Convert this dataframe to an interactive table.\"\n",
              "              style=\"display:none;\">\n",
              "        \n",
              "  <svg xmlns=\"http://www.w3.org/2000/svg\" height=\"24px\"viewBox=\"0 0 24 24\"\n",
              "       width=\"24px\">\n",
              "    <path d=\"M0 0h24v24H0V0z\" fill=\"none\"/>\n",
              "    <path d=\"M18.56 5.44l.94 2.06.94-2.06 2.06-.94-2.06-.94-.94-2.06-.94 2.06-2.06.94zm-11 1L8.5 8.5l.94-2.06 2.06-.94-2.06-.94L8.5 2.5l-.94 2.06-2.06.94zm10 10l.94 2.06.94-2.06 2.06-.94-2.06-.94-.94-2.06-.94 2.06-2.06.94z\"/><path d=\"M17.41 7.96l-1.37-1.37c-.4-.4-.92-.59-1.43-.59-.52 0-1.04.2-1.43.59L10.3 9.45l-7.72 7.72c-.78.78-.78 2.05 0 2.83L4 21.41c.39.39.9.59 1.41.59.51 0 1.02-.2 1.41-.59l7.78-7.78 2.81-2.81c.8-.78.8-2.07 0-2.86zM5.41 20L4 18.59l7.72-7.72 1.47 1.35L5.41 20z\"/>\n",
              "  </svg>\n",
              "      </button>\n",
              "      \n",
              "  <style>\n",
              "    .colab-df-container {\n",
              "      display:flex;\n",
              "      flex-wrap:wrap;\n",
              "      gap: 12px;\n",
              "    }\n",
              "\n",
              "    .colab-df-convert {\n",
              "      background-color: #E8F0FE;\n",
              "      border: none;\n",
              "      border-radius: 50%;\n",
              "      cursor: pointer;\n",
              "      display: none;\n",
              "      fill: #1967D2;\n",
              "      height: 32px;\n",
              "      padding: 0 0 0 0;\n",
              "      width: 32px;\n",
              "    }\n",
              "\n",
              "    .colab-df-convert:hover {\n",
              "      background-color: #E2EBFA;\n",
              "      box-shadow: 0px 1px 2px rgba(60, 64, 67, 0.3), 0px 1px 3px 1px rgba(60, 64, 67, 0.15);\n",
              "      fill: #174EA6;\n",
              "    }\n",
              "\n",
              "    [theme=dark] .colab-df-convert {\n",
              "      background-color: #3B4455;\n",
              "      fill: #D2E3FC;\n",
              "    }\n",
              "\n",
              "    [theme=dark] .colab-df-convert:hover {\n",
              "      background-color: #434B5C;\n",
              "      box-shadow: 0px 1px 3px 1px rgba(0, 0, 0, 0.15);\n",
              "      filter: drop-shadow(0px 1px 2px rgba(0, 0, 0, 0.3));\n",
              "      fill: #FFFFFF;\n",
              "    }\n",
              "  </style>\n",
              "\n",
              "      <script>\n",
              "        const buttonEl =\n",
              "          document.querySelector('#df-c77356d6-78c2-40e9-a7f7-9d8e09a9ec99 button.colab-df-convert');\n",
              "        buttonEl.style.display =\n",
              "          google.colab.kernel.accessAllowed ? 'block' : 'none';\n",
              "\n",
              "        async function convertToInteractive(key) {\n",
              "          const element = document.querySelector('#df-c77356d6-78c2-40e9-a7f7-9d8e09a9ec99');\n",
              "          const dataTable =\n",
              "            await google.colab.kernel.invokeFunction('convertToInteractive',\n",
              "                                                     [key], {});\n",
              "          if (!dataTable) return;\n",
              "\n",
              "          const docLinkHtml = 'Like what you see? Visit the ' +\n",
              "            '<a target=\"_blank\" href=https://colab.research.google.com/notebooks/data_table.ipynb>data table notebook</a>'\n",
              "            + ' to learn more about interactive tables.';\n",
              "          element.innerHTML = '';\n",
              "          dataTable['output_type'] = 'display_data';\n",
              "          await google.colab.output.renderOutput(dataTable, element);\n",
              "          const docLink = document.createElement('div');\n",
              "          docLink.innerHTML = docLinkHtml;\n",
              "          element.appendChild(docLink);\n",
              "        }\n",
              "      </script>\n",
              "    </div>\n",
              "  </div>\n",
              "  "
            ],
            "text/plain": [
              "                    title                                               info\n",
              "0  The Last Days of Disco  Josh Neff: Disco will never be over. It will a..."
            ]
          },
          "metadata": {}
        },
        {
          "output_type": "stream",
          "name": "stdout",
          "text": [
            "\n"
          ]
        }
      ]
    },
    {
      "cell_type": "code",
      "source": [
        "results = lathe.keyword_search()"
      ],
      "metadata": {
        "id": "2n-SN-Z6u5aX"
      },
      "execution_count": null,
      "outputs": []
    },
    {
      "cell_type": "code",
      "source": [
        "results = lathe.keyword_search(38)"
      ],
      "metadata": {
        "id": "5_Zm3eGktEQH",
        "colab": {
          "base_uri": "https://localhost:8080/"
        },
        "outputId": "67f0fabc-4de0-49b3-f862-9bd0e443420d"
      },
      "execution_count": null,
      "outputs": [
        {
          "output_type": "stream",
          "name": "stdout",
          "text": [
            "query: russell crowe gladiator char_name\n"
          ]
        }
      ]
    },
    {
      "cell_type": "code",
      "source": [
        "results.cjns(show_graph=True,show_df=True)"
      ],
      "metadata": {
        "id": "CHrjNt-ZBGD4"
      },
      "execution_count": null,
      "outputs": []
    },
    {
      "cell_type": "code",
      "source": [
        "results.cjns(show_str=True,\n",
        "             show_graph=True,\n",
        "             show_sql=False,\n",
        "             show_df=True,\n",
        "             )"
      ],
      "metadata": {
        "id": "v2U88XFtBUhs"
      },
      "execution_count": null,
      "outputs": []
    },
    {
      "cell_type": "code",
      "source": [
        "results.kms(top_k=5)"
      ],
      "metadata": {
        "colab": {
          "base_uri": "https://localhost:8080/"
        },
        "id": "weRS7cnXsmWc",
        "outputId": "ef989c2e-4643-4f3c-fec3-026d77a5596d"
      },
      "execution_count": null,
      "outputs": [
        {
          "output_type": "stream",
          "name": "stdout",
          "text": [
            "SKMs:\n",
            "There is no SKM for this keyword query.\n",
            "\n",
            "\n",
            "VKMs:\n",
            "There is no VKM for this keyword query.\n"
          ]
        }
      ]
    },
    {
      "cell_type": "code",
      "source": [
        "results.qms()"
      ],
      "metadata": {
        "colab": {
          "base_uri": "https://localhost:8080/"
        },
        "id": "PzjgUEm2ssYf",
        "outputId": "c5d11e98-3b06-4eec-9caf-bd0afc22def6"
      },
      "execution_count": null,
      "outputs": [
        {
          "output_type": "stream",
          "name": "stdout",
          "text": [
            "1 QM:\n",
            "{CHAR_NAME.s(*{char_name}).v(name{gladiator}), NAME.v(name{crowe,russell})}\n",
            "--------------------------------------------------\n",
            "2 QM:\n",
            "{TITLE.v(title{gladiator}), NAME.v(name{crowe,russell}), CHAR_NAME.s(*{char_name})}\n",
            "--------------------------------------------------\n",
            "3 QM:\n",
            "{CHAR_NAME.s(*{char_name}).v(name{gladiator}), MOVIE_INFO.v(info{crowe,russell})}\n",
            "--------------------------------------------------\n",
            "4 QM:\n",
            "{TITLE.v(title{gladiator}), CHAR_NAME.s(*{char_name}), MOVIE_INFO.v(info{crowe,russell})}\n",
            "--------------------------------------------------\n",
            "5 QM:\n",
            "{NAME.v(name{crowe,russell}), CHAR_NAME.s(*{char_name}), MOVIE_INFO.v(info{gladiator})}\n",
            "--------------------------------------------------\n",
            "6 QM:\n",
            "{NAME.v(name{gladiator}), NAME.v(name{crowe,russell}), CHAR_NAME.s(*{char_name})}\n",
            "--------------------------------------------------\n",
            "7 QM:\n",
            "{MOVIE_INFO.v(info{crowe,russell}), CHAR_NAME.s(*{char_name}), MOVIE_INFO.v(info{gladiator})}\n",
            "--------------------------------------------------\n",
            "8 QM:\n",
            "{NAME.v(name{gladiator}), CHAR_NAME.s(*{char_name}), MOVIE_INFO.v(info{crowe,russell})}\n",
            "--------------------------------------------------\n"
          ]
        }
      ]
    }
  ]
}