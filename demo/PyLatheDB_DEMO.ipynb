{
  "nbformat": 4,
  "nbformat_minor": 0,
  "metadata": {
    "colab": {
      "name": "PyLatheDB-DEMO.ipynb",
      "provenance": [],
      "collapsed_sections": [
        "9BCs4NWfWhV3",
        "85Bru8qN6lpE"
      ],
      "include_colab_link": true
    },
    "kernelspec": {
      "name": "python3",
      "display_name": "Python 3"
    },
    "language_info": {
      "name": "python"
    }
  },
  "cells": [
    {
      "cell_type": "markdown",
      "metadata": {
        "id": "view-in-github",
        "colab_type": "text"
      },
      "source": [
        "<a href=\"https://colab.research.google.com/github/pr3martins/PyLatheDB/blob/main/demo/PyLatheDB_DEMO.ipynb\" target=\"_parent\"><img src=\"https://colab.research.google.com/assets/colab-badge.svg\" alt=\"Open In Colab\"/></a>"
      ]
    },
    {
      "cell_type": "markdown",
      "source": [
        "# PyLatheDB - A Library for Relational Keyword Search with Support to Schema References\n",
        "---\n",
        "\n",
        "PyLatheDB is based on Lathe, an R-KwS framework that generalizes the well-known concepts of Query Matches (QMs) and Candidate Joining Networks (CJNs) to handle keywords referring to schema elements and introduces new algorithms to generate them, along with a novel approach to automatically select the CJNs that are more likely to represent the user intent when issuing a keyword query.\n",
        "\n",
        "We recommend running this Python Notebook using Google Colab in the button below. But it can also be seen in our GitHub Repository [here](https://colab.research.google.com/github/pr3martins/PyLatheDB/blob/main/demo/PyLatheDB_DEMO.ipynb)\n",
        "\n",
        "[![Open In Colab](https://colab.research.google.com/assets/colab-badge.svg)](https://colab.research.google.com/github/pr3martins/PyLatheDB/blob/main/demo/PyLatheDB_DEMO.ipynb)\n"
      ],
      "metadata": {
        "id": "-Avnlu5jzbyD"
      }
    },
    {
      "cell_type": "markdown",
      "source": [
        "## Environment Preparation\n",
        "\n",
        "Initially, before the demonstration, it is necessary to  run an environment preparation step, which includes the installation of the RDBMS; the downloading of some configuration files and scripts; and the installation of the **PyLatheDB** library and its dependencies."
      ],
      "metadata": {
        "id": "9BCs4NWfWhV3"
      }
    },
    {
      "cell_type": "markdown",
      "source": [
        "### Download of the configuration Files"
      ],
      "metadata": {
        "id": "BT1FWFwB-Eg9"
      }
    },
    {
      "cell_type": "code",
      "source": [
        "!gdown --id 1KTRL-RhKgnzENlwcGHZ7zkvT4fVsQ1D7\n",
        "!unzip PyLatheDB_DEMO_resources.zip\n",
        "import nltk\n",
        "nltk.download('wordnet')\n",
        "nltk.download('stopwords')\n",
        "!cp dbsources/pylathedb.stop /usr/share/postgresql/10/tsearch_data/english.stop"
      ],
      "metadata": {
        "id": "zv1qHUj_W8fm"
      },
      "execution_count": null,
      "outputs": []
    },
    {
      "cell_type": "markdown",
      "source": [
        "### Installation of the PostgreSQL"
      ],
      "metadata": {
        "id": "b3oWxUnl-Xyq"
      }
    },
    {
      "cell_type": "code",
      "source": [
        "# Install postgresql server\n",
        "!sudo apt-get -y -qq update\n",
        "!sudo apt-get -y -qq install postgresql postgresql-contrib &>log\n",
        "!sudo service postgresql start\n",
        "\n",
        "# Setup a password `postgres` for username `postgres`\n",
        "!sudo -u postgres psql -U postgres -c \"ALTER USER postgres PASSWORD 'postgres';\"\n"
      ],
      "metadata": {
        "id": "PEeEHxMsQVBs"
      },
      "execution_count": null,
      "outputs": []
    },
    {
      "cell_type": "markdown",
      "source": [
        "### Scripts for the Databases Creation"
      ],
      "metadata": {
        "id": "s89ffyvY-mTG"
      }
    },
    {
      "cell_type": "code",
      "source": [
        "!sudo -u postgres dropdb imdb\n",
        "!sudo -u postgres createdb imdb\n",
        "!sudo -u postgres psql -U postgres imdb <  dbsources/imdb-schema.pgsql\n",
        "!sudo -u postgres psql -U postgres imdb <  dbsources/imdb-data.pgsql &>log\n",
        "!sudo -u postgres psql -U postgres imdb <  dbsources/imdb-fulltext_index.psql\n",
        "!sudo -u postgres psql -U postgres imdb < dbsources/imdb-rename-tables.psql\n",
        "\n",
        "!sudo -u postgres dropdb mondial\n",
        "!sudo -u postgres createdb mondial\n",
        "!sudo -u postgres psql -U postgres mondial <  dbsources/mondial-schema_part1.pgsql\n",
        "!sudo -u postgres psql -U postgres mondial <  dbsources/mondial-data.pgsql &>log\n",
        "!sudo -u postgres psql -U postgres mondial <  dbsources/mondial-schema_part2.pgsql\n",
        "!sudo -u postgres psql -U postgres mondial <  dbsources/mondial-field_fulltext_index.psql"
      ],
      "metadata": {
        "id": "_6HoX6TgfnzA"
      },
      "execution_count": null,
      "outputs": []
    },
    {
      "cell_type": "markdown",
      "source": [
        "### Enable DataTable Formating from Google Colab"
      ],
      "metadata": {
        "id": "p3mkA7nj_Gty"
      }
    },
    {
      "cell_type": "code",
      "source": [
        "from google.colab import data_table\n",
        "data_table.enable_dataframe_formatter()"
      ],
      "metadata": {
        "id": "DHjj3QY10b--"
      },
      "execution_count": 4,
      "outputs": []
    },
    {
      "cell_type": "markdown",
      "source": [
        "### Installation of the PyLathe library available [here](https://pypi.org/project/pylathedb/)"
      ],
      "metadata": {
        "id": "z0CYsna9-2lY"
      }
    },
    {
      "cell_type": "code",
      "source": [
        "!pip install pylathedb==1.0 -U"
      ],
      "metadata": {
        "id": "TE76LA_p0FQ8"
      },
      "execution_count": null,
      "outputs": []
    },
    {
      "cell_type": "markdown",
      "source": [
        "## PyLatheDB setup\n",
        "\n",
        "In this section, we will run the PyLatheDB setup, which comprises the creation of the Value Index and the Schema Index. We will also explain the main parameters of the library, such as number of QMs, number of CJNs per QM and the use of the eager evaluation strategy for CJN generation. "
      ],
      "metadata": {
        "id": "85Bru8qN6lpE"
      }
    },
    {
      "cell_type": "markdown",
      "source": [
        "### Library import and set configuration directory"
      ],
      "metadata": {
        "id": "g9rv0VoN_nM0"
      }
    },
    {
      "cell_type": "code",
      "source": [
        "from pylathedb.lathe import Lathe\n",
        "lathe = Lathe(config_directory='./config/')"
      ],
      "metadata": {
        "id": "-wpNJChhQjEP"
      },
      "execution_count": 7,
      "outputs": []
    },
    {
      "cell_type": "markdown",
      "source": [
        "### Create Indexes \n",
        "This step is not necessary because we already downloaded the indexes alongside the configuration files. But feel free to test the Index Creation uncommenting the following cell:"
      ],
      "metadata": {
        "id": "gct9Nh0W_tqp"
      }
    },
    {
      "cell_type": "code",
      "source": [
        "# lathe.create_indexes()"
      ],
      "metadata": {
        "id": "GCxC4RxZ_ln1"
      },
      "execution_count": null,
      "outputs": []
    },
    {
      "cell_type": "markdown",
      "source": [
        "### Load Indexes\n",
        "\n",
        "The cell below shows how to load the Value and Schema Indexes."
      ],
      "metadata": {
        "id": "JL1mPyVCAUiX"
      }
    },
    {
      "cell_type": "code",
      "source": [
        "lathe.load_indexes()"
      ],
      "metadata": {
        "id": "K1AWZHMFXQ_A"
      },
      "execution_count": 8,
      "outputs": []
    },
    {
      "cell_type": "markdown",
      "source": [
        "### Choose Query set/Database\n",
        "\n",
        "You can choose which query set to use and its respective database. Input as a function parameter the number of the query set to use. If you input no number, it will list the query sets available."
      ],
      "metadata": {
        "id": "WjMMYqzAAwIp"
      }
    },
    {
      "cell_type": "code",
      "source": [
        "lathe.change_queryset()"
      ],
      "metadata": {
        "id": "Gs8KXPMSxYYm",
        "outputId": "c594d459-7e8c-49e2-818c-b6f7a137edc8",
        "colab": {
          "base_uri": "https://localhost:8080/"
        }
      },
      "execution_count": 9,
      "outputs": [
        {
          "output_type": "stream",
          "name": "stdout",
          "text": [
            "Please input a query set to change:\n",
            "01 - coffman_mondial\n",
            "02 - coffman_imdb\n"
          ]
        }
      ]
    },
    {
      "cell_type": "code",
      "source": [
        "lathe.change_queryset(2)"
      ],
      "metadata": {
        "id": "3FFQCu6bCmk5",
        "outputId": "c521a9fd-1831-4fa2-8446-114949c22763",
        "colab": {
          "base_uri": "https://localhost:8080/"
        }
      },
      "execution_count": 10,
      "outputs": [
        {
          "output_type": "stream",
          "name": "stdout",
          "text": [
            "./config/queryset_configs/coffman_imdb_config.json\n",
            "Changed to query set coffman_imdb.\n"
          ]
        }
      ]
    },
    {
      "cell_type": "markdown",
      "source": [
        "### Default Parameters\n",
        "\n",
        "We have a few parameters for R-KwS using PyLatheDB:\n",
        "*    `max_qm_size`: Maximum Query Match Size\n",
        "*    `max_cjn_size`: Maximum Candidate Joining Network Size\n",
        "*    `topk_cns`: Top-k CJNs to be considered\n",
        "*    `configuration`: A tuple containing the number of QMs to be considered, number of CJNs for each QM to be considered, and the maximum number of CJNs to be probed by the eager evaluation for each QM. \n",
        "\n",
        "\n"
      ],
      "metadata": {
        "id": "ey2a_wdSBNKn"
      }
    },
    {
      "cell_type": "code",
      "source": [
        "lathe.max_qm_size = 3\n",
        "lathe.max_cjn_size = 5\n",
        "lathe.topk_cns = 10\n",
        "lathe.configuration = (5,1,9)"
      ],
      "metadata": {
        "id": "P8PUzbKoxOdB"
      },
      "execution_count": 11,
      "outputs": []
    },
    {
      "cell_type": "markdown",
      "source": [
        "## Keyword Search over Relational Databases\n",
        "\n",
        "You can use the function `keyword_search` from the class `Lathe` using three parameters. \n",
        "\n",
        "\n",
        "1.   You can input a Keyword query\n",
        "2.   You can call the function with no input to show a list of premade keyword queries used in Coffman Benchmark.\n",
        "3.   You can input the number of the keyword query according to the option 2."
      ],
      "metadata": {
        "id": "WhwI-lMT_sOJ"
      }
    },
    {
      "cell_type": "code",
      "source": [
        "lathe.keyword_search()"
      ],
      "metadata": {
        "id": "YEQ7ZZtWF5gt",
        "outputId": "aff0841d-96c1-4a62-93e3-abf7ecd11d53",
        "colab": {
          "base_uri": "https://localhost:8080/"
        }
      },
      "execution_count": 20,
      "outputs": [
        {
          "output_type": "stream",
          "name": "stdout",
          "text": [
            "Please input a keyword query or choose one of the queries below:\n",
            "01 - denzel washington\n",
            "02 - clint eastwood\n",
            "03 - john wayne\n",
            "04 - will smith\n",
            "05 - harrison ford\n",
            "06 - julia roberts\n",
            "07 - tom hanks\n",
            "08 - johnny depp\n",
            "09 - angelina jolie\n",
            "10 - morgan freeman\n",
            "11 - gone with the wind\n",
            "12 - star wars\n",
            "13 - casablanca\n",
            "14 - lord of the rings\n",
            "15 - the sound of music\n",
            "16 - wizard of oz\n",
            "17 - the notebook\n",
            "18 - forrest gump\n",
            "19 - the princess bride\n",
            "20 - the godfather\n",
            "21 - title atticus finch\n",
            "22 - title indiana jones\n",
            "23 - title james bond\n",
            "24 - title rick blaine\n",
            "25 - title will kane\n",
            "26 - title dr. hannibal lecter\n",
            "27 - title norman bates\n",
            "28 - title darth vader\n",
            "29 - title the wicked witch of the west\n",
            "30 - title nurse ratched\n",
            "31 - title frankly my dear i don't give a damn\n",
            "32 - title i'm going to make him an offer he can't refuse\n",
            "33 - title you don't understand i coulda had class i coulda been a contender i coulda been somebody instead of a bum which is what i am\n",
            "34 - title toto i've a feeling we're not in kansas any more\n",
            "35 - title here's looking at you kid\n",
            "36 - hamill skywalker\n",
            "37 - hanks 2004\n",
            "38 - henry fonda yours mine ours character\n",
            "39 - russell crowe gladiator character\n",
            "40 - brent spiner star trek\n",
            "41 - audrey hepburn 1951\n",
            "42 - name jacques clouseau\n",
            "43 - name jack ryan\n",
            "44 - rocky stallone\n",
            "45 - name terminator\n",
            "46 - harrison ford george lucas\n",
            "47 - sean connery fleming\n",
            "48 - reeves wachowski\n",
            "49 - dean jones herbie\n",
            "50 - indiana jones last crusade lost ark\n"
          ]
        }
      ]
    },
    {
      "cell_type": "markdown",
      "source": [
        "The function `keyword_search` from the class `Lathe` returns an `LatheResult` object, which contains methods to show the CJNs, QMs and KMs returned for the keyword query.\n",
        "\n",
        "The library returns, for each CJN, its Graph representation, its SQL translation and the returned results from the SQL execution by the RDBMS."
      ],
      "metadata": {
        "id": "4nalYT6yF90_"
      }
    },
    {
      "cell_type": "code",
      "source": [
        "result = lathe.keyword_search('julia roberts films')\n",
        "result.cjns()"
      ],
      "metadata": {
        "colab": {
          "base_uri": "https://localhost:8080/",
          "height": 3516
        },
        "id": "J-fRKmuvP5qE",
        "outputId": "61984ab7-38e0-4e3c-dff2-490b91a4f9a6"
      },
      "execution_count": 23,
      "outputs": [
        {
          "output_type": "stream",
          "name": "stdout",
          "text": [
            "Keyword Query: julia roberts films\n"
          ]
        },
        {
          "output_type": "display_data",
          "data": {
            "text/markdown": "---",
            "text/plain": [
              "<IPython.core.display.Markdown object>"
            ]
          },
          "metadata": {}
        },
        {
          "output_type": "display_data",
          "data": {
            "text/markdown": "**1st CJN**:",
            "text/plain": [
              "<IPython.core.display.Markdown object>"
            ]
          },
          "metadata": {}
        },
        {
          "output_type": "display_data",
          "data": {
            "text/markdown": "---",
            "text/plain": [
              "<IPython.core.display.Markdown object>"
            ]
          },
          "metadata": {}
        },
        {
          "output_type": "stream",
          "name": "stdout",
          "text": [
            "Graph:\n"
          ]
        },
        {
          "output_type": "display_data",
          "data": {
            "text/plain": [
              "<graphviz.dot.Digraph at 0x7fdae76d7210>"
            ],
            "image/svg+xml": "<?xml version=\"1.0\" encoding=\"UTF-8\" standalone=\"no\"?>\n<!DOCTYPE svg PUBLIC \"-//W3C//DTD SVG 1.1//EN\"\n \"http://www.w3.org/Graphics/SVG/1.1/DTD/svg11.dtd\">\n<!-- Generated by graphviz version 2.40.1 (20161225.0304)\n -->\n<!-- Title: %3 Pages: 1 -->\n<svg width=\"280pt\" height=\"98pt\"\n viewBox=\"0.00 0.00 280.33 98.00\" xmlns=\"http://www.w3.org/2000/svg\" xmlns:xlink=\"http://www.w3.org/1999/xlink\">\n<g id=\"graph0\" class=\"graph\" transform=\"scale(1 1) rotate(0) translate(4 94)\">\n<title>%3</title>\n<polygon fill=\"#ffffff\" stroke=\"transparent\" points=\"-4,4 -4,-94 276.3265,-94 276.3265,4 -4,4\"/>\n<!-- t1 -->\n<g id=\"node1\" class=\"node\">\n<title>t1</title>\n<ellipse fill=\"none\" stroke=\"#000000\" cx=\"77.3649\" cy=\"-18\" rx=\"77.2301\" ry=\"18\"/>\n<text text-anchor=\"middle\" x=\"77.3649\" y=\"-15.8\" font-family=\"Times,serif\" font-size=\"9.00\" fill=\"#000000\">PERSON.v(name{roberts,julia})</text>\n</g>\n<!-- t2 -->\n<g id=\"node2\" class=\"node\">\n<title>t2</title>\n<ellipse fill=\"none\" stroke=\"#000000\" cx=\"148.3649\" cy=\"-72\" rx=\"32.1641\" ry=\"18\"/>\n<text text-anchor=\"middle\" x=\"148.3649\" y=\"-69.8\" font-family=\"Times,serif\" font-size=\"9.00\" fill=\"#000000\">CASTING</text>\n</g>\n<!-- t2&#45;&gt;t1 -->\n<g id=\"edge1\" class=\"edge\">\n<title>t2&#45;&gt;t1</title>\n<path fill=\"none\" stroke=\"#000000\" d=\"M128.9639,-57.2443C122.2509,-52.1386 114.5634,-46.2918 107.2085,-40.6979\"/>\n<polygon fill=\"#000000\" stroke=\"#000000\" points=\"109.0832,-38.1662 100.0128,-35.2251 105.2694,-43.1807 109.0832,-38.1662\"/>\n</g>\n<!-- t3 -->\n<g id=\"node3\" class=\"node\">\n<title>t3</title>\n<ellipse fill=\"none\" stroke=\"#000000\" cx=\"220.3649\" cy=\"-18\" rx=\"51.9231\" ry=\"18\"/>\n<text text-anchor=\"middle\" x=\"220.3649\" y=\"-15.8\" font-family=\"Times,serif\" font-size=\"9.00\" fill=\"#000000\">MOVIE.s(*{films})</text>\n</g>\n<!-- t2&#45;&gt;t3 -->\n<g id=\"edge2\" class=\"edge\">\n<title>t2&#45;&gt;t3</title>\n<path fill=\"none\" stroke=\"#000000\" d=\"M167.6596,-57.529C174.7826,-52.1868 183.0267,-46.0037 190.8485,-40.1373\"/>\n<polygon fill=\"#000000\" stroke=\"#000000\" points=\"193.1624,-42.3395 198.4724,-34.4194 189.3823,-37.2995 193.1624,-42.3395\"/>\n</g>\n</g>\n</svg>\n"
          },
          "metadata": {}
        },
        {
          "output_type": "display_data",
          "data": {
            "text/markdown": "---",
            "text/plain": [
              "<IPython.core.display.Markdown object>"
            ]
          },
          "metadata": {}
        },
        {
          "output_type": "stream",
          "name": "stdout",
          "text": [
            "SQL:\n",
            "  \n",
            "  SELECT\n",
            "  \tt3.*,\n",
            "  \tt1.name\n",
            "  FROM\n",
            "  \tperson t1\n",
            "  \tJOIN casting t2 ON t2.person_id = t1.id\n",
            "  \tJOIN movie t3 ON t2.movie_id = t3.id\n",
            "  WHERE\n",
            "  \tt1.name_tsvector @@ to_tsquery('roberts & julia')\n",
            "  LIMIT 1000;\n",
            "\n"
          ]
        },
        {
          "output_type": "display_data",
          "data": {
            "text/markdown": "---",
            "text/plain": [
              "<IPython.core.display.Markdown object>"
            ]
          },
          "metadata": {}
        },
        {
          "output_type": "stream",
          "name": "stdout",
          "text": [
            "JNTs:\n"
          ]
        },
        {
          "output_type": "display_data",
          "data": {
            "application/vnd.google.colaboratory.module+javascript": "\n      import \"https://ssl.gstatic.com/colaboratory/data_table/a6224c040fa35dcf/data_table.js\";\n\n      window.createDataTable({\n        data: [[{\n            'v': 0,\n            'f': \"0\",\n        },\n{\n            'v': 3161,\n            'f': \"3161\",\n        },\n\"20 Something\",\n{\n            'v': null,\n            'f': \"null\",\n        },\n{\n            'v': 1,\n            'f': \"1\",\n        },\n{\n            'v': 2006,\n            'f': \"2006\",\n        },\n{\n            'v': null,\n            'f': \"null\",\n        },\n\"S5352\",\n{\n            'v': null,\n            'f': \"null\",\n        },\n{\n            'v': null,\n            'f': \"null\",\n        },\n{\n            'v': null,\n            'f': \"null\",\n        },\n{\n            'v': null,\n            'f': \"null\",\n        },\n{\n            'v': 43788412,\n            'f': \"43788412\",\n        },\n\"Roberts, Julia\"],\n [{\n            'v': 1,\n            'f': \"1\",\n        },\n{\n            'v': 462275,\n            'f': \"462275\",\n        },\n\"Stepmom\",\n{\n            'v': null,\n            'f': \"null\",\n        },\n{\n            'v': 1,\n            'f': \"1\",\n        },\n{\n            'v': 1998,\n            'f': \"1998\",\n        },\n{\n            'v': null,\n            'f': \"null\",\n        },\n\"S315\",\n{\n            'v': null,\n            'f': \"null\",\n        },\n{\n            'v': null,\n            'f': \"null\",\n        },\n{\n            'v': null,\n            'f': \"null\",\n        },\n{\n            'v': null,\n            'f': \"null\",\n        },\n{\n            'v': 44222915,\n            'f': \"44222915\",\n        },\n\"Roberts, Julia\"],\n [{\n            'v': 2,\n            'f': \"2\",\n        },\n{\n            'v': 263386,\n            'f': \"263386\",\n        },\n\"Kit Kittredge: An American Girl\",\n{\n            'v': null,\n            'f': \"null\",\n        },\n{\n            'v': 1,\n            'f': \"1\",\n        },\n{\n            'v': 2008,\n            'f': \"2008\",\n        },\n{\n            'v': null,\n            'f': \"null\",\n        },\n\"K3236\",\n{\n            'v': null,\n            'f': \"null\",\n        },\n{\n            'v': null,\n            'f': \"null\",\n        },\n{\n            'v': null,\n            'f': \"null\",\n        },\n{\n            'v': null,\n            'f': \"null\",\n        },\n{\n            'v': 43982791,\n            'f': \"43982791\",\n        },\n\"Roberts, Julia\"],\n [{\n            'v': 3,\n            'f': \"3\",\n        },\n{\n            'v': 428985,\n            'f': \"428985\",\n        },\n\"Satisfaction\",\n{\n            'v': null,\n            'f': \"null\",\n        },\n{\n            'v': 1,\n            'f': \"1\",\n        },\n{\n            'v': 1988,\n            'f': \"1988\",\n        },\n{\n            'v': null,\n            'f': \"null\",\n        },\n\"S3212\",\n{\n            'v': null,\n            'f': \"null\",\n        },\n{\n            'v': null,\n            'f': \"null\",\n        },\n{\n            'v': null,\n            'f': \"null\",\n        },\n{\n            'v': null,\n            'f': \"null\",\n        },\n{\n            'v': 44196668,\n            'f': \"44196668\",\n        },\n\"Roberts, Julia\"],\n [{\n            'v': 4,\n            'f': \"4\",\n        },\n{\n            'v': 337406,\n            'f': \"337406\",\n        },\n\"Monte Carlo\",\n{\n            'v': null,\n            'f': \"null\",\n        },\n{\n            'v': 1,\n            'f': \"1\",\n        },\n{\n            'v': 2010,\n            'f': \"2010\",\n        },\n{\n            'v': null,\n            'f': \"null\",\n        },\n\"M5326\",\n{\n            'v': null,\n            'f': \"null\",\n        },\n{\n            'v': null,\n            'f': \"null\",\n        },\n{\n            'v': null,\n            'f': \"null\",\n        },\n{\n            'v': null,\n            'f': \"null\",\n        },\n{\n            'v': 44056231,\n            'f': \"44056231\",\n        },\n\"Roberts, Julia\"]],\n        columns: [[\"number\", \"index\"], [\"number\", \"id\"], [\"string\", \"title\"], [\"number\", \"imdb_index\"], [\"number\", \"kind_id\"], [\"number\", \"year\"], [\"number\", \"imdb_id\"], [\"string\", \"phonetic_code\"], [\"number\", \"episode_of_id\"], [\"number\", \"season_nr\"], [\"number\", \"episode_nr\"], [\"number\", \"series_years\"], [\"number\", \"__search_id\"], [\"string\", \"name\"]],\n        columnOptions: [{\"width\": \"1px\", \"className\": \"index_column\"}],\n        rowsPerPage: 25,\n        helpUrl: \"https://colab.research.google.com/notebooks/data_table.ipynb\",\n        suppressOutputScrolling: true,\n        minimumWidth: undefined,\n      });\n    ",
            "text/html": [
              "\n",
              "  <div id=\"df-0a70f7e4-3af8-492d-9eff-92437899d2be\">\n",
              "    <div class=\"colab-df-container\">\n",
              "      <div>\n",
              "<style scoped>\n",
              "    .dataframe tbody tr th:only-of-type {\n",
              "        vertical-align: middle;\n",
              "    }\n",
              "\n",
              "    .dataframe tbody tr th {\n",
              "        vertical-align: top;\n",
              "    }\n",
              "\n",
              "    .dataframe thead th {\n",
              "        text-align: right;\n",
              "    }\n",
              "</style>\n",
              "<table border=\"1\" class=\"dataframe\">\n",
              "  <thead>\n",
              "    <tr style=\"text-align: right;\">\n",
              "      <th></th>\n",
              "      <th>id</th>\n",
              "      <th>title</th>\n",
              "      <th>imdb_index</th>\n",
              "      <th>kind_id</th>\n",
              "      <th>year</th>\n",
              "      <th>imdb_id</th>\n",
              "      <th>phonetic_code</th>\n",
              "      <th>episode_of_id</th>\n",
              "      <th>season_nr</th>\n",
              "      <th>episode_nr</th>\n",
              "      <th>series_years</th>\n",
              "      <th>__search_id</th>\n",
              "      <th>name</th>\n",
              "    </tr>\n",
              "  </thead>\n",
              "  <tbody>\n",
              "    <tr>\n",
              "      <th>0</th>\n",
              "      <td>3161</td>\n",
              "      <td>20 Something</td>\n",
              "      <td>None</td>\n",
              "      <td>1</td>\n",
              "      <td>2006</td>\n",
              "      <td>None</td>\n",
              "      <td>S5352</td>\n",
              "      <td>None</td>\n",
              "      <td>None</td>\n",
              "      <td>None</td>\n",
              "      <td>None</td>\n",
              "      <td>43788412</td>\n",
              "      <td>Roberts, Julia</td>\n",
              "    </tr>\n",
              "    <tr>\n",
              "      <th>1</th>\n",
              "      <td>462275</td>\n",
              "      <td>Stepmom</td>\n",
              "      <td>None</td>\n",
              "      <td>1</td>\n",
              "      <td>1998</td>\n",
              "      <td>None</td>\n",
              "      <td>S315</td>\n",
              "      <td>None</td>\n",
              "      <td>None</td>\n",
              "      <td>None</td>\n",
              "      <td>None</td>\n",
              "      <td>44222915</td>\n",
              "      <td>Roberts, Julia</td>\n",
              "    </tr>\n",
              "    <tr>\n",
              "      <th>2</th>\n",
              "      <td>263386</td>\n",
              "      <td>Kit Kittredge: An American Girl</td>\n",
              "      <td>None</td>\n",
              "      <td>1</td>\n",
              "      <td>2008</td>\n",
              "      <td>None</td>\n",
              "      <td>K3236</td>\n",
              "      <td>None</td>\n",
              "      <td>None</td>\n",
              "      <td>None</td>\n",
              "      <td>None</td>\n",
              "      <td>43982791</td>\n",
              "      <td>Roberts, Julia</td>\n",
              "    </tr>\n",
              "    <tr>\n",
              "      <th>3</th>\n",
              "      <td>428985</td>\n",
              "      <td>Satisfaction</td>\n",
              "      <td>None</td>\n",
              "      <td>1</td>\n",
              "      <td>1988</td>\n",
              "      <td>None</td>\n",
              "      <td>S3212</td>\n",
              "      <td>None</td>\n",
              "      <td>None</td>\n",
              "      <td>None</td>\n",
              "      <td>None</td>\n",
              "      <td>44196668</td>\n",
              "      <td>Roberts, Julia</td>\n",
              "    </tr>\n",
              "    <tr>\n",
              "      <th>4</th>\n",
              "      <td>337406</td>\n",
              "      <td>Monte Carlo</td>\n",
              "      <td>None</td>\n",
              "      <td>1</td>\n",
              "      <td>2010</td>\n",
              "      <td>None</td>\n",
              "      <td>M5326</td>\n",
              "      <td>None</td>\n",
              "      <td>None</td>\n",
              "      <td>None</td>\n",
              "      <td>None</td>\n",
              "      <td>44056231</td>\n",
              "      <td>Roberts, Julia</td>\n",
              "    </tr>\n",
              "  </tbody>\n",
              "</table>\n",
              "</div>\n",
              "      <button class=\"colab-df-convert\" onclick=\"convertToInteractive('df-0a70f7e4-3af8-492d-9eff-92437899d2be')\"\n",
              "              title=\"Convert this dataframe to an interactive table.\"\n",
              "              style=\"display:none;\">\n",
              "        \n",
              "  <svg xmlns=\"http://www.w3.org/2000/svg\" height=\"24px\"viewBox=\"0 0 24 24\"\n",
              "       width=\"24px\">\n",
              "    <path d=\"M0 0h24v24H0V0z\" fill=\"none\"/>\n",
              "    <path d=\"M18.56 5.44l.94 2.06.94-2.06 2.06-.94-2.06-.94-.94-2.06-.94 2.06-2.06.94zm-11 1L8.5 8.5l.94-2.06 2.06-.94-2.06-.94L8.5 2.5l-.94 2.06-2.06.94zm10 10l.94 2.06.94-2.06 2.06-.94-2.06-.94-.94-2.06-.94 2.06-2.06.94z\"/><path d=\"M17.41 7.96l-1.37-1.37c-.4-.4-.92-.59-1.43-.59-.52 0-1.04.2-1.43.59L10.3 9.45l-7.72 7.72c-.78.78-.78 2.05 0 2.83L4 21.41c.39.39.9.59 1.41.59.51 0 1.02-.2 1.41-.59l7.78-7.78 2.81-2.81c.8-.78.8-2.07 0-2.86zM5.41 20L4 18.59l7.72-7.72 1.47 1.35L5.41 20z\"/>\n",
              "  </svg>\n",
              "      </button>\n",
              "      \n",
              "  <style>\n",
              "    .colab-df-container {\n",
              "      display:flex;\n",
              "      flex-wrap:wrap;\n",
              "      gap: 12px;\n",
              "    }\n",
              "\n",
              "    .colab-df-convert {\n",
              "      background-color: #E8F0FE;\n",
              "      border: none;\n",
              "      border-radius: 50%;\n",
              "      cursor: pointer;\n",
              "      display: none;\n",
              "      fill: #1967D2;\n",
              "      height: 32px;\n",
              "      padding: 0 0 0 0;\n",
              "      width: 32px;\n",
              "    }\n",
              "\n",
              "    .colab-df-convert:hover {\n",
              "      background-color: #E2EBFA;\n",
              "      box-shadow: 0px 1px 2px rgba(60, 64, 67, 0.3), 0px 1px 3px 1px rgba(60, 64, 67, 0.15);\n",
              "      fill: #174EA6;\n",
              "    }\n",
              "\n",
              "    [theme=dark] .colab-df-convert {\n",
              "      background-color: #3B4455;\n",
              "      fill: #D2E3FC;\n",
              "    }\n",
              "\n",
              "    [theme=dark] .colab-df-convert:hover {\n",
              "      background-color: #434B5C;\n",
              "      box-shadow: 0px 1px 3px 1px rgba(0, 0, 0, 0.15);\n",
              "      filter: drop-shadow(0px 1px 2px rgba(0, 0, 0, 0.3));\n",
              "      fill: #FFFFFF;\n",
              "    }\n",
              "  </style>\n",
              "\n",
              "      <script>\n",
              "        const buttonEl =\n",
              "          document.querySelector('#df-0a70f7e4-3af8-492d-9eff-92437899d2be button.colab-df-convert');\n",
              "        buttonEl.style.display =\n",
              "          google.colab.kernel.accessAllowed ? 'block' : 'none';\n",
              "\n",
              "        async function convertToInteractive(key) {\n",
              "          const element = document.querySelector('#df-0a70f7e4-3af8-492d-9eff-92437899d2be');\n",
              "          const dataTable =\n",
              "            await google.colab.kernel.invokeFunction('convertToInteractive',\n",
              "                                                     [key], {});\n",
              "          if (!dataTable) return;\n",
              "\n",
              "          const docLinkHtml = 'Like what you see? Visit the ' +\n",
              "            '<a target=\"_blank\" href=https://colab.research.google.com/notebooks/data_table.ipynb>data table notebook</a>'\n",
              "            + ' to learn more about interactive tables.';\n",
              "          element.innerHTML = '';\n",
              "          dataTable['output_type'] = 'display_data';\n",
              "          await google.colab.output.renderOutput(dataTable, element);\n",
              "          const docLink = document.createElement('div');\n",
              "          docLink.innerHTML = docLinkHtml;\n",
              "          element.appendChild(docLink);\n",
              "        }\n",
              "      </script>\n",
              "    </div>\n",
              "  </div>\n",
              "  "
            ],
            "text/plain": [
              "       id                            title  ... __search_id            name\n",
              "0    3161                     20 Something  ...    43788412  Roberts, Julia\n",
              "1  462275                          Stepmom  ...    44222915  Roberts, Julia\n",
              "2  263386  Kit Kittredge: An American Girl  ...    43982791  Roberts, Julia\n",
              "3  428985                     Satisfaction  ...    44196668  Roberts, Julia\n",
              "4  337406                      Monte Carlo  ...    44056231  Roberts, Julia\n",
              "\n",
              "[5 rows x 13 columns]"
            ]
          },
          "metadata": {}
        },
        {
          "output_type": "stream",
          "name": "stdout",
          "text": [
            "\n"
          ]
        },
        {
          "output_type": "display_data",
          "data": {
            "text/markdown": "---",
            "text/plain": [
              "<IPython.core.display.Markdown object>"
            ]
          },
          "metadata": {}
        },
        {
          "output_type": "display_data",
          "data": {
            "text/markdown": "**2nd CJN**:",
            "text/plain": [
              "<IPython.core.display.Markdown object>"
            ]
          },
          "metadata": {}
        },
        {
          "output_type": "display_data",
          "data": {
            "text/markdown": "---",
            "text/plain": [
              "<IPython.core.display.Markdown object>"
            ]
          },
          "metadata": {}
        },
        {
          "output_type": "stream",
          "name": "stdout",
          "text": [
            "Graph:\n"
          ]
        },
        {
          "output_type": "display_data",
          "data": {
            "text/plain": [
              "<graphviz.dot.Digraph at 0x7fdae7848c50>"
            ],
            "image/svg+xml": "<?xml version=\"1.0\" encoding=\"UTF-8\" standalone=\"no\"?>\n<!DOCTYPE svg PUBLIC \"-//W3C//DTD SVG 1.1//EN\"\n \"http://www.w3.org/Graphics/SVG/1.1/DTD/svg11.dtd\">\n<!-- Generated by graphviz version 2.40.1 (20161225.0304)\n -->\n<!-- Title: %3 Pages: 1 -->\n<svg width=\"201pt\" height=\"44pt\"\n viewBox=\"0.00 0.00 200.83 44.00\" xmlns=\"http://www.w3.org/2000/svg\" xmlns:xlink=\"http://www.w3.org/1999/xlink\">\n<g id=\"graph0\" class=\"graph\" transform=\"scale(1 1) rotate(0) translate(4 40)\">\n<title>%3</title>\n<polygon fill=\"#ffffff\" stroke=\"transparent\" points=\"-4,4 -4,-40 196.835,-40 196.835,4 -4,4\"/>\n<!-- t1 -->\n<g id=\"node1\" class=\"node\">\n<title>t1</title>\n<ellipse fill=\"none\" stroke=\"#000000\" cx=\"96.4175\" cy=\"-18\" rx=\"96.3351\" ry=\"18\"/>\n<text text-anchor=\"middle\" x=\"96.4175\" y=\"-15.8\" font-family=\"Times,serif\" font-size=\"9.00\" fill=\"#000000\">MOVIE.s(*{films}).v(title{roberts,julia})</text>\n</g>\n</g>\n</svg>\n"
          },
          "metadata": {}
        },
        {
          "output_type": "display_data",
          "data": {
            "text/markdown": "---",
            "text/plain": [
              "<IPython.core.display.Markdown object>"
            ]
          },
          "metadata": {}
        },
        {
          "output_type": "stream",
          "name": "stdout",
          "text": [
            "SQL:\n",
            "  \n",
            "  SELECT\n",
            "  \tt1.*,\n",
            "  \tt1.title\n",
            "  FROM\n",
            "  \tmovie t1\n",
            "  WHERE\n",
            "  \tt1.title_tsvector @@ to_tsquery('roberts & julia')\n",
            "  LIMIT 1000;\n",
            "\n"
          ]
        },
        {
          "output_type": "display_data",
          "data": {
            "text/markdown": "---",
            "text/plain": [
              "<IPython.core.display.Markdown object>"
            ]
          },
          "metadata": {}
        },
        {
          "output_type": "stream",
          "name": "stdout",
          "text": [
            "JNTs:\n"
          ]
        },
        {
          "output_type": "display_data",
          "data": {
            "application/vnd.google.colaboratory.module+javascript": "\n      import \"https://ssl.gstatic.com/colaboratory/data_table/a6224c040fa35dcf/data_table.js\";\n\n      window.createDataTable({\n        data: [[{\n            'v': 0,\n            'f': \"0\",\n        },\n{\n            'v': 567842,\n            'f': \"567842\",\n        },\n\"Untitled Julia Roberts/Joan Root Project\",\n{\n            'v': null,\n            'f': \"null\",\n        },\n{\n            'v': 1,\n            'f': \"1\",\n        },\n{\n            'v': 2009,\n            'f': \"2009\",\n        },\n{\n            'v': null,\n            'f': \"null\",\n        },\n\"U5343\",\n{\n            'v': null,\n            'f': \"null\",\n        },\n{\n            'v': null,\n            'f': \"null\",\n        },\n{\n            'v': null,\n            'f': \"null\",\n        },\n{\n            'v': null,\n            'f': \"null\",\n        },\n{\n            'v': 44309348,\n            'f': \"44309348\",\n        },\n\"Untitled Julia Roberts/Joan Root Project\"]],\n        columns: [[\"number\", \"index\"], [\"number\", \"id\"], [\"string\", \"title\"], [\"number\", \"imdb_index\"], [\"number\", \"kind_id\"], [\"number\", \"year\"], [\"number\", \"imdb_id\"], [\"string\", \"phonetic_code\"], [\"number\", \"episode_of_id\"], [\"number\", \"season_nr\"], [\"number\", \"episode_nr\"], [\"number\", \"series_years\"], [\"number\", \"__search_id\"], [\"string\", \"title\"]],\n        columnOptions: [{\"width\": \"1px\", \"className\": \"index_column\"}],\n        rowsPerPage: 25,\n        helpUrl: \"https://colab.research.google.com/notebooks/data_table.ipynb\",\n        suppressOutputScrolling: true,\n        minimumWidth: undefined,\n      });\n    ",
            "text/html": [
              "\n",
              "  <div id=\"df-f8000c69-a7ba-431a-9bab-3dfa4bca8dc3\">\n",
              "    <div class=\"colab-df-container\">\n",
              "      <div>\n",
              "<style scoped>\n",
              "    .dataframe tbody tr th:only-of-type {\n",
              "        vertical-align: middle;\n",
              "    }\n",
              "\n",
              "    .dataframe tbody tr th {\n",
              "        vertical-align: top;\n",
              "    }\n",
              "\n",
              "    .dataframe thead th {\n",
              "        text-align: right;\n",
              "    }\n",
              "</style>\n",
              "<table border=\"1\" class=\"dataframe\">\n",
              "  <thead>\n",
              "    <tr style=\"text-align: right;\">\n",
              "      <th></th>\n",
              "      <th>id</th>\n",
              "      <th>title</th>\n",
              "      <th>imdb_index</th>\n",
              "      <th>kind_id</th>\n",
              "      <th>year</th>\n",
              "      <th>imdb_id</th>\n",
              "      <th>phonetic_code</th>\n",
              "      <th>episode_of_id</th>\n",
              "      <th>season_nr</th>\n",
              "      <th>episode_nr</th>\n",
              "      <th>series_years</th>\n",
              "      <th>__search_id</th>\n",
              "      <th>title</th>\n",
              "    </tr>\n",
              "  </thead>\n",
              "  <tbody>\n",
              "    <tr>\n",
              "      <th>0</th>\n",
              "      <td>567842</td>\n",
              "      <td>Untitled Julia Roberts/Joan Root Project</td>\n",
              "      <td>None</td>\n",
              "      <td>1</td>\n",
              "      <td>2009</td>\n",
              "      <td>None</td>\n",
              "      <td>U5343</td>\n",
              "      <td>None</td>\n",
              "      <td>None</td>\n",
              "      <td>None</td>\n",
              "      <td>None</td>\n",
              "      <td>44309348</td>\n",
              "      <td>Untitled Julia Roberts/Joan Root Project</td>\n",
              "    </tr>\n",
              "  </tbody>\n",
              "</table>\n",
              "</div>\n",
              "      <button class=\"colab-df-convert\" onclick=\"convertToInteractive('df-f8000c69-a7ba-431a-9bab-3dfa4bca8dc3')\"\n",
              "              title=\"Convert this dataframe to an interactive table.\"\n",
              "              style=\"display:none;\">\n",
              "        \n",
              "  <svg xmlns=\"http://www.w3.org/2000/svg\" height=\"24px\"viewBox=\"0 0 24 24\"\n",
              "       width=\"24px\">\n",
              "    <path d=\"M0 0h24v24H0V0z\" fill=\"none\"/>\n",
              "    <path d=\"M18.56 5.44l.94 2.06.94-2.06 2.06-.94-2.06-.94-.94-2.06-.94 2.06-2.06.94zm-11 1L8.5 8.5l.94-2.06 2.06-.94-2.06-.94L8.5 2.5l-.94 2.06-2.06.94zm10 10l.94 2.06.94-2.06 2.06-.94-2.06-.94-.94-2.06-.94 2.06-2.06.94z\"/><path d=\"M17.41 7.96l-1.37-1.37c-.4-.4-.92-.59-1.43-.59-.52 0-1.04.2-1.43.59L10.3 9.45l-7.72 7.72c-.78.78-.78 2.05 0 2.83L4 21.41c.39.39.9.59 1.41.59.51 0 1.02-.2 1.41-.59l7.78-7.78 2.81-2.81c.8-.78.8-2.07 0-2.86zM5.41 20L4 18.59l7.72-7.72 1.47 1.35L5.41 20z\"/>\n",
              "  </svg>\n",
              "      </button>\n",
              "      \n",
              "  <style>\n",
              "    .colab-df-container {\n",
              "      display:flex;\n",
              "      flex-wrap:wrap;\n",
              "      gap: 12px;\n",
              "    }\n",
              "\n",
              "    .colab-df-convert {\n",
              "      background-color: #E8F0FE;\n",
              "      border: none;\n",
              "      border-radius: 50%;\n",
              "      cursor: pointer;\n",
              "      display: none;\n",
              "      fill: #1967D2;\n",
              "      height: 32px;\n",
              "      padding: 0 0 0 0;\n",
              "      width: 32px;\n",
              "    }\n",
              "\n",
              "    .colab-df-convert:hover {\n",
              "      background-color: #E2EBFA;\n",
              "      box-shadow: 0px 1px 2px rgba(60, 64, 67, 0.3), 0px 1px 3px 1px rgba(60, 64, 67, 0.15);\n",
              "      fill: #174EA6;\n",
              "    }\n",
              "\n",
              "    [theme=dark] .colab-df-convert {\n",
              "      background-color: #3B4455;\n",
              "      fill: #D2E3FC;\n",
              "    }\n",
              "\n",
              "    [theme=dark] .colab-df-convert:hover {\n",
              "      background-color: #434B5C;\n",
              "      box-shadow: 0px 1px 3px 1px rgba(0, 0, 0, 0.15);\n",
              "      filter: drop-shadow(0px 1px 2px rgba(0, 0, 0, 0.3));\n",
              "      fill: #FFFFFF;\n",
              "    }\n",
              "  </style>\n",
              "\n",
              "      <script>\n",
              "        const buttonEl =\n",
              "          document.querySelector('#df-f8000c69-a7ba-431a-9bab-3dfa4bca8dc3 button.colab-df-convert');\n",
              "        buttonEl.style.display =\n",
              "          google.colab.kernel.accessAllowed ? 'block' : 'none';\n",
              "\n",
              "        async function convertToInteractive(key) {\n",
              "          const element = document.querySelector('#df-f8000c69-a7ba-431a-9bab-3dfa4bca8dc3');\n",
              "          const dataTable =\n",
              "            await google.colab.kernel.invokeFunction('convertToInteractive',\n",
              "                                                     [key], {});\n",
              "          if (!dataTable) return;\n",
              "\n",
              "          const docLinkHtml = 'Like what you see? Visit the ' +\n",
              "            '<a target=\"_blank\" href=https://colab.research.google.com/notebooks/data_table.ipynb>data table notebook</a>'\n",
              "            + ' to learn more about interactive tables.';\n",
              "          element.innerHTML = '';\n",
              "          dataTable['output_type'] = 'display_data';\n",
              "          await google.colab.output.renderOutput(dataTable, element);\n",
              "          const docLink = document.createElement('div');\n",
              "          docLink.innerHTML = docLinkHtml;\n",
              "          element.appendChild(docLink);\n",
              "        }\n",
              "      </script>\n",
              "    </div>\n",
              "  </div>\n",
              "  "
            ],
            "text/plain": [
              "       id  ...                                     title\n",
              "0  567842  ...  Untitled Julia Roberts/Joan Root Project\n",
              "\n",
              "[1 rows x 13 columns]"
            ]
          },
          "metadata": {}
        },
        {
          "output_type": "stream",
          "name": "stdout",
          "text": [
            "\n"
          ]
        },
        {
          "output_type": "display_data",
          "data": {
            "text/markdown": "---",
            "text/plain": [
              "<IPython.core.display.Markdown object>"
            ]
          },
          "metadata": {}
        },
        {
          "output_type": "display_data",
          "data": {
            "text/markdown": "**3rd CJN**:",
            "text/plain": [
              "<IPython.core.display.Markdown object>"
            ]
          },
          "metadata": {}
        },
        {
          "output_type": "display_data",
          "data": {
            "text/markdown": "---",
            "text/plain": [
              "<IPython.core.display.Markdown object>"
            ]
          },
          "metadata": {}
        },
        {
          "output_type": "stream",
          "name": "stdout",
          "text": [
            "Graph:\n"
          ]
        },
        {
          "output_type": "display_data",
          "data": {
            "text/plain": [
              "<graphviz.dot.Digraph at 0x7fdae7863050>"
            ],
            "image/svg+xml": "<?xml version=\"1.0\" encoding=\"UTF-8\" standalone=\"no\"?>\n<!DOCTYPE svg PUBLIC \"-//W3C//DTD SVG 1.1//EN\"\n \"http://www.w3.org/Graphics/SVG/1.1/DTD/svg11.dtd\">\n<!-- Generated by graphviz version 2.40.1 (20161225.0304)\n -->\n<!-- Title: %3 Pages: 1 -->\n<svg width=\"177pt\" height=\"98pt\"\n viewBox=\"0.00 0.00 176.59 98.00\" xmlns=\"http://www.w3.org/2000/svg\" xmlns:xlink=\"http://www.w3.org/1999/xlink\">\n<g id=\"graph0\" class=\"graph\" transform=\"scale(1 1) rotate(0) translate(4 94)\">\n<title>%3</title>\n<polygon fill=\"#ffffff\" stroke=\"transparent\" points=\"-4,4 -4,-94 172.5863,-94 172.5863,4 -4,4\"/>\n<!-- t1 -->\n<g id=\"node1\" class=\"node\">\n<title>t1</title>\n<ellipse fill=\"none\" stroke=\"#000000\" cx=\"84.2931\" cy=\"-72\" rx=\"84.0868\" ry=\"18\"/>\n<text text-anchor=\"middle\" x=\"84.2931\" y=\"-69.8\" font-family=\"Times,serif\" font-size=\"9.00\" fill=\"#000000\">MOVIEINFO.v(info{roberts,julia})</text>\n</g>\n<!-- t2 -->\n<g id=\"node2\" class=\"node\">\n<title>t2</title>\n<ellipse fill=\"none\" stroke=\"#000000\" cx=\"84.2931\" cy=\"-18\" rx=\"51.9231\" ry=\"18\"/>\n<text text-anchor=\"middle\" x=\"84.2931\" y=\"-15.8\" font-family=\"Times,serif\" font-size=\"9.00\" fill=\"#000000\">MOVIE.s(*{films})</text>\n</g>\n<!-- t1&#45;&gt;t2 -->\n<g id=\"edge1\" class=\"edge\">\n<title>t1&#45;&gt;t2</title>\n<path fill=\"none\" stroke=\"#000000\" d=\"M84.2931,-53.7181C84.2931,-50.9911 84.2931,-48.1312 84.2931,-45.2673\"/>\n<polygon fill=\"#000000\" stroke=\"#000000\" points=\"87.4432,-45.2631 84.2931,-36.2631 81.1432,-45.2631 87.4432,-45.2631\"/>\n</g>\n</g>\n</svg>\n"
          },
          "metadata": {}
        },
        {
          "output_type": "display_data",
          "data": {
            "text/markdown": "---",
            "text/plain": [
              "<IPython.core.display.Markdown object>"
            ]
          },
          "metadata": {}
        },
        {
          "output_type": "stream",
          "name": "stdout",
          "text": [
            "SQL:\n",
            "  \n",
            "  SELECT\n",
            "  \tt1.info,\n",
            "  \tt2.*\n",
            "  FROM\n",
            "  \tmovieinfo t1\n",
            "  \tJOIN movie t2 ON t1.movie_id = t2.id\n",
            "  WHERE\n",
            "  \tt1.info_tsvector @@ to_tsquery('roberts & julia')\n",
            "  LIMIT 1000;\n",
            "\n"
          ]
        },
        {
          "output_type": "display_data",
          "data": {
            "text/markdown": "---",
            "text/plain": [
              "<IPython.core.display.Markdown object>"
            ]
          },
          "metadata": {}
        },
        {
          "output_type": "stream",
          "name": "stdout",
          "text": [
            "JNTs:\n"
          ]
        },
        {
          "output_type": "display_data",
          "data": {
            "application/vnd.google.colaboratory.module+javascript": "\n      import \"https://ssl.gstatic.com/colaboratory/data_table/a6224c040fa35dcf/data_table.js\";\n\n      window.createDataTable({\n        data: [[{\n            'v': 0,\n            'f': \"0\",\n        },\n\"Stephanie: You totally love him. You want to wreck the wedding and steal him for yourself. You are so Julia Roberts in \\\"My Best Friend's Wedding\\\" right now.\",\n{\n            'v': 263267,\n            'f': \"263267\",\n        },\n\"Kiss the Bride\",\n{\n            'v': null,\n            'f': \"null\",\n        },\n{\n            'v': 1,\n            'f': \"1\",\n        },\n{\n            'v': 2007,\n            'f': \"2007\",\n        },\n{\n            'v': null,\n            'f': \"null\",\n        },\n\"K2316\",\n{\n            'v': null,\n            'f': \"null\",\n        },\n{\n            'v': null,\n            'f': \"null\",\n        },\n{\n            'v': null,\n            'f': \"null\",\n        },\n{\n            'v': null,\n            'f': \"null\",\n        },\n{\n            'v': 43995987,\n            'f': \"43995987\",\n        }],\n [{\n            'v': 1,\n            'f': \"1\",\n        },\n\"[to Tess while she is pretending to be Julia Roberts and is surrounded by photographers]::Linus Caldwell: Protect your fake baby, protect your fake baby!\",\n{\n            'v': 364762,\n            'f': \"364762\",\n        },\n\"Ocean's Twelve\",\n{\n            'v': null,\n            'f': \"null\",\n        },\n{\n            'v': 1,\n            'f': \"1\",\n        },\n{\n            'v': 2004,\n            'f': \"2004\",\n        },\n{\n            'v': null,\n            'f': \"null\",\n        },\n\"O2523\",\n{\n            'v': null,\n            'f': \"null\",\n        },\n{\n            'v': null,\n            'f': \"null\",\n        },\n{\n            'v': null,\n            'f': \"null\",\n        },\n{\n            'v': null,\n            'f': \"null\",\n        },\n{\n            'v': 44054612,\n            'f': \"44054612\",\n        }],\n [{\n            'v': 2,\n            'f': \"2\",\n        },\n\"Tess Ocean: [while trying to get through a crowd of fans thinking she's Julia Roberts] How is this going to get Danny out?::Linus Caldwell: We need someone famous.::Tess Ocean: Why didn't you get someone famous?::Linus Caldwell: Just think Four Weddings and a Funeral.::Tess Ocean: [rather bewildered] She wasn't in Four Weddings and a Funeral.::Linus Caldwell: 'I'. 'I wasn't in Four Weddings and a Funeral'! Just protect your fake baby!\",\n{\n            'v': 364762,\n            'f': \"364762\",\n        },\n\"Ocean's Twelve\",\n{\n            'v': null,\n            'f': \"null\",\n        },\n{\n            'v': 1,\n            'f': \"1\",\n        },\n{\n            'v': 2004,\n            'f': \"2004\",\n        },\n{\n            'v': null,\n            'f': \"null\",\n        },\n\"O2523\",\n{\n            'v': null,\n            'f': \"null\",\n        },\n{\n            'v': null,\n            'f': \"null\",\n        },\n{\n            'v': null,\n            'f': \"null\",\n        },\n{\n            'v': null,\n            'f': \"null\",\n        },\n{\n            'v': 44054612,\n            'f': \"44054612\",\n        }],\n [{\n            'v': 3,\n            'f': \"3\",\n        },\n\"Tess Ocean: Ma Marcus?::Julia Roberts: Um... No it's Julia.::Tess Ocean: um... oh... Hello Julia... it's ah... Julia.\",\n{\n            'v': 364762,\n            'f': \"364762\",\n        },\n\"Ocean's Twelve\",\n{\n            'v': null,\n            'f': \"null\",\n        },\n{\n            'v': 1,\n            'f': \"1\",\n        },\n{\n            'v': 2004,\n            'f': \"2004\",\n        },\n{\n            'v': null,\n            'f': \"null\",\n        },\n\"O2523\",\n{\n            'v': null,\n            'f': \"null\",\n        },\n{\n            'v': null,\n            'f': \"null\",\n        },\n{\n            'v': null,\n            'f': \"null\",\n        },\n{\n            'v': null,\n            'f': \"null\",\n        },\n{\n            'v': 44054612,\n            'f': \"44054612\",\n        }],\n [{\n            'v': 4,\n            'f': \"4\",\n        },\n\"Julia McCullough: I thought up a name for you: The Great Danton. Do you like it? It's sophisticated.::Robert Angier: [scoffs] It's French.\",\n{\n            'v': 523654,\n            'f': \"523654\",\n        },\n\"The Prestige\",\n{\n            'v': null,\n            'f': \"null\",\n        },\n{\n            'v': 1,\n            'f': \"1\",\n        },\n{\n            'v': 2006,\n            'f': \"2006\",\n        },\n{\n            'v': null,\n            'f': \"null\",\n        },\n\"P6232\",\n{\n            'v': null,\n            'f': \"null\",\n        },\n{\n            'v': null,\n            'f': \"null\",\n        },\n{\n            'v': null,\n            'f': \"null\",\n        },\n{\n            'v': null,\n            'f': \"null\",\n        },\n{\n            'v': 44264635,\n            'f': \"44264635\",\n        }]],\n        columns: [[\"number\", \"index\"], [\"string\", \"info\"], [\"number\", \"id\"], [\"string\", \"title\"], [\"number\", \"imdb_index\"], [\"number\", \"kind_id\"], [\"number\", \"year\"], [\"number\", \"imdb_id\"], [\"string\", \"phonetic_code\"], [\"number\", \"episode_of_id\"], [\"number\", \"season_nr\"], [\"number\", \"episode_nr\"], [\"number\", \"series_years\"], [\"number\", \"__search_id\"]],\n        columnOptions: [{\"width\": \"1px\", \"className\": \"index_column\"}],\n        rowsPerPage: 25,\n        helpUrl: \"https://colab.research.google.com/notebooks/data_table.ipynb\",\n        suppressOutputScrolling: true,\n        minimumWidth: undefined,\n      });\n    ",
            "text/html": [
              "\n",
              "  <div id=\"df-7ec8dca0-6ef6-46e3-a676-825a3f1ddd50\">\n",
              "    <div class=\"colab-df-container\">\n",
              "      <div>\n",
              "<style scoped>\n",
              "    .dataframe tbody tr th:only-of-type {\n",
              "        vertical-align: middle;\n",
              "    }\n",
              "\n",
              "    .dataframe tbody tr th {\n",
              "        vertical-align: top;\n",
              "    }\n",
              "\n",
              "    .dataframe thead th {\n",
              "        text-align: right;\n",
              "    }\n",
              "</style>\n",
              "<table border=\"1\" class=\"dataframe\">\n",
              "  <thead>\n",
              "    <tr style=\"text-align: right;\">\n",
              "      <th></th>\n",
              "      <th>info</th>\n",
              "      <th>id</th>\n",
              "      <th>title</th>\n",
              "      <th>imdb_index</th>\n",
              "      <th>kind_id</th>\n",
              "      <th>year</th>\n",
              "      <th>imdb_id</th>\n",
              "      <th>phonetic_code</th>\n",
              "      <th>episode_of_id</th>\n",
              "      <th>season_nr</th>\n",
              "      <th>episode_nr</th>\n",
              "      <th>series_years</th>\n",
              "      <th>__search_id</th>\n",
              "    </tr>\n",
              "  </thead>\n",
              "  <tbody>\n",
              "    <tr>\n",
              "      <th>0</th>\n",
              "      <td>Stephanie: You totally love him. You want to w...</td>\n",
              "      <td>263267</td>\n",
              "      <td>Kiss the Bride</td>\n",
              "      <td>None</td>\n",
              "      <td>1</td>\n",
              "      <td>2007</td>\n",
              "      <td>None</td>\n",
              "      <td>K2316</td>\n",
              "      <td>None</td>\n",
              "      <td>None</td>\n",
              "      <td>None</td>\n",
              "      <td>None</td>\n",
              "      <td>43995987</td>\n",
              "    </tr>\n",
              "    <tr>\n",
              "      <th>1</th>\n",
              "      <td>[to Tess while she is pretending to be Julia R...</td>\n",
              "      <td>364762</td>\n",
              "      <td>Ocean's Twelve</td>\n",
              "      <td>None</td>\n",
              "      <td>1</td>\n",
              "      <td>2004</td>\n",
              "      <td>None</td>\n",
              "      <td>O2523</td>\n",
              "      <td>None</td>\n",
              "      <td>None</td>\n",
              "      <td>None</td>\n",
              "      <td>None</td>\n",
              "      <td>44054612</td>\n",
              "    </tr>\n",
              "    <tr>\n",
              "      <th>2</th>\n",
              "      <td>Tess Ocean: [while trying to get through a cro...</td>\n",
              "      <td>364762</td>\n",
              "      <td>Ocean's Twelve</td>\n",
              "      <td>None</td>\n",
              "      <td>1</td>\n",
              "      <td>2004</td>\n",
              "      <td>None</td>\n",
              "      <td>O2523</td>\n",
              "      <td>None</td>\n",
              "      <td>None</td>\n",
              "      <td>None</td>\n",
              "      <td>None</td>\n",
              "      <td>44054612</td>\n",
              "    </tr>\n",
              "    <tr>\n",
              "      <th>3</th>\n",
              "      <td>Tess Ocean: Ma Marcus?::Julia Roberts: Um... N...</td>\n",
              "      <td>364762</td>\n",
              "      <td>Ocean's Twelve</td>\n",
              "      <td>None</td>\n",
              "      <td>1</td>\n",
              "      <td>2004</td>\n",
              "      <td>None</td>\n",
              "      <td>O2523</td>\n",
              "      <td>None</td>\n",
              "      <td>None</td>\n",
              "      <td>None</td>\n",
              "      <td>None</td>\n",
              "      <td>44054612</td>\n",
              "    </tr>\n",
              "    <tr>\n",
              "      <th>4</th>\n",
              "      <td>Julia McCullough: I thought up a name for you:...</td>\n",
              "      <td>523654</td>\n",
              "      <td>The Prestige</td>\n",
              "      <td>None</td>\n",
              "      <td>1</td>\n",
              "      <td>2006</td>\n",
              "      <td>None</td>\n",
              "      <td>P6232</td>\n",
              "      <td>None</td>\n",
              "      <td>None</td>\n",
              "      <td>None</td>\n",
              "      <td>None</td>\n",
              "      <td>44264635</td>\n",
              "    </tr>\n",
              "  </tbody>\n",
              "</table>\n",
              "</div>\n",
              "      <button class=\"colab-df-convert\" onclick=\"convertToInteractive('df-7ec8dca0-6ef6-46e3-a676-825a3f1ddd50')\"\n",
              "              title=\"Convert this dataframe to an interactive table.\"\n",
              "              style=\"display:none;\">\n",
              "        \n",
              "  <svg xmlns=\"http://www.w3.org/2000/svg\" height=\"24px\"viewBox=\"0 0 24 24\"\n",
              "       width=\"24px\">\n",
              "    <path d=\"M0 0h24v24H0V0z\" fill=\"none\"/>\n",
              "    <path d=\"M18.56 5.44l.94 2.06.94-2.06 2.06-.94-2.06-.94-.94-2.06-.94 2.06-2.06.94zm-11 1L8.5 8.5l.94-2.06 2.06-.94-2.06-.94L8.5 2.5l-.94 2.06-2.06.94zm10 10l.94 2.06.94-2.06 2.06-.94-2.06-.94-.94-2.06-.94 2.06-2.06.94z\"/><path d=\"M17.41 7.96l-1.37-1.37c-.4-.4-.92-.59-1.43-.59-.52 0-1.04.2-1.43.59L10.3 9.45l-7.72 7.72c-.78.78-.78 2.05 0 2.83L4 21.41c.39.39.9.59 1.41.59.51 0 1.02-.2 1.41-.59l7.78-7.78 2.81-2.81c.8-.78.8-2.07 0-2.86zM5.41 20L4 18.59l7.72-7.72 1.47 1.35L5.41 20z\"/>\n",
              "  </svg>\n",
              "      </button>\n",
              "      \n",
              "  <style>\n",
              "    .colab-df-container {\n",
              "      display:flex;\n",
              "      flex-wrap:wrap;\n",
              "      gap: 12px;\n",
              "    }\n",
              "\n",
              "    .colab-df-convert {\n",
              "      background-color: #E8F0FE;\n",
              "      border: none;\n",
              "      border-radius: 50%;\n",
              "      cursor: pointer;\n",
              "      display: none;\n",
              "      fill: #1967D2;\n",
              "      height: 32px;\n",
              "      padding: 0 0 0 0;\n",
              "      width: 32px;\n",
              "    }\n",
              "\n",
              "    .colab-df-convert:hover {\n",
              "      background-color: #E2EBFA;\n",
              "      box-shadow: 0px 1px 2px rgba(60, 64, 67, 0.3), 0px 1px 3px 1px rgba(60, 64, 67, 0.15);\n",
              "      fill: #174EA6;\n",
              "    }\n",
              "\n",
              "    [theme=dark] .colab-df-convert {\n",
              "      background-color: #3B4455;\n",
              "      fill: #D2E3FC;\n",
              "    }\n",
              "\n",
              "    [theme=dark] .colab-df-convert:hover {\n",
              "      background-color: #434B5C;\n",
              "      box-shadow: 0px 1px 3px 1px rgba(0, 0, 0, 0.15);\n",
              "      filter: drop-shadow(0px 1px 2px rgba(0, 0, 0, 0.3));\n",
              "      fill: #FFFFFF;\n",
              "    }\n",
              "  </style>\n",
              "\n",
              "      <script>\n",
              "        const buttonEl =\n",
              "          document.querySelector('#df-7ec8dca0-6ef6-46e3-a676-825a3f1ddd50 button.colab-df-convert');\n",
              "        buttonEl.style.display =\n",
              "          google.colab.kernel.accessAllowed ? 'block' : 'none';\n",
              "\n",
              "        async function convertToInteractive(key) {\n",
              "          const element = document.querySelector('#df-7ec8dca0-6ef6-46e3-a676-825a3f1ddd50');\n",
              "          const dataTable =\n",
              "            await google.colab.kernel.invokeFunction('convertToInteractive',\n",
              "                                                     [key], {});\n",
              "          if (!dataTable) return;\n",
              "\n",
              "          const docLinkHtml = 'Like what you see? Visit the ' +\n",
              "            '<a target=\"_blank\" href=https://colab.research.google.com/notebooks/data_table.ipynb>data table notebook</a>'\n",
              "            + ' to learn more about interactive tables.';\n",
              "          element.innerHTML = '';\n",
              "          dataTable['output_type'] = 'display_data';\n",
              "          await google.colab.output.renderOutput(dataTable, element);\n",
              "          const docLink = document.createElement('div');\n",
              "          docLink.innerHTML = docLinkHtml;\n",
              "          element.appendChild(docLink);\n",
              "        }\n",
              "      </script>\n",
              "    </div>\n",
              "  </div>\n",
              "  "
            ],
            "text/plain": [
              "                                                info  ...  __search_id\n",
              "0  Stephanie: You totally love him. You want to w...  ...     43995987\n",
              "1  [to Tess while she is pretending to be Julia R...  ...     44054612\n",
              "2  Tess Ocean: [while trying to get through a cro...  ...     44054612\n",
              "3  Tess Ocean: Ma Marcus?::Julia Roberts: Um... N...  ...     44054612\n",
              "4  Julia McCullough: I thought up a name for you:...  ...     44264635\n",
              "\n",
              "[5 rows x 13 columns]"
            ]
          },
          "metadata": {}
        },
        {
          "output_type": "stream",
          "name": "stdout",
          "text": [
            "\n"
          ]
        },
        {
          "output_type": "display_data",
          "data": {
            "text/markdown": "---",
            "text/plain": [
              "<IPython.core.display.Markdown object>"
            ]
          },
          "metadata": {}
        },
        {
          "output_type": "display_data",
          "data": {
            "text/markdown": "**4th CJN**:",
            "text/plain": [
              "<IPython.core.display.Markdown object>"
            ]
          },
          "metadata": {}
        },
        {
          "output_type": "display_data",
          "data": {
            "text/markdown": "---",
            "text/plain": [
              "<IPython.core.display.Markdown object>"
            ]
          },
          "metadata": {}
        },
        {
          "output_type": "stream",
          "name": "stdout",
          "text": [
            "Graph:\n"
          ]
        },
        {
          "output_type": "display_data",
          "data": {
            "text/plain": [
              "<graphviz.dot.Digraph at 0x7fdae78b4690>"
            ],
            "image/svg+xml": "<?xml version=\"1.0\" encoding=\"UTF-8\" standalone=\"no\"?>\n<!DOCTYPE svg PUBLIC \"-//W3C//DTD SVG 1.1//EN\"\n \"http://www.w3.org/Graphics/SVG/1.1/DTD/svg11.dtd\">\n<!-- Generated by graphviz version 2.40.1 (20161225.0304)\n -->\n<!-- Title: %3 Pages: 1 -->\n<svg width=\"399pt\" height=\"98pt\"\n viewBox=\"0.00 0.00 399.33 98.00\" xmlns=\"http://www.w3.org/2000/svg\" xmlns:xlink=\"http://www.w3.org/1999/xlink\">\n<g id=\"graph0\" class=\"graph\" transform=\"scale(1 1) rotate(0) translate(4 94)\">\n<title>%3</title>\n<polygon fill=\"#ffffff\" stroke=\"transparent\" points=\"-4,4 -4,-94 395.3265,-94 395.3265,4 -4,4\"/>\n<!-- t1 -->\n<g id=\"node1\" class=\"node\">\n<title>t1</title>\n<ellipse fill=\"none\" stroke=\"#000000\" cx=\"61.7765\" cy=\"-18\" rx=\"61.5538\" ry=\"18\"/>\n<text text-anchor=\"middle\" x=\"61.7765\" y=\"-15.8\" font-family=\"Times,serif\" font-size=\"9.00\" fill=\"#000000\">PERSON.v(name{julia})</text>\n</g>\n<!-- t2 -->\n<g id=\"node2\" class=\"node\">\n<title>t2</title>\n<ellipse fill=\"none\" stroke=\"#000000\" cx=\"137.7765\" cy=\"-72\" rx=\"32.1641\" ry=\"18\"/>\n<text text-anchor=\"middle\" x=\"137.7765\" y=\"-69.8\" font-family=\"Times,serif\" font-size=\"9.00\" fill=\"#000000\">CASTING</text>\n</g>\n<!-- t2&#45;&gt;t1 -->\n<g id=\"edge1\" class=\"edge\">\n<title>t2&#45;&gt;t1</title>\n<path fill=\"none\" stroke=\"#000000\" d=\"M117.8084,-57.8121C110.1986,-52.4052 101.3328,-46.1058 92.929,-40.1347\"/>\n<polygon fill=\"#000000\" stroke=\"#000000\" points=\"94.5517,-37.4235 85.3905,-34.7784 90.9026,-42.5591 94.5517,-37.4235\"/>\n</g>\n<!-- t3 -->\n<g id=\"node3\" class=\"node\">\n<title>t3</title>\n<ellipse fill=\"none\" stroke=\"#000000\" cx=\"189.7765\" cy=\"-18\" rx=\"51.9231\" ry=\"18\"/>\n<text text-anchor=\"middle\" x=\"189.7765\" y=\"-15.8\" font-family=\"Times,serif\" font-size=\"9.00\" fill=\"#000000\">MOVIE.s(*{films})</text>\n</g>\n<!-- t2&#45;&gt;t3 -->\n<g id=\"edge2\" class=\"edge\">\n<title>t2&#45;&gt;t3</title>\n<path fill=\"none\" stroke=\"#000000\" d=\"M153.0969,-56.0903C157.4634,-51.5559 162.3162,-46.5164 167.0247,-41.6269\"/>\n<polygon fill=\"#000000\" stroke=\"#000000\" points=\"169.3228,-43.7816 173.2966,-35.1138 164.7847,-39.4117 169.3228,-43.7816\"/>\n</g>\n<!-- t4 -->\n<g id=\"node4\" class=\"node\">\n<title>t4</title>\n<ellipse fill=\"none\" stroke=\"#000000\" cx=\"240.7765\" cy=\"-72\" rx=\"32.1641\" ry=\"18\"/>\n<text text-anchor=\"middle\" x=\"240.7765\" y=\"-69.8\" font-family=\"Times,serif\" font-size=\"9.00\" fill=\"#000000\">CASTING</text>\n</g>\n<!-- t4&#45;&gt;t3 -->\n<g id=\"edge3\" class=\"edge\">\n<title>t4&#45;&gt;t3</title>\n<path fill=\"none\" stroke=\"#000000\" d=\"M225.4748,-55.7982C221.3745,-51.4567 216.8529,-46.6692 212.4456,-42.0026\"/>\n<polygon fill=\"#000000\" stroke=\"#000000\" points=\"214.6022,-39.6983 206.1324,-35.3181 210.022,-44.0241 214.6022,-39.6983\"/>\n</g>\n<!-- t5 -->\n<g id=\"node5\" class=\"node\">\n<title>t5</title>\n<ellipse fill=\"none\" stroke=\"#000000\" cx=\"323.7765\" cy=\"-18\" rx=\"67.6\" ry=\"18\"/>\n<text text-anchor=\"middle\" x=\"323.7765\" y=\"-15.8\" font-family=\"Times,serif\" font-size=\"9.00\" fill=\"#000000\">PERSON.v(name{roberts})</text>\n</g>\n<!-- t4&#45;&gt;t5 -->\n<g id=\"edge4\" class=\"edge\">\n<title>t4&#45;&gt;t5</title>\n<path fill=\"none\" stroke=\"#000000\" d=\"M262.151,-58.0937C270.7067,-52.5273 280.7682,-45.9813 290.2521,-39.811\"/>\n<polygon fill=\"#000000\" stroke=\"#000000\" points=\"292.211,-42.2946 298.0371,-34.7461 288.7753,-37.0139 292.211,-42.2946\"/>\n</g>\n</g>\n</svg>\n"
          },
          "metadata": {}
        },
        {
          "output_type": "display_data",
          "data": {
            "text/markdown": "---",
            "text/plain": [
              "<IPython.core.display.Markdown object>"
            ]
          },
          "metadata": {}
        },
        {
          "output_type": "stream",
          "name": "stdout",
          "text": [
            "SQL:\n",
            "  \n",
            "  SELECT\n",
            "  \tt3.*,\n",
            "  \tt5.name,\n",
            "  \tt1.name\n",
            "  FROM\n",
            "  \tperson t1\n",
            "  \tJOIN casting t2 ON t2.person_id = t1.id\n",
            "  \tJOIN movie t3 ON t2.movie_id = t3.id\n",
            "  \tJOIN casting t4 ON t4.movie_id = t3.id\n",
            "  \tJOIN person t5 ON t4.person_id = t5.id\n",
            "  WHERE\n",
            "  \tt1.ctid <> t5.ctid\n",
            "  \tAND t2.ctid <> t4.ctid\n",
            "  \tAND t1.name_tsvector @@ to_tsquery('julia')\n",
            "  \tAND t5.name_tsvector @@ to_tsquery('roberts')\n",
            "  LIMIT 1000;\n",
            "\n"
          ]
        },
        {
          "output_type": "display_data",
          "data": {
            "text/markdown": "---",
            "text/plain": [
              "<IPython.core.display.Markdown object>"
            ]
          },
          "metadata": {}
        },
        {
          "output_type": "stream",
          "name": "stdout",
          "text": [
            "JNTs:\n"
          ]
        },
        {
          "output_type": "display_data",
          "data": {
            "application/vnd.google.colaboratory.module+javascript": "\n      import \"https://ssl.gstatic.com/colaboratory/data_table/a6224c040fa35dcf/data_table.js\";\n\n      window.createDataTable({\n        data: [[{\n            'v': 0,\n            'f': \"0\",\n        },\n{\n            'v': 361139,\n            'f': \"361139\",\n        },\n\"Numb\",\n\"I\",\n{\n            'v': 1,\n            'f': \"1\",\n        },\n{\n            'v': 2007,\n            'f': \"2007\",\n        },\n{\n            'v': null,\n            'f': \"null\",\n        },\n\"N51\",\n{\n            'v': null,\n            'f': \"null\",\n        },\n{\n            'v': null,\n            'f': \"null\",\n        },\n{\n            'v': null,\n            'f': \"null\",\n        },\n{\n            'v': null,\n            'f': \"null\",\n        },\n{\n            'v': 44035904,\n            'f': \"44035904\",\n        },\n\"Halvorsen, Robert\",\n\"Anderson, Julia\"],\n [{\n            'v': 1,\n            'f': \"1\",\n        },\n{\n            'v': 361139,\n            'f': \"361139\",\n        },\n\"Numb\",\n\"I\",\n{\n            'v': 1,\n            'f': \"1\",\n        },\n{\n            'v': 2007,\n            'f': \"2007\",\n        },\n{\n            'v': null,\n            'f': \"null\",\n        },\n\"N51\",\n{\n            'v': null,\n            'f': \"null\",\n        },\n{\n            'v': null,\n            'f': \"null\",\n        },\n{\n            'v': null,\n            'f': \"null\",\n        },\n{\n            'v': null,\n            'f': \"null\",\n        },\n{\n            'v': 44035904,\n            'f': \"44035904\",\n        },\n\"Galletti, Robert\",\n\"Anderson, Julia\"],\n [{\n            'v': 2,\n            'f': \"2\",\n        },\n{\n            'v': 244253,\n            'f': \"244253\",\n        },\n\"Jackie Brown\",\nnull,\n{\n            'v': 1,\n            'f': \"1\",\n        },\n{\n            'v': 1997,\n            'f': \"1997\",\n        },\n{\n            'v': null,\n            'f': \"null\",\n        },\n\"J2165\",\n{\n            'v': null,\n            'f': \"null\",\n        },\n{\n            'v': null,\n            'f': \"null\",\n        },\n{\n            'v': null,\n            'f': \"null\",\n        },\n{\n            'v': null,\n            'f': \"null\",\n        },\n{\n            'v': 43943470,\n            'f': \"43943470\",\n        },\n\"Roberts, Nick\",\n\"Ervin, Julia\"],\n [{\n            'v': 3,\n            'f': \"3\",\n        },\n{\n            'v': 244253,\n            'f': \"244253\",\n        },\n\"Jackie Brown\",\nnull,\n{\n            'v': 1,\n            'f': \"1\",\n        },\n{\n            'v': 1997,\n            'f': \"1997\",\n        },\n{\n            'v': null,\n            'f': \"null\",\n        },\n\"J2165\",\n{\n            'v': null,\n            'f': \"null\",\n        },\n{\n            'v': null,\n            'f': \"null\",\n        },\n{\n            'v': null,\n            'f': \"null\",\n        },\n{\n            'v': null,\n            'f': \"null\",\n        },\n{\n            'v': 43943470,\n            'f': \"43943470\",\n        },\n\"Gonzalez, Robert\",\n\"Ervin, Julia\"],\n [{\n            'v': 4,\n            'f': \"4\",\n        },\n{\n            'v': 244253,\n            'f': \"244253\",\n        },\n\"Jackie Brown\",\nnull,\n{\n            'v': 1,\n            'f': \"1\",\n        },\n{\n            'v': 1997,\n            'f': \"1997\",\n        },\n{\n            'v': null,\n            'f': \"null\",\n        },\n\"J2165\",\n{\n            'v': null,\n            'f': \"null\",\n        },\n{\n            'v': null,\n            'f': \"null\",\n        },\n{\n            'v': null,\n            'f': \"null\",\n        },\n{\n            'v': null,\n            'f': \"null\",\n        },\n{\n            'v': 43943470,\n            'f': \"43943470\",\n        },\n\"Forster, Robert\",\n\"Ervin, Julia\"]],\n        columns: [[\"number\", \"index\"], [\"number\", \"id\"], [\"string\", \"title\"], [\"string\", \"imdb_index\"], [\"number\", \"kind_id\"], [\"number\", \"year\"], [\"number\", \"imdb_id\"], [\"string\", \"phonetic_code\"], [\"number\", \"episode_of_id\"], [\"number\", \"season_nr\"], [\"number\", \"episode_nr\"], [\"number\", \"series_years\"], [\"number\", \"__search_id\"], [\"string\", \"name\"], [\"string\", \"name\"]],\n        columnOptions: [{\"width\": \"1px\", \"className\": \"index_column\"}],\n        rowsPerPage: 25,\n        helpUrl: \"https://colab.research.google.com/notebooks/data_table.ipynb\",\n        suppressOutputScrolling: true,\n        minimumWidth: undefined,\n      });\n    ",
            "text/html": [
              "\n",
              "  <div id=\"df-039507b6-6215-461d-b6cf-55fda392ab74\">\n",
              "    <div class=\"colab-df-container\">\n",
              "      <div>\n",
              "<style scoped>\n",
              "    .dataframe tbody tr th:only-of-type {\n",
              "        vertical-align: middle;\n",
              "    }\n",
              "\n",
              "    .dataframe tbody tr th {\n",
              "        vertical-align: top;\n",
              "    }\n",
              "\n",
              "    .dataframe thead th {\n",
              "        text-align: right;\n",
              "    }\n",
              "</style>\n",
              "<table border=\"1\" class=\"dataframe\">\n",
              "  <thead>\n",
              "    <tr style=\"text-align: right;\">\n",
              "      <th></th>\n",
              "      <th>id</th>\n",
              "      <th>title</th>\n",
              "      <th>imdb_index</th>\n",
              "      <th>kind_id</th>\n",
              "      <th>year</th>\n",
              "      <th>imdb_id</th>\n",
              "      <th>phonetic_code</th>\n",
              "      <th>episode_of_id</th>\n",
              "      <th>season_nr</th>\n",
              "      <th>episode_nr</th>\n",
              "      <th>series_years</th>\n",
              "      <th>__search_id</th>\n",
              "      <th>name</th>\n",
              "      <th>name</th>\n",
              "    </tr>\n",
              "  </thead>\n",
              "  <tbody>\n",
              "    <tr>\n",
              "      <th>0</th>\n",
              "      <td>361139</td>\n",
              "      <td>Numb</td>\n",
              "      <td>I</td>\n",
              "      <td>1</td>\n",
              "      <td>2007</td>\n",
              "      <td>None</td>\n",
              "      <td>N51</td>\n",
              "      <td>None</td>\n",
              "      <td>None</td>\n",
              "      <td>None</td>\n",
              "      <td>None</td>\n",
              "      <td>44035904</td>\n",
              "      <td>Halvorsen, Robert</td>\n",
              "      <td>Anderson, Julia</td>\n",
              "    </tr>\n",
              "    <tr>\n",
              "      <th>1</th>\n",
              "      <td>361139</td>\n",
              "      <td>Numb</td>\n",
              "      <td>I</td>\n",
              "      <td>1</td>\n",
              "      <td>2007</td>\n",
              "      <td>None</td>\n",
              "      <td>N51</td>\n",
              "      <td>None</td>\n",
              "      <td>None</td>\n",
              "      <td>None</td>\n",
              "      <td>None</td>\n",
              "      <td>44035904</td>\n",
              "      <td>Galletti, Robert</td>\n",
              "      <td>Anderson, Julia</td>\n",
              "    </tr>\n",
              "    <tr>\n",
              "      <th>2</th>\n",
              "      <td>244253</td>\n",
              "      <td>Jackie Brown</td>\n",
              "      <td>None</td>\n",
              "      <td>1</td>\n",
              "      <td>1997</td>\n",
              "      <td>None</td>\n",
              "      <td>J2165</td>\n",
              "      <td>None</td>\n",
              "      <td>None</td>\n",
              "      <td>None</td>\n",
              "      <td>None</td>\n",
              "      <td>43943470</td>\n",
              "      <td>Roberts, Nick</td>\n",
              "      <td>Ervin, Julia</td>\n",
              "    </tr>\n",
              "    <tr>\n",
              "      <th>3</th>\n",
              "      <td>244253</td>\n",
              "      <td>Jackie Brown</td>\n",
              "      <td>None</td>\n",
              "      <td>1</td>\n",
              "      <td>1997</td>\n",
              "      <td>None</td>\n",
              "      <td>J2165</td>\n",
              "      <td>None</td>\n",
              "      <td>None</td>\n",
              "      <td>None</td>\n",
              "      <td>None</td>\n",
              "      <td>43943470</td>\n",
              "      <td>Gonzalez, Robert</td>\n",
              "      <td>Ervin, Julia</td>\n",
              "    </tr>\n",
              "    <tr>\n",
              "      <th>4</th>\n",
              "      <td>244253</td>\n",
              "      <td>Jackie Brown</td>\n",
              "      <td>None</td>\n",
              "      <td>1</td>\n",
              "      <td>1997</td>\n",
              "      <td>None</td>\n",
              "      <td>J2165</td>\n",
              "      <td>None</td>\n",
              "      <td>None</td>\n",
              "      <td>None</td>\n",
              "      <td>None</td>\n",
              "      <td>43943470</td>\n",
              "      <td>Forster, Robert</td>\n",
              "      <td>Ervin, Julia</td>\n",
              "    </tr>\n",
              "  </tbody>\n",
              "</table>\n",
              "</div>\n",
              "      <button class=\"colab-df-convert\" onclick=\"convertToInteractive('df-039507b6-6215-461d-b6cf-55fda392ab74')\"\n",
              "              title=\"Convert this dataframe to an interactive table.\"\n",
              "              style=\"display:none;\">\n",
              "        \n",
              "  <svg xmlns=\"http://www.w3.org/2000/svg\" height=\"24px\"viewBox=\"0 0 24 24\"\n",
              "       width=\"24px\">\n",
              "    <path d=\"M0 0h24v24H0V0z\" fill=\"none\"/>\n",
              "    <path d=\"M18.56 5.44l.94 2.06.94-2.06 2.06-.94-2.06-.94-.94-2.06-.94 2.06-2.06.94zm-11 1L8.5 8.5l.94-2.06 2.06-.94-2.06-.94L8.5 2.5l-.94 2.06-2.06.94zm10 10l.94 2.06.94-2.06 2.06-.94-2.06-.94-.94-2.06-.94 2.06-2.06.94z\"/><path d=\"M17.41 7.96l-1.37-1.37c-.4-.4-.92-.59-1.43-.59-.52 0-1.04.2-1.43.59L10.3 9.45l-7.72 7.72c-.78.78-.78 2.05 0 2.83L4 21.41c.39.39.9.59 1.41.59.51 0 1.02-.2 1.41-.59l7.78-7.78 2.81-2.81c.8-.78.8-2.07 0-2.86zM5.41 20L4 18.59l7.72-7.72 1.47 1.35L5.41 20z\"/>\n",
              "  </svg>\n",
              "      </button>\n",
              "      \n",
              "  <style>\n",
              "    .colab-df-container {\n",
              "      display:flex;\n",
              "      flex-wrap:wrap;\n",
              "      gap: 12px;\n",
              "    }\n",
              "\n",
              "    .colab-df-convert {\n",
              "      background-color: #E8F0FE;\n",
              "      border: none;\n",
              "      border-radius: 50%;\n",
              "      cursor: pointer;\n",
              "      display: none;\n",
              "      fill: #1967D2;\n",
              "      height: 32px;\n",
              "      padding: 0 0 0 0;\n",
              "      width: 32px;\n",
              "    }\n",
              "\n",
              "    .colab-df-convert:hover {\n",
              "      background-color: #E2EBFA;\n",
              "      box-shadow: 0px 1px 2px rgba(60, 64, 67, 0.3), 0px 1px 3px 1px rgba(60, 64, 67, 0.15);\n",
              "      fill: #174EA6;\n",
              "    }\n",
              "\n",
              "    [theme=dark] .colab-df-convert {\n",
              "      background-color: #3B4455;\n",
              "      fill: #D2E3FC;\n",
              "    }\n",
              "\n",
              "    [theme=dark] .colab-df-convert:hover {\n",
              "      background-color: #434B5C;\n",
              "      box-shadow: 0px 1px 3px 1px rgba(0, 0, 0, 0.15);\n",
              "      filter: drop-shadow(0px 1px 2px rgba(0, 0, 0, 0.3));\n",
              "      fill: #FFFFFF;\n",
              "    }\n",
              "  </style>\n",
              "\n",
              "      <script>\n",
              "        const buttonEl =\n",
              "          document.querySelector('#df-039507b6-6215-461d-b6cf-55fda392ab74 button.colab-df-convert');\n",
              "        buttonEl.style.display =\n",
              "          google.colab.kernel.accessAllowed ? 'block' : 'none';\n",
              "\n",
              "        async function convertToInteractive(key) {\n",
              "          const element = document.querySelector('#df-039507b6-6215-461d-b6cf-55fda392ab74');\n",
              "          const dataTable =\n",
              "            await google.colab.kernel.invokeFunction('convertToInteractive',\n",
              "                                                     [key], {});\n",
              "          if (!dataTable) return;\n",
              "\n",
              "          const docLinkHtml = 'Like what you see? Visit the ' +\n",
              "            '<a target=\"_blank\" href=https://colab.research.google.com/notebooks/data_table.ipynb>data table notebook</a>'\n",
              "            + ' to learn more about interactive tables.';\n",
              "          element.innerHTML = '';\n",
              "          dataTable['output_type'] = 'display_data';\n",
              "          await google.colab.output.renderOutput(dataTable, element);\n",
              "          const docLink = document.createElement('div');\n",
              "          docLink.innerHTML = docLinkHtml;\n",
              "          element.appendChild(docLink);\n",
              "        }\n",
              "      </script>\n",
              "    </div>\n",
              "  </div>\n",
              "  "
            ],
            "text/plain": [
              "       id         title  ...               name             name\n",
              "0  361139          Numb  ...  Halvorsen, Robert  Anderson, Julia\n",
              "1  361139          Numb  ...   Galletti, Robert  Anderson, Julia\n",
              "2  244253  Jackie Brown  ...      Roberts, Nick     Ervin, Julia\n",
              "3  244253  Jackie Brown  ...   Gonzalez, Robert     Ervin, Julia\n",
              "4  244253  Jackie Brown  ...    Forster, Robert     Ervin, Julia\n",
              "\n",
              "[5 rows x 14 columns]"
            ]
          },
          "metadata": {}
        },
        {
          "output_type": "stream",
          "name": "stdout",
          "text": [
            "\n"
          ]
        },
        {
          "output_type": "display_data",
          "data": {
            "text/markdown": "---",
            "text/plain": [
              "<IPython.core.display.Markdown object>"
            ]
          },
          "metadata": {}
        },
        {
          "output_type": "display_data",
          "data": {
            "text/markdown": "**5th CJN**:",
            "text/plain": [
              "<IPython.core.display.Markdown object>"
            ]
          },
          "metadata": {}
        },
        {
          "output_type": "display_data",
          "data": {
            "text/markdown": "---",
            "text/plain": [
              "<IPython.core.display.Markdown object>"
            ]
          },
          "metadata": {}
        },
        {
          "output_type": "stream",
          "name": "stdout",
          "text": [
            "Graph:\n"
          ]
        },
        {
          "output_type": "display_data",
          "data": {
            "text/plain": [
              "<graphviz.dot.Digraph at 0x7fdae78b4f90>"
            ],
            "image/svg+xml": "<?xml version=\"1.0\" encoding=\"UTF-8\" standalone=\"no\"?>\n<!DOCTYPE svg PUBLIC \"-//W3C//DTD SVG 1.1//EN\"\n \"http://www.w3.org/Graphics/SVG/1.1/DTD/svg11.dtd\">\n<!-- Generated by graphviz version 2.40.1 (20161225.0304)\n -->\n<!-- Title: %3 Pages: 1 -->\n<svg width=\"387pt\" height=\"98pt\"\n viewBox=\"0.00 0.00 386.52 98.00\" xmlns=\"http://www.w3.org/2000/svg\" xmlns:xlink=\"http://www.w3.org/1999/xlink\">\n<g id=\"graph0\" class=\"graph\" transform=\"scale(1 1) rotate(0) translate(4 94)\">\n<title>%3</title>\n<polygon fill=\"#ffffff\" stroke=\"transparent\" points=\"-4,4 -4,-94 382.5226,-94 382.5226,4 -4,4\"/>\n<!-- t1 -->\n<g id=\"node1\" class=\"node\">\n<title>t1</title>\n<ellipse fill=\"none\" stroke=\"#000000\" cx=\"77.3649\" cy=\"-18\" rx=\"77.2301\" ry=\"18\"/>\n<text text-anchor=\"middle\" x=\"77.3649\" y=\"-15.8\" font-family=\"Times,serif\" font-size=\"9.00\" fill=\"#000000\">PERSON.v(name{roberts,julia})</text>\n</g>\n<!-- t2 -->\n<g id=\"node2\" class=\"node\">\n<title>t2</title>\n<ellipse fill=\"none\" stroke=\"#000000\" cx=\"156.3649\" cy=\"-72\" rx=\"32.1641\" ry=\"18\"/>\n<text text-anchor=\"middle\" x=\"156.3649\" y=\"-69.8\" font-family=\"Times,serif\" font-size=\"9.00\" fill=\"#000000\">CASTING</text>\n</g>\n<!-- t2&#45;&gt;t1 -->\n<g id=\"edge1\" class=\"edge\">\n<title>t2&#45;&gt;t1</title>\n<path fill=\"none\" stroke=\"#000000\" d=\"M135.6086,-57.8121C127.7591,-52.4467 118.624,-46.2024 109.9484,-40.2723\"/>\n<polygon fill=\"#000000\" stroke=\"#000000\" points=\"111.6942,-37.65 102.4865,-35.1717 108.139,-42.8511 111.6942,-37.65\"/>\n</g>\n<!-- t3 -->\n<g id=\"node3\" class=\"node\">\n<title>t3</title>\n<ellipse fill=\"none\" stroke=\"#000000\" cx=\"209.3649\" cy=\"-18\" rx=\"40.9837\" ry=\"18\"/>\n<text text-anchor=\"middle\" x=\"209.3649\" y=\"-15.8\" font-family=\"Times,serif\" font-size=\"9.00\" fill=\"#000000\">CHARACTER</text>\n</g>\n<!-- t2&#45;&gt;t3 -->\n<g id=\"edge2\" class=\"edge\">\n<title>t2&#45;&gt;t3</title>\n<path fill=\"none\" stroke=\"#000000\" d=\"M171.98,-56.0903C176.5144,-51.4704 181.5634,-46.3261 186.4471,-41.3503\"/>\n<polygon fill=\"#000000\" stroke=\"#000000\" points=\"188.8841,-43.3642 192.9403,-34.7346 184.3879,-38.9513 188.8841,-43.3642\"/>\n</g>\n<!-- t4 -->\n<g id=\"node4\" class=\"node\">\n<title>t4</title>\n<ellipse fill=\"none\" stroke=\"#000000\" cx=\"261.3649\" cy=\"-72\" rx=\"32.1641\" ry=\"18\"/>\n<text text-anchor=\"middle\" x=\"261.3649\" y=\"-69.8\" font-family=\"Times,serif\" font-size=\"9.00\" fill=\"#000000\">CASTING</text>\n</g>\n<!-- t4&#45;&gt;t3 -->\n<g id=\"edge4\" class=\"edge\">\n<title>t4&#45;&gt;t3</title>\n<path fill=\"none\" stroke=\"#000000\" d=\"M246.0445,-56.0903C241.5956,-51.4704 236.6419,-46.3261 231.8504,-41.3503\"/>\n<polygon fill=\"#000000\" stroke=\"#000000\" points=\"233.9915,-39.0325 225.4797,-34.7346 229.4535,-43.4025 233.9915,-39.0325\"/>\n</g>\n<!-- t5 -->\n<g id=\"node5\" class=\"node\">\n<title>t5</title>\n<ellipse fill=\"none\" stroke=\"#000000\" cx=\"321.3649\" cy=\"-18\" rx=\"57.3158\" ry=\"18\"/>\n<text text-anchor=\"middle\" x=\"321.3649\" y=\"-15.8\" font-family=\"Times,serif\" font-size=\"9.00\" fill=\"#000000\">MOVIE.v(title{films})</text>\n</g>\n<!-- t4&#45;&gt;t5 -->\n<g id=\"edge3\" class=\"edge\">\n<title>t4&#45;&gt;t5</title>\n<path fill=\"none\" stroke=\"#000000\" d=\"M278.398,-56.6702C283.7768,-51.8293 289.8442,-46.3687 295.688,-41.1092\"/>\n<polygon fill=\"#000000\" stroke=\"#000000\" points=\"297.8084,-43.4388 302.3909,-35.0767 293.5939,-38.756 297.8084,-43.4388\"/>\n</g>\n</g>\n</svg>\n"
          },
          "metadata": {}
        },
        {
          "output_type": "display_data",
          "data": {
            "text/markdown": "---",
            "text/plain": [
              "<IPython.core.display.Markdown object>"
            ]
          },
          "metadata": {}
        },
        {
          "output_type": "stream",
          "name": "stdout",
          "text": [
            "SQL:\n",
            "  \n",
            "  SELECT\n",
            "  \tt5.title,\n",
            "  \tt1.name\n",
            "  FROM\n",
            "  \tperson t1\n",
            "  \tJOIN casting t2 ON t2.person_id = t1.id\n",
            "  \tJOIN character t3 ON t2.person_role_id = t3.id\n",
            "  \tJOIN casting t4 ON t4.person_role_id = t3.id\n",
            "  \tJOIN movie t5 ON t4.movie_id = t5.id\n",
            "  WHERE\n",
            "  \tt2.ctid <> t4.ctid\n",
            "  \tAND t1.name_tsvector @@ to_tsquery('roberts & julia')\n",
            "  \tAND t5.title_tsvector @@ to_tsquery('films')\n",
            "  LIMIT 1000;\n",
            "\n"
          ]
        },
        {
          "output_type": "display_data",
          "data": {
            "text/markdown": "---",
            "text/plain": [
              "<IPython.core.display.Markdown object>"
            ]
          },
          "metadata": {}
        },
        {
          "output_type": "stream",
          "name": "stdout",
          "text": [
            "JNTs:\n"
          ]
        },
        {
          "output_type": "display_data",
          "data": {
            "application/vnd.google.colaboratory.module+javascript": "\n      import \"https://ssl.gstatic.com/colaboratory/data_table/a6224c040fa35dcf/data_table.js\";\n\n      window.createDataTable({\n        data: [[{\n            'v': 0,\n            'f': \"0\",\n        },\n\"The Film That Was Lost\",\n\"Roberts, Julia\"],\n [{\n            'v': 1,\n            'f': \"1\",\n        },\n\"The Fantasy Film Worlds of George Pal\",\n\"Roberts, Julia\"],\n [{\n            'v': 2,\n            'f': \"2\",\n        },\n\"Going to Pieces: The Rise and Fall of the Slasher Film\",\n\"Roberts, Julia\"],\n [{\n            'v': 3,\n            'f': \"3\",\n        },\n\"Going to Pieces: The Rise and Fall of the Slasher Film\",\n\"Roberts, Julia\"],\n [{\n            'v': 4,\n            'f': \"4\",\n        },\n\"The Fantasy Film Worlds of George Pal\",\n\"Roberts, Julia\"]],\n        columns: [[\"number\", \"index\"], [\"string\", \"title\"], [\"string\", \"name\"]],\n        columnOptions: [{\"width\": \"1px\", \"className\": \"index_column\"}],\n        rowsPerPage: 25,\n        helpUrl: \"https://colab.research.google.com/notebooks/data_table.ipynb\",\n        suppressOutputScrolling: true,\n        minimumWidth: undefined,\n      });\n    ",
            "text/html": [
              "\n",
              "  <div id=\"df-137099ba-b219-4052-8b3d-31c0c8a40d35\">\n",
              "    <div class=\"colab-df-container\">\n",
              "      <div>\n",
              "<style scoped>\n",
              "    .dataframe tbody tr th:only-of-type {\n",
              "        vertical-align: middle;\n",
              "    }\n",
              "\n",
              "    .dataframe tbody tr th {\n",
              "        vertical-align: top;\n",
              "    }\n",
              "\n",
              "    .dataframe thead th {\n",
              "        text-align: right;\n",
              "    }\n",
              "</style>\n",
              "<table border=\"1\" class=\"dataframe\">\n",
              "  <thead>\n",
              "    <tr style=\"text-align: right;\">\n",
              "      <th></th>\n",
              "      <th>title</th>\n",
              "      <th>name</th>\n",
              "    </tr>\n",
              "  </thead>\n",
              "  <tbody>\n",
              "    <tr>\n",
              "      <th>0</th>\n",
              "      <td>The Film That Was Lost</td>\n",
              "      <td>Roberts, Julia</td>\n",
              "    </tr>\n",
              "    <tr>\n",
              "      <th>1</th>\n",
              "      <td>The Fantasy Film Worlds of George Pal</td>\n",
              "      <td>Roberts, Julia</td>\n",
              "    </tr>\n",
              "    <tr>\n",
              "      <th>2</th>\n",
              "      <td>Going to Pieces: The Rise and Fall of the Slas...</td>\n",
              "      <td>Roberts, Julia</td>\n",
              "    </tr>\n",
              "    <tr>\n",
              "      <th>3</th>\n",
              "      <td>Going to Pieces: The Rise and Fall of the Slas...</td>\n",
              "      <td>Roberts, Julia</td>\n",
              "    </tr>\n",
              "    <tr>\n",
              "      <th>4</th>\n",
              "      <td>The Fantasy Film Worlds of George Pal</td>\n",
              "      <td>Roberts, Julia</td>\n",
              "    </tr>\n",
              "  </tbody>\n",
              "</table>\n",
              "</div>\n",
              "      <button class=\"colab-df-convert\" onclick=\"convertToInteractive('df-137099ba-b219-4052-8b3d-31c0c8a40d35')\"\n",
              "              title=\"Convert this dataframe to an interactive table.\"\n",
              "              style=\"display:none;\">\n",
              "        \n",
              "  <svg xmlns=\"http://www.w3.org/2000/svg\" height=\"24px\"viewBox=\"0 0 24 24\"\n",
              "       width=\"24px\">\n",
              "    <path d=\"M0 0h24v24H0V0z\" fill=\"none\"/>\n",
              "    <path d=\"M18.56 5.44l.94 2.06.94-2.06 2.06-.94-2.06-.94-.94-2.06-.94 2.06-2.06.94zm-11 1L8.5 8.5l.94-2.06 2.06-.94-2.06-.94L8.5 2.5l-.94 2.06-2.06.94zm10 10l.94 2.06.94-2.06 2.06-.94-2.06-.94-.94-2.06-.94 2.06-2.06.94z\"/><path d=\"M17.41 7.96l-1.37-1.37c-.4-.4-.92-.59-1.43-.59-.52 0-1.04.2-1.43.59L10.3 9.45l-7.72 7.72c-.78.78-.78 2.05 0 2.83L4 21.41c.39.39.9.59 1.41.59.51 0 1.02-.2 1.41-.59l7.78-7.78 2.81-2.81c.8-.78.8-2.07 0-2.86zM5.41 20L4 18.59l7.72-7.72 1.47 1.35L5.41 20z\"/>\n",
              "  </svg>\n",
              "      </button>\n",
              "      \n",
              "  <style>\n",
              "    .colab-df-container {\n",
              "      display:flex;\n",
              "      flex-wrap:wrap;\n",
              "      gap: 12px;\n",
              "    }\n",
              "\n",
              "    .colab-df-convert {\n",
              "      background-color: #E8F0FE;\n",
              "      border: none;\n",
              "      border-radius: 50%;\n",
              "      cursor: pointer;\n",
              "      display: none;\n",
              "      fill: #1967D2;\n",
              "      height: 32px;\n",
              "      padding: 0 0 0 0;\n",
              "      width: 32px;\n",
              "    }\n",
              "\n",
              "    .colab-df-convert:hover {\n",
              "      background-color: #E2EBFA;\n",
              "      box-shadow: 0px 1px 2px rgba(60, 64, 67, 0.3), 0px 1px 3px 1px rgba(60, 64, 67, 0.15);\n",
              "      fill: #174EA6;\n",
              "    }\n",
              "\n",
              "    [theme=dark] .colab-df-convert {\n",
              "      background-color: #3B4455;\n",
              "      fill: #D2E3FC;\n",
              "    }\n",
              "\n",
              "    [theme=dark] .colab-df-convert:hover {\n",
              "      background-color: #434B5C;\n",
              "      box-shadow: 0px 1px 3px 1px rgba(0, 0, 0, 0.15);\n",
              "      filter: drop-shadow(0px 1px 2px rgba(0, 0, 0, 0.3));\n",
              "      fill: #FFFFFF;\n",
              "    }\n",
              "  </style>\n",
              "\n",
              "      <script>\n",
              "        const buttonEl =\n",
              "          document.querySelector('#df-137099ba-b219-4052-8b3d-31c0c8a40d35 button.colab-df-convert');\n",
              "        buttonEl.style.display =\n",
              "          google.colab.kernel.accessAllowed ? 'block' : 'none';\n",
              "\n",
              "        async function convertToInteractive(key) {\n",
              "          const element = document.querySelector('#df-137099ba-b219-4052-8b3d-31c0c8a40d35');\n",
              "          const dataTable =\n",
              "            await google.colab.kernel.invokeFunction('convertToInteractive',\n",
              "                                                     [key], {});\n",
              "          if (!dataTable) return;\n",
              "\n",
              "          const docLinkHtml = 'Like what you see? Visit the ' +\n",
              "            '<a target=\"_blank\" href=https://colab.research.google.com/notebooks/data_table.ipynb>data table notebook</a>'\n",
              "            + ' to learn more about interactive tables.';\n",
              "          element.innerHTML = '';\n",
              "          dataTable['output_type'] = 'display_data';\n",
              "          await google.colab.output.renderOutput(dataTable, element);\n",
              "          const docLink = document.createElement('div');\n",
              "          docLink.innerHTML = docLinkHtml;\n",
              "          element.appendChild(docLink);\n",
              "        }\n",
              "      </script>\n",
              "    </div>\n",
              "  </div>\n",
              "  "
            ],
            "text/plain": [
              "                                               title            name\n",
              "0                             The Film That Was Lost  Roberts, Julia\n",
              "1              The Fantasy Film Worlds of George Pal  Roberts, Julia\n",
              "2  Going to Pieces: The Rise and Fall of the Slas...  Roberts, Julia\n",
              "3  Going to Pieces: The Rise and Fall of the Slas...  Roberts, Julia\n",
              "4              The Fantasy Film Worlds of George Pal  Roberts, Julia"
            ]
          },
          "metadata": {}
        },
        {
          "output_type": "stream",
          "name": "stdout",
          "text": [
            "\n"
          ]
        }
      ]
    },
    {
      "cell_type": "code",
      "source": [
        "results.qms()"
      ],
      "metadata": {
        "id": "scMhvLTHFaPc",
        "outputId": "bb4c750f-c944-4ed6-d0ce-82c232eef28c",
        "colab": {
          "base_uri": "https://localhost:8080/",
          "height": 351
        }
      },
      "execution_count": 24,
      "outputs": [
        {
          "output_type": "display_data",
          "data": {
            "text/markdown": "---",
            "text/plain": [
              "<IPython.core.display.Markdown object>"
            ]
          },
          "metadata": {}
        },
        {
          "output_type": "display_data",
          "data": {
            "text/markdown": "**1st QM**:",
            "text/plain": [
              "<IPython.core.display.Markdown object>"
            ]
          },
          "metadata": {}
        },
        {
          "output_type": "display_data",
          "data": {
            "text/markdown": "---",
            "text/plain": [
              "<IPython.core.display.Markdown object>"
            ]
          },
          "metadata": {}
        },
        {
          "output_type": "stream",
          "name": "stdout",
          "text": [
            "{PERSON.v(name{roberts,julia}), MOVIE.s(*{films})}\n"
          ]
        },
        {
          "output_type": "display_data",
          "data": {
            "text/markdown": "---",
            "text/plain": [
              "<IPython.core.display.Markdown object>"
            ]
          },
          "metadata": {}
        },
        {
          "output_type": "display_data",
          "data": {
            "text/markdown": "**2nd QM**:",
            "text/plain": [
              "<IPython.core.display.Markdown object>"
            ]
          },
          "metadata": {}
        },
        {
          "output_type": "display_data",
          "data": {
            "text/markdown": "---",
            "text/plain": [
              "<IPython.core.display.Markdown object>"
            ]
          },
          "metadata": {}
        },
        {
          "output_type": "stream",
          "name": "stdout",
          "text": [
            "{MOVIE.s(*{films}).v(title{roberts,julia})}\n"
          ]
        },
        {
          "output_type": "display_data",
          "data": {
            "text/markdown": "---",
            "text/plain": [
              "<IPython.core.display.Markdown object>"
            ]
          },
          "metadata": {}
        },
        {
          "output_type": "display_data",
          "data": {
            "text/markdown": "**3rd QM**:",
            "text/plain": [
              "<IPython.core.display.Markdown object>"
            ]
          },
          "metadata": {}
        },
        {
          "output_type": "display_data",
          "data": {
            "text/markdown": "---",
            "text/plain": [
              "<IPython.core.display.Markdown object>"
            ]
          },
          "metadata": {}
        },
        {
          "output_type": "stream",
          "name": "stdout",
          "text": [
            "{MOVIEINFO.v(info{roberts,julia}), MOVIE.s(*{films})}\n"
          ]
        },
        {
          "output_type": "display_data",
          "data": {
            "text/markdown": "---",
            "text/plain": [
              "<IPython.core.display.Markdown object>"
            ]
          },
          "metadata": {}
        },
        {
          "output_type": "display_data",
          "data": {
            "text/markdown": "**4th QM**:",
            "text/plain": [
              "<IPython.core.display.Markdown object>"
            ]
          },
          "metadata": {}
        },
        {
          "output_type": "display_data",
          "data": {
            "text/markdown": "---",
            "text/plain": [
              "<IPython.core.display.Markdown object>"
            ]
          },
          "metadata": {}
        },
        {
          "output_type": "stream",
          "name": "stdout",
          "text": [
            "{PERSON.v(name{julia}), PERSON.v(name{roberts}), MOVIE.s(*{films})}\n"
          ]
        },
        {
          "output_type": "display_data",
          "data": {
            "text/markdown": "---",
            "text/plain": [
              "<IPython.core.display.Markdown object>"
            ]
          },
          "metadata": {}
        },
        {
          "output_type": "display_data",
          "data": {
            "text/markdown": "**5th QM**:",
            "text/plain": [
              "<IPython.core.display.Markdown object>"
            ]
          },
          "metadata": {}
        },
        {
          "output_type": "display_data",
          "data": {
            "text/markdown": "---",
            "text/plain": [
              "<IPython.core.display.Markdown object>"
            ]
          },
          "metadata": {}
        },
        {
          "output_type": "stream",
          "name": "stdout",
          "text": [
            "{PERSON.v(name{roberts,julia}), MOVIE.v(title{films})}\n"
          ]
        }
      ]
    },
    {
      "cell_type": "code",
      "source": [
        "results.kms()"
      ],
      "metadata": {
        "id": "sipofwKEFdqz",
        "outputId": "86a90a21-171a-4c3e-aad3-d55562c85e5f",
        "colab": {
          "base_uri": "https://localhost:8080/",
          "height": 394
        }
      },
      "execution_count": 25,
      "outputs": [
        {
          "output_type": "display_data",
          "data": {
            "text/markdown": "---",
            "text/plain": [
              "<IPython.core.display.Markdown object>"
            ]
          },
          "metadata": {}
        },
        {
          "output_type": "display_data",
          "data": {
            "text/markdown": "**SKMs**:",
            "text/plain": [
              "<IPython.core.display.Markdown object>"
            ]
          },
          "metadata": {}
        },
        {
          "output_type": "display_data",
          "data": {
            "text/markdown": "---",
            "text/plain": [
              "<IPython.core.display.Markdown object>"
            ]
          },
          "metadata": {}
        },
        {
          "output_type": "stream",
          "name": "stdout",
          "text": [
            "MOVIE.s(*{films})\n"
          ]
        },
        {
          "output_type": "display_data",
          "data": {
            "text/markdown": "---",
            "text/plain": [
              "<IPython.core.display.Markdown object>"
            ]
          },
          "metadata": {}
        },
        {
          "output_type": "display_data",
          "data": {
            "text/markdown": "**VKMs**:",
            "text/plain": [
              "<IPython.core.display.Markdown object>"
            ]
          },
          "metadata": {}
        },
        {
          "output_type": "display_data",
          "data": {
            "text/markdown": "---",
            "text/plain": [
              "<IPython.core.display.Markdown object>"
            ]
          },
          "metadata": {}
        },
        {
          "output_type": "stream",
          "name": "stdout",
          "text": [
            "MOVIEINFO.v(info{julia})\n",
            "PERSON.v(name{julia})\n",
            "CHARACTER.v(name{julia})\n",
            "MOVIE.v(title{julia})\n",
            "MOVIEINFO.v(info{roberts})\n",
            "PERSON.v(name{roberts})\n",
            "CHARACTER.v(name{roberts})\n",
            "MOVIE.v(title{roberts})\n",
            "MOVIEINFO.v(info{films})\n",
            "CHARACTER.v(name{films})\n",
            "MOVIE.v(title{films})\n",
            "MOVIEINFO.v(info{roberts,julia})\n",
            "MOVIEINFO.v(info{julia,films})\n",
            "PERSON.v(name{roberts,julia})\n",
            "MOVIE.v(title{roberts,julia})\n"
          ]
        }
      ]
    },
    {
      "cell_type": "code",
      "source": [
        "results = lathe.keyword_search('john travolta olivia films')\n",
        "results.cjns()"
      ],
      "metadata": {
        "colab": {
          "base_uri": "https://localhost:8080/",
          "height": 1452
        },
        "id": "-vPSeS2vZ9kS",
        "outputId": "7b6e721e-d448-4680-cf34-70d405606c7c"
      },
      "execution_count": 26,
      "outputs": [
        {
          "output_type": "stream",
          "name": "stdout",
          "text": [
            "Keyword Query: john travolta olivia films\n"
          ]
        },
        {
          "output_type": "display_data",
          "data": {
            "text/markdown": "---",
            "text/plain": [
              "<IPython.core.display.Markdown object>"
            ]
          },
          "metadata": {}
        },
        {
          "output_type": "display_data",
          "data": {
            "text/markdown": "**1st CJN**:",
            "text/plain": [
              "<IPython.core.display.Markdown object>"
            ]
          },
          "metadata": {}
        },
        {
          "output_type": "display_data",
          "data": {
            "text/markdown": "---",
            "text/plain": [
              "<IPython.core.display.Markdown object>"
            ]
          },
          "metadata": {}
        },
        {
          "output_type": "stream",
          "name": "stdout",
          "text": [
            "Graph:\n"
          ]
        },
        {
          "output_type": "display_data",
          "data": {
            "text/plain": [
              "<graphviz.dot.Digraph at 0x7fdae78b4690>"
            ],
            "image/svg+xml": "<?xml version=\"1.0\" encoding=\"UTF-8\" standalone=\"no\"?>\n<!DOCTYPE svg PUBLIC \"-//W3C//DTD SVG 1.1//EN\"\n \"http://www.w3.org/Graphics/SVG/1.1/DTD/svg11.dtd\">\n<!-- Generated by graphviz version 2.40.1 (20161225.0304)\n -->\n<!-- Title: %3 Pages: 1 -->\n<svg width=\"448pt\" height=\"98pt\"\n viewBox=\"0.00 0.00 448.15 98.00\" xmlns=\"http://www.w3.org/2000/svg\" xmlns:xlink=\"http://www.w3.org/1999/xlink\">\n<g id=\"graph0\" class=\"graph\" transform=\"scale(1 1) rotate(0) translate(4 94)\">\n<title>%3</title>\n<polygon fill=\"#ffffff\" stroke=\"transparent\" points=\"-4,4 -4,-94 444.1525,-94 444.1525,4 -4,4\"/>\n<!-- t1 -->\n<g id=\"node1\" class=\"node\">\n<title>t1</title>\n<ellipse fill=\"none\" stroke=\"#000000\" cx=\"79.097\" cy=\"-18\" rx=\"79.1941\" ry=\"18\"/>\n<text text-anchor=\"middle\" x=\"79.097\" y=\"-15.8\" font-family=\"Times,serif\" font-size=\"9.00\" fill=\"#000000\">PERSON.v(name{john,travolta})</text>\n</g>\n<!-- t2 -->\n<g id=\"node2\" class=\"node\">\n<title>t2</title>\n<ellipse fill=\"none\" stroke=\"#000000\" cx=\"168.097\" cy=\"-72\" rx=\"32.1641\" ry=\"18\"/>\n<text text-anchor=\"middle\" x=\"168.097\" y=\"-69.8\" font-family=\"Times,serif\" font-size=\"9.00\" fill=\"#000000\">CASTING</text>\n</g>\n<!-- t2&#45;&gt;t1 -->\n<g id=\"edge1\" class=\"edge\">\n<title>t2&#45;&gt;t1</title>\n<path fill=\"none\" stroke=\"#000000\" d=\"M146.097,-58.6517C136.6625,-52.9274 125.3969,-46.0921 114.8202,-39.6748\"/>\n<polygon fill=\"#000000\" stroke=\"#000000\" points=\"116.2367,-36.8497 106.9082,-34.8742 112.9686,-42.2359 116.2367,-36.8497\"/>\n</g>\n<!-- t3 -->\n<g id=\"node3\" class=\"node\">\n<title>t3</title>\n<ellipse fill=\"none\" stroke=\"#000000\" cx=\"224.097\" cy=\"-18\" rx=\"51.9231\" ry=\"18\"/>\n<text text-anchor=\"middle\" x=\"224.097\" y=\"-15.8\" font-family=\"Times,serif\" font-size=\"9.00\" fill=\"#000000\">MOVIE.s(*{films})</text>\n</g>\n<!-- t2&#45;&gt;t3 -->\n<g id=\"edge2\" class=\"edge\">\n<title>t2&#45;&gt;t3</title>\n<path fill=\"none\" stroke=\"#000000\" d=\"M184.2945,-56.381C189.0026,-51.841 194.2556,-46.7756 199.3618,-41.8517\"/>\n<polygon fill=\"#000000\" stroke=\"#000000\" points=\"201.8768,-43.8026 206.1689,-35.2878 197.5037,-39.2676 201.8768,-43.8026\"/>\n</g>\n<!-- t4 -->\n<g id=\"node4\" class=\"node\">\n<title>t4</title>\n<ellipse fill=\"none\" stroke=\"#000000\" cx=\"280.097\" cy=\"-72\" rx=\"32.1641\" ry=\"18\"/>\n<text text-anchor=\"middle\" x=\"280.097\" y=\"-69.8\" font-family=\"Times,serif\" font-size=\"9.00\" fill=\"#000000\">CASTING</text>\n</g>\n<!-- t4&#45;&gt;t3 -->\n<g id=\"edge4\" class=\"edge\">\n<title>t4&#45;&gt;t3</title>\n<path fill=\"none\" stroke=\"#000000\" d=\"M263.8995,-56.381C259.1914,-51.841 253.9383,-46.7756 248.8321,-41.8517\"/>\n<polygon fill=\"#000000\" stroke=\"#000000\" points=\"250.6903,-39.2676 242.0251,-35.2878 246.3172,-43.8026 250.6903,-39.2676\"/>\n</g>\n<!-- t5 -->\n<g id=\"node5\" class=\"node\">\n<title>t5</title>\n<ellipse fill=\"none\" stroke=\"#000000\" cx=\"365.097\" cy=\"-18\" rx=\"75.1111\" ry=\"18\"/>\n<text text-anchor=\"middle\" x=\"365.097\" y=\"-15.8\" font-family=\"Times,serif\" font-size=\"9.00\" fill=\"#000000\">PERSON.v(name{john,olivia})</text>\n</g>\n<!-- t4&#45;&gt;t5 -->\n<g id=\"edge3\" class=\"edge\">\n<title>t4&#45;&gt;t5</title>\n<path fill=\"none\" stroke=\"#000000\" d=\"M301.5461,-58.3735C310.394,-52.7525 320.8704,-46.0969 330.7385,-39.8277\"/>\n<polygon fill=\"#000000\" stroke=\"#000000\" points=\"332.5718,-42.395 338.4793,-34.91 329.1935,-37.0773 332.5718,-42.395\"/>\n</g>\n</g>\n</svg>\n"
          },
          "metadata": {}
        },
        {
          "output_type": "display_data",
          "data": {
            "text/markdown": "---",
            "text/plain": [
              "<IPython.core.display.Markdown object>"
            ]
          },
          "metadata": {}
        },
        {
          "output_type": "stream",
          "name": "stdout",
          "text": [
            "SQL:\n",
            "  \n",
            "  SELECT\n",
            "  \tt3.*,\n",
            "  \tt5.name,\n",
            "  \tt1.name\n",
            "  FROM\n",
            "  \tperson t1\n",
            "  \tJOIN casting t2 ON t2.person_id = t1.id\n",
            "  \tJOIN movie t3 ON t2.movie_id = t3.id\n",
            "  \tJOIN casting t4 ON t4.movie_id = t3.id\n",
            "  \tJOIN person t5 ON t4.person_id = t5.id\n",
            "  WHERE\n",
            "  \tt1.ctid <> t5.ctid\n",
            "  \tAND t2.ctid <> t4.ctid\n",
            "  \tAND t1.name_tsvector @@ to_tsquery('john & travolta')\n",
            "  \tAND t5.name_tsvector @@ to_tsquery('john & olivia')\n",
            "  LIMIT 1000;\n",
            "\n"
          ]
        },
        {
          "output_type": "display_data",
          "data": {
            "text/markdown": "---",
            "text/plain": [
              "<IPython.core.display.Markdown object>"
            ]
          },
          "metadata": {}
        },
        {
          "output_type": "stream",
          "name": "stdout",
          "text": [
            "JNTs:\n"
          ]
        },
        {
          "output_type": "display_data",
          "data": {
            "application/vnd.google.colaboratory.module+javascript": "\n      import \"https://ssl.gstatic.com/colaboratory/data_table/a6224c040fa35dcf/data_table.js\";\n\n      window.createDataTable({\n        data: [[{\n            'v': 0,\n            'f': \"0\",\n        },\n{\n            'v': 199214,\n            'f': \"199214\",\n        },\n\"Grease\",\n{\n            'v': null,\n            'f': \"null\",\n        },\n{\n            'v': 1,\n            'f': \"1\",\n        },\n{\n            'v': 1978,\n            'f': \"1978\",\n        },\n{\n            'v': null,\n            'f': \"null\",\n        },\n\"G62\",\n{\n            'v': null,\n            'f': \"null\",\n        },\n{\n            'v': null,\n            'f': \"null\",\n        },\n{\n            'v': null,\n            'f': \"null\",\n        },\n{\n            'v': null,\n            'f': \"null\",\n        },\n{\n            'v': 43908386,\n            'f': \"43908386\",\n        },\n\"Newton-John, Olivia\",\n\"Travolta, John\"],\n [{\n            'v': 1,\n            'f': \"1\",\n        },\n{\n            'v': 559385,\n            'f': \"559385\",\n        },\n\"Two of a Kind\",\n{\n            'v': null,\n            'f': \"null\",\n        },\n{\n            'v': 1,\n            'f': \"1\",\n        },\n{\n            'v': 1983,\n            'f': \"1983\",\n        },\n{\n            'v': null,\n            'f': \"null\",\n        },\n\"T1253\",\n{\n            'v': null,\n            'f': \"null\",\n        },\n{\n            'v': null,\n            'f': \"null\",\n        },\n{\n            'v': null,\n            'f': \"null\",\n        },\n{\n            'v': null,\n            'f': \"null\",\n        },\n{\n            'v': 44303665,\n            'f': \"44303665\",\n        },\n\"Newton-John, Olivia\",\n\"Travolta, John\"],\n [{\n            'v': 2,\n            'f': \"2\",\n        },\n{\n            'v': 504851,\n            'f': \"504851\",\n        },\n\"The Guru\",\n{\n            'v': null,\n            'f': \"null\",\n        },\n{\n            'v': 1,\n            'f': \"1\",\n        },\n{\n            'v': 2002,\n            'f': \"2002\",\n        },\n{\n            'v': null,\n            'f': \"null\",\n        },\n\"G6\",\n{\n            'v': null,\n            'f': \"null\",\n        },\n{\n            'v': null,\n            'f': \"null\",\n        },\n{\n            'v': null,\n            'f': \"null\",\n        },\n{\n            'v': null,\n            'f': \"null\",\n        },\n{\n            'v': 44255543,\n            'f': \"44255543\",\n        },\n\"Newton-John, Olivia\",\n\"Travolta, John\"]],\n        columns: [[\"number\", \"index\"], [\"number\", \"id\"], [\"string\", \"title\"], [\"number\", \"imdb_index\"], [\"number\", \"kind_id\"], [\"number\", \"year\"], [\"number\", \"imdb_id\"], [\"string\", \"phonetic_code\"], [\"number\", \"episode_of_id\"], [\"number\", \"season_nr\"], [\"number\", \"episode_nr\"], [\"number\", \"series_years\"], [\"number\", \"__search_id\"], [\"string\", \"name\"], [\"string\", \"name\"]],\n        columnOptions: [{\"width\": \"1px\", \"className\": \"index_column\"}],\n        rowsPerPage: 25,\n        helpUrl: \"https://colab.research.google.com/notebooks/data_table.ipynb\",\n        suppressOutputScrolling: true,\n        minimumWidth: undefined,\n      });\n    ",
            "text/html": [
              "\n",
              "  <div id=\"df-44156161-60b8-4308-8aab-7e8c3c8ba729\">\n",
              "    <div class=\"colab-df-container\">\n",
              "      <div>\n",
              "<style scoped>\n",
              "    .dataframe tbody tr th:only-of-type {\n",
              "        vertical-align: middle;\n",
              "    }\n",
              "\n",
              "    .dataframe tbody tr th {\n",
              "        vertical-align: top;\n",
              "    }\n",
              "\n",
              "    .dataframe thead th {\n",
              "        text-align: right;\n",
              "    }\n",
              "</style>\n",
              "<table border=\"1\" class=\"dataframe\">\n",
              "  <thead>\n",
              "    <tr style=\"text-align: right;\">\n",
              "      <th></th>\n",
              "      <th>id</th>\n",
              "      <th>title</th>\n",
              "      <th>imdb_index</th>\n",
              "      <th>kind_id</th>\n",
              "      <th>year</th>\n",
              "      <th>imdb_id</th>\n",
              "      <th>phonetic_code</th>\n",
              "      <th>episode_of_id</th>\n",
              "      <th>season_nr</th>\n",
              "      <th>episode_nr</th>\n",
              "      <th>series_years</th>\n",
              "      <th>__search_id</th>\n",
              "      <th>name</th>\n",
              "      <th>name</th>\n",
              "    </tr>\n",
              "  </thead>\n",
              "  <tbody>\n",
              "    <tr>\n",
              "      <th>0</th>\n",
              "      <td>199214</td>\n",
              "      <td>Grease</td>\n",
              "      <td>None</td>\n",
              "      <td>1</td>\n",
              "      <td>1978</td>\n",
              "      <td>None</td>\n",
              "      <td>G62</td>\n",
              "      <td>None</td>\n",
              "      <td>None</td>\n",
              "      <td>None</td>\n",
              "      <td>None</td>\n",
              "      <td>43908386</td>\n",
              "      <td>Newton-John, Olivia</td>\n",
              "      <td>Travolta, John</td>\n",
              "    </tr>\n",
              "    <tr>\n",
              "      <th>1</th>\n",
              "      <td>559385</td>\n",
              "      <td>Two of a Kind</td>\n",
              "      <td>None</td>\n",
              "      <td>1</td>\n",
              "      <td>1983</td>\n",
              "      <td>None</td>\n",
              "      <td>T1253</td>\n",
              "      <td>None</td>\n",
              "      <td>None</td>\n",
              "      <td>None</td>\n",
              "      <td>None</td>\n",
              "      <td>44303665</td>\n",
              "      <td>Newton-John, Olivia</td>\n",
              "      <td>Travolta, John</td>\n",
              "    </tr>\n",
              "    <tr>\n",
              "      <th>2</th>\n",
              "      <td>504851</td>\n",
              "      <td>The Guru</td>\n",
              "      <td>None</td>\n",
              "      <td>1</td>\n",
              "      <td>2002</td>\n",
              "      <td>None</td>\n",
              "      <td>G6</td>\n",
              "      <td>None</td>\n",
              "      <td>None</td>\n",
              "      <td>None</td>\n",
              "      <td>None</td>\n",
              "      <td>44255543</td>\n",
              "      <td>Newton-John, Olivia</td>\n",
              "      <td>Travolta, John</td>\n",
              "    </tr>\n",
              "  </tbody>\n",
              "</table>\n",
              "</div>\n",
              "      <button class=\"colab-df-convert\" onclick=\"convertToInteractive('df-44156161-60b8-4308-8aab-7e8c3c8ba729')\"\n",
              "              title=\"Convert this dataframe to an interactive table.\"\n",
              "              style=\"display:none;\">\n",
              "        \n",
              "  <svg xmlns=\"http://www.w3.org/2000/svg\" height=\"24px\"viewBox=\"0 0 24 24\"\n",
              "       width=\"24px\">\n",
              "    <path d=\"M0 0h24v24H0V0z\" fill=\"none\"/>\n",
              "    <path d=\"M18.56 5.44l.94 2.06.94-2.06 2.06-.94-2.06-.94-.94-2.06-.94 2.06-2.06.94zm-11 1L8.5 8.5l.94-2.06 2.06-.94-2.06-.94L8.5 2.5l-.94 2.06-2.06.94zm10 10l.94 2.06.94-2.06 2.06-.94-2.06-.94-.94-2.06-.94 2.06-2.06.94z\"/><path d=\"M17.41 7.96l-1.37-1.37c-.4-.4-.92-.59-1.43-.59-.52 0-1.04.2-1.43.59L10.3 9.45l-7.72 7.72c-.78.78-.78 2.05 0 2.83L4 21.41c.39.39.9.59 1.41.59.51 0 1.02-.2 1.41-.59l7.78-7.78 2.81-2.81c.8-.78.8-2.07 0-2.86zM5.41 20L4 18.59l7.72-7.72 1.47 1.35L5.41 20z\"/>\n",
              "  </svg>\n",
              "      </button>\n",
              "      \n",
              "  <style>\n",
              "    .colab-df-container {\n",
              "      display:flex;\n",
              "      flex-wrap:wrap;\n",
              "      gap: 12px;\n",
              "    }\n",
              "\n",
              "    .colab-df-convert {\n",
              "      background-color: #E8F0FE;\n",
              "      border: none;\n",
              "      border-radius: 50%;\n",
              "      cursor: pointer;\n",
              "      display: none;\n",
              "      fill: #1967D2;\n",
              "      height: 32px;\n",
              "      padding: 0 0 0 0;\n",
              "      width: 32px;\n",
              "    }\n",
              "\n",
              "    .colab-df-convert:hover {\n",
              "      background-color: #E2EBFA;\n",
              "      box-shadow: 0px 1px 2px rgba(60, 64, 67, 0.3), 0px 1px 3px 1px rgba(60, 64, 67, 0.15);\n",
              "      fill: #174EA6;\n",
              "    }\n",
              "\n",
              "    [theme=dark] .colab-df-convert {\n",
              "      background-color: #3B4455;\n",
              "      fill: #D2E3FC;\n",
              "    }\n",
              "\n",
              "    [theme=dark] .colab-df-convert:hover {\n",
              "      background-color: #434B5C;\n",
              "      box-shadow: 0px 1px 3px 1px rgba(0, 0, 0, 0.15);\n",
              "      filter: drop-shadow(0px 1px 2px rgba(0, 0, 0, 0.3));\n",
              "      fill: #FFFFFF;\n",
              "    }\n",
              "  </style>\n",
              "\n",
              "      <script>\n",
              "        const buttonEl =\n",
              "          document.querySelector('#df-44156161-60b8-4308-8aab-7e8c3c8ba729 button.colab-df-convert');\n",
              "        buttonEl.style.display =\n",
              "          google.colab.kernel.accessAllowed ? 'block' : 'none';\n",
              "\n",
              "        async function convertToInteractive(key) {\n",
              "          const element = document.querySelector('#df-44156161-60b8-4308-8aab-7e8c3c8ba729');\n",
              "          const dataTable =\n",
              "            await google.colab.kernel.invokeFunction('convertToInteractive',\n",
              "                                                     [key], {});\n",
              "          if (!dataTable) return;\n",
              "\n",
              "          const docLinkHtml = 'Like what you see? Visit the ' +\n",
              "            '<a target=\"_blank\" href=https://colab.research.google.com/notebooks/data_table.ipynb>data table notebook</a>'\n",
              "            + ' to learn more about interactive tables.';\n",
              "          element.innerHTML = '';\n",
              "          dataTable['output_type'] = 'display_data';\n",
              "          await google.colab.output.renderOutput(dataTable, element);\n",
              "          const docLink = document.createElement('div');\n",
              "          docLink.innerHTML = docLinkHtml;\n",
              "          element.appendChild(docLink);\n",
              "        }\n",
              "      </script>\n",
              "    </div>\n",
              "  </div>\n",
              "  "
            ],
            "text/plain": [
              "       id          title  ...                 name            name\n",
              "0  199214         Grease  ...  Newton-John, Olivia  Travolta, John\n",
              "1  559385  Two of a Kind  ...  Newton-John, Olivia  Travolta, John\n",
              "2  504851       The Guru  ...  Newton-John, Olivia  Travolta, John\n",
              "\n",
              "[3 rows x 14 columns]"
            ]
          },
          "metadata": {}
        },
        {
          "output_type": "stream",
          "name": "stdout",
          "text": [
            "\n"
          ]
        },
        {
          "output_type": "display_data",
          "data": {
            "text/markdown": "---",
            "text/plain": [
              "<IPython.core.display.Markdown object>"
            ]
          },
          "metadata": {}
        },
        {
          "output_type": "display_data",
          "data": {
            "text/markdown": "**2nd CJN**:",
            "text/plain": [
              "<IPython.core.display.Markdown object>"
            ]
          },
          "metadata": {}
        },
        {
          "output_type": "display_data",
          "data": {
            "text/markdown": "---",
            "text/plain": [
              "<IPython.core.display.Markdown object>"
            ]
          },
          "metadata": {}
        },
        {
          "output_type": "stream",
          "name": "stdout",
          "text": [
            "Graph:\n"
          ]
        },
        {
          "output_type": "display_data",
          "data": {
            "text/plain": [
              "<graphviz.dot.Digraph at 0x7fdae78b4f90>"
            ],
            "image/svg+xml": "<?xml version=\"1.0\" encoding=\"UTF-8\" standalone=\"no\"?>\n<!DOCTYPE svg PUBLIC \"-//W3C//DTD SVG 1.1//EN\"\n \"http://www.w3.org/Graphics/SVG/1.1/DTD/svg11.dtd\">\n<!-- Generated by graphviz version 2.40.1 (20161225.0304)\n -->\n<!-- Title: %3 Pages: 1 -->\n<svg width=\"204pt\" height=\"98pt\"\n viewBox=\"0.00 0.00 204.30 98.00\" xmlns=\"http://www.w3.org/2000/svg\" xmlns:xlink=\"http://www.w3.org/1999/xlink\">\n<g id=\"graph0\" class=\"graph\" transform=\"scale(1 1) rotate(0) translate(4 94)\">\n<title>%3</title>\n<polygon fill=\"#ffffff\" stroke=\"transparent\" points=\"-4,4 -4,-94 200.2991,-94 200.2991,4 -4,4\"/>\n<!-- t1 -->\n<g id=\"node1\" class=\"node\">\n<title>t1</title>\n<ellipse fill=\"none\" stroke=\"#000000\" cx=\"98.1495\" cy=\"-72\" rx=\"98.2993\" ry=\"18\"/>\n<text text-anchor=\"middle\" x=\"98.1495\" y=\"-69.8\" font-family=\"Times,serif\" font-size=\"9.00\" fill=\"#000000\">MOVIEINFO.v(info{john,travolta,olivia})</text>\n</g>\n<!-- t2 -->\n<g id=\"node2\" class=\"node\">\n<title>t2</title>\n<ellipse fill=\"none\" stroke=\"#000000\" cx=\"98.1495\" cy=\"-18\" rx=\"51.9231\" ry=\"18\"/>\n<text text-anchor=\"middle\" x=\"98.1495\" y=\"-15.8\" font-family=\"Times,serif\" font-size=\"9.00\" fill=\"#000000\">MOVIE.s(*{films})</text>\n</g>\n<!-- t1&#45;&gt;t2 -->\n<g id=\"edge1\" class=\"edge\">\n<title>t1&#45;&gt;t2</title>\n<path fill=\"none\" stroke=\"#000000\" d=\"M98.1495,-53.7181C98.1495,-50.9911 98.1495,-48.1312 98.1495,-45.2673\"/>\n<polygon fill=\"#000000\" stroke=\"#000000\" points=\"101.2996,-45.2631 98.1495,-36.2631 94.9996,-45.2631 101.2996,-45.2631\"/>\n</g>\n</g>\n</svg>\n"
          },
          "metadata": {}
        },
        {
          "output_type": "display_data",
          "data": {
            "text/markdown": "---",
            "text/plain": [
              "<IPython.core.display.Markdown object>"
            ]
          },
          "metadata": {}
        },
        {
          "output_type": "stream",
          "name": "stdout",
          "text": [
            "SQL:\n",
            "  \n",
            "  SELECT\n",
            "  \tt1.info,\n",
            "  \tt2.*\n",
            "  FROM\n",
            "  \tmovieinfo t1\n",
            "  \tJOIN movie t2 ON t1.movie_id = t2.id\n",
            "  WHERE\n",
            "  \tt1.info_tsvector @@ to_tsquery('john & travolta & olivia')\n",
            "  LIMIT 1000;\n",
            "\n"
          ]
        },
        {
          "output_type": "display_data",
          "data": {
            "text/markdown": "---",
            "text/plain": [
              "<IPython.core.display.Markdown object>"
            ]
          },
          "metadata": {}
        },
        {
          "output_type": "stream",
          "name": "stdout",
          "text": [
            "JNTs:\n"
          ]
        },
        {
          "output_type": "display_data",
          "data": {
            "application/vnd.google.colaboratory.module+javascript": "\n      import \"https://ssl.gstatic.com/colaboratory/data_table/a6224c040fa35dcf/data_table.js\";\n\n      window.createDataTable({\n        data: [[{\n            'v': 0,\n            'f': \"0\",\n        },\n\"Josh Neff: Disco will never be over. It will always live in our minds and hearts. Something like this, that was this big, and this important, and this great, will never die. Oh, for a few years - maybe many years - it'll be considered pass\\u00e9 and ridiculous. It will be misrepresented and caricatured and sneered at, or - worse - completely ignored. People will laugh about John Travolta, Olivia Newton-John, white polyester suits and platform shoes and people going like *this* [strikes disco pose] , but we had nothing to do with those things and still loved disco. Those who didn't understand will never understand: disco was much more, and much better, than all that. Disco was too great, and too much fun, to be gone forever! It's got to come back someday. I just hope it will be in our own lifetimes.::[Des, Charlotte, Dan, and Van stare at Josh like he's crazy]::Josh Neff: ...Sorry, I've got a job interview this afternoon and I was just trying to get revved up, but... most of what I said, I, um... believe.\",\n{\n            'v': 510494,\n            'f': \"510494\",\n        },\n\"The Last Days of Disco\",\n{\n            'v': null,\n            'f': \"null\",\n        },\n{\n            'v': 1,\n            'f': \"1\",\n        },\n{\n            'v': 1998,\n            'f': \"1998\",\n        },\n{\n            'v': null,\n            'f': \"null\",\n        },\n\"L2321\",\n{\n            'v': null,\n            'f': \"null\",\n        },\n{\n            'v': null,\n            'f': \"null\",\n        },\n{\n            'v': null,\n            'f': \"null\",\n        },\n{\n            'v': null,\n            'f': \"null\",\n        },\n{\n            'v': 44283571,\n            'f': \"44283571\",\n        }]],\n        columns: [[\"number\", \"index\"], [\"string\", \"info\"], [\"number\", \"id\"], [\"string\", \"title\"], [\"number\", \"imdb_index\"], [\"number\", \"kind_id\"], [\"number\", \"year\"], [\"number\", \"imdb_id\"], [\"string\", \"phonetic_code\"], [\"number\", \"episode_of_id\"], [\"number\", \"season_nr\"], [\"number\", \"episode_nr\"], [\"number\", \"series_years\"], [\"number\", \"__search_id\"]],\n        columnOptions: [{\"width\": \"1px\", \"className\": \"index_column\"}],\n        rowsPerPage: 25,\n        helpUrl: \"https://colab.research.google.com/notebooks/data_table.ipynb\",\n        suppressOutputScrolling: true,\n        minimumWidth: undefined,\n      });\n    ",
            "text/html": [
              "\n",
              "  <div id=\"df-5e2a8728-ac52-4e30-8922-df0367e4adb5\">\n",
              "    <div class=\"colab-df-container\">\n",
              "      <div>\n",
              "<style scoped>\n",
              "    .dataframe tbody tr th:only-of-type {\n",
              "        vertical-align: middle;\n",
              "    }\n",
              "\n",
              "    .dataframe tbody tr th {\n",
              "        vertical-align: top;\n",
              "    }\n",
              "\n",
              "    .dataframe thead th {\n",
              "        text-align: right;\n",
              "    }\n",
              "</style>\n",
              "<table border=\"1\" class=\"dataframe\">\n",
              "  <thead>\n",
              "    <tr style=\"text-align: right;\">\n",
              "      <th></th>\n",
              "      <th>info</th>\n",
              "      <th>id</th>\n",
              "      <th>title</th>\n",
              "      <th>imdb_index</th>\n",
              "      <th>kind_id</th>\n",
              "      <th>year</th>\n",
              "      <th>imdb_id</th>\n",
              "      <th>phonetic_code</th>\n",
              "      <th>episode_of_id</th>\n",
              "      <th>season_nr</th>\n",
              "      <th>episode_nr</th>\n",
              "      <th>series_years</th>\n",
              "      <th>__search_id</th>\n",
              "    </tr>\n",
              "  </thead>\n",
              "  <tbody>\n",
              "    <tr>\n",
              "      <th>0</th>\n",
              "      <td>Josh Neff: Disco will never be over. It will a...</td>\n",
              "      <td>510494</td>\n",
              "      <td>The Last Days of Disco</td>\n",
              "      <td>None</td>\n",
              "      <td>1</td>\n",
              "      <td>1998</td>\n",
              "      <td>None</td>\n",
              "      <td>L2321</td>\n",
              "      <td>None</td>\n",
              "      <td>None</td>\n",
              "      <td>None</td>\n",
              "      <td>None</td>\n",
              "      <td>44283571</td>\n",
              "    </tr>\n",
              "  </tbody>\n",
              "</table>\n",
              "</div>\n",
              "      <button class=\"colab-df-convert\" onclick=\"convertToInteractive('df-5e2a8728-ac52-4e30-8922-df0367e4adb5')\"\n",
              "              title=\"Convert this dataframe to an interactive table.\"\n",
              "              style=\"display:none;\">\n",
              "        \n",
              "  <svg xmlns=\"http://www.w3.org/2000/svg\" height=\"24px\"viewBox=\"0 0 24 24\"\n",
              "       width=\"24px\">\n",
              "    <path d=\"M0 0h24v24H0V0z\" fill=\"none\"/>\n",
              "    <path d=\"M18.56 5.44l.94 2.06.94-2.06 2.06-.94-2.06-.94-.94-2.06-.94 2.06-2.06.94zm-11 1L8.5 8.5l.94-2.06 2.06-.94-2.06-.94L8.5 2.5l-.94 2.06-2.06.94zm10 10l.94 2.06.94-2.06 2.06-.94-2.06-.94-.94-2.06-.94 2.06-2.06.94z\"/><path d=\"M17.41 7.96l-1.37-1.37c-.4-.4-.92-.59-1.43-.59-.52 0-1.04.2-1.43.59L10.3 9.45l-7.72 7.72c-.78.78-.78 2.05 0 2.83L4 21.41c.39.39.9.59 1.41.59.51 0 1.02-.2 1.41-.59l7.78-7.78 2.81-2.81c.8-.78.8-2.07 0-2.86zM5.41 20L4 18.59l7.72-7.72 1.47 1.35L5.41 20z\"/>\n",
              "  </svg>\n",
              "      </button>\n",
              "      \n",
              "  <style>\n",
              "    .colab-df-container {\n",
              "      display:flex;\n",
              "      flex-wrap:wrap;\n",
              "      gap: 12px;\n",
              "    }\n",
              "\n",
              "    .colab-df-convert {\n",
              "      background-color: #E8F0FE;\n",
              "      border: none;\n",
              "      border-radius: 50%;\n",
              "      cursor: pointer;\n",
              "      display: none;\n",
              "      fill: #1967D2;\n",
              "      height: 32px;\n",
              "      padding: 0 0 0 0;\n",
              "      width: 32px;\n",
              "    }\n",
              "\n",
              "    .colab-df-convert:hover {\n",
              "      background-color: #E2EBFA;\n",
              "      box-shadow: 0px 1px 2px rgba(60, 64, 67, 0.3), 0px 1px 3px 1px rgba(60, 64, 67, 0.15);\n",
              "      fill: #174EA6;\n",
              "    }\n",
              "\n",
              "    [theme=dark] .colab-df-convert {\n",
              "      background-color: #3B4455;\n",
              "      fill: #D2E3FC;\n",
              "    }\n",
              "\n",
              "    [theme=dark] .colab-df-convert:hover {\n",
              "      background-color: #434B5C;\n",
              "      box-shadow: 0px 1px 3px 1px rgba(0, 0, 0, 0.15);\n",
              "      filter: drop-shadow(0px 1px 2px rgba(0, 0, 0, 0.3));\n",
              "      fill: #FFFFFF;\n",
              "    }\n",
              "  </style>\n",
              "\n",
              "      <script>\n",
              "        const buttonEl =\n",
              "          document.querySelector('#df-5e2a8728-ac52-4e30-8922-df0367e4adb5 button.colab-df-convert');\n",
              "        buttonEl.style.display =\n",
              "          google.colab.kernel.accessAllowed ? 'block' : 'none';\n",
              "\n",
              "        async function convertToInteractive(key) {\n",
              "          const element = document.querySelector('#df-5e2a8728-ac52-4e30-8922-df0367e4adb5');\n",
              "          const dataTable =\n",
              "            await google.colab.kernel.invokeFunction('convertToInteractive',\n",
              "                                                     [key], {});\n",
              "          if (!dataTable) return;\n",
              "\n",
              "          const docLinkHtml = 'Like what you see? Visit the ' +\n",
              "            '<a target=\"_blank\" href=https://colab.research.google.com/notebooks/data_table.ipynb>data table notebook</a>'\n",
              "            + ' to learn more about interactive tables.';\n",
              "          element.innerHTML = '';\n",
              "          dataTable['output_type'] = 'display_data';\n",
              "          await google.colab.output.renderOutput(dataTable, element);\n",
              "          const docLink = document.createElement('div');\n",
              "          docLink.innerHTML = docLinkHtml;\n",
              "          element.appendChild(docLink);\n",
              "        }\n",
              "      </script>\n",
              "    </div>\n",
              "  </div>\n",
              "  "
            ],
            "text/plain": [
              "                                                info  ...  __search_id\n",
              "0  Josh Neff: Disco will never be over. It will a...  ...     44283571\n",
              "\n",
              "[1 rows x 13 columns]"
            ]
          },
          "metadata": {}
        },
        {
          "output_type": "stream",
          "name": "stdout",
          "text": [
            "\n"
          ]
        }
      ]
    },
    {
      "cell_type": "code",
      "source": [
        "results = lathe.keyword_search(38)\n",
        "results.cjns(graph=True,sql=False,df=True)"
      ],
      "metadata": {
        "id": "5_Zm3eGktEQH",
        "colab": {
          "base_uri": "https://localhost:8080/",
          "height": 387
        },
        "outputId": "ecc7e97f-86b1-4c80-a2cc-214951a1fdb0"
      },
      "execution_count": 28,
      "outputs": [
        {
          "output_type": "stream",
          "name": "stdout",
          "text": [
            "Keyword Query: henry fonda yours mine ours character\n"
          ]
        },
        {
          "output_type": "display_data",
          "data": {
            "text/markdown": "---",
            "text/plain": [
              "<IPython.core.display.Markdown object>"
            ]
          },
          "metadata": {}
        },
        {
          "output_type": "display_data",
          "data": {
            "text/markdown": "**1st CJN**:",
            "text/plain": [
              "<IPython.core.display.Markdown object>"
            ]
          },
          "metadata": {}
        },
        {
          "output_type": "display_data",
          "data": {
            "text/markdown": "---",
            "text/plain": [
              "<IPython.core.display.Markdown object>"
            ]
          },
          "metadata": {}
        },
        {
          "output_type": "stream",
          "name": "stdout",
          "text": [
            "Graph:\n"
          ]
        },
        {
          "output_type": "display_data",
          "data": {
            "text/plain": [
              "<graphviz.dot.Digraph at 0x7fdae76e2990>"
            ],
            "image/svg+xml": "<?xml version=\"1.0\" encoding=\"UTF-8\" standalone=\"no\"?>\n<!DOCTYPE svg PUBLIC \"-//W3C//DTD SVG 1.1//EN\"\n \"http://www.w3.org/Graphics/SVG/1.1/DTD/svg11.dtd\">\n<!-- Generated by graphviz version 2.40.1 (20161225.0304)\n -->\n<!-- Title: %3 Pages: 1 -->\n<svg width=\"416pt\" height=\"98pt\"\n viewBox=\"0.00 0.00 416.37 98.00\" xmlns=\"http://www.w3.org/2000/svg\" xmlns:xlink=\"http://www.w3.org/1999/xlink\">\n<g id=\"graph0\" class=\"graph\" transform=\"scale(1 1) rotate(0) translate(4 94)\">\n<title>%3</title>\n<polygon fill=\"#ffffff\" stroke=\"transparent\" points=\"-4,4 -4,-94 412.3679,-94 412.3679,4 -4,4\"/>\n<!-- t1 -->\n<g id=\"node1\" class=\"node\">\n<title>t1</title>\n<ellipse fill=\"none\" stroke=\"#000000\" cx=\"77.3649\" cy=\"-18\" rx=\"77.2301\" ry=\"18\"/>\n<text text-anchor=\"middle\" x=\"77.3649\" y=\"-15.8\" font-family=\"Times,serif\" font-size=\"9.00\" fill=\"#000000\">PERSON.v(name{henry,fonda})</text>\n</g>\n<!-- t2 -->\n<g id=\"node2\" class=\"node\">\n<title>t2</title>\n<ellipse fill=\"none\" stroke=\"#000000\" cx=\"225.3649\" cy=\"-72\" rx=\"32.1641\" ry=\"18\"/>\n<text text-anchor=\"middle\" x=\"225.3649\" y=\"-69.8\" font-family=\"Times,serif\" font-size=\"9.00\" fill=\"#000000\">CASTING</text>\n</g>\n<!-- t2&#45;&gt;t1 -->\n<g id=\"edge1\" class=\"edge\">\n<title>t2&#45;&gt;t1</title>\n<path fill=\"none\" stroke=\"#000000\" d=\"M198.2195,-62.0956C178.524,-54.9094 151.3059,-44.9785 127.6857,-36.3603\"/>\n<polygon fill=\"#000000\" stroke=\"#000000\" points=\"128.7015,-33.3778 119.1669,-33.2521 126.542,-39.2962 128.7015,-33.3778\"/>\n</g>\n<!-- t3 -->\n<g id=\"node3\" class=\"node\">\n<title>t3</title>\n<ellipse fill=\"none\" stroke=\"#000000\" cx=\"225.3649\" cy=\"-18\" rx=\"56.6608\" ry=\"18\"/>\n<text text-anchor=\"middle\" x=\"225.3649\" y=\"-15.8\" font-family=\"Times,serif\" font-size=\"9.00\" fill=\"#000000\">MOVIE.v(title{mine})</text>\n</g>\n<!-- t2&#45;&gt;t3 -->\n<g id=\"edge2\" class=\"edge\">\n<title>t2&#45;&gt;t3</title>\n<path fill=\"none\" stroke=\"#000000\" d=\"M225.3649,-53.7181C225.3649,-50.9911 225.3649,-48.1312 225.3649,-45.2673\"/>\n<polygon fill=\"#000000\" stroke=\"#000000\" points=\"228.515,-45.2631 225.3649,-36.2631 222.215,-45.2631 228.515,-45.2631\"/>\n</g>\n<!-- t4 -->\n<g id=\"node4\" class=\"node\">\n<title>t4</title>\n<ellipse fill=\"none\" stroke=\"#000000\" cx=\"352.3649\" cy=\"-18\" rx=\"56.006\" ry=\"18\"/>\n<text text-anchor=\"middle\" x=\"352.3649\" y=\"-15.8\" font-family=\"Times,serif\" font-size=\"9.00\" fill=\"#000000\">ROLE.s(*{character})</text>\n</g>\n<!-- t2&#45;&gt;t4 -->\n<g id=\"edge3\" class=\"edge\">\n<title>t2&#45;&gt;t4</title>\n<path fill=\"none\" stroke=\"#000000\" d=\"M251.0653,-61.0723C267.986,-53.8777 290.5367,-44.2892 310.0654,-35.9856\"/>\n<polygon fill=\"#000000\" stroke=\"#000000\" points=\"311.4587,-38.8162 318.5085,-32.3956 308.9935,-33.0185 311.4587,-38.8162\"/>\n</g>\n</g>\n</svg>\n"
          },
          "metadata": {}
        },
        {
          "output_type": "display_data",
          "data": {
            "text/markdown": "---",
            "text/plain": [
              "<IPython.core.display.Markdown object>"
            ]
          },
          "metadata": {}
        },
        {
          "output_type": "stream",
          "name": "stdout",
          "text": [
            "JNTs:\n"
          ]
        },
        {
          "output_type": "display_data",
          "data": {
            "application/vnd.google.colaboratory.module+javascript": "\n      import \"https://ssl.gstatic.com/colaboratory/data_table/a6224c040fa35dcf/data_table.js\";\n\n      window.createDataTable({\n        data: [[{\n            'v': 0,\n            'f': \"0\",\n        },\n\"Yours, Mine and Ours\",\n\"Fonda, Henry\",\n{\n            'v': 1,\n            'f': \"1\",\n        },\n\"actor\",\n{\n            'v': 43725153,\n            'f': \"43725153\",\n        }]],\n        columns: [[\"number\", \"index\"], [\"string\", \"title\"], [\"string\", \"name\"], [\"number\", \"id\"], [\"string\", \"type\"], [\"number\", \"__search_id\"]],\n        columnOptions: [{\"width\": \"1px\", \"className\": \"index_column\"}],\n        rowsPerPage: 25,\n        helpUrl: \"https://colab.research.google.com/notebooks/data_table.ipynb\",\n        suppressOutputScrolling: true,\n        minimumWidth: undefined,\n      });\n    ",
            "text/html": [
              "\n",
              "  <div id=\"df-8a4c02c2-e935-4e8a-925d-b3a60ca9243f\">\n",
              "    <div class=\"colab-df-container\">\n",
              "      <div>\n",
              "<style scoped>\n",
              "    .dataframe tbody tr th:only-of-type {\n",
              "        vertical-align: middle;\n",
              "    }\n",
              "\n",
              "    .dataframe tbody tr th {\n",
              "        vertical-align: top;\n",
              "    }\n",
              "\n",
              "    .dataframe thead th {\n",
              "        text-align: right;\n",
              "    }\n",
              "</style>\n",
              "<table border=\"1\" class=\"dataframe\">\n",
              "  <thead>\n",
              "    <tr style=\"text-align: right;\">\n",
              "      <th></th>\n",
              "      <th>title</th>\n",
              "      <th>name</th>\n",
              "      <th>id</th>\n",
              "      <th>type</th>\n",
              "      <th>__search_id</th>\n",
              "    </tr>\n",
              "  </thead>\n",
              "  <tbody>\n",
              "    <tr>\n",
              "      <th>0</th>\n",
              "      <td>Yours, Mine and Ours</td>\n",
              "      <td>Fonda, Henry</td>\n",
              "      <td>1</td>\n",
              "      <td>actor</td>\n",
              "      <td>43725153</td>\n",
              "    </tr>\n",
              "  </tbody>\n",
              "</table>\n",
              "</div>\n",
              "      <button class=\"colab-df-convert\" onclick=\"convertToInteractive('df-8a4c02c2-e935-4e8a-925d-b3a60ca9243f')\"\n",
              "              title=\"Convert this dataframe to an interactive table.\"\n",
              "              style=\"display:none;\">\n",
              "        \n",
              "  <svg xmlns=\"http://www.w3.org/2000/svg\" height=\"24px\"viewBox=\"0 0 24 24\"\n",
              "       width=\"24px\">\n",
              "    <path d=\"M0 0h24v24H0V0z\" fill=\"none\"/>\n",
              "    <path d=\"M18.56 5.44l.94 2.06.94-2.06 2.06-.94-2.06-.94-.94-2.06-.94 2.06-2.06.94zm-11 1L8.5 8.5l.94-2.06 2.06-.94-2.06-.94L8.5 2.5l-.94 2.06-2.06.94zm10 10l.94 2.06.94-2.06 2.06-.94-2.06-.94-.94-2.06-.94 2.06-2.06.94z\"/><path d=\"M17.41 7.96l-1.37-1.37c-.4-.4-.92-.59-1.43-.59-.52 0-1.04.2-1.43.59L10.3 9.45l-7.72 7.72c-.78.78-.78 2.05 0 2.83L4 21.41c.39.39.9.59 1.41.59.51 0 1.02-.2 1.41-.59l7.78-7.78 2.81-2.81c.8-.78.8-2.07 0-2.86zM5.41 20L4 18.59l7.72-7.72 1.47 1.35L5.41 20z\"/>\n",
              "  </svg>\n",
              "      </button>\n",
              "      \n",
              "  <style>\n",
              "    .colab-df-container {\n",
              "      display:flex;\n",
              "      flex-wrap:wrap;\n",
              "      gap: 12px;\n",
              "    }\n",
              "\n",
              "    .colab-df-convert {\n",
              "      background-color: #E8F0FE;\n",
              "      border: none;\n",
              "      border-radius: 50%;\n",
              "      cursor: pointer;\n",
              "      display: none;\n",
              "      fill: #1967D2;\n",
              "      height: 32px;\n",
              "      padding: 0 0 0 0;\n",
              "      width: 32px;\n",
              "    }\n",
              "\n",
              "    .colab-df-convert:hover {\n",
              "      background-color: #E2EBFA;\n",
              "      box-shadow: 0px 1px 2px rgba(60, 64, 67, 0.3), 0px 1px 3px 1px rgba(60, 64, 67, 0.15);\n",
              "      fill: #174EA6;\n",
              "    }\n",
              "\n",
              "    [theme=dark] .colab-df-convert {\n",
              "      background-color: #3B4455;\n",
              "      fill: #D2E3FC;\n",
              "    }\n",
              "\n",
              "    [theme=dark] .colab-df-convert:hover {\n",
              "      background-color: #434B5C;\n",
              "      box-shadow: 0px 1px 3px 1px rgba(0, 0, 0, 0.15);\n",
              "      filter: drop-shadow(0px 1px 2px rgba(0, 0, 0, 0.3));\n",
              "      fill: #FFFFFF;\n",
              "    }\n",
              "  </style>\n",
              "\n",
              "      <script>\n",
              "        const buttonEl =\n",
              "          document.querySelector('#df-8a4c02c2-e935-4e8a-925d-b3a60ca9243f button.colab-df-convert');\n",
              "        buttonEl.style.display =\n",
              "          google.colab.kernel.accessAllowed ? 'block' : 'none';\n",
              "\n",
              "        async function convertToInteractive(key) {\n",
              "          const element = document.querySelector('#df-8a4c02c2-e935-4e8a-925d-b3a60ca9243f');\n",
              "          const dataTable =\n",
              "            await google.colab.kernel.invokeFunction('convertToInteractive',\n",
              "                                                     [key], {});\n",
              "          if (!dataTable) return;\n",
              "\n",
              "          const docLinkHtml = 'Like what you see? Visit the ' +\n",
              "            '<a target=\"_blank\" href=https://colab.research.google.com/notebooks/data_table.ipynb>data table notebook</a>'\n",
              "            + ' to learn more about interactive tables.';\n",
              "          element.innerHTML = '';\n",
              "          dataTable['output_type'] = 'display_data';\n",
              "          await google.colab.output.renderOutput(dataTable, element);\n",
              "          const docLink = document.createElement('div');\n",
              "          docLink.innerHTML = docLinkHtml;\n",
              "          element.appendChild(docLink);\n",
              "        }\n",
              "      </script>\n",
              "    </div>\n",
              "  </div>\n",
              "  "
            ],
            "text/plain": [
              "                  title          name  id   type  __search_id\n",
              "0  Yours, Mine and Ours  Fonda, Henry   1  actor     43725153"
            ]
          },
          "metadata": {}
        },
        {
          "output_type": "stream",
          "name": "stdout",
          "text": [
            "\n"
          ]
        }
      ]
    }
  ]
}