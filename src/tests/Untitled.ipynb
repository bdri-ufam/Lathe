{
 "cells": [
  {
   "cell_type": "code",
   "execution_count": null,
   "metadata": {
    "ExecuteTime": {
     "end_time": "2021-02-23T15:37:44.176471Z",
     "start_time": "2021-02-23T15:37:44.171452Z"
    }
   },
   "outputs": [],
   "source": [
    "x = [('casting', '__search_id'),\n",
    " ('casting', 'id'),\n",
    " ('casting', 'movie_id'),\n",
    " ('casting', 'note'),\n",
    " ('casting', 'nr_order'),\n",
    " ('casting', 'person_id'),\n",
    " ('casting', 'person_role_id'),\n",
    " ('casting', 'role_id'),\n",
    " ('character', '__search_id'),\n",
    " ('character', 'id'),\n",
    " ('character', 'imdb_id'),\n",
    " ('character', 'imdb_index'),\n",
    " ('character', 'name'),\n",
    " ('character', 'name_pcode_nf'),\n",
    " ('character', 'surname_pcode'),\n",
    " ('movie', '__search_id'),\n",
    " ('movie', 'episode_nr'),\n",
    " ('movie', 'episode_of_id'),\n",
    " ('movie', 'id'),\n",
    " ('movie', 'imdb_id'),\n",
    " ('movie', 'imdb_index'),\n",
    " ('movie', 'kind_id'),\n",
    " ('movie', 'phonetic_code'),\n",
    " ('movie', 'season_nr'),\n",
    " ('movie', 'series_years'),\n",
    " ('movie', 'title'),\n",
    " ('movie', 'year'),\n",
    " ('movieinfo', '__search_id'),\n",
    " ('movieinfo', 'id'),\n",
    " ('movieinfo', 'info'),\n",
    " ('movieinfo', 'info_type_id'),\n",
    " ('movieinfo', 'movie_id'),\n",
    " ('movieinfo', 'note'),\n",
    " ('person', '__search_id'),\n",
    " ('person', 'id'),\n",
    " ('person', 'imdb_id'),\n",
    " ('person', 'imdb_index'),\n",
    " ('person', 'name'),\n",
    " ('person', 'name_pcode_cf'),\n",
    " ('person', 'name_pcode_nf'),\n",
    " ('person', 'surname_pcode'),\n",
    " ('role', '__search_id'),\n",
    " ('role', 'id'),\n",
    " ('role', 'type')]"
   ]
  },
  {
   "cell_type": "code",
   "execution_count": null,
   "metadata": {
    "ExecuteTime": {
     "end_time": "2021-02-23T15:40:23.051868Z",
     "start_time": "2021-02-23T15:40:23.044582Z"
    }
   },
   "outputs": [],
   "source": [
    "results = {}\n",
    "for table,attribute in x:\n",
    "    results.setdefault(table,[]).append(attribute)\n",
    "    \n",
    "json_results= []\n",
    "for table in results:\n",
    "    item = {}\n",
    "    item['table']=table\n",
    "    item['attributes']=results[table]\n",
    "    json_results.append(item)\n",
    "\n",
    "\n",
    "import json\n",
    "print(json.dumps(json_results,indent=4))"
   ]
  },
  {
   "cell_type": "code",
   "execution_count": null,
   "metadata": {
    "ExecuteTime": {
     "end_time": "2021-02-23T17:28:57.761112Z",
     "start_time": "2021-02-23T17:28:57.756815Z"
    }
   },
   "outputs": [],
   "source": [
    "x= 8.580612566301306e-15"
   ]
  },
  {
   "cell_type": "code",
   "execution_count": null,
   "metadata": {
    "ExecuteTime": {
     "end_time": "2021-02-23T17:29:00.381000Z",
     "start_time": "2021-02-23T17:29:00.377580Z"
    }
   },
   "outputs": [],
   "source": [
    "x"
   ]
  },
  {
   "cell_type": "code",
   "execution_count": null,
   "metadata": {
    "ExecuteTime": {
     "end_time": "2021-02-23T17:29:07.107888Z",
     "start_time": "2021-02-23T17:29:07.102367Z"
    }
   },
   "outputs": [],
   "source": [
    "f'{x:.3e}'"
   ]
  },
  {
   "cell_type": "code",
   "execution_count": null,
   "metadata": {
    "ExecuteTime": {
     "end_time": "2021-02-24T11:47:49.583193Z",
     "start_time": "2021-02-24T11:47:49.576766Z"
    }
   },
   "outputs": [],
   "source": []
  },
  {
   "cell_type": "code",
   "execution_count": null,
   "metadata": {
    "ExecuteTime": {
     "end_time": "2021-02-24T11:48:14.269610Z",
     "start_time": "2021-02-24T11:48:14.261889Z"
    }
   },
   "outputs": [],
   "source": [
    "import sys\n",
    "sys.path.append('../')\n",
    "from candidate_network import CandidateNetwork\n",
    "\n",
    "complete = [{'keyword_match': {'table': 'movie', 'schema_filter': [], 'value_filter': [{'attribute': 'title', 'keywords': ['jones', 'indiana', 'last', 'crusade']}]}, 'alias': 't1', 'outgoing_neighbours': [], 'incoming_neighbours': ['t2']}, {'keyword_match': {'table': 'casting', 'schema_filter': [], 'value_filter': []}, 'alias': 't2', 'outgoing_neighbours': ['t3', 't1'], 'incoming_neighbours': []}, {'keyword_match': {'table': 'person', 'schema_filter': [], 'value_filter': []}, 'alias': 't3', 'outgoing_neighbours': [], 'incoming_neighbours': ['t4', 't2']}, {'keyword_match': {'table': 'casting', 'schema_filter': [], 'value_filter': []}, 'alias': 't4', 'outgoing_neighbours': ['t3', 't5'], 'incoming_neighbours': []}, {'keyword_match': {'table': 'movie', 'schema_filter': [], 'value_filter': [{'attribute': 'title', 'keywords': ['ark', 'lost']}]}, 'alias': 't5', 'outgoing_neighbours': [], 'incoming_neighbours': ['t4']}]\n",
    "cn = CandidateNetwork.from_json_serializable(complete)\n",
    "cn"
   ]
  },
  {
   "cell_type": "code",
   "execution_count": null,
   "metadata": {
    "ExecuteTime": {
     "end_time": "2021-02-24T18:35:44.582808Z",
     "start_time": "2021-02-24T18:35:44.577360Z"
    }
   },
   "outputs": [],
   "source": [
    "print(cn)\n",
    "print('''MOVIE.v(title{jones,indiana,crusade,last})\n",
    "\t<CASTING\n",
    "        >MOVIE.v(title{lost,ark})\n",
    "\t\t>PERSON\n",
    "\t\t\t<CASTING''')\n",
    "\n"
   ]
  },
  {
   "cell_type": "code",
   "execution_count": null,
   "metadata": {
    "lines_to_next_cell": 0
   },
   "outputs": [],
   "source": []
  },
  {
   "cell_type": "markdown",
   "metadata": {},
   "source": [
    "MOVIE.v(title{jones,indiana,crusade,last})\n",
    "\t<CASTING\n",
    "\t\t>PERSON\n",
    "\t\t\t<CASTING\n",
    "\t\t\t\t>MOVIE.v(title{lost,ark})\n",
    "```\n",
    "```"
   ]
  },
  {
   "cell_type": "code",
   "execution_count": null,
   "metadata": {},
   "outputs": [],
   "source": [
    "MOVIE.v(title{lost,ark})\n",
    "\t<CASTING\n",
    "\t\t>PERSON(a)\n",
    "\t\t\t<CASTING\n",
    "                >MOVIE.v(title{jones,indiana,crusade,last})9"
   ]
  },
  {
   "cell_type": "code",
   "execution_count": null,
   "metadata": {},
   "outputs": [],
   "source": [
    ">PERSON(a)\n",
    "    <CASTING\n",
    "        >MOVIE.v(title{jones,indiana,crusade,last})\n",
    "    <CASTING\n",
    "        >MOVIE.v(title{lost,ark})\n",
    "        \n",
    "new_node"
   ]
  },
  {
   "cell_type": "code",
   "execution_count": null,
   "metadata": {
    "ExecuteTime": {
     "end_time": "2021-02-24T18:41:12.921539Z",
     "start_time": "2021-02-24T18:41:12.918577Z"
    }
   },
   "outputs": [],
   "source": [
    "0  Pa(CASTING:2)\n",
    "1  CASTING(movie(indiana):1) CASTING(movie(lost, ark):1)\n",
    "2  movie() movie()"
   ]
  },
  {
   "cell_type": "code",
   "execution_count": null,
   "metadata": {
    "ExecuteTime": {
     "end_time": "2021-02-24T11:20:54.323439Z",
     "start_time": "2021-02-24T11:20:54.321267Z"
    }
   },
   "outputs": [],
   "source": [
    "from queue import deque\n",
    "from collections import Counter"
   ]
  },
  {
   "cell_type": "code",
   "execution_count": null,
   "metadata": {},
   "outputs": [],
   "source": [
    "graph = {\n",
    "    (1,'A'):[(2,'B')],\n",
    "    (2,'B'):[(1,'A'),(3,'C')],\n",
    "    (3,'C'):[(2,'B'),(4,'B')],\n",
    "    (4,'B'):[(3,'C'),(5,'D')],\n",
    "    (5,'D'):[(4,'B')],\n",
    "}"
   ]
  },
  {
   "cell_type": "code",
   "execution_count": null,
   "metadata": {
    "ExecuteTime": {
     "end_time": "2021-02-24T12:02:57.462301Z",
     "start_time": "2021-02-24T12:02:57.456929Z"
    }
   },
   "outputs": [],
   "source": [
    "graph = {\n",
    "    (1,'A'):[(2,'C'),(3,'C')],\n",
    "    (2,'C'):[(1,'A'),(4,'B')],\n",
    "    (3,'C'):[(1,'A'),(5,'E')],\n",
    "    (4,'B'):[(2,'C')],\n",
    "    (5,'E'):[(3,'C')],\n",
    "}"
   ]
  },
  {
   "cell_type": "code",
   "execution_count": null,
   "metadata": {
    "ExecuteTime": {
     "end_time": "2021-02-24T11:59:49.770447Z",
     "start_time": "2021-02-24T11:59:49.763471Z"
    }
   },
   "outputs": [],
   "source": [
    "level = 0\n",
    "store = []\n",
    "\n",
    "visited = set()\n",
    "root = (1,'A')\n",
    "\n",
    "queue = deque()\n",
    "queue.append( (level,root) )\n",
    "\n",
    "while queue:\n",
    "    level,vertex = queue.popleft()\n",
    "    alias,label = vertex\n",
    "    sons = Counter()\n",
    "    \n",
    "    visited.add(vertex)\n",
    "    \n",
    "    for adj_vertex in graph[vertex]:\n",
    "        if adj_vertex in visited:\n",
    "            print(vertex,adj_vertex)\n",
    "            continue\n",
    "        adj_alias,adj_label = adj_vertex\n",
    "        \n",
    "        queue.append( (level+1,adj_vertex) )\n",
    "        sons[adj_label]+=1\n",
    "        \n",
    "    if len(store)<level+1:\n",
    "        store.append(set())\n",
    "    \n",
    "    store[level].add( (label,frozenset(sons.items())) )\n",
    "tuple(frozenset(items) for items in store)"
   ]
  },
  {
   "cell_type": "code",
   "execution_count": null,
   "metadata": {
    "ExecuteTime": {
     "end_time": "2021-02-24T11:55:39.460716Z",
     "start_time": "2021-02-24T11:55:39.457245Z"
    }
   },
   "outputs": [],
   "source": [
    "a=Counter(A=2,E=1,F=1)\n",
    "b=Counter(B=1)\n",
    "a-b, b-a"
   ]
  },
  {
   "cell_type": "code",
   "execution_count": null,
   "metadata": {
    "ExecuteTime": {
     "end_time": "2021-02-24T11:56:10.374047Z",
     "start_time": "2021-02-24T11:56:10.367220Z"
    }
   },
   "outputs": [],
   "source": [
    "a=Counter(A=2,E=1,F=1)\n",
    "b=Counter(E=1,F=1)\n",
    "sum((a-b).values())"
   ]
  },
  {
   "cell_type": "code",
   "execution_count": null,
   "metadata": {
    "ExecuteTime": {
     "end_time": "2021-02-24T11:49:56.583005Z",
     "start_time": "2021-02-24T11:49:56.578039Z"
    }
   },
   "outputs": [],
   "source": [
    "Counter(A=1)-Counter(B=1)"
   ]
  },
  {
   "cell_type": "code",
   "execution_count": null,
   "metadata": {
    "ExecuteTime": {
     "end_time": "2021-02-24T12:36:43.960750Z",
     "start_time": "2021-02-24T12:36:43.958334Z"
    }
   },
   "outputs": [],
   "source": [
    "from collections import OrderedDict"
   ]
  },
  {
   "cell_type": "code",
   "execution_count": null,
   "metadata": {
    "ExecuteTime": {
     "end_time": "2021-02-24T12:37:35.288951Z",
     "start_time": "2021-02-24T12:37:35.286041Z"
    }
   },
   "outputs": [],
   "source": [
    "x = dict([('Z',1),('a',2)])"
   ]
  },
  {
   "cell_type": "code",
   "execution_count": null,
   "metadata": {
    "ExecuteTime": {
     "end_time": "2021-02-24T13:31:12.983192Z",
     "start_time": "2021-02-24T13:31:12.980163Z"
    }
   },
   "outputs": [],
   "source": [
    "list(reversed(graph.keys()))"
   ]
  },
  {
   "cell_type": "code",
   "execution_count": null,
   "metadata": {},
   "outputs": [],
   "source": [
    "(2,'B'),(1,'A')"
   ]
  },
  {
   "cell_type": "code",
   "execution_count": null,
   "metadata": {},
   "outputs": [],
   "source": [
    "(2,'B'),('A')"
   ]
  },
  {
   "cell_type": "code",
   "execution_count": null,
   "metadata": {
    "ExecuteTime": {
     "end_time": "2021-02-24T15:37:08.594815Z",
     "start_time": "2021-02-24T15:37:08.590253Z"
    }
   },
   "outputs": [],
   "source": [
    "x= frozenset(Counter(x for x in ['A','A','B','B','B']).items())\n",
    "x"
   ]
  },
  {
   "cell_type": "code",
   "execution_count": null,
   "metadata": {
    "ExecuteTime": {
     "end_time": "2021-02-24T15:41:17.858832Z",
     "start_time": "2021-02-24T15:41:17.855630Z"
    }
   },
   "outputs": [],
   "source": [
    "Counter((a,b) for a,b in x)"
   ]
  },
  {
   "cell_type": "code",
   "execution_count": null,
   "metadata": {
    "ExecuteTime": {
     "end_time": "2021-02-24T15:39:20.110216Z",
     "start_time": "2021-02-24T15:39:20.102820Z"
    }
   },
   "outputs": [],
   "source": [
    "Counter(dict(x)) - dict(x)"
   ]
  },
  {
   "cell_type": "code",
   "execution_count": null,
   "metadata": {
    "ExecuteTime": {
     "end_time": "2021-02-24T15:55:28.996597Z",
     "start_time": "2021-02-24T15:55:28.994319Z"
    }
   },
   "outputs": [],
   "source": [
    "x = Counter()"
   ]
  },
  {
   "cell_type": "code",
   "execution_count": null,
   "metadata": {
    "ExecuteTime": {
     "end_time": "2021-02-24T15:55:50.535012Z",
     "start_time": "2021-02-24T15:55:50.532827Z"
    }
   },
   "outputs": [],
   "source": [
    "x[2]+=1"
   ]
  },
  {
   "cell_type": "code",
   "execution_count": null,
   "metadata": {
    "ExecuteTime": {
     "end_time": "2021-02-24T15:56:51.342079Z",
     "start_time": "2021-02-24T15:56:51.339704Z"
    }
   },
   "outputs": [],
   "source": [
    "set([1]).remove(1)"
   ]
  },
  {
   "cell_type": "code",
   "execution_count": null,
   "metadata": {
    "ExecuteTime": {
     "end_time": "2021-02-24T17:20:54.444713Z",
     "start_time": "2021-02-24T17:20:54.438147Z"
    }
   },
   "outputs": [],
   "source": [
    "raise ValueError('The root of a Candidate Network cannot be a Keyword-Free Match.')"
   ]
  },
  {
   "cell_type": "code",
   "execution_count": null,
   "metadata": {
    "ExecuteTime": {
     "end_time": "2021-03-03T03:16:31.436360Z",
     "start_time": "2021-03-03T03:16:31.432531Z"
    }
   },
   "outputs": [],
   "source": [
    "from string import punctuation,ascii_uppercase,ascii_lowercase\n",
    "translate_table = str.maketrans(ascii_uppercase+punctuation,ascii_lowercase+' '*len(punctuation))\n",
    "\n",
    "\n",
    "\n",
    "s.translate(translate_table)"
   ]
  },
  {
   "cell_type": "code",
   "execution_count": null,
   "metadata": {
    "ExecuteTime": {
     "end_time": "2021-03-03T02:28:26.918585Z",
     "start_time": "2021-03-03T02:28:26.914210Z"
    }
   },
   "outputs": [],
   "source": [
    "s= 'Paulo'\n",
    "s.translate(str.maketrans('Po', 'bu', string.punctuation))"
   ]
  },
  {
   "cell_type": "code",
   "execution_count": null,
   "metadata": {
    "ExecuteTime": {
     "end_time": "2021-03-03T03:13:54.746764Z",
     "start_time": "2021-03-03T03:13:54.742928Z"
    }
   },
   "outputs": [],
   "source": [
    "string.punctuation\n",
    "\n",
    "upper_letters = 'ABCDEFGHIJKLMNOPQRSTUVWXYZ'\n",
    "lower_letters = 'abcdefghijklmnopqrstuvwxyz'"
   ]
  },
  {
   "cell_type": "code",
   "execution_count": null,
   "metadata": {},
   "outputs": [],
   "source": [
    "'ABCDEFGHIJKLMNOPQRSTUVWXYZ'"
   ]
  },
  {
   "cell_type": "code",
   "execution_count": null,
   "metadata": {
    "ExecuteTime": {
     "end_time": "2021-03-03T03:12:42.276272Z",
     "start_time": "2021-03-03T03:12:42.269826Z"
    }
   },
   "outputs": [],
   "source": [
    "# str.maketrans(string.punctuation,' '*len(string.punctuation))"
   ]
  },
  {
   "cell_type": "code",
   "execution_count": null,
   "metadata": {
    "ExecuteTime": {
     "end_time": "2021-03-03T03:16:05.182489Z",
     "start_time": "2021-03-03T03:16:05.177984Z"
    }
   },
   "outputs": [],
   "source": [
    "str.maketrans(ascii_uppercase+punctuation,ascii_lowercase+' '*len(punctuation))\n"
   ]
  },
  {
   "cell_type": "code",
   "execution_count": null,
   "metadata": {
    "ExecuteTime": {
     "end_time": "2021-03-03T02:33:50.867108Z",
     "start_time": "2021-03-03T02:33:50.865110Z"
    }
   },
   "outputs": [],
   "source": [
    "import re\n",
    "import string"
   ]
  },
  {
   "cell_type": "code",
   "execution_count": null,
   "metadata": {
    "ExecuteTime": {
     "end_time": "2021-03-03T02:46:58.430855Z",
     "start_time": "2021-03-03T02:46:58.424906Z"
    }
   },
   "outputs": [],
   "source": [
    "text = '''\n",
    "[Tom hands Max an envelope]::Max California: What is this?::Tom Welles: Money. People use it to buy goods and services.\n",
    " [to porn store customer]::Max California: Hey! It's like a gas station, you pay before you pump!\n",
    " Max California: There are some things that you see, and you can't unsee them. Know what I mean?\n",
    " Daniel Longdale: Do you think people like the Christians hire us to invite us to their dinner parties? It's our job to clean up their royal messes.\n",
    " Dino Velvet: You trust me to take your money, but not your picture?::Tom Welles: Those are two different kinds of trust.\n",
    " Max California: Can I interest you in a battery-operated vagina?::Tom Welles: No thank you.::Max California: Are you sure? I'd hate for you to be in one of those everyda\n",
    "y situations that calls for a battery-operated vagina and not have one.\n",
    " Tom Welles: What're you reading?::[Max California shows book - \"Anal Secretary\"]::Tom Welles: Catchy title. What are you really reading? Hard to believe that book's got \n",
    "any parts worth highlighting.::[Max California reveals real book - \"In Cold Blood\"]::Tom Welles: Capote!::Max California: Yeah, well. You know how it is.::Tom Welles: Yea\n",
    "h. Wouldn't want to embarrass yourself in front of your fellow perverts.::Max California: That's right. I might get drummed out of the Pornographer's Union. Where would I be then?\n",
    "'''\n",
    "re_punctuation = re.compile('[^\\w\\d]+')\n",
    "re_spaces = re.compile('\\s+')\n",
    "\n",
    "\n",
    "new = re.sub(re_punctuation,' ', text.lower())\n",
    "new = re.split(re_spaces, new)\n",
    "new"
   ]
  },
  {
   "cell_type": "code",
   "execution_count": null,
   "metadata": {
    "ExecuteTime": {
     "end_time": "2021-03-09T14:08:40.179946Z",
     "start_time": "2021-03-09T14:08:40.177638Z"
    }
   },
   "outputs": [],
   "source": [
    "def test(x=\"teste\"):\n",
    "    return x"
   ]
  },
  {
   "cell_type": "code",
   "execution_count": null,
   "metadata": {
    "ExecuteTime": {
     "end_time": "2021-03-09T14:44:44.967225Z",
     "start_time": "2021-03-09T14:44:44.963954Z"
    }
   },
   "outputs": [],
   "source": [
    "from copy import deepcopy,copy\n",
    "x=[1,2,3]\n",
    "y = copy(x)\n",
    "x.append(4)\n",
    "x,y"
   ]
  },
  {
   "cell_type": "code",
   "execution_count": null,
   "metadata": {
    "ExecuteTime": {
     "end_time": "2021-03-09T14:52:20.669128Z",
     "start_time": "2021-03-09T14:52:20.667146Z"
    }
   },
   "outputs": [],
   "source": [
    "x=2"
   ]
  },
  {
   "cell_type": "code",
   "execution_count": null,
   "metadata": {
    "ExecuteTime": {
     "end_time": "2021-03-09T14:52:34.373088Z",
     "start_time": "2021-03-09T14:52:34.368505Z"
    }
   },
   "outputs": [],
   "source": [
    "x=2\n",
    "x**=3\n",
    "x"
   ]
  },
  {
   "cell_type": "code",
   "execution_count": null,
   "metadata": {
    "ExecuteTime": {
     "end_time": "2021-03-19T14:27:33.378871Z",
     "start_time": "2021-03-19T14:27:33.366178Z"
    }
   },
   "outputs": [],
   "source": [
    "x = [\n",
    "    {\n",
    "        \"table\": \"borders\",\n",
    "        \"attributes\": [\n",
    "            \"__search_id\",\n",
    "            \"country1\",\n",
    "            \"country2\",\n",
    "            \"length\"\n",
    "        ]\n",
    "    },\n",
    "    {\n",
    "        \"table\": \"city\",\n",
    "        \"attributes\": [\n",
    "            \"__search_id\",\n",
    "            \"country\",\n",
    "            \"latitude\",\n",
    "            \"longitude\",\n",
    "            \"name\",\n",
    "            \"population\",\n",
    "            \"province\"\n",
    "        ]\n",
    "    },\n",
    "    {\n",
    "        \"table\": \"continent\",\n",
    "        \"attributes\": [\n",
    "            \"__search_id\",\n",
    "            \"area\",\n",
    "            \"name\"\n",
    "        ]\n",
    "    },\n",
    "    {\n",
    "        \"table\": \"country\",\n",
    "        \"attributes\": [\n",
    "            \"__search_id\",\n",
    "            \"area\",\n",
    "            \"capital\",\n",
    "            \"code\",\n",
    "            \"name\",\n",
    "            \"population\",\n",
    "            \"province\"\n",
    "        ]\n",
    "    },\n",
    "    {\n",
    "        \"table\": \"desert\",\n",
    "        \"attributes\": [\n",
    "            \"__search_id\",\n",
    "            \"area\",\n",
    "            \"name\"\n",
    "        ]\n",
    "    },\n",
    "    {\n",
    "        \"table\": \"economy\",\n",
    "        \"attributes\": [\n",
    "            \"__search_id\",\n",
    "            \"agriculture\",\n",
    "            \"country\",\n",
    "            \"gdp\",\n",
    "            \"industry\",\n",
    "            \"inflation\",\n",
    "            \"service\"\n",
    "        ]\n",
    "    },\n",
    "    {\n",
    "        \"table\": \"encompasses\",\n",
    "        \"attributes\": [\n",
    "            \"__search_id\",\n",
    "            \"continent\",\n",
    "            \"country\",\n",
    "            \"percentage\"\n",
    "        ]\n",
    "    },\n",
    "    {\n",
    "        \"table\": \"ethnic_group\",\n",
    "        \"attributes\": [\n",
    "            \"__search_id\",\n",
    "            \"country\",\n",
    "            \"name\",\n",
    "            \"percentage\"\n",
    "        ]\n",
    "    },\n",
    "    {\n",
    "        \"table\": \"geo_desert\",\n",
    "        \"attributes\": [\n",
    "            \"__search_id\",\n",
    "            \"country\",\n",
    "            \"desert\",\n",
    "            \"province\"\n",
    "        ]\n",
    "    },\n",
    "    {\n",
    "        \"table\": \"geo_island\",\n",
    "        \"attributes\": [\n",
    "            \"__search_id\",\n",
    "            \"country\",\n",
    "            \"island\",\n",
    "            \"province\"\n",
    "        ]\n",
    "    },\n",
    "    {\n",
    "        \"table\": \"geo_lake\",\n",
    "        \"attributes\": [\n",
    "            \"__search_id\",\n",
    "            \"country\",\n",
    "            \"lake\",\n",
    "            \"province\"\n",
    "        ]\n",
    "    },\n",
    "    {\n",
    "        \"table\": \"geo_mountain\",\n",
    "        \"attributes\": [\n",
    "            \"__search_id\",\n",
    "            \"country\",\n",
    "            \"mountain\",\n",
    "            \"province\"\n",
    "        ]\n",
    "    },\n",
    "    {\n",
    "        \"table\": \"geo_river\",\n",
    "        \"attributes\": [\n",
    "            \"__search_id\",\n",
    "            \"country\",\n",
    "            \"province\",\n",
    "            \"river\"\n",
    "        ]\n",
    "    },\n",
    "    {\n",
    "        \"table\": \"geo_sea\",\n",
    "        \"attributes\": [\n",
    "            \"__search_id\",\n",
    "            \"country\",\n",
    "            \"province\",\n",
    "            \"sea\"\n",
    "        ]\n",
    "    },\n",
    "    {\n",
    "        \"table\": \"is_member\",\n",
    "        \"attributes\": [\n",
    "            \"__search_id\",\n",
    "            \"country\",\n",
    "            \"organization\",\n",
    "            \"type\"\n",
    "        ]\n",
    "    },\n",
    "    {\n",
    "        \"table\": \"island\",\n",
    "        \"attributes\": [\n",
    "            \"__search_id\",\n",
    "            \"area\",\n",
    "            \"coordinates\",\n",
    "            \"islands\",\n",
    "            \"name\"\n",
    "        ]\n",
    "    },\n",
    "    {\n",
    "        \"table\": \"lake\",\n",
    "        \"attributes\": [\n",
    "            \"__search_id\",\n",
    "            \"area\",\n",
    "            \"name\"\n",
    "        ]\n",
    "    },\n",
    "    {\n",
    "        \"table\": \"language\",\n",
    "        \"attributes\": [\n",
    "            \"__search_id\",\n",
    "            \"country\",\n",
    "            \"name\",\n",
    "            \"percentage\"\n",
    "        ]\n",
    "    },\n",
    "    {\n",
    "        \"table\": \"located\",\n",
    "        \"attributes\": [\n",
    "            \"__search_id\",\n",
    "            \"city\",\n",
    "            \"country\",\n",
    "            \"lake\",\n",
    "            \"province\",\n",
    "            \"river\",\n",
    "            \"sea\"\n",
    "        ]\n",
    "    },\n",
    "    {\n",
    "        \"table\": \"merges_with\",\n",
    "        \"attributes\": [\n",
    "            \"__search_id\",\n",
    "            \"sea1\",\n",
    "            \"sea2\"\n",
    "        ]\n",
    "    },\n",
    "    {\n",
    "        \"table\": \"mountain\",\n",
    "        \"attributes\": [\n",
    "            \"__search_id\",\n",
    "            \"coordinates\",\n",
    "            \"height\",\n",
    "            \"name\"\n",
    "        ]\n",
    "    },\n",
    "    {\n",
    "        \"table\": \"organization\",\n",
    "        \"attributes\": [\n",
    "            \"__search_id\",\n",
    "            \"abbreviation\",\n",
    "            \"city\",\n",
    "            \"country\",\n",
    "            \"established\",\n",
    "            \"name\",\n",
    "            \"province\"\n",
    "        ]\n",
    "    },\n",
    "    {\n",
    "        \"table\": \"politics\",\n",
    "        \"attributes\": [\n",
    "            \"__search_id\",\n",
    "            \"country\",\n",
    "            \"government\",\n",
    "            \"independence\"\n",
    "        ]\n",
    "    },\n",
    "    {\n",
    "        \"table\": \"population\",\n",
    "        \"attributes\": [\n",
    "            \"__search_id\",\n",
    "            \"country\",\n",
    "            \"infant_mortality\",\n",
    "            \"population_growth\"\n",
    "        ]\n",
    "    },\n",
    "    {\n",
    "        \"table\": \"province\",\n",
    "        \"attributes\": [\n",
    "            \"__search_id\",\n",
    "            \"area\",\n",
    "            \"capital\",\n",
    "            \"capprov\",\n",
    "            \"country\",\n",
    "            \"name\",\n",
    "            \"population\"\n",
    "        ]\n",
    "    },\n",
    "    {\n",
    "        \"table\": \"religion\",\n",
    "        \"attributes\": [\n",
    "            \"__search_id\",\n",
    "            \"country\",\n",
    "            \"name\",\n",
    "            \"percentage\"\n",
    "        ]\n",
    "    },\n",
    "    {\n",
    "        \"table\": \"river\",\n",
    "        \"attributes\": [\n",
    "            \"__search_id\",\n",
    "            \"lake\",\n",
    "            \"length\",\n",
    "            \"name\",\n",
    "            \"river\",\n",
    "            \"sea\"\n",
    "        ]\n",
    "    },\n",
    "    {\n",
    "        \"table\": \"sea\",\n",
    "        \"attributes\": [\n",
    "            \"__search_id\",\n",
    "            \"depth\",\n",
    "            \"name\"\n",
    "        ]\n",
    "    }\n",
    "]"
   ]
  },
  {
   "cell_type": "code",
   "execution_count": null,
   "metadata": {
    "ExecuteTime": {
     "end_time": "2021-03-19T14:27:34.709321Z",
     "start_time": "2021-03-19T14:27:34.699375Z"
    }
   },
   "outputs": [],
   "source": []
  },
  {
   "cell_type": "code",
   "execution_count": null,
   "metadata": {
    "ExecuteTime": {
     "end_time": "2021-03-19T14:33:03.473471Z",
     "start_time": "2021-03-19T14:33:03.447948Z"
    }
   },
   "outputs": [],
   "source": [
    "import psycopg2\n",
    "\n",
    "conn_string = f\"host='localhost' dbname='mondial_coffman' user='paulo' password=''\"\n",
    "\n",
    "with psycopg2.connect(conn_string) as conn:\n",
    "    with conn.cursor() as cur:\n",
    "        GET_TABLE_AND_COLUMNS_WITHOUT_FOREIGN_KEYS_SQL='''\n",
    "            SELECT\n",
    "                c.table_name,\n",
    "                c.column_name\n",
    "            FROM\n",
    "                information_schema.table_constraints AS tc\n",
    "                JOIN information_schema.key_column_usage AS kcu\n",
    "                  ON tc.constraint_name = kcu.constraint_name\n",
    "                  AND tc.table_schema = kcu.table_schema\n",
    "                  AND tc.constraint_type = 'FOREIGN KEY'\n",
    "                RIGHT JOIN information_schema.columns AS c\n",
    "                  ON c.table_name=tc.table_name\n",
    "                  AND c.column_name = kcu.column_name\n",
    "                  AND c.table_schema = kcu.table_schema\n",
    "            WHERE\n",
    "                c.table_schema='public'\n",
    "                AND tc.constraint_name IS NULL;\n",
    "        '''\n",
    "        cur.execute(GET_TABLE_AND_COLUMNS_WITHOUT_FOREIGN_KEYS_SQL)\n",
    "        table_hash = {}\n",
    "        for table,column in cur.fetchall():\n",
    "            if column == '__search_id':\n",
    "                continue\n",
    "            table_hash.setdefault(table,[]).append(column)"
   ]
  },
  {
   "cell_type": "code",
   "execution_count": null,
   "metadata": {
    "ExecuteTime": {
     "end_time": "2021-03-19T14:33:03.873045Z",
     "start_time": "2021-03-19T14:33:03.861415Z"
    }
   },
   "outputs": [],
   "source": [
    "table_hash"
   ]
  },
  {
   "cell_type": "code",
   "execution_count": null,
   "metadata": {
    "ExecuteTime": {
     "end_time": "2021-03-19T14:35:26.850835Z",
     "start_time": "2021-03-19T14:35:26.847715Z"
    }
   },
   "outputs": [],
   "source": [
    "import json\n",
    "json_text = [\n",
    "    {'table':table,'attributes':attributes}\n",
    "    for table,attributes in table_hash.items()\n",
    "]\n",
    "\n",
    "print(json.dumps(json_text,indent=4))"
   ]
  },
  {
   "cell_type": "code",
   "execution_count": 6,
   "metadata": {
    "ExecuteTime": {
     "end_time": "2021-03-19T17:01:43.074368Z",
     "start_time": "2021-03-19T17:01:43.000314Z"
    }
   },
   "outputs": [],
   "source": [
    "x=[{'keyword_query': 'thailand', 'query_matches': [[{'table': 'country', 'schema_filter': [], 'value_filter': [{'attribute': 'name', 'keywords': ['thailand']}]}]], 'candidate_networks': [[{'keyword_match': {'table': 'country', 'schema_filter': [], 'value_filter': [{'attribute': 'name', 'keywords': ['thailand']}]}, 'alias': 't1', 'outgoing_neighbours': [], 'incoming_neighbours': []}]]}, {'keyword_query': 'netherlands', 'query_matches': [[{'table': 'country', 'schema_filter': [], 'value_filter': [{'attribute': 'name', 'keywords': ['netherlands']}]}]], 'candidate_networks': [[{'keyword_match': {'table': 'country', 'schema_filter': [], 'value_filter': [{'attribute': 'name', 'keywords': ['netherlands']}]}, 'alias': 't1', 'outgoing_neighbours': [], 'incoming_neighbours': []}]]}, {'keyword_query': 'georgia', 'query_matches': [[{'table': 'country', 'schema_filter': [], 'value_filter': [{'attribute': 'name', 'keywords': ['georgia']}]}]], 'candidate_networks': [[{'keyword_match': {'table': 'country', 'schema_filter': [], 'value_filter': [{'attribute': 'name', 'keywords': ['georgia']}]}, 'alias': 't1', 'outgoing_neighbours': [], 'incoming_neighbours': []}]]}, {'keyword_query': 'country china', 'query_matches': [[{'table': 'country', 'schema_filter': [{'attribute': '*', 'keywords': ['country']}], 'value_filter': [{'attribute': 'name', 'keywords': ['china']}]}]], 'candidate_networks': [[{'keyword_match': {'table': 'country', 'schema_filter': [{'attribute': '*', 'keywords': ['country']}], 'value_filter': [{'attribute': 'name', 'keywords': ['china']}]}, 'alias': 't1', 'outgoing_neighbours': [], 'incoming_neighbours': []}]]}, {'keyword_query': 'bangladesh', 'query_matches': [[{'table': 'country', 'schema_filter': [], 'value_filter': [{'attribute': 'name', 'keywords': ['bangladesh']}]}]], 'candidate_networks': [[{'keyword_match': {'table': 'country', 'schema_filter': [], 'value_filter': [{'attribute': 'name', 'keywords': ['bangladesh']}]}, 'alias': 't1', 'outgoing_neighbours': [], 'incoming_neighbours': []}]]}, {'keyword_query': 'alexandria', 'query_matches': [[{'table': 'city', 'schema_filter': [], 'value_filter': [{'attribute': 'name', 'keywords': ['alexandria']}]}]], 'candidate_networks': [[{'keyword_match': {'table': 'city', 'schema_filter': [], 'value_filter': [{'attribute': 'name', 'keywords': ['alexandria']}]}, 'alias': 't1', 'outgoing_neighbours': [], 'incoming_neighbours': []}]]}, {'keyword_query': 'sonsonate', 'query_matches': [[{'table': 'city', 'schema_filter': [], 'value_filter': [{'attribute': 'name', 'keywords': ['sonsonate']}]}]], 'candidate_networks': [[{'keyword_match': {'table': 'city', 'schema_filter': [], 'value_filter': [{'attribute': 'name', 'keywords': ['sonsonate']}]}, 'alias': 't1', 'outgoing_neighbours': [], 'incoming_neighbours': []}]]}, {'keyword_query': 'xiaogan', 'query_matches': [[{'table': 'city', 'schema_filter': [], 'value_filter': [{'attribute': 'name', 'keywords': ['xiaogan']}]}]], 'candidate_networks': [[{'keyword_match': {'table': 'city', 'schema_filter': [], 'value_filter': [{'attribute': 'name', 'keywords': ['xiaogan']}]}, 'alias': 't1', 'outgoing_neighbours': [], 'incoming_neighbours': []}]]}, {'keyword_query': 'city glendale', 'query_matches': [[{'table': 'city', 'schema_filter': [{'attribute': '*', 'keywords': ['city']}], 'value_filter': [{'attribute': 'name', 'keywords': ['glendale']}]}]], 'candidate_networks': [[{'keyword_match': {'table': 'city', 'schema_filter': [{'attribute': '*', 'keywords': ['city']}], 'value_filter': [{'attribute': 'name', 'keywords': ['glendale']}]}, 'alias': 't1', 'outgoing_neighbours': [], 'incoming_neighbours': []}]]}, {'keyword_query': 'city granada', 'query_matches': [[{'table': 'city', 'schema_filter': [{'attribute': '*', 'keywords': ['city']}], 'value_filter': [{'attribute': 'name', 'keywords': ['granada']}]}]], 'candidate_networks': [[{'keyword_match': {'table': 'city', 'schema_filter': [{'attribute': '*', 'keywords': ['city']}], 'value_filter': [{'attribute': 'name', 'keywords': ['granada']}]}, 'alias': 't1', 'outgoing_neighbours': [], 'incoming_neighbours': []}]]}, {'keyword_query': 'Lake Kariba', 'query_matches': [[{'table': 'lake', 'schema_filter': [], 'value_filter': [{'attribute': 'name', 'keywords': ['lake', 'kariba']}]}]], 'candidate_networks': [[{'keyword_match': {'table': 'lake', 'schema_filter': [], 'value_filter': [{'attribute': 'name', 'keywords': ['lake', 'kariba']}]}, 'alias': 't1', 'outgoing_neighbours': [], 'incoming_neighbours': []}]]}, {'keyword_query': 'Niger', 'query_matches': [[{'table': 'river', 'schema_filter': [], 'value_filter': [{'attribute': 'name', 'keywords': ['niger']}]}]], 'candidate_networks': [[{'keyword_match': {'table': 'river', 'schema_filter': [], 'value_filter': [{'attribute': 'name', 'keywords': ['niger']}]}, 'alias': 't1', 'outgoing_neighbours': [], 'incoming_neighbours': []}]]}, {'keyword_query': 'Arabian Sea', 'query_matches': [[{'table': 'sea', 'schema_filter': [], 'value_filter': [{'attribute': 'name', 'keywords': ['arabian', 'sea']}]}]], 'candidate_networks': [[{'keyword_match': {'table': 'sea', 'schema_filter': [], 'value_filter': [{'attribute': 'name', 'keywords': ['arabian', 'sea']}]}, 'alias': 't1', 'outgoing_neighbours': [], 'incoming_neighbours': []}]]}, {'keyword_query': 'Asauad', 'query_matches': [[{'table': 'desert', 'schema_filter': [], 'value_filter': [{'attribute': 'name', 'keywords': ['asauad']}]}]], 'candidate_networks': [[{'keyword_match': {'table': 'desert', 'schema_filter': [], 'value_filter': [{'attribute': 'name', 'keywords': ['asauad']}]}, 'alias': 't1', 'outgoing_neighbours': [], 'incoming_neighbours': []}]]}, {'keyword_query': 'Sardegna', 'query_matches': [[{'table': 'island', 'schema_filter': [], 'value_filter': [{'attribute': 'name', 'keywords': ['sardegna']}]}]], 'candidate_networks': [[{'keyword_match': {'table': 'island', 'schema_filter': [], 'value_filter': [{'attribute': 'name', 'keywords': ['sardegna']}]}, 'alias': 't1', 'outgoing_neighbours': [], 'incoming_neighbours': []}]]}, {'keyword_query': 'arab cooperation council', 'query_matches': [[{'table': 'organization', 'schema_filter': [], 'value_filter': [{'attribute': 'name', 'keywords': ['arab', 'cooperation', 'council']}]}]], 'candidate_networks': [[{'keyword_match': {'table': 'organization', 'schema_filter': [], 'value_filter': [{'attribute': 'name', 'keywords': ['arab', 'cooperation', 'council']}]}, 'alias': 't1', 'outgoing_neighbours': [], 'incoming_neighbours': []}]]}, {'keyword_query': 'world labor', 'query_matches': [[{'table': 'organization', 'schema_filter': [], 'value_filter': [{'attribute': 'name', 'keywords': ['labor', 'world']}]}]], 'candidate_networks': [[{'keyword_match': {'table': 'organization', 'schema_filter': [], 'value_filter': [{'attribute': 'name', 'keywords': ['labor', 'world']}]}, 'alias': 't1', 'outgoing_neighbours': [], 'incoming_neighbours': []}]]}, {'keyword_query': 'islamic conference', 'query_matches': [[{'table': 'organization', 'schema_filter': [], 'value_filter': [{'attribute': 'name', 'keywords': ['conference', 'islamic']}]}]], 'candidate_networks': [[{'keyword_match': {'table': 'organization', 'schema_filter': [], 'value_filter': [{'attribute': 'name', 'keywords': ['conference', 'islamic']}]}, 'alias': 't1', 'outgoing_neighbours': [], 'incoming_neighbours': []}]]}, {'keyword_query': '30 group', 'query_matches': [[{'table': 'organization', 'schema_filter': [], 'value_filter': [{'attribute': 'name', 'keywords': ['group', '30']}]}]], 'candidate_networks': [[{'keyword_match': {'table': 'organization', 'schema_filter': [], 'value_filter': [{'attribute': 'name', 'keywords': ['group', '30']}]}, 'alias': 't1', 'outgoing_neighbours': [], 'incoming_neighbours': []}]]}, {'keyword_query': 'caribbean economic', 'query_matches': [[{'table': 'organization', 'schema_filter': [], 'value_filter': [{'attribute': 'name', 'keywords': ['caribbean', 'economic']}]}]], 'candidate_networks': [[{'keyword_match': {'table': 'organization', 'schema_filter': [], 'value_filter': [{'attribute': 'name', 'keywords': ['caribbean', 'economic']}]}, 'alias': 't1', 'outgoing_neighbours': [], 'incoming_neighbours': []}]]}, {'keyword_query': 'cameroon economy', 'query_matches': [[{'table': 'country', 'schema_filter': [], 'value_filter': [{'attribute': 'name', 'keywords': ['cameroon']}]}, {'table': 'economy', 'schema_filter': [{'attribute': '*', 'keywords': ['economy']}], 'value_filter': []}]], 'candidate_networks': [[{'keyword_match': {'table': 'economy', 'schema_filter': [{'attribute': '*', 'keywords': ['economy']}], 'value_filter': []}, 'alias': 't2', 'outgoing_neighbours': ['t1'], 'incoming_neighbours': []}, {'keyword_match': {'table': 'country', 'schema_filter': [], 'value_filter': [{'attribute': 'name', 'keywords': ['cameroon']}]}, 'alias': 't1', 'outgoing_neighbours': [], 'incoming_neighbours': ['t2']}]]}, {'keyword_query': 'nigeria gdp', 'query_matches': [[{'table': 'economy', 'schema_filter': [{'attribute': 'gdp', 'keywords': ['gdp']}], 'value_filter': []}, {'table': 'country', 'schema_filter': [], 'value_filter': [{'attribute': 'name', 'keywords': ['nigeria']}]}]], 'candidate_networks': [[{'keyword_match': {'table': 'economy', 'schema_filter': [{'attribute': 'gdp', 'keywords': ['gdp']}], 'value_filter': []}, 'alias': 't2', 'outgoing_neighbours': ['t1'], 'incoming_neighbours': []}, {'keyword_match': {'table': 'country', 'schema_filter': [], 'value_filter': [{'attribute': 'name', 'keywords': ['nigeria']}]}, 'alias': 't1', 'outgoing_neighbours': [], 'incoming_neighbours': ['t2']}]]}, {'keyword_query': 'mongolia republic', 'query_matches': [[{'table': 'politics', 'schema_filter': [], 'value_filter': [{'attribute': 'government', 'keywords': ['republic']}]}, {'table': 'country', 'schema_filter': [], 'value_filter': [{'attribute': 'name', 'keywords': ['mongolia']}]}]], 'candidate_networks': [[{'keyword_match': {'table': 'country', 'schema_filter': [], 'value_filter': [{'attribute': 'name', 'keywords': ['mongolia']}]}, 'alias': 't2', 'outgoing_neighbours': [], 'incoming_neighbours': ['t1']}, {'keyword_match': {'table': 'politics', 'schema_filter': [], 'value_filter': [{'attribute': 'government', 'keywords': ['republic']}]}, 'alias': 't1', 'outgoing_neighbours': ['t2'], 'incoming_neighbours': []}]]}, {'keyword_query': 'kiribati politics', 'query_matches': [[{'table': 'politics', 'schema_filter': [{'attribute': '*', 'keywords': ['politics']}], 'value_filter': []}, {'table': 'country', 'schema_filter': [], 'value_filter': [{'attribute': 'name', 'keywords': ['kiribati']}]}]], 'candidate_networks': [[{'keyword_match': {'table': 'politics', 'schema_filter': [{'attribute': '*', 'keywords': ['politics']}], 'value_filter': []}, 'alias': 't2', 'outgoing_neighbours': ['t1'], 'incoming_neighbours': []}, {'keyword_match': {'table': 'country', 'schema_filter': [], 'value_filter': [{'attribute': 'name', 'keywords': ['kiribati']}]}, 'alias': 't1', 'outgoing_neighbours': [], 'incoming_neighbours': ['t2']}]]}, {'keyword_query': 'poland language', 'query_matches': [[{'table': 'language', 'schema_filter': [{'attribute': '*', 'keywords': ['language']}], 'value_filter': []}, {'table': 'country', 'schema_filter': [], 'value_filter': [{'attribute': 'name', 'keywords': ['poland']}]}]], 'candidate_networks': [[{'keyword_match': {'table': 'country', 'schema_filter': [], 'value_filter': [{'attribute': 'name', 'keywords': ['poland']}]}, 'alias': 't1', 'outgoing_neighbours': [], 'incoming_neighbours': ['t2']}, {'keyword_match': {'table': 'language', 'schema_filter': [{'attribute': '*', 'keywords': ['language']}], 'value_filter': []}, 'alias': 't2', 'outgoing_neighbours': ['t1'], 'incoming_neighbours': []}]]}, {'keyword_query': 'spain galician', 'query_matches': [[{'table': 'language', 'schema_filter': [], 'value_filter': [{'attribute': 'name', 'keywords': ['galician']}]}, {'table': 'country', 'schema_filter': [], 'value_filter': [{'attribute': 'name', 'keywords': ['spain']}]}]], 'candidate_networks': [[{'keyword_match': {'table': 'language', 'schema_filter': [], 'value_filter': [{'attribute': 'name', 'keywords': ['galician']}]}, 'alias': 't2', 'outgoing_neighbours': ['t1'], 'incoming_neighbours': []}, {'keyword_match': {'table': 'country', 'schema_filter': [], 'value_filter': [{'attribute': 'name', 'keywords': ['spain']}]}, 'alias': 't1', 'outgoing_neighbours': [], 'incoming_neighbours': ['t2']}]]}, {'keyword_query': 'uzbekistan eastern orthodox', 'query_matches': [[{'table': 'country', 'schema_filter': [], 'value_filter': [{'attribute': 'name', 'keywords': ['uzbekistan']}]}, {'table': 'religion', 'schema_filter': [], 'value_filter': [{'attribute': 'name', 'keywords': ['eastern', 'orthodox']}]}]], 'candidate_networks': [[{'keyword_match': {'table': 'country', 'schema_filter': [], 'value_filter': [{'attribute': 'name', 'keywords': ['uzbekistan']}]}, 'alias': 't1', 'outgoing_neighbours': [], 'incoming_neighbours': ['t2']}, {'keyword_match': {'table': 'religion', 'schema_filter': [], 'value_filter': [{'attribute': 'name', 'keywords': ['eastern', 'orthodox']}]}, 'alias': 't2', 'outgoing_neighbours': ['t1'], 'incoming_neighbours': []}]]}, {'keyword_query': 'haiti religion', 'query_matches': [[{'table': 'country', 'schema_filter': [], 'value_filter': [{'attribute': 'name', 'keywords': ['haiti']}]}, {'table': 'religion', 'schema_filter': [{'attribute': '*', 'keywords': ['religion']}], 'value_filter': []}]], 'candidate_networks': [[{'keyword_match': {'table': 'religion', 'schema_filter': [{'attribute': '*', 'keywords': ['religion']}], 'value_filter': []}, 'alias': 't2', 'outgoing_neighbours': ['t1'], 'incoming_neighbours': []}, {'keyword_match': {'table': 'country', 'schema_filter': [], 'value_filter': [{'attribute': 'name', 'keywords': ['haiti']}]}, 'alias': 't1', 'outgoing_neighbours': [], 'incoming_neighbours': ['t2']}]]}, {'keyword_query': 'suriname ethnic_group', 'query_matches': [[{'table': 'ethnic_group', 'schema_filter': [{'attribute': '*', 'keywords': ['ethnic_group']}], 'value_filter': []}, {'table': 'country', 'schema_filter': [], 'value_filter': [{'attribute': 'name', 'keywords': ['suriname']}]}]], 'candidate_networks': [[{'keyword_match': {'table': 'ethnic_group', 'schema_filter': [{'attribute': '*', 'keywords': ['ethnic_group']}], 'value_filter': []}, 'alias': 't2', 'outgoing_neighbours': ['t1'], 'incoming_neighbours': []}, {'keyword_match': {'table': 'country', 'schema_filter': [], 'value_filter': [{'attribute': 'name', 'keywords': ['suriname']}]}, 'alias': 't1', 'outgoing_neighbours': [], 'incoming_neighbours': ['t2']}]]}, {'keyword_query': 'slovakia german', 'query_matches': [[{'table': 'ethnic_group', 'schema_filter': [], 'value_filter': [{'attribute': 'name', 'keywords': ['german']}]}, {'table': 'country', 'schema_filter': [], 'value_filter': [{'attribute': 'name', 'keywords': ['slovakia']}]}]], 'candidate_networks': [[{'keyword_match': {'table': 'country', 'schema_filter': [], 'value_filter': [{'attribute': 'name', 'keywords': ['slovakia']}]}, 'alias': 't1', 'outgoing_neighbours': [], 'incoming_neighbours': ['t2']}, {'keyword_match': {'table': 'ethnic_group', 'schema_filter': [], 'value_filter': [{'attribute': 'name', 'keywords': ['german']}]}, 'alias': 't2', 'outgoing_neighbours': ['t1'], 'incoming_neighbours': []}]]}, {'keyword_query': 'poland cape verde organization', 'query_matches': [[{'table': 'organization', 'schema_filter': [{'attribute': '*', 'keywords': ['organization']}], 'value_filter': []}, {'table': 'country', 'schema_filter': [], 'value_filter': [{'attribute': 'name', 'keywords': ['verde', 'cape']}]}, {'table': 'country', 'schema_filter': [], 'value_filter': [{'attribute': 'name', 'keywords': ['poland']}]}]], 'candidate_networks': [[{'keyword_match': {'table': 'organization', 'schema_filter': [{'attribute': '*', 'keywords': ['organization']}], 'value_filter': []}, 'alias': 't3', 'outgoing_neighbours': [], 'incoming_neighbours': ['t4', 't2']}, {'keyword_match': {'table': 'country', 'schema_filter': [], 'value_filter': [{'attribute': 'name', 'keywords': ['poland']}]}, 'alias': 't5', 'outgoing_neighbours': [], 'incoming_neighbours': ['t4']}, {'keyword_match': {'table': 'is_member', 'schema_filter': [], 'value_filter': []}, 'alias': 't2', 'outgoing_neighbours': ['t3', 't1'], 'incoming_neighbours': []}, {'keyword_match': {'table': 'country', 'schema_filter': [], 'value_filter': [{'attribute': 'name', 'keywords': ['verde', 'cape']}]}, 'alias': 't1', 'outgoing_neighbours': [], 'incoming_neighbours': ['t2']}, {'keyword_match': {'table': 'is_member', 'schema_filter': [], 'value_filter': []}, 'alias': 't4', 'outgoing_neighbours': ['t3', 't5'], 'incoming_neighbours': []}]]}, {'keyword_query': 'saint kitts cambodia', 'query_matches': [[{'table': 'country', 'schema_filter': [], 'value_filter': [{'attribute': 'name', 'keywords': ['saint', 'kitts']}]}, {'table': 'country', 'schema_filter': [], 'value_filter': [{'attribute': 'name', 'keywords': ['cambodia']}]}]], 'candidate_networks': [[{'keyword_match': {'table': 'country', 'schema_filter': [], 'value_filter': [{'attribute': 'name', 'keywords': ['saint', 'kitts']}]}, 'alias': 't1', 'outgoing_neighbours': [], 'incoming_neighbours': ['t2']}, {'keyword_match': {'table': 'organization', 'schema_filter': [], 'value_filter': []}, 'alias': 't3', 'outgoing_neighbours': [], 'incoming_neighbours': ['t4', 't2']}, {'keyword_match': {'table': 'is_member', 'schema_filter': [], 'value_filter': []}, 'alias': 't2', 'outgoing_neighbours': ['t3', 't1'], 'incoming_neighbours': []}, {'keyword_match': {'table': 'country', 'schema_filter': [], 'value_filter': [{'attribute': 'name', 'keywords': ['cambodia']}]}, 'alias': 't5', 'outgoing_neighbours': [], 'incoming_neighbours': ['t4']}, {'keyword_match': {'table': 'is_member', 'schema_filter': [], 'value_filter': []}, 'alias': 't4', 'outgoing_neighbours': ['t5', 't3'], 'incoming_neighbours': []}]]}, {'keyword_query': 'marshall islands grenadines organization', 'query_matches': [[{'table': 'organization', 'schema_filter': [{'attribute': '*', 'keywords': ['organization']}], 'value_filter': []}, {'table': 'country', 'schema_filter': [], 'value_filter': [{'attribute': 'name', 'keywords': ['grenadines']}]}, {'table': 'country', 'schema_filter': [], 'value_filter': [{'attribute': 'name', 'keywords': ['marshall', 'islands']}]}]], 'candidate_networks': [[{'keyword_match': {'table': 'country', 'schema_filter': [], 'value_filter': [{'attribute': 'name', 'keywords': ['marshall', 'islands']}]}, 'alias': 't1', 'outgoing_neighbours': [], 'incoming_neighbours': ['t2']}, {'keyword_match': {'table': 'is_member', 'schema_filter': [], 'value_filter': []}, 'alias': 't2', 'outgoing_neighbours': ['t3', 't1'], 'incoming_neighbours': []}, {'keyword_match': {'table': 'organization', 'schema_filter': [{'attribute': '*', 'keywords': ['organization']}], 'value_filter': []}, 'alias': 't3', 'outgoing_neighbours': [], 'incoming_neighbours': ['t4', 't2']}, {'keyword_match': {'table': 'country', 'schema_filter': [], 'value_filter': [{'attribute': 'name', 'keywords': ['grenadines']}]}, 'alias': 't5', 'outgoing_neighbours': [], 'incoming_neighbours': ['t4']}, {'keyword_match': {'table': 'is_member', 'schema_filter': [], 'value_filter': []}, 'alias': 't4', 'outgoing_neighbours': ['t3', 't5'], 'incoming_neighbours': []}]]}, {'keyword_query': 'czech republic cote divoire organization', 'query_matches': [[{'table': 'organization', 'schema_filter': [{'attribute': '*', 'keywords': ['organization']}], 'value_filter': []}, {'table': 'country', 'schema_filter': [], 'value_filter': [{'attribute': 'name', 'keywords': ['divoire', 'cote']}]}, {'table': 'country', 'schema_filter': [], 'value_filter': [{'attribute': 'name', 'keywords': ['czech', 'republic']}]}]], 'candidate_networks': [[{'keyword_match': {'table': 'country', 'schema_filter': [], 'value_filter': [{'attribute': 'name', 'keywords': ['divoire', 'cote']}]}, 'alias': 't5', 'outgoing_neighbours': [], 'incoming_neighbours': ['t4']}, {'keyword_match': {'table': 'country', 'schema_filter': [], 'value_filter': [{'attribute': 'name', 'keywords': ['czech', 'republic']}]}, 'alias': 't1', 'outgoing_neighbours': [], 'incoming_neighbours': ['t2']}, {'keyword_match': {'table': 'is_member', 'schema_filter': [], 'value_filter': []}, 'alias': 't2', 'outgoing_neighbours': ['t3', 't1'], 'incoming_neighbours': []}, {'keyword_match': {'table': 'organization', 'schema_filter': [{'attribute': '*', 'keywords': ['organization']}], 'value_filter': []}, 'alias': 't3', 'outgoing_neighbours': [], 'incoming_neighbours': ['t4', 't2']}, {'keyword_match': {'table': 'is_member', 'schema_filter': [], 'value_filter': []}, 'alias': 't4', 'outgoing_neighbours': ['t3', 't5'], 'incoming_neighbours': []}]]}, {'keyword_query': 'panama oman', 'query_matches': [[{'table': 'country', 'schema_filter': [], 'value_filter': [{'attribute': 'name', 'keywords': ['oman']}]}, {'table': 'country', 'schema_filter': [], 'value_filter': [{'attribute': 'name', 'keywords': ['panama']}]}]], 'candidate_networks': [[{'keyword_match': {'table': 'country', 'schema_filter': [], 'value_filter': [{'attribute': 'name', 'keywords': ['oman']}]}, 'alias': 't1', 'outgoing_neighbours': [], 'incoming_neighbours': ['t2']}, {'keyword_match': {'table': 'organization', 'schema_filter': [], 'value_filter': []}, 'alias': 't3', 'outgoing_neighbours': [], 'incoming_neighbours': ['t4', 't2']}, {'keyword_match': {'table': 'country', 'schema_filter': [], 'value_filter': [{'attribute': 'name', 'keywords': ['panama']}]}, 'alias': 't5', 'outgoing_neighbours': [], 'incoming_neighbours': ['t4']}, {'keyword_match': {'table': 'is_member', 'schema_filter': [], 'value_filter': []}, 'alias': 't2', 'outgoing_neighbours': ['t1', 't3'], 'incoming_neighbours': []}, {'keyword_match': {'table': 'is_member', 'schema_filter': [], 'value_filter': []}, 'alias': 't4', 'outgoing_neighbours': ['t3', 't5'], 'incoming_neighbours': []}]]}, {'keyword_query': 'iceland mali', 'query_matches': [[{'table': 'country', 'schema_filter': [], 'value_filter': [{'attribute': 'name', 'keywords': ['mali']}]}, {'table': 'country', 'schema_filter': [], 'value_filter': [{'attribute': 'name', 'keywords': ['iceland']}]}]], 'candidate_networks': [[{'keyword_match': {'table': 'organization', 'schema_filter': [], 'value_filter': []}, 'alias': 't3', 'outgoing_neighbours': [], 'incoming_neighbours': ['t4', 't2']}, {'keyword_match': {'table': 'country', 'schema_filter': [], 'value_filter': [{'attribute': 'name', 'keywords': ['iceland']}]}, 'alias': 't1', 'outgoing_neighbours': [], 'incoming_neighbours': ['t2']}, {'keyword_match': {'table': 'is_member', 'schema_filter': [], 'value_filter': []}, 'alias': 't2', 'outgoing_neighbours': ['t1', 't3'], 'incoming_neighbours': []}, {'keyword_match': {'table': 'country', 'schema_filter': [], 'value_filter': [{'attribute': 'name', 'keywords': ['mali']}]}, 'alias': 't5', 'outgoing_neighbours': [], 'incoming_neighbours': ['t4']}, {'keyword_match': {'table': 'is_member', 'schema_filter': [], 'value_filter': []}, 'alias': 't4', 'outgoing_neighbours': ['t5', 't3'], 'incoming_neighbours': []}]]}, {'keyword_query': 'guyana sierra leone', 'query_matches': [[{'table': 'country', 'schema_filter': [], 'value_filter': [{'attribute': 'name', 'keywords': ['sierra', 'leone']}]}, {'table': 'country', 'schema_filter': [], 'value_filter': [{'attribute': 'name', 'keywords': ['guyana']}]}]], 'candidate_networks': [[{'keyword_match': {'table': 'organization', 'schema_filter': [], 'value_filter': []}, 'alias': 't3', 'outgoing_neighbours': [], 'incoming_neighbours': ['t4', 't2']}, {'keyword_match': {'table': 'country', 'schema_filter': [], 'value_filter': [{'attribute': 'name', 'keywords': ['sierra', 'leone']}]}, 'alias': 't5', 'outgoing_neighbours': [], 'incoming_neighbours': ['t4']}, {'keyword_match': {'table': 'country', 'schema_filter': [], 'value_filter': [{'attribute': 'name', 'keywords': ['guyana']}]}, 'alias': 't1', 'outgoing_neighbours': [], 'incoming_neighbours': ['t2']}, {'keyword_match': {'table': 'is_member', 'schema_filter': [], 'value_filter': []}, 'alias': 't2', 'outgoing_neighbours': ['t3', 't1'], 'incoming_neighbours': []}, {'keyword_match': {'table': 'is_member', 'schema_filter': [], 'value_filter': []}, 'alias': 't4', 'outgoing_neighbours': ['t3', 't5'], 'incoming_neighbours': []}]]}, {'keyword_query': 'mauritius india', 'query_matches': [[{'table': 'country', 'schema_filter': [], 'value_filter': [{'attribute': 'name', 'keywords': ['india']}]}, {'table': 'country', 'schema_filter': [], 'value_filter': [{'attribute': 'name', 'keywords': ['mauritius']}]}]], 'candidate_networks': [[{'keyword_match': {'table': 'organization', 'schema_filter': [], 'value_filter': []}, 'alias': 't3', 'outgoing_neighbours': [], 'incoming_neighbours': ['t4', 't2']}, {'keyword_match': {'table': 'country', 'schema_filter': [], 'value_filter': [{'attribute': 'name', 'keywords': ['mauritius']}]}, 'alias': 't1', 'outgoing_neighbours': [], 'incoming_neighbours': ['t2']}, {'keyword_match': {'table': 'is_member', 'schema_filter': [], 'value_filter': []}, 'alias': 't2', 'outgoing_neighbours': ['t1', 't3'], 'incoming_neighbours': []}, {'keyword_match': {'table': 'country', 'schema_filter': [], 'value_filter': [{'attribute': 'name', 'keywords': ['india']}]}, 'alias': 't5', 'outgoing_neighbours': [], 'incoming_neighbours': ['t4']}, {'keyword_match': {'table': 'is_member', 'schema_filter': [], 'value_filter': []}, 'alias': 't4', 'outgoing_neighbours': ['t5', 't3'], 'incoming_neighbours': []}]]}, {'keyword_query': 'vanuatu afghanistan', 'query_matches': [[{'table': 'country', 'schema_filter': [], 'value_filter': [{'attribute': 'name', 'keywords': ['afghanistan']}]}, {'table': 'country', 'schema_filter': [], 'value_filter': [{'attribute': 'name', 'keywords': ['vanuatu']}]}]], 'candidate_networks': [[{'keyword_match': {'table': 'organization', 'schema_filter': [], 'value_filter': []}, 'alias': 't3', 'outgoing_neighbours': [], 'incoming_neighbours': ['t4', 't2']}, {'keyword_match': {'table': 'country', 'schema_filter': [], 'value_filter': [{'attribute': 'name', 'keywords': ['vanuatu']}]}, 'alias': 't1', 'outgoing_neighbours': [], 'incoming_neighbours': ['t2']}, {'keyword_match': {'table': 'is_member', 'schema_filter': [], 'value_filter': []}, 'alias': 't2', 'outgoing_neighbours': ['t1', 't3'], 'incoming_neighbours': []}, {'keyword_match': {'table': 'country', 'schema_filter': [], 'value_filter': [{'attribute': 'name', 'keywords': ['afghanistan']}]}, 'alias': 't5', 'outgoing_neighbours': [], 'incoming_neighbours': ['t4']}, {'keyword_match': {'table': 'is_member', 'schema_filter': [], 'value_filter': []}, 'alias': 't4', 'outgoing_neighbours': ['t5', 't3'], 'incoming_neighbours': []}]]}, {'keyword_query': 'libya australia', 'query_matches': [[{'table': 'country', 'schema_filter': [], 'value_filter': [{'attribute': 'name', 'keywords': ['australia']}]}, {'table': 'country', 'schema_filter': [], 'value_filter': [{'attribute': 'name', 'keywords': ['libya']}]}]], 'candidate_networks': [[{'keyword_match': {'table': 'organization', 'schema_filter': [], 'value_filter': []}, 'alias': 't3', 'outgoing_neighbours': [], 'incoming_neighbours': ['t4', 't2']}, {'keyword_match': {'table': 'country', 'schema_filter': [], 'value_filter': [{'attribute': 'name', 'keywords': ['australia']}]}, 'alias': 't5', 'outgoing_neighbours': [], 'incoming_neighbours': ['t4']}, {'keyword_match': {'table': 'is_member', 'schema_filter': [], 'value_filter': []}, 'alias': 't2', 'outgoing_neighbours': ['t1', 't3'], 'incoming_neighbours': []}, {'keyword_match': {'table': 'country', 'schema_filter': [], 'value_filter': [{'attribute': 'name', 'keywords': ['libya']}]}, 'alias': 't1', 'outgoing_neighbours': [], 'incoming_neighbours': ['t2']}, {'keyword_match': {'table': 'is_member', 'schema_filter': [], 'value_filter': []}, 'alias': 't4', 'outgoing_neighbours': ['t5', 't3'], 'incoming_neighbours': []}]]}, {'keyword_query': 'hutu africa', 'query_matches': [[{'table': 'continent', 'schema_filter': [], 'value_filter': [{'attribute': 'name', 'keywords': ['africa']}]}, {'table': 'ethnic_group', 'schema_filter': [], 'value_filter': [{'attribute': 'name', 'keywords': ['hutu']}]}]], 'candidate_networks': [[{'keyword_match': {'table': 'continent', 'schema_filter': [], 'value_filter': [{'attribute': 'name', 'keywords': ['africa']}]}, 'alias': 't1', 'outgoing_neighbours': [], 'incoming_neighbours': ['t2']}, {'keyword_match': {'table': 'encompasses', 'schema_filter': [], 'value_filter': []}, 'alias': 't2', 'outgoing_neighbours': ['t1', 't3'], 'incoming_neighbours': []}, {'keyword_match': {'table': 'ethnic_group', 'schema_filter': [], 'value_filter': [{'attribute': 'name', 'keywords': ['hutu']}]}, 'alias': 't4', 'outgoing_neighbours': ['t3'], 'incoming_neighbours': []}, {'keyword_match': {'table': 'country', 'schema_filter': [], 'value_filter': []}, 'alias': 't3', 'outgoing_neighbours': [], 'incoming_neighbours': ['t2', 't4']}]]}, {'keyword_query': 'serb europe', 'query_matches': [[{'table': 'continent', 'schema_filter': [], 'value_filter': [{'attribute': 'name', 'keywords': ['europe']}]}, {'table': 'ethnic_group', 'schema_filter': [], 'value_filter': [{'attribute': 'name', 'keywords': ['serb']}]}]], 'candidate_networks': [[{'keyword_match': {'table': 'continent', 'schema_filter': [], 'value_filter': [{'attribute': 'name', 'keywords': ['europe']}]}, 'alias': 't1', 'outgoing_neighbours': [], 'incoming_neighbours': ['t2']}, {'keyword_match': {'table': 'encompasses', 'schema_filter': [], 'value_filter': []}, 'alias': 't2', 'outgoing_neighbours': ['t3', 't1'], 'incoming_neighbours': []}, {'keyword_match': {'table': 'country', 'schema_filter': [], 'value_filter': []}, 'alias': 't3', 'outgoing_neighbours': [], 'incoming_neighbours': ['t4', 't2']}, {'keyword_match': {'table': 'ethnic_group', 'schema_filter': [], 'value_filter': [{'attribute': 'name', 'keywords': ['serb']}]}, 'alias': 't4', 'outgoing_neighbours': ['t3'], 'incoming_neighbours': []}]]}, {'keyword_query': 'uzbek asia', 'query_matches': [[{'table': 'continent', 'schema_filter': [], 'value_filter': [{'attribute': 'name', 'keywords': ['asia']}]}, {'table': 'ethnic_group', 'schema_filter': [], 'value_filter': [{'attribute': 'name', 'keywords': ['uzbek']}]}]], 'candidate_networks': [[{'keyword_match': {'table': 'continent', 'schema_filter': [], 'value_filter': [{'attribute': 'name', 'keywords': ['asia']}]}, 'alias': 't1', 'outgoing_neighbours': [], 'incoming_neighbours': ['t2']}, {'keyword_match': {'table': 'encompasses', 'schema_filter': [], 'value_filter': []}, 'alias': 't2', 'outgoing_neighbours': ['t3', 't1'], 'incoming_neighbours': []}, {'keyword_match': {'table': 'country', 'schema_filter': [], 'value_filter': []}, 'alias': 't3', 'outgoing_neighbours': [], 'incoming_neighbours': ['t4', 't2']}, {'keyword_match': {'table': 'ethnic_group', 'schema_filter': [], 'value_filter': [{'attribute': 'name', 'keywords': ['uzbek']}]}, 'alias': 't4', 'outgoing_neighbours': ['t3'], 'incoming_neighbours': []}]]}, {'keyword_query': 'rhein germany', 'query_matches': [[{'table': 'country', 'schema_filter': [], 'value_filter': [{'attribute': 'name', 'keywords': ['germany']}]}, {'table': 'river', 'schema_filter': [], 'value_filter': [{'attribute': 'name', 'keywords': ['rhein']}]}]], 'candidate_networks': [[{'keyword_match': {'table': 'river', 'schema_filter': [], 'value_filter': [{'attribute': 'name', 'keywords': ['rhein']}]}, 'alias': 't1', 'outgoing_neighbours': [], 'incoming_neighbours': ['t2']}, {'keyword_match': {'table': 'geo_river', 'schema_filter': [], 'value_filter': []}, 'alias': 't2', 'outgoing_neighbours': ['t1', 't3'], 'incoming_neighbours': []}, {'keyword_match': {'table': 'country', 'schema_filter': [], 'value_filter': [{'attribute': 'name', 'keywords': ['germany']}]}, 'alias': 't4', 'outgoing_neighbours': [], 'incoming_neighbours': ['t3']}, {'keyword_match': {'table': 'province', 'schema_filter': [], 'value_filter': []}, 'alias': 't3', 'outgoing_neighbours': ['t4'], 'incoming_neighbours': ['t2']}]]}, {'keyword_query': 'egypt nile', 'query_matches': [[{'table': 'country', 'schema_filter': [], 'value_filter': [{'attribute': 'name', 'keywords': ['egypt']}]}, {'table': 'river', 'schema_filter': [], 'value_filter': [{'attribute': 'name', 'keywords': ['nile']}]}]], 'candidate_networks': [[{'keyword_match': {'table': 'geo_river', 'schema_filter': [], 'value_filter': []}, 'alias': 't2', 'outgoing_neighbours': ['t3', 't1'], 'incoming_neighbours': []}, {'keyword_match': {'table': 'river', 'schema_filter': [], 'value_filter': [{'attribute': 'name', 'keywords': ['nile']}]}, 'alias': 't1', 'outgoing_neighbours': [], 'incoming_neighbours': ['t2']}, {'keyword_match': {'table': 'country', 'schema_filter': [], 'value_filter': [{'attribute': 'name', 'keywords': ['egypt']}]}, 'alias': 't4', 'outgoing_neighbours': [], 'incoming_neighbours': ['t3']}, {'keyword_match': {'table': 'province', 'schema_filter': [], 'value_filter': []}, 'alias': 't3', 'outgoing_neighbours': ['t4'], 'incoming_neighbours': ['t2']}]]}]"
   ]
  },
  {
   "cell_type": "code",
   "execution_count": 13,
   "metadata": {
    "ExecuteTime": {
     "end_time": "2021-03-19T17:07:52.715511Z",
     "start_time": "2021-03-19T17:07:52.711797Z"
    }
   },
   "outputs": [
    {
     "data": {
      "text/plain": [
       "{'country': ['name'],\n",
       " 'city': ['*', 'name'],\n",
       " 'lake': ['name'],\n",
       " 'river': ['name'],\n",
       " 'sea': ['name'],\n",
       " 'desert': ['name'],\n",
       " 'island': ['name'],\n",
       " 'organization': ['*'],\n",
       " 'economy': ['gdp'],\n",
       " 'politics': ['*'],\n",
       " 'language': ['name'],\n",
       " 'religion': ['*'],\n",
       " 'ethnic_group': ['name'],\n",
       " 'continent': ['name']}"
      ]
     },
     "execution_count": 13,
     "metadata": {},
     "output_type": "execute_result"
    }
   ],
   "source": [
    "{\n",
    "    km['table']: [\n",
    "        mapping['attribute']\n",
    "        for mapping in km['schema_filter']+km['value_filter']\n",
    "    ]\n",
    "    for item in x\n",
    "    for qm in item['query_matches']\n",
    "    for km in qm\n",
    "    \n",
    "}"
   ]
  },
  {
   "cell_type": "code",
   "execution_count": 31,
   "metadata": {
    "ExecuteTime": {
     "end_time": "2021-03-19T18:29:54.898197Z",
     "start_time": "2021-03-19T18:29:54.891804Z"
    }
   },
   "outputs": [
    {
     "data": {
      "text/plain": [
       "{1: [2, 3]}"
      ]
     },
     "execution_count": 31,
     "metadata": {},
     "output_type": "execute_result"
    }
   ],
   "source": [
    "import itertools\n",
    "d = [(1,2),(1,3)]\n",
    "{\n",
    "    table:[attribute for table,attribute in group]\n",
    "    for table,group in itertools.groupby(d,lambda x:x[0])\n",
    "}"
   ]
  }
 ],
 "metadata": {
  "kernelspec": {
   "display_name": "k2d",
   "language": "python",
   "name": "k2d"
  },
  "language_info": {
   "codemirror_mode": {
    "name": "ipython",
    "version": 3
   },
   "file_extension": ".py",
   "mimetype": "text/x-python",
   "name": "python",
   "nbconvert_exporter": "python",
   "pygments_lexer": "ipython3",
   "version": "3.9.2"
  },
  "toc": {
   "base_numbering": 1,
   "nav_menu": {},
   "number_sections": true,
   "sideBar": true,
   "skip_h1_title": false,
   "title_cell": "Table of Contents",
   "title_sidebar": "Contents",
   "toc_cell": false,
   "toc_position": {},
   "toc_section_display": true,
   "toc_window_display": false
  }
 },
 "nbformat": 4,
 "nbformat_minor": 4
}
