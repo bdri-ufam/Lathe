{
 "cells": [
  {
   "cell_type": "code",
   "execution_count": 1,
   "metadata": {
    "ExecuteTime": {
     "end_time": "2021-03-17T21:09:04.840094Z",
     "start_time": "2021-03-17T21:09:04.776069Z"
    }
   },
   "outputs": [],
   "source": [
    "import numpy as np"
   ]
  },
  {
   "cell_type": "markdown",
   "metadata": {},
   "source": [
    "## Load Evaluation Results"
   ]
  },
  {
   "cell_type": "code",
   "execution_count": 2,
   "metadata": {
    "ExecuteTime": {
     "end_time": "2021-03-17T21:09:05.663369Z",
     "start_time": "2021-03-17T21:09:04.841682Z"
    }
   },
   "outputs": [],
   "source": [
    "import sys\n",
    "from json import load\n",
    "from pprint import pprint as pp\n",
    "import matplotlib.pyplot as plt\n",
    "import numpy as np\n",
    "\n",
    "sys.path.append('../')\n",
    "\n",
    "from utils import ConfigHandler, Similarity, last_path\n",
    "from mapper import Mapper\n",
    "from evaluation import EvaluationHandler\n",
    "\n",
    "config = ConfigHandler()\n",
    "\n",
    "\n",
    "approaches = ['standard','prepruning','pospruning']\n",
    "# approaches = ['standard']\n",
    "databases = ['imdb','mondial']\n",
    "querysets_hash = {\n",
    "    'imdb'   :['coffman_imdb_renamed','coffman_imdb_renamed_clear_intents'],\n",
    "    'mondial':['coffman_mondial','coffman_mondial_clear_intents'],\n",
    "}\n",
    "\n",
    "repeat = 10\n",
    "\n",
    "parallel_cn = False\n",
    "\n",
    "subfolder = ''\n",
    "\n",
    "\n",
    "def load_evaluations(databases,approaches,subfolder=''):\n",
    "    evaluation = {}\n",
    "    for database in databases:\n",
    "        observations = {}\n",
    "        for j,queryset in enumerate(querysets_hash[database]):\n",
    "            for i,approach in enumerate(approaches):\n",
    "                queryset_config_file = f'../../config/queryset_configs/{queryset}_config.json'\n",
    "                config = ConfigHandler(reset = True,queryset_config_file=queryset_config_file)\n",
    "                \n",
    "                config.results_directory += subfolder\n",
    "                results_filename = last_path(f'{config.results_directory}{config.queryset_name}-{approach}-%03d.json')\n",
    "#                 print(results_filename)\n",
    "\n",
    "                evaluation.setdefault(database,{}).setdefault(queryset,{}).setdefault(approach,{})\n",
    "                \n",
    "                try:\n",
    "                    with open(results_filename,mode='r') as f:\n",
    "                        evaluation[database][queryset][approach] = load(f)['evaluation']\n",
    "                except FileNotFoundError:\n",
    "                    print(f'File {results_filename} not found.')\n",
    "                    continue\n",
    "    return evaluation\n",
    "\n",
    "evaluation = load_evaluations(databases,approaches,subfolder=subfolder)"
   ]
  },
  {
   "cell_type": "markdown",
   "metadata": {},
   "source": [
    "## Num. Keyword Matches"
   ]
  },
  {
   "cell_type": "code",
   "execution_count": 3,
   "metadata": {
    "ExecuteTime": {
     "end_time": "2021-03-17T21:09:06.084715Z",
     "start_time": "2021-03-17T21:09:05.664765Z"
    }
   },
   "outputs": [
    {
     "data": {
      "image/png": "[encoded data removed]",
      "text/plain": [
       "<Figure size 432x288 with 1 Axes>"
      ]
     },
     "metadata": {
      "needs_background": "light"
     },
     "output_type": "display_data"
    }
   ],
   "source": [
    "def plot_num_keyword_matches(evaluation):    \n",
    "    databases = ['imdb','mondial']\n",
    "\n",
    "    querysets_hash = {\n",
    "        'imdb'   :['coffman_imdb_renamed','coffman_imdb_renamed_clear_intents'],\n",
    "        'mondial':['coffman_mondial','coffman_mondial_clear_intents'],\n",
    "    } \n",
    "\n",
    "    labels_hash = {\n",
    "        'coffman_imdb_renamed':'IMDb',\n",
    "        'coffman_imdb_renamed_clear_intents':'IMDb-DI',\n",
    "        'coffman_mondial':'MOND',\n",
    "        'coffman_mondial_clear_intents':'MOND-DI',\n",
    "    }\n",
    "    \n",
    "    data = []\n",
    "    labels = []\n",
    "    \n",
    "    margin = 0.05\n",
    "    xlim = [10**(0-margin), 10**(2+margin)]\n",
    "    \n",
    "    fig, ax = plt.subplots()\n",
    "    ax.invert_yaxis()\n",
    "    \n",
    "    for database in databases:\n",
    "        for queryset in querysets_hash[database]:\n",
    "            cur_data = evaluation[database][queryset]['standard']['num_keyword_matches']\n",
    "            data.append(cur_data)\n",
    "            labels.append(labels_hash[queryset])\n",
    "          \n",
    "    plt.boxplot(data,labels=labels,vert=0,patch_artist=True)\n",
    "    plt.xscale('symlog')    \n",
    "    plt.xlim(xlim)\n",
    "    \n",
    "    plt.savefig(f'{config.plots_directory}num-keyword-matches.pdf')  \n",
    "    plt.show()\n",
    "\n",
    "plot_num_keyword_matches(evaluation)"
   ]
  },
  {
   "cell_type": "markdown",
   "metadata": {},
   "source": [
    "## Num. Query Matches"
   ]
  },
  {
   "cell_type": "code",
   "execution_count": 4,
   "metadata": {
    "ExecuteTime": {
     "end_time": "2021-03-17T21:09:06.346865Z",
     "start_time": "2021-03-17T21:09:06.085832Z"
    }
   },
   "outputs": [
    {
     "data": {
      "image/png": "[encoded data removed]",
      "text/plain": [
       "<Figure size 432x288 with 1 Axes>"
      ]
     },
     "metadata": {
      "needs_background": "light"
     },
     "output_type": "display_data"
    }
   ],
   "source": [
    "def plot_num_query_matches(evaluation):    \n",
    "    databases = ['imdb','mondial']\n",
    "\n",
    "    querysets_hash = {\n",
    "        'imdb'   :['coffman_imdb_renamed','coffman_imdb_renamed_clear_intents'],\n",
    "        'mondial':['coffman_mondial','coffman_mondial_clear_intents'],\n",
    "    } \n",
    "\n",
    "    labels_hash = {\n",
    "        'coffman_imdb_renamed':'IMDb',\n",
    "        'coffman_imdb_renamed_clear_intents':'IMDb-DI',\n",
    "        'coffman_mondial':'MOND',\n",
    "        'coffman_mondial_clear_intents':'MOND-DI',\n",
    "    }\n",
    "    \n",
    "    data = []\n",
    "    labels = []\n",
    "    \n",
    "    margin = 0.05\n",
    "    xlim = [-2*margin, 10**(3+margin)]\n",
    "    \n",
    "    fig, ax = plt.subplots()\n",
    "    ax.invert_yaxis()\n",
    "    \n",
    "    for database in databases:\n",
    "        for queryset in querysets_hash[database]:\n",
    "            cur_data = evaluation[database][queryset]['standard']['num_query_matches']\n",
    "            data.append(cur_data)\n",
    "            labels.append(labels_hash[queryset])\n",
    "          \n",
    "    plt.boxplot(data,labels=labels,vert=0,patch_artist=True)\n",
    "    plt.xscale('symlog')\n",
    "        \n",
    "    plt.xlim(xlim)\n",
    "    plt.savefig(f'{config.plots_directory}num-query-matches.pdf')  \n",
    "    plt.show()\n",
    "\n",
    "plot_num_query_matches(evaluation)"
   ]
  },
  {
   "cell_type": "markdown",
   "metadata": {},
   "source": [
    "## Query Match Ranking"
   ]
  },
  {
   "cell_type": "code",
   "execution_count": 5,
   "metadata": {
    "ExecuteTime": {
     "end_time": "2021-03-17T21:09:06.584397Z",
     "start_time": "2021-03-17T21:09:06.348943Z"
    }
   },
   "outputs": [
    {
     "data": {
      "image/png": "[encoded data removed]",
      "text/plain": [
       "<Figure size 432x288 with 1 Axes>"
      ]
     },
     "metadata": {
      "needs_background": "light"
     },
     "output_type": "display_data"
    }
   ],
   "source": [
    "def query_matches_precision_plot(evaluation):\n",
    "    metrics = [f'p@{k+1}' for k in range(10)]\n",
    "    labels_hash = {\n",
    "        'coffman_mondial':'MOND',\n",
    "        'coffman_mondial_clear_intents':'MOND-DI',\n",
    "        'coffman_imdb_renamed':'IMDb',\n",
    "        'coffman_imdb_renamed_clear_intents':'IMDb-DI',\n",
    "    }\n",
    "    dashes_order = [(1,0),(2,2),(1,0),(2,2)]\n",
    "\n",
    "    precision_data = [\n",
    "        (\n",
    "            labels_hash[queryset],\n",
    "            [\n",
    "                evaluation[database][queryset]['standard']['query_matches'][metric]\n",
    "                for metric in metrics\n",
    "            ]\n",
    "        )\n",
    "        for database in evaluation\n",
    "        for queryset in evaluation[database]\n",
    "    ]\n",
    "\n",
    "    x_data = range(1,10+1)\n",
    "    for (label,y_data),dashes in zip(precision_data,dashes_order):\n",
    "        plt.plot(\n",
    "            x_data,\n",
    "            y_data,\n",
    "            linewidth = 3,\n",
    "            label = label,\n",
    "            dashes = dashes\n",
    "        )\n",
    "\n",
    "    plt.xticks(np.arange(1, 10+1, 1.0))\n",
    "    plt.xlabel('Rank Position K')\n",
    "    plt.ylabel('P@K')\n",
    "    plt.legend()\n",
    "    plt.savefig(f'{config.plots_directory}qms-precision-at-k.pdf')  \n",
    "    plt.show()\n",
    "\n",
    "query_matches_precision_plot(evaluation)"
   ]
  },
  {
   "cell_type": "markdown",
   "metadata": {},
   "source": [
    "## Candidate Network Ranking"
   ]
  },
  {
   "cell_type": "code",
   "execution_count": 6,
   "metadata": {
    "ExecuteTime": {
     "end_time": "2021-03-17T21:09:06.589819Z",
     "start_time": "2021-03-17T21:09:06.585880Z"
    }
   },
   "outputs": [],
   "source": [
    "import sys\n",
    "from json import load\n",
    "\n",
    "sys.path.append('../')\n",
    "\n",
    "from utils import ConfigHandler, last_path\n",
    "from mapper import Mapper\n",
    "from evaluation import EvaluationHandler\n",
    "\n",
    "\n",
    "import matplotlib\n",
    "import matplotlib.pyplot as plt\n",
    "import numpy as np\n",
    "\n",
    "config = ConfigHandler()\n"
   ]
  },
  {
   "cell_type": "markdown",
   "metadata": {},
   "source": [
    "### Grouped Barplot"
   ]
  },
  {
   "cell_type": "code",
   "execution_count": 7,
   "metadata": {
    "ExecuteTime": {
     "end_time": "2021-03-17T21:09:06.678024Z",
     "start_time": "2021-03-17T21:09:06.591525Z"
    }
   },
   "outputs": [],
   "source": [
    "def grouped_bar_plot(observations,n,color_labels,group_labels,observation_labels,**kwargs):\n",
    "    m = len(color_labels)\n",
    "    num_groups = len(group_labels)\n",
    "    group_size = n//num_groups if num_groups > 0 else 0    \n",
    "    \n",
    "    hide_group_label = kwargs.get('hide_group_label',False)\n",
    "    title = kwargs.get('title','')\n",
    "    ylabel = kwargs.get('ylabel','')\n",
    "    filename = kwargs.get('filename',None)\n",
    "    observation_margin = kwargs.get('observation_margin',0.05) \n",
    "    subgroup_margin = kwargs.get('subgroup_margin',0.25)\n",
    "    group_margin = kwargs.get('group_margin',0.8)\n",
    "    bbox_to_anchor=kwargs.get('bbox_to_anchor', (1.1, 1.00))\n",
    "    \n",
    "    group_labels = ['\\n\\n'+label for label in group_labels]\n",
    "\n",
    "    data = observations\n",
    "\n",
    "    width  = 1/(m)\n",
    "\n",
    "    last_observation = 0\n",
    "    last_group = 0\n",
    "    step = 0\n",
    "\n",
    "    x = []\n",
    "    group_x = []\n",
    "    for i in range(n):\n",
    "        last_observation+=step\n",
    "        x.append(last_observation)    \n",
    "        \n",
    "        end_of_group = (i+1)%(group_size) == 0\n",
    "        if end_of_group:\n",
    "            step=1+group_margin\n",
    "\n",
    "            middle_of_group = (last_observation+last_group)/2\n",
    "            \n",
    "            if not hide_group_label:\n",
    "                group_x.append(middle_of_group)           \n",
    "            last_group=last_observation+step\n",
    "        else:\n",
    "            step=1+subgroup_margin\n",
    "\n",
    "    x=np.array(x)\n",
    "    group_x = np.array(group_x)   \n",
    "\n",
    "    fig, ax = plt.subplots(figsize = [15, 4.8])\n",
    "    for i in range(m):\n",
    "        ax.bar(x+( (1-m)/2 + i)*width, data[i], width*(1-2*observation_margin), label=color_labels[i])\n",
    "\n",
    "    ax.set_xticks(x)\n",
    "    ax.set_xticklabels(observation_labels)\n",
    "\n",
    "    if not hide_group_label:\n",
    "        ax.set_xticks(np.concatenate((x,group_x)))\n",
    "        ax.set_xticklabels(observation_labels+group_labels)\n",
    "\n",
    "    ax.set_ylim(ymin=0, ymax=1)\n",
    "\n",
    "    lgd=ax.legend(bbox_to_anchor=bbox_to_anchor)\n",
    "\n",
    "    if filename is not None:\n",
    "        plt.savefig(filename, bbox_extra_artists=(lgd,), bbox_inches='tight')\n",
    "        \n",
    "    return plt"
   ]
  },
  {
   "cell_type": "markdown",
   "metadata": {},
   "source": [
    "### Standard CN Ranking"
   ]
  },
  {
   "cell_type": "code",
   "execution_count": 14,
   "metadata": {
    "ExecuteTime": {
     "end_time": "2021-03-17T21:59:27.055919Z",
     "start_time": "2021-03-17T21:59:26.814226Z"
    }
   },
   "outputs": [
    {
     "data": {
      "image/png": "[encoded data removed]",
      "text/plain": [
       "<Figure size 1080x345.6 with 1 Axes>"
      ]
     },
     "metadata": {
      "needs_background": "light"
     },
     "output_type": "display_data"
    }
   ],
   "source": [
    "def cn_standard_ranking(evaluation,**kwargs):\n",
    "    metrics = ['mrr']+[f'p@{k+1}' for k in range(4)]\n",
    "    group_labels = ['group']\n",
    "\n",
    "    databases = ['imdb','mondial']\n",
    "\n",
    "    querysets_hash = {\n",
    "        'imdb'   :['coffman_imdb_renamed','coffman_imdb_renamed_clear_intents'],\n",
    "        'mondial':['coffman_mondial','coffman_mondial_clear_intents'],\n",
    "    } \n",
    "\n",
    "    labels = {\n",
    "        'coffman_mondial':'MOND',\n",
    "        'coffman_mondial_clear_intents':'MOND-DI',\n",
    "        'coffman_imdb_renamed':'IMDb',\n",
    "        'coffman_imdb_renamed_clear_intents':'IMDb-DI',\n",
    "    }\n",
    "\n",
    "    observations = [\n",
    "                [\n",
    "                    evaluation[database][queryset]['standard']['candidate_networks'][metric]\n",
    "                    for metric in metrics\n",
    "                ]\n",
    "                for database in databases\n",
    "                for queryset in querysets_hash[database]   \n",
    "            ]\n",
    "\n",
    "    \n",
    "    \n",
    "    observation_labels = [metric.upper() for metric in metrics]\n",
    "\n",
    "    color_labels = [labels[queryset] \n",
    "                    for database in databases \n",
    "                    for queryset in querysets_hash[database]]\n",
    "\n",
    "    filename = kwargs.get('filename',f'{config.plots_directory}cn_ranking.pdf')\n",
    "    grouped_bar_plot(\n",
    "        observations,\n",
    "        len(observation_labels),\n",
    "        color_labels,\n",
    "        group_labels,\n",
    "        observation_labels,\n",
    "        filename=filename,\n",
    "        hide_group_label=True,\n",
    "        bbox_to_anchor=(1.11,1)\n",
    "    )\n",
    "    \n",
    "#     print(observations)\n",
    "    \n",
    "cn_standard_ranking(evaluation)"
   ]
  },
  {
   "cell_type": "markdown",
   "metadata": {
    "ExecuteTime": {
     "end_time": "2021-03-17T17:21:45.802245Z",
     "start_time": "2021-03-17T17:21:45.798356Z"
    }
   },
   "source": [
    "### Instance Pruning CN Ranking"
   ]
  },
  {
   "cell_type": "code",
   "execution_count": 9,
   "metadata": {
    "ExecuteTime": {
     "end_time": "2021-03-17T21:09:07.695753Z",
     "start_time": "2021-03-17T21:09:07.028603Z"
    }
   },
   "outputs": [
    {
     "data": {
      "image/png": "[encoded data removed]",
      "text/plain": [
       "<Figure size 1080x345.6 with 1 Axes>"
      ]
     },
     "metadata": {
      "needs_background": "light"
     },
     "output_type": "display_data"
    },
    {
     "data": {
      "image/png": "[encoded data removed]",
      "text/plain": [
       "<Figure size 1080x345.6 with 1 Axes>"
      ]
     },
     "metadata": {
      "needs_background": "light"
     },
     "output_type": "display_data"
    }
   ],
   "source": [
    "def instance_pruning_plot(evaluation):\n",
    "    metrics = ['mrr']+[f'p@{k+1}' for k in range(4)]\n",
    "    group_labels = [name.upper() for name in metrics]\n",
    "\n",
    "    approaches = {\n",
    "        'standard':'CN-Std',\n",
    "        'pospruning':'CN-Pos',\n",
    "        'prepruning':'CN-Pre',\n",
    "    }\n",
    "\n",
    "    databases = ['imdb','mondial']\n",
    "\n",
    "    querysets_hash = {\n",
    "        'imdb'   :['coffman_imdb_renamed','coffman_imdb_renamed_clear_intents'],\n",
    "        'mondial':['coffman_mondial','coffman_mondial_clear_intents'],\n",
    "    } \n",
    "\n",
    "    labels = {\n",
    "        'coffman_mondial':'MOND',\n",
    "        'coffman_mondial_clear_intents':'MOND-DI',\n",
    "        'coffman_imdb_renamed':'IMDb',\n",
    "        'coffman_imdb_renamed_clear_intents':'IMDb-DI',\n",
    "    }\n",
    "    \n",
    "    data = [\n",
    "        (\n",
    "            database,\n",
    "            [\n",
    "                (\n",
    "                    approach,\n",
    "                    [\n",
    "                        evaluation[database][queryset][approach]['candidate_networks'][metric]\n",
    "                        for metric in metrics\n",
    "                        for queryset in querysets_hash[database]   \n",
    "                    ],\n",
    "                )\n",
    "                for approach in approaches\n",
    "            ]\n",
    "        )\n",
    "        for database in databases\n",
    "    ]\n",
    "    \n",
    "    for database,approach_results in data:\n",
    "        observations = [results for approach,results in approach_results]       \n",
    "\n",
    "        observation_labels = [\n",
    "            labels[queryset]\n",
    "            for group in group_labels\n",
    "            for queryset in querysets_hash[database]\n",
    "        ]\n",
    "        \n",
    "        filename = f'{config.plots_directory}instance-based-pruning-evaluation-{database}.pdf'\n",
    "        grouped_bar_plot(\n",
    "            observations,\n",
    "            len(observation_labels),\n",
    "            list(approaches.values()),\n",
    "            group_labels,\n",
    "            observation_labels,\n",
    "            filename=filename,\n",
    "        )\n",
    "    plt.show()\n",
    "        \n",
    "#         print(observations)\n",
    "instance_pruning_plot(evaluation)"
   ]
  },
  {
   "cell_type": "markdown",
   "metadata": {},
   "source": [
    "### QUEST Comparison CN Ranking"
   ]
  },
  {
   "cell_type": "code",
   "execution_count": 10,
   "metadata": {
    "ExecuteTime": {
     "end_time": "2021-03-17T21:09:08.077466Z",
     "start_time": "2021-03-17T21:09:07.696984Z"
    }
   },
   "outputs": [
    {
     "data": {
      "image/png": "[encoded data removed]",
      "text/plain": [
       "<Figure size 316.8x345.6 with 1 Axes>"
      ]
     },
     "metadata": {
      "needs_background": "light"
     },
     "output_type": "display_data"
    },
    {
     "data": {
      "image/png": "[encoded data removed]",
      "text/plain": [
       "<Figure size 316.8x345.6 with 1 Axes>"
      ]
     },
     "metadata": {
      "needs_background": "light"
     },
     "output_type": "display_data"
    }
   ],
   "source": [
    "def plot_quest_comparison(evaluation,other_approaches = False):\n",
    "    approaches = {\n",
    "        'standard':'LATHE-Std',\n",
    "        'pospruning':'LATHE-Pos',\n",
    "        'prepruning':'LATHE-Pre',\n",
    "    }\n",
    "\n",
    "    precision_hard_coded = {\n",
    "        'QUEST': (0.808, 0.073),\n",
    "        'BANKS': (0.244, 0.044),\n",
    "        'DISCOVER': (0.601, 0.043),\n",
    "        'DISCOVER-II': (0.443, 0.046),\n",
    "        'BANKS-II': (0.666, 0.042),\n",
    "        'DPBF': (0.769, 0.037),\n",
    "        'BLINKS': (0.83, 0.033),\n",
    "        'STAR': (0.688, 0.042)\n",
    "    }\n",
    "\n",
    "\n",
    "    recall_hard_coded = {\n",
    "        'QUEST':(1,0),\n",
    "        'BANKS':(0.332,0.043),\n",
    "        'DISCOVER':(0.774,0.033),\n",
    "        'DISCOVER-II':(0.788,0.033),\n",
    "        'BANKS-II':(0.769,0.035),\n",
    "        'DPBF':(0.955,0.016),\n",
    "        'BLINKS':(0.968,0.011),\n",
    "        'STAR':(0.616,0.044),\n",
    "        }\n",
    "\n",
    "\n",
    "    data = {\n",
    "        'Recall':{},\n",
    "        'P@1':{},\n",
    "    }\n",
    "    \n",
    "    queries_condition = lambda num_query: num_query<30 or num_query>39\n",
    "\n",
    "    for x,(approach,label) in enumerate(approaches.items()):\n",
    "        precision_at_1 = np.array(\n",
    "            [       \n",
    "                1 \n",
    "                if position==1 else 0 \n",
    "                for num_query,position in enumerate(evaluation['mondial']['coffman_mondial'][approach]['candidate_networks']['relevant_positions'])\n",
    "                if queries_condition(num_query)\n",
    "            ]\n",
    "        )\n",
    "\n",
    "        recall = np.array(\n",
    "            [       \n",
    "                1 \n",
    "                if position!=-1 else 0 \n",
    "                for num_query,position in enumerate(evaluation['mondial']['coffman_mondial'][approach]['candidate_networks']['relevant_positions'])\n",
    "                if queries_condition\n",
    "            ]\n",
    "        )\n",
    "\n",
    "        precision_std_err = precision_at_1.std()/(len(precision_at_1)**0.5)    \n",
    "        data['P@1'][label] = ( \n",
    "            precision_at_1.mean(),\n",
    "            precision_std_err\n",
    "        )\n",
    "\n",
    "        recall_std_err = recall.std()/(len(recall)**0.5)\n",
    "        data['Recall'][label] = (\n",
    "            recall.mean(),\n",
    "            recall_std_err\n",
    "        )\n",
    "    if other_approaches == False:\n",
    "        data['P@1']['QUEST']    = precision_hard_coded['QUEST']\n",
    "        data['Recall']['QUEST'] = recall_hard_coded['QUEST']\n",
    "    else:\n",
    "        data['P@1'].update(precision_hard_coded)\n",
    "        data['Recall'].update(recall_hard_coded)    \n",
    "\n",
    "    for experiment in data:\n",
    "        fig, ax = plt.subplots(figsize = [len(data['P@1'])*1.1, 4.8])\n",
    "\n",
    "        for x,(label,(mean,std_err)) in enumerate(data[experiment].items()):\n",
    "            ax.bar(x,\n",
    "                   mean,\n",
    "                   width=0.6,\n",
    "                   yerr=std_err,\n",
    "                   ecolor='black',\n",
    "                   capsize=10,\n",
    "                   fill=True\n",
    "              )\n",
    "\n",
    "\n",
    "        ax.set_ylabel(experiment)\n",
    "\n",
    "        ax.set_xticks(range(len(data[experiment])))\n",
    "        ax.set_xticklabels(data[experiment])\n",
    "\n",
    "        ax.set_title('Comparison with other approaches')\n",
    "        ax.yaxis.grid(True)\n",
    "\n",
    "        plt.tight_layout()\n",
    "        experiment_name = 'precision' if experiment == 'P@1' else 'recall'\n",
    "        filename = f'{config.plots_directory}comparison-with-QUEST-{experiment_name}.pdf'\n",
    "        plt.savefig(filename)\n",
    "        plt.show()\n",
    "        \n",
    "plot_quest_comparison(evaluation,other_approaches = False)"
   ]
  },
  {
   "cell_type": "markdown",
   "metadata": {},
   "source": [
    "## Performance"
   ]
  },
  {
   "cell_type": "code",
   "execution_count": 11,
   "metadata": {
    "ExecuteTime": {
     "end_time": "2021-03-17T21:09:08.451777Z",
     "start_time": "2021-03-17T21:09:08.078623Z"
    }
   },
   "outputs": [
    {
     "data": {
      "image/png": "[encoded data removed]",
      "text/plain": [
       "<Figure size 432x288 with 1 Axes>"
      ]
     },
     "metadata": {
      "needs_background": "light"
     },
     "output_type": "display_data"
    },
    {
     "data": {
      "image/png": "[encoded data removed]",
      "text/plain": [
       "<Figure size 316.8x345.6 with 1 Axes>"
      ]
     },
     "metadata": {
      "needs_background": "light"
     },
     "output_type": "display_data"
    }
   ],
   "source": [
    "from statistics import fmean\n",
    "def plot_performance_bar(evaluation,vertical=True):\n",
    "    databases = ['imdb','mondial']\n",
    "\n",
    "    querysets_hash = {\n",
    "        'imdb'   :['coffman_imdb_renamed','coffman_imdb_renamed_clear_intents'],\n",
    "        'mondial':['coffman_mondial','coffman_mondial_clear_intents'],\n",
    "    } \n",
    "\n",
    "    labels_hash = {\n",
    "        'coffman_imdb_renamed':'IMDb',\n",
    "        'coffman_imdb_renamed_clear_intents':'IMDb-DI',\n",
    "        'coffman_mondial':'MOND',\n",
    "        'coffman_mondial_clear_intents':'MOND-DI',\n",
    "    }\n",
    "    \n",
    "    experiments = {\n",
    "        'km':'Keyword Match',\n",
    "        'qm':'Query Match',\n",
    "        'cn':'Candidate Network',\n",
    "    }\n",
    "    \n",
    "    \n",
    "    data = [[],[],[]]\n",
    "    tick_labels = []\n",
    "    for database in databases:\n",
    "        for queryset in querysets_hash[database]:\n",
    "            tick_labels.append(labels_hash[queryset])\n",
    "            for i,experiment in enumerate(experiments):\n",
    "                data[i].append(fmean(evaluation[database][queryset]['standard']['performance'][experiment]))\n",
    "                \n",
    "    N = len(labels_hash)\n",
    "    sequence = np.arange(N)\n",
    "    previous = np.zeros(N)\n",
    "    \n",
    "    width = 0.7\n",
    "    \n",
    "    if vertical:\n",
    "        layout = 'vertical'\n",
    "        figsize = [4.4, 4.8]\n",
    "        fig, ax = plt.subplots(figsize=figsize)\n",
    "\n",
    "        for i,(experiment,label) in enumerate(experiments.items()):        \n",
    "            plt.bar(sequence, data[i], width, label=label,bottom=previous)\n",
    "            previous+=data[i]\n",
    "        plt.ylabel('Execution Time (s)')\n",
    "        plt.xticks(sequence, tick_labels)\n",
    "    else:\n",
    "        layout = 'horizontal'\n",
    "        fig, ax = plt.subplots()\n",
    "        for i,(experiment,label) in enumerate(experiments.items()):\n",
    "            plt.barh(sequence, data[i], width, label=label,left=previous)\n",
    "            previous+=data[i]\n",
    "        plt.xlabel('Execution Time (s)')\n",
    "        plt.yticks(sequence, tick_labels)\n",
    "        ax.invert_yaxis()\n",
    "\n",
    "    plt.legend()\n",
    "    \n",
    "    \n",
    "    filename = f'{config.plots_directory}performance-evaluation-{layout}.pdf'\n",
    "    plt.savefig(filename)\n",
    "    plt.show()\n",
    "\n",
    "plot_performance_bar(evaluation,vertical=False)\n",
    "plot_performance_bar(evaluation,vertical=True)"
   ]
  },
  {
   "cell_type": "markdown",
   "metadata": {},
   "source": [
    "## Weighting Schemes Analysis"
   ]
  },
  {
   "cell_type": "code",
   "execution_count": 12,
   "metadata": {
    "ExecuteTime": {
     "end_time": "2021-03-17T21:09:08.456023Z",
     "start_time": "2021-03-17T21:09:08.453015Z"
    }
   },
   "outputs": [],
   "source": [
    "# from time import sleep\n",
    "\n",
    "# original_plot_dir = '../../plots/'\n",
    "# for i in range(4):\n",
    "#     subfolder = f'weighting_scheme_{i}/'\n",
    "#     evaluation = load_evaluations(databases,approaches)\n",
    "#     config.plots_directory=f'{original_plot_dir}weighting_scheme_{i}_'\n",
    "    \n",
    "#     if i>0:\n",
    "#         print('-'*100)\n",
    "#         print('-'*100)\n",
    "        \n",
    "#     print(f'Weighting Scheme {i}\\n')\n",
    "#     print('Query Matches')\n",
    "#     query_matches_precision_plot(evaluation)\n",
    "        \n",
    "#     print('Instance Pruning')\n",
    "#     instance_pruning_plot(evaluation) \n",
    "\n",
    "# config.plots_directory=original_plot_dir"
   ]
  },
  {
   "cell_type": "code",
   "execution_count": 13,
   "metadata": {
    "ExecuteTime": {
     "end_time": "2021-03-17T21:09:08.551969Z",
     "start_time": "2021-03-17T21:09:08.457255Z"
    }
   },
   "outputs": [],
   "source": [
    "# metrics = ['mrr']+[f'p@{k+1}' for k in range(4)]\n",
    "# group_labels = [name.upper() for name in metrics]\n",
    "\n",
    "# weighting_schemes = list(range(4))\n",
    "\n",
    "# approaches = {\n",
    "#     'standard':'Std',\n",
    "#     'pospruning':'Pos',\n",
    "#     'prepruning':'Pre',\n",
    "# }\n",
    "\n",
    "# databases = ['imdb','mondial']\n",
    "\n",
    "# querysets_hash = {\n",
    "#     'imdb'   :['coffman_imdb_renamed','coffman_imdb_renamed_clear_intents'],\n",
    "#     'mondial':['coffman_mondial','coffman_mondial_clear_intents'],\n",
    "# } \n",
    "\n",
    "# labels = {\n",
    "#     'coffman_mondial':'MOND',\n",
    "#     'coffman_mondial_clear_intents':'MOND-DI',\n",
    "#     'coffman_imdb_renamed':'IMDb',\n",
    "#     'coffman_imdb_renamed_clear_intents':'IMDb-DI',\n",
    "# }\n",
    "\n",
    "# lines = []\n",
    "# for database in databases: \n",
    "#     lines.append(database)\n",
    "#     title_querysets = [labels[queryset] for queryset in querysets_hash[database]]    \n",
    "#     title_line1= ', '.join(title_querysets)\n",
    "#     lines.append(title_line1)\n",
    "    \n",
    "#     title_approaches = list(approaches.values())*len(querysets_hash[database])*len(metrics)\n",
    "#     title_line2 = ', '.join(['scheme']+title_approaches)\n",
    "#     lines.append(title_line2)\n",
    "#     for weighting_scheme in weighting_schemes:\n",
    "#         subfolder = f'weighting_scheme_{weighting_scheme}/'\n",
    "#         evaluation = load_evaluations(databases,approaches,subfolder=subfolder)\n",
    "        \n",
    "#         values = [\n",
    "#             '{:.2f}'.format(evaluation[database][queryset][approach]['candidate_networks'][metric])\n",
    "#             for metric in metrics\n",
    "#             for queryset in querysets_hash[database]\n",
    "#             for approach in approaches\n",
    "#         ]\n",
    "#         cur_line = ', '.join([str(weighting_scheme)]+values)\n",
    "#         lines.append(cur_line)\n",
    "        \n",
    "# for line in lines:\n",
    "#     print(line)"
   ]
  },
  {
   "cell_type": "code",
   "execution_count": 15,
   "metadata": {
    "ExecuteTime": {
     "end_time": "2021-03-18T00:07:20.191279Z",
     "start_time": "2021-03-18T00:07:20.187012Z"
    }
   },
   "outputs": [],
   "source": [
    "from string import punctuation,ascii_uppercase,ascii_lowercase"
   ]
  },
  {
   "cell_type": "code",
   "execution_count": 18,
   "metadata": {
    "ExecuteTime": {
     "end_time": "2021-03-18T00:07:55.600375Z",
     "start_time": "2021-03-18T00:07:55.595932Z"
    }
   },
   "outputs": [
    {
     "data": {
      "text/plain": [
       "'!\"#$%&\\'()*+,-./:;<=>?@[\\\\]^`{|}~'"
      ]
     },
     "execution_count": 18,
     "metadata": {},
     "output_type": "execute_result"
    }
   ],
   "source": [
    "punctuation.replace('_','')"
   ]
  },
  {
   "cell_type": "code",
   "execution_count": 20,
   "metadata": {
    "ExecuteTime": {
     "end_time": "2021-03-18T00:08:36.227628Z",
     "start_time": "2021-03-18T00:08:36.219941Z"
    }
   },
   "outputs": [
    {
     "ename": "TypeError",
     "evalue": "unsupported operand type(s) for -: 'dict' and 'set'",
     "output_type": "error",
     "traceback": [
      "\u001b[0;31m---------------------------------------------------------------------------\u001b[0m",
      "\u001b[0;31mTypeError\u001b[0m                                 Traceback (most recent call last)",
      "\u001b[0;32m<ipython-input-20-29e76251b06b>\u001b[0m in \u001b[0;36m<module>\u001b[0;34m\u001b[0m\n\u001b[0;32m----> 1\u001b[0;31m \u001b[0;34m{\u001b[0m\u001b[0;36m1\u001b[0m\u001b[0;34m:\u001b[0m\u001b[0;36m2\u001b[0m\u001b[0;34m,\u001b[0m\u001b[0;36m3\u001b[0m\u001b[0;34m:\u001b[0m\u001b[0;36m4\u001b[0m\u001b[0;34m}\u001b[0m\u001b[0;34m-\u001b[0m\u001b[0;34m{\u001b[0m\u001b[0;36m1\u001b[0m\u001b[0;34m}\u001b[0m\u001b[0;34m\u001b[0m\u001b[0;34m\u001b[0m\u001b[0m\n\u001b[0m",
      "\u001b[0;31mTypeError\u001b[0m: unsupported operand type(s) for -: 'dict' and 'set'"
     ]
    }
   ],
   "source": [
    "{1:2,3:4}-{1}"
   ]
  }
 ],
 "metadata": {
  "kernelspec": {
   "display_name": "k2d",
   "language": "python",
   "name": "k2d"
  },
  "language_info": {
   "codemirror_mode": {
    "name": "ipython",
    "version": 3
   },
   "file_extension": ".py",
   "mimetype": "text/x-python",
   "name": "python",
   "nbconvert_exporter": "python",
   "pygments_lexer": "ipython3",
   "version": "3.9.2"
  },
  "toc": {
   "base_numbering": 1,
   "nav_menu": {},
   "number_sections": true,
   "sideBar": true,
   "skip_h1_title": false,
   "title_cell": "Table of Contents",
   "title_sidebar": "Contents",
   "toc_cell": false,
   "toc_position": {
    "height": "calc(100% - 180px)",
    "left": "10px",
    "top": "150px",
    "width": "384px"
   },
   "toc_section_display": true,
   "toc_window_display": true
  }
 },
 "nbformat": 4,
 "nbformat_minor": 4
}
