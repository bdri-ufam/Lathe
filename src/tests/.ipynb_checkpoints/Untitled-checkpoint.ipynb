{
 "cells": [
  {
   "cell_type": "code",
   "execution_count": 30,
   "metadata": {
    "ExecuteTime": {
     "end_time": "2021-02-23T15:37:44.176471Z",
     "start_time": "2021-02-23T15:37:44.171452Z"
    }
   },
   "outputs": [],
   "source": [
    "x = [('casting', '__search_id'),\n",
    " ('casting', 'id'),\n",
    " ('casting', 'movie_id'),\n",
    " ('casting', 'note'),\n",
    " ('casting', 'nr_order'),\n",
    " ('casting', 'person_id'),\n",
    " ('casting', 'person_role_id'),\n",
    " ('casting', 'role_id'),\n",
    " ('character', '__search_id'),\n",
    " ('character', 'id'),\n",
    " ('character', 'imdb_id'),\n",
    " ('character', 'imdb_index'),\n",
    " ('character', 'name'),\n",
    " ('character', 'name_pcode_nf'),\n",
    " ('character', 'surname_pcode'),\n",
    " ('movie', '__search_id'),\n",
    " ('movie', 'episode_nr'),\n",
    " ('movie', 'episode_of_id'),\n",
    " ('movie', 'id'),\n",
    " ('movie', 'imdb_id'),\n",
    " ('movie', 'imdb_index'),\n",
    " ('movie', 'kind_id'),\n",
    " ('movie', 'phonetic_code'),\n",
    " ('movie', 'season_nr'),\n",
    " ('movie', 'series_years'),\n",
    " ('movie', 'title'),\n",
    " ('movie', 'year'),\n",
    " ('movieinfo', '__search_id'),\n",
    " ('movieinfo', 'id'),\n",
    " ('movieinfo', 'info'),\n",
    " ('movieinfo', 'info_type_id'),\n",
    " ('movieinfo', 'movie_id'),\n",
    " ('movieinfo', 'note'),\n",
    " ('person', '__search_id'),\n",
    " ('person', 'id'),\n",
    " ('person', 'imdb_id'),\n",
    " ('person', 'imdb_index'),\n",
    " ('person', 'name'),\n",
    " ('person', 'name_pcode_cf'),\n",
    " ('person', 'name_pcode_nf'),\n",
    " ('person', 'surname_pcode'),\n",
    " ('role', '__search_id'),\n",
    " ('role', 'id'),\n",
    " ('role', 'type')]"
   ]
  },
  {
   "cell_type": "code",
   "execution_count": 34,
   "metadata": {
    "ExecuteTime": {
     "end_time": "2021-02-23T15:40:23.051868Z",
     "start_time": "2021-02-23T15:40:23.044582Z"
    }
   },
   "outputs": [
    {
     "name": "stdout",
     "output_type": "stream",
     "text": [
      "[\n",
      "    {\n",
      "        \"table\": \"casting\",\n",
      "        \"attributes\": [\n",
      "            \"__search_id\",\n",
      "            \"id\",\n",
      "            \"movie_id\",\n",
      "            \"note\",\n",
      "            \"nr_order\",\n",
      "            \"person_id\",\n",
      "            \"person_role_id\",\n",
      "            \"role_id\"\n",
      "        ]\n",
      "    },\n",
      "    {\n",
      "        \"table\": \"character\",\n",
      "        \"attributes\": [\n",
      "            \"__search_id\",\n",
      "            \"id\",\n",
      "            \"imdb_id\",\n",
      "            \"imdb_index\",\n",
      "            \"name\",\n",
      "            \"name_pcode_nf\",\n",
      "            \"surname_pcode\"\n",
      "        ]\n",
      "    },\n",
      "    {\n",
      "        \"table\": \"movie\",\n",
      "        \"attributes\": [\n",
      "            \"__search_id\",\n",
      "            \"episode_nr\",\n",
      "            \"episode_of_id\",\n",
      "            \"id\",\n",
      "            \"imdb_id\",\n",
      "            \"imdb_index\",\n",
      "            \"kind_id\",\n",
      "            \"phonetic_code\",\n",
      "            \"season_nr\",\n",
      "            \"series_years\",\n",
      "            \"title\",\n",
      "            \"year\"\n",
      "        ]\n",
      "    },\n",
      "    {\n",
      "        \"table\": \"movieinfo\",\n",
      "        \"attributes\": [\n",
      "            \"__search_id\",\n",
      "            \"id\",\n",
      "            \"info\",\n",
      "            \"info_type_id\",\n",
      "            \"movie_id\",\n",
      "            \"note\"\n",
      "        ]\n",
      "    },\n",
      "    {\n",
      "        \"table\": \"person\",\n",
      "        \"attributes\": [\n",
      "            \"__search_id\",\n",
      "            \"id\",\n",
      "            \"imdb_id\",\n",
      "            \"imdb_index\",\n",
      "            \"name\",\n",
      "            \"name_pcode_cf\",\n",
      "            \"name_pcode_nf\",\n",
      "            \"surname_pcode\"\n",
      "        ]\n",
      "    },\n",
      "    {\n",
      "        \"table\": \"role\",\n",
      "        \"attributes\": [\n",
      "            \"__search_id\",\n",
      "            \"id\",\n",
      "            \"type\"\n",
      "        ]\n",
      "    }\n",
      "]\n"
     ]
    }
   ],
   "source": [
    "results = {}\n",
    "for table,attribute in x:\n",
    "    results.setdefault(table,[]).append(attribute)\n",
    "    \n",
    "json_results= []\n",
    "for table in results:\n",
    "    item = {}\n",
    "    item['table']=table\n",
    "    item['attributes']=results[table]\n",
    "    json_results.append(item)\n",
    "\n",
    "\n",
    "import json\n",
    "print(json.dumps(json_results,indent=4))"
   ]
  },
  {
   "cell_type": "code",
   "execution_count": 39,
   "metadata": {
    "ExecuteTime": {
     "end_time": "2021-02-23T17:28:57.761112Z",
     "start_time": "2021-02-23T17:28:57.756815Z"
    }
   },
   "outputs": [],
   "source": [
    "x= 8.580612566301306e-15"
   ]
  },
  {
   "cell_type": "code",
   "execution_count": 40,
   "metadata": {
    "ExecuteTime": {
     "end_time": "2021-02-23T17:29:00.381000Z",
     "start_time": "2021-02-23T17:29:00.377580Z"
    }
   },
   "outputs": [
    {
     "data": {
      "text/plain": [
       "8.580612566301306e-15"
      ]
     },
     "execution_count": 40,
     "metadata": {},
     "output_type": "execute_result"
    }
   ],
   "source": [
    "x"
   ]
  },
  {
   "cell_type": "code",
   "execution_count": 42,
   "metadata": {
    "ExecuteTime": {
     "end_time": "2021-02-23T17:29:07.107888Z",
     "start_time": "2021-02-23T17:29:07.102367Z"
    }
   },
   "outputs": [
    {
     "data": {
      "text/plain": [
       "'8.581e-15'"
      ]
     },
     "execution_count": 42,
     "metadata": {},
     "output_type": "execute_result"
    }
   ],
   "source": [
    "f'{x:.3e}'"
   ]
  },
  {
   "cell_type": "code",
   "execution_count": 20,
   "metadata": {
    "ExecuteTime": {
     "end_time": "2021-02-24T11:47:49.583193Z",
     "start_time": "2021-02-24T11:47:49.576766Z"
    }
   },
   "outputs": [],
   "source": []
  },
  {
   "cell_type": "code",
   "execution_count": 24,
   "metadata": {
    "ExecuteTime": {
     "end_time": "2021-02-24T11:48:14.269610Z",
     "start_time": "2021-02-24T11:48:14.261889Z"
    }
   },
   "outputs": [
    {
     "data": {
      "text/plain": [
       "MOVIE.v(title{jones,indiana,crusade,last})\n",
       "\t<CASTING\n",
       "\t\t>PERSON\n",
       "\t\t\t<CASTING\n",
       "\t\t\t\t>MOVIE.v(title{lost,ark})"
      ]
     },
     "execution_count": 24,
     "metadata": {},
     "output_type": "execute_result"
    }
   ],
   "source": [
    "import sys\n",
    "sys.path.append('../')\n",
    "from candidate_network import CandidateNetwork\n",
    "\n",
    "complete = [{'keyword_match': {'table': 'movie', 'schema_filter': [], 'value_filter': [{'attribute': 'title', 'keywords': ['jones', 'indiana', 'last', 'crusade']}]}, 'alias': 't1', 'outgoing_neighbours': [], 'incoming_neighbours': ['t2']}, {'keyword_match': {'table': 'casting', 'schema_filter': [], 'value_filter': []}, 'alias': 't2', 'outgoing_neighbours': ['t3', 't1'], 'incoming_neighbours': []}, {'keyword_match': {'table': 'person', 'schema_filter': [], 'value_filter': []}, 'alias': 't3', 'outgoing_neighbours': [], 'incoming_neighbours': ['t4', 't2']}, {'keyword_match': {'table': 'casting', 'schema_filter': [], 'value_filter': []}, 'alias': 't4', 'outgoing_neighbours': ['t3', 't5'], 'incoming_neighbours': []}, {'keyword_match': {'table': 'movie', 'schema_filter': [], 'value_filter': [{'attribute': 'title', 'keywords': ['ark', 'lost']}]}, 'alias': 't5', 'outgoing_neighbours': [], 'incoming_neighbours': ['t4']}]\n",
    "cn = CandidateNetwork.from_json_serializable(complete)\n",
    "cn"
   ]
  },
  {
   "cell_type": "code",
   "execution_count": null,
   "metadata": {},
   "outputs": [],
   "source": [
    "MOVIE.v(title{jones,indiana,crusade,last})\n",
    "\t<CASTING\n",
    "        >MOVIE.v(title{lost,ark})\n",
    "\t\t>PERSON\n",
    "\t\t\t<CASTING"
   ]
  },
  {
   "cell_type": "code",
   "execution_count": null,
   "metadata": {},
   "outputs": [],
   "source": []
  },
  {
   "cell_type": "code",
   "execution_count": 2,
   "metadata": {
    "ExecuteTime": {
     "end_time": "2021-02-24T11:20:54.323439Z",
     "start_time": "2021-02-24T11:20:54.321267Z"
    }
   },
   "outputs": [],
   "source": [
    "from queue import deque\n",
    "from collections import Counter"
   ]
  },
  {
   "cell_type": "code",
   "execution_count": null,
   "metadata": {},
   "outputs": [],
   "source": [
    "graph = {\n",
    "    (1,'A'):[(2,'B')],\n",
    "    (2,'B'):[(1,'A'),(3,'C')],\n",
    "    (3,'C'):[(2,'B'),(4,'B')],\n",
    "    (4,'B'):[(3,'C'),(5,'D')],\n",
    "    (5,'D'):[(4,'B')],\n",
    "}"
   ]
  },
  {
   "cell_type": "code",
   "execution_count": 64,
   "metadata": {
    "ExecuteTime": {
     "end_time": "2021-02-24T12:02:57.462301Z",
     "start_time": "2021-02-24T12:02:57.456929Z"
    }
   },
   "outputs": [],
   "source": [
    "graph = {\n",
    "    (1,'A'):[(2,'C'),(3,'C')],\n",
    "    (2,'C'):[(1,'A'),(4,'B')],\n",
    "    (3,'C'):[(1,'A'),(5,'E')],\n",
    "    (4,'B'):[(2,'C')],\n",
    "    (5,'E'):[(3,'C')],\n",
    "}"
   ]
  },
  {
   "cell_type": "code",
   "execution_count": 63,
   "metadata": {
    "ExecuteTime": {
     "end_time": "2021-02-24T11:59:49.770447Z",
     "start_time": "2021-02-24T11:59:49.763471Z"
    }
   },
   "outputs": [
    {
     "name": "stdout",
     "output_type": "stream",
     "text": [
      "(2, 'B') (1, 'A')\n",
      "(3, 'C') (2, 'B')\n",
      "(4, 'B') (3, 'C')\n",
      "(5, 'D') (4, 'B')\n"
     ]
    },
    {
     "data": {
      "text/plain": [
       "(frozenset({('A', frozenset({('B', 1)}))}),\n",
       " frozenset({('B', frozenset({('C', 1)}))}),\n",
       " frozenset({('C', frozenset({('B', 1)}))}),\n",
       " frozenset({('B', frozenset({('D', 1)}))}),\n",
       " frozenset({('D', frozenset())}))"
      ]
     },
     "execution_count": 63,
     "metadata": {},
     "output_type": "execute_result"
    }
   ],
   "source": [
    "level = 0\n",
    "store = []\n",
    "\n",
    "visited = set()\n",
    "root = (1,'A')\n",
    "\n",
    "queue = deque()\n",
    "queue.append( (level,root) )\n",
    "\n",
    "while queue:\n",
    "    level,vertex = queue.popleft()\n",
    "    alias,label = vertex\n",
    "    sons = Counter()\n",
    "    \n",
    "    visited.add(vertex)\n",
    "    \n",
    "    for adj_vertex in graph[vertex]:\n",
    "        if adj_vertex in visited:\n",
    "            print(vertex,adj_vertex)\n",
    "            continue\n",
    "        adj_alias,adj_label = adj_vertex\n",
    "        \n",
    "        queue.append( (level+1,adj_vertex) )\n",
    "        sons[adj_label]+=1\n",
    "        \n",
    "    if len(store)<level+1:\n",
    "        store.append(set())\n",
    "    \n",
    "    store[level].add( (label,frozenset(sons.items())) )\n",
    "tuple(frozenset(items) for items in store)"
   ]
  },
  {
   "cell_type": "code",
   "execution_count": 58,
   "metadata": {
    "ExecuteTime": {
     "end_time": "2021-02-24T11:55:39.460716Z",
     "start_time": "2021-02-24T11:55:39.457245Z"
    }
   },
   "outputs": [
    {
     "data": {
      "text/plain": [
       "(Counter({'A': 2, 'E': 1, 'F': 1}), Counter({'B': 1}))"
      ]
     },
     "execution_count": 58,
     "metadata": {},
     "output_type": "execute_result"
    }
   ],
   "source": [
    "a=Counter(A=2,E=1,F=1)\n",
    "b=Counter(B=1)\n",
    "a-b, b-a"
   ]
  },
  {
   "cell_type": "code",
   "execution_count": 62,
   "metadata": {
    "ExecuteTime": {
     "end_time": "2021-02-24T11:56:10.374047Z",
     "start_time": "2021-02-24T11:56:10.367220Z"
    }
   },
   "outputs": [
    {
     "data": {
      "text/plain": [
       "2"
      ]
     },
     "execution_count": 62,
     "metadata": {},
     "output_type": "execute_result"
    }
   ],
   "source": [
    "a=Counter(A=2,E=1,F=1)\n",
    "b=Counter(E=1,F=1)\n",
    "sum((a-b).values())"
   ]
  },
  {
   "cell_type": "code",
   "execution_count": 35,
   "metadata": {
    "ExecuteTime": {
     "end_time": "2021-02-24T11:49:56.583005Z",
     "start_time": "2021-02-24T11:49:56.578039Z"
    }
   },
   "outputs": [
    {
     "data": {
      "text/plain": [
       "Counter({'A': 1})"
      ]
     },
     "execution_count": 35,
     "metadata": {},
     "output_type": "execute_result"
    }
   ],
   "source": [
    "Counter(A=1)-Counter(B=1)"
   ]
  },
  {
   "cell_type": "code",
   "execution_count": 66,
   "metadata": {
    "ExecuteTime": {
     "end_time": "2021-02-24T12:36:43.960750Z",
     "start_time": "2021-02-24T12:36:43.958334Z"
    }
   },
   "outputs": [],
   "source": [
    "from collections import OrderedDict"
   ]
  },
  {
   "cell_type": "code",
   "execution_count": 72,
   "metadata": {
    "ExecuteTime": {
     "end_time": "2021-02-24T12:37:35.288951Z",
     "start_time": "2021-02-24T12:37:35.286041Z"
    }
   },
   "outputs": [],
   "source": [
    "x = dict([('Z',1),('a',2)])"
   ]
  },
  {
   "cell_type": "code",
   "execution_count": 80,
   "metadata": {
    "ExecuteTime": {
     "end_time": "2021-02-24T13:31:12.983192Z",
     "start_time": "2021-02-24T13:31:12.980163Z"
    }
   },
   "outputs": [
    {
     "data": {
      "text/plain": [
       "[(5, 'E'), (4, 'B'), (3, 'C'), (2, 'C'), (1, 'A')]"
      ]
     },
     "execution_count": 80,
     "metadata": {},
     "output_type": "execute_result"
    }
   ],
   "source": [
    "list(reversed(graph.keys()))"
   ]
  },
  {
   "cell_type": "code",
   "execution_count": null,
   "metadata": {},
   "outputs": [],
   "source": [
    "(2,'B'),(1,'A')"
   ]
  },
  {
   "cell_type": "code",
   "execution_count": null,
   "metadata": {},
   "outputs": [],
   "source": [
    "(2,'B'),('A')"
   ]
  },
  {
   "cell_type": "code",
   "execution_count": 82,
   "metadata": {
    "ExecuteTime": {
     "end_time": "2021-02-24T14:05:10.000314Z",
     "start_time": "2021-02-24T14:05:09.991897Z"
    }
   },
   "outputs": [],
   "source": [
    "class Mapping:\n",
    "    __a = 'A'\n",
    "    _b  = 'B'\n",
    "    def __init__(self):\n",
    "        pass\n",
    "    \n",
    "class MappingSubclass(Mapping):\n",
    "    def update(self, keys, values):\n",
    "        # provides new signature for update()\n",
    "        # but does not break __init__()\n",
    "        for item in zip(keys, values):\n",
    "            self.items_list.append(item)"
   ]
  },
  {
   "cell_type": "code",
   "execution_count": null,
   "metadata": {},
   "outputs": [],
   "source": []
  }
 ],
 "metadata": {
  "kernelspec": {
   "display_name": "k2d",
   "language": "python",
   "name": "k2d"
  },
  "language_info": {
   "codemirror_mode": {
    "name": "ipython",
    "version": 3
   },
   "file_extension": ".py",
   "mimetype": "text/x-python",
   "name": "python",
   "nbconvert_exporter": "python",
   "pygments_lexer": "ipython3",
   "version": "3.9.1"
  },
  "toc": {
   "base_numbering": 1,
   "nav_menu": {},
   "number_sections": true,
   "sideBar": true,
   "skip_h1_title": false,
   "title_cell": "Table of Contents",
   "title_sidebar": "Contents",
   "toc_cell": false,
   "toc_position": {},
   "toc_section_display": true,
   "toc_window_display": false
  }
 },
 "nbformat": 4,
 "nbformat_minor": 4
}
