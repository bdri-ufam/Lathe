{
 "cells": [
  {
   "cell_type": "code",
   "execution_count": null,
   "metadata": {},
   "outputs": [],
   "source": [
    "import sys"
   ]
  },
  {
   "cell_type": "code",
   "execution_count": null,
   "metadata": {},
   "outputs": [],
   "source": [
    "sys.path.append('../')"
   ]
  },
  {
   "cell_type": "code",
   "execution_count": null,
   "metadata": {},
   "outputs": [],
   "source": [
    "from utils import ConfigHandler, Similarity, next_path\n",
    "from mapper import Mapper\n",
    "from evaluation import EvaluationHandler"
   ]
  },
  {
   "cell_type": "code",
   "execution_count": null,
   "metadata": {},
   "outputs": [],
   "source": [
    "databases = ['mondial_coffman_clear','mondial_coffman','imdb','imdb_clear',]\n",
    "approaches = ['standard','prepruning','pospruning']"
   ]
  },
  {
   "cell_type": "code",
   "execution_count": null,
   "metadata": {},
   "outputs": [],
   "source": [
    "for database in databases:\n",
    "    config = ConfigHandler(reset = True,database=database)\n",
    "    mapper = Mapper()\n",
    "    evaluation_handler = EvaluationHandler()\n",
    "    mapper.load_queryset()\n",
    "\n",
    "    parallel_cn = False\n",
    "    if parallel_cn:\n",
    "        mapper.load_spark(2)\n",
    "\n",
    "    evaluation_handler.load_golden_standards()\n",
    "\n",
    "    for approach in approaches:\n",
    "        prepruning = (approach == 'prepruning')\n",
    "        pospruning = (approach == 'pospruning')\n",
    "\n",
    "        results_filename = next_path(f'{config.results_directory}{config.database_config}-{approach}-%03d.json')\n",
    "        results = mapper.run_queryset(\n",
    "            parallel_cn=parallel_cn,\n",
    "            repeat = 1,\n",
    "            prepruning=prepruning,\n",
    "            pospruning=pospruning\n",
    "            )\n",
    "        evaluation_handler.evaluate_results(results,results_filename=results_filename)"
   ]
  }
 ],
 "metadata": {
  "jupytext": {
   "cell_metadata_filter": "-all",
   "notebook_metadata_filter": "-all",
   "text_representation": {
    "extension": ".py",
    "format_name": "light"
   }
  },
  "kernelspec": {
   "display_name": "k2d",
   "language": "python",
   "name": "k2d"
  },
  "language_info": {
   "codemirror_mode": {
    "name": "ipython",
    "version": 3
   },
   "file_extension": ".py",
   "mimetype": "text/x-python",
   "name": "python",
   "nbconvert_exporter": "python",
   "pygments_lexer": "ipython3",
   "version": "3.9.1"
  },
  "toc": {
   "base_numbering": 1,
   "nav_menu": {},
   "number_sections": true,
   "sideBar": true,
   "skip_h1_title": false,
   "title_cell": "Table of Contents",
   "title_sidebar": "Contents",
   "toc_cell": false,
   "toc_position": {},
   "toc_section_display": true,
   "toc_window_display": false
  }
 },
 "nbformat": 4,
 "nbformat_minor": 4
}
