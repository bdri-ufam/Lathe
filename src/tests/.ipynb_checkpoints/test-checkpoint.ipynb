{
 "cells": [
  {
   "cell_type": "code",
   "execution_count": null,
   "metadata": {},
   "outputs": [],
   "source": [
    "import re\n",
    "from nltk.corpus import stopwords\n",
    "from nltk.tokenize import word_tokenize"
   ]
  },
  {
   "cell_type": "code",
   "execution_count": null,
   "metadata": {},
   "outputs": [],
   "source": [
    "stop_words = stopwords.words(\"english\")\n",
    "queries = [\"denzel washington\",\"clint eastwood\",\"john wayne\",\"will smith\",\"harrison ford\",\"julia roberts\",\"tom hanks\",\"johnny depp\",\"angelina jolie\",\"morgan freeman\",\"gone with the wind\",\"star wars\",\"casablanca\",\"lord of the rings\",\"the sound of music\",\"wizard of oz\",\"the notebook\",\"forrest gump\",\"the princess bride\",\"the godfather\",\"title atticus finch\",\"title indiana jones\",\"title james bond\",\"title rick blaine\",\"title will kane\",\"title dr. hannibal lecter\",\"title norman bates\",\"title darth vader\",\"title the wicked witch of the west\",\"title nurse ratched\",\"title frankly my dear i don't give a damn\",\"title i'm going to make him an offer he can't refuse\",\"title you don't understand i coulda had class i coulda been a contender i coulda been somebody instead of a bum which is what i am\",\"title toto i've a feeling we're not in kansas any more\",\"title here's looking at you kid\",\"hamill skywalker\",\"hanks 2004\",\"henry fonda yours mine ours char_name\",\"russell crowe gladiator char_name\",\"brent spiner star trek\",\"audrey hepburn 1951\",\"name jacques clouseau\",\"name jack ryan\",\"rocky stallone\",\"name terminator\",\"harrison ford george lucas\",\"sean connery fleming\",\"reeves wachowski\",\"dean jones herbie\",\"indiana jones last crusade lost ark\"]\n",
    "for query in queries:\n",
    "    word_tokens = re.split('[\\s\\']',query)\n",
    "    keywords = [w for w in word_tokens if not w in stop_words]\n",
    "    print(keywords)"
   ]
  }
 ],
 "metadata": {
  "jupytext": {
   "cell_metadata_filter": "-all",
   "notebook_metadata_filter": "-all",
   "text_representation": {
    "extension": ".py",
    "format_name": "light"
   }
  },
  "kernelspec": {
   "display_name": "k2d",
   "language": "python",
   "name": "k2d"
  },
  "language_info": {
   "codemirror_mode": {
    "name": "ipython",
    "version": 3
   },
   "file_extension": ".py",
   "mimetype": "text/x-python",
   "name": "python",
   "nbconvert_exporter": "python",
   "pygments_lexer": "ipython3",
   "version": "3.9.1"
  },
  "toc": {
   "base_numbering": 1,
   "nav_menu": {},
   "number_sections": true,
   "sideBar": true,
   "skip_h1_title": false,
   "title_cell": "Table of Contents",
   "title_sidebar": "Contents",
   "toc_cell": false,
   "toc_position": {},
   "toc_section_display": true,
   "toc_window_display": false
  }
 },
 "nbformat": 4,
 "nbformat_minor": 4
}
